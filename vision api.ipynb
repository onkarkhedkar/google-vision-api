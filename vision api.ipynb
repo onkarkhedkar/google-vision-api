{
 "cells": [
  {
   "cell_type": "code",
   "execution_count": 12,
   "metadata": {},
   "outputs": [],
   "source": [
    "import os, io\n",
    "from google.cloud import vision\n",
    "from google.cloud.vision import types\n",
    "import pandas as pd\n",
    "\n",
    "os.environ['GOOGLE_APPLICATION_CREDENTIALS'] = r'visionapi-255413-e766c8fcdacb.json'\n"
   ]
  },
  {
   "cell_type": "code",
   "execution_count": 13,
   "metadata": {},
   "outputs": [],
   "source": [
    "client = vision.ImageAnnotatorClient()"
   ]
  },
  {
   "cell_type": "code",
   "execution_count": 15,
   "metadata": {},
   "outputs": [
    {
     "ename": "FileNotFoundError",
     "evalue": "[Errno 2] No such file or directory: 'C:\\\\Users\\\\Admin\\\\IMG_20191009_202918.jpg'",
     "output_type": "error",
     "traceback": [
      "\u001b[1;31m---------------------------------------------------------------------------\u001b[0m",
      "\u001b[1;31mFileNotFoundError\u001b[0m                         Traceback (most recent call last)",
      "\u001b[1;32m<ipython-input-15-5a9f5f4e0286>\u001b[0m in \u001b[0;36m<module>\u001b[1;34m\u001b[0m\n\u001b[0;32m      5\u001b[0m \u001b[1;33m\u001b[0m\u001b[0m\n\u001b[0;32m      6\u001b[0m \u001b[1;33m\u001b[0m\u001b[0m\n\u001b[1;32m----> 7\u001b[1;33m \u001b[1;32mwith\u001b[0m \u001b[0mio\u001b[0m\u001b[1;33m.\u001b[0m\u001b[0mopen\u001b[0m\u001b[1;33m(\u001b[0m\u001b[0mIMAGE_FILE\u001b[0m\u001b[1;33m,\u001b[0m \u001b[1;34m'rb'\u001b[0m\u001b[1;33m)\u001b[0m \u001b[1;32mas\u001b[0m \u001b[0mimage_file\u001b[0m\u001b[1;33m:\u001b[0m\u001b[1;33m\u001b[0m\u001b[1;33m\u001b[0m\u001b[0m\n\u001b[0m\u001b[0;32m      8\u001b[0m     \u001b[0mcontent\u001b[0m \u001b[1;33m=\u001b[0m \u001b[0mimage_file\u001b[0m\u001b[1;33m.\u001b[0m\u001b[0mread\u001b[0m\u001b[1;33m(\u001b[0m\u001b[1;33m)\u001b[0m\u001b[1;33m\u001b[0m\u001b[1;33m\u001b[0m\u001b[0m\n\u001b[0;32m      9\u001b[0m \u001b[1;33m\u001b[0m\u001b[0m\n",
      "\u001b[1;31mFileNotFoundError\u001b[0m: [Errno 2] No such file or directory: 'C:\\\\Users\\\\Admin\\\\IMG_20191009_202918.jpg'"
     ]
    }
   ],
   "source": [
    "FOLDER_PATH = r'C:\\Users\\Admin'\n",
    "IMAGE_FILE = r'C:\\Users\\Admin\\IMG_20191009_202918.jpg'\n",
    "#FILE_PATH = os.path.join(FOLDER_PATH, IMAGE_FILE)\n",
    "\n",
    "\n",
    "\n",
    "with io.open(IMAGE_FILE, 'rb') as image_file:\n",
    "    content = image_file.read()\n",
    "\n",
    "# construct an iamge instance\n",
    "img = vision.types.Image(content=content)\n",
    "# or we can pass the image url\n",
    "#img = vision.types.Image()\n",
    "\n",
    "# annotate Image Response\n",
    "response=client.text_detection(image=img)  # returns TextAnnotation\n",
    "df = pd.DataFrame(columns=['locale', 'description'])\n",
    "\n",
    "df"
   ]
  },
  {
   "cell_type": "code",
   "execution_count": 21,
   "metadata": {},
   "outputs": [
    {
     "name": "stdout",
     "output_type": "stream",
     "text": [
      "block confidence: 0.0\n",
      "paragraph confidence: 0.0\n",
      "Word text: MY (confidence: 0.0\n",
      "\tSymbol: M (confidence: 0.0\n",
      "\tSymbol: Y (confidence: 0.0\n",
      "Word text: NAME (confidence: 0.0\n",
      "\tSymbol: N (confidence: 0.0\n",
      "\tSymbol: A (confidence: 0.0\n",
      "\tSymbol: M (confidence: 0.0\n",
      "\tSymbol: E (confidence: 0.0\n",
      "block confidence: 0.0\n",
      "paragraph confidence: 0.0\n",
      "Word text: IS (confidence: 0.0\n",
      "\tSymbol: I (confidence: 0.0\n",
      "\tSymbol: S (confidence: 0.0\n",
      "block confidence: 0.0\n",
      "paragraph confidence: 0.0\n",
      "Word text: KHEDKAR (confidence: 0.0\n",
      "\tSymbol: K (confidence: 0.0\n",
      "\tSymbol: H (confidence: 0.0\n",
      "\tSymbol: E (confidence: 0.0\n",
      "\tSymbol: D (confidence: 0.0\n",
      "\tSymbol: K (confidence: 0.0\n",
      "\tSymbol: A (confidence: 0.0\n",
      "\tSymbol: R (confidence: 0.0\n",
      "block confidence: 0.0\n",
      "paragraph confidence: 0.0\n",
      "Word text: ONKAR (confidence: 0.0\n",
      "\tSymbol: O (confidence: 0.0\n",
      "\tSymbol: N (confidence: 0.0\n",
      "\tSymbol: K (confidence: 0.0\n",
      "\tSymbol: A (confidence: 0.0\n",
      "\tSymbol: R (confidence: 0.0\n"
     ]
    }
   ],
   "source": [
    "pages = response.full_text_annotation.pages\n",
    "for page in pages:\n",
    "    for block in page.blocks:\n",
    "        print('block confidence:', block.confidence)\n",
    "\n",
    "        for paragraph in block.paragraphs:\n",
    "            print('paragraph confidence:', paragraph.confidence)\n",
    "\n",
    "            for word in paragraph.words:\n",
    "                word_text = ''.join([symbol.text for symbol in word.symbols])\n",
    "\n",
    "                print('Word text: {0} (confidence: {1}'.format(word_text, word.confidence))\n",
    "\n",
    "                for symbol in word.symbols:\n",
    "                    print('\\tSymbol: {0} (confidence: {1}'.format(symbol.text, symbol.confidence))"
   ]
  },
  {
   "cell_type": "code",
   "execution_count": null,
   "metadata": {},
   "outputs": [],
   "source": []
  },
  {
   "cell_type": "code",
   "execution_count": null,
   "metadata": {},
   "outputs": [],
   "source": []
  },
  {
   "cell_type": "code",
   "execution_count": null,
   "metadata": {},
   "outputs": [],
   "source": []
  },
  {
   "cell_type": "code",
   "execution_count": null,
   "metadata": {},
   "outputs": [],
   "source": []
  },
  {
   "cell_type": "code",
   "execution_count": null,
   "metadata": {},
   "outputs": [],
   "source": []
  },
  {
   "cell_type": "code",
   "execution_count": 15,
   "metadata": {},
   "outputs": [
    {
     "name": "stdout",
     "output_type": "stream",
     "text": [
      "ఋ\n",
      "ఋ\n",
      "ఏ\n",
      "ఒ\n",
      "ఓ ఔ\n",
      "చ\n",
      "2\n",
      "ఎ\n",
      "అం\n",
      "ఐ\n",
      "అ:\n",
      "క\n",
      "చ\n",
      "ట\n",
      "త\n",
      "ఖ గ\n",
      "ఛ జ\n",
      "ఠ డ\n",
      "థ ద\n",
      "ఘ\n",
      "జ\n",
      "ఢ\n",
      "ధ\n",
      "జ\n",
      "ఝ\n",
      "ణ\n",
      "న\n",
      "Acchulu\n",
      "య\n",
      "ర\n",
      "ల ళ\n",
      "వ శ\n",
      "Vowel Sound\n",
      "Symbols (16)\n",
      "Hallulu\n",
      "Consonant Sound\n",
      "Symbols (38)\n",
      "-\n",
      "-\n",
      "7\n",
      "...\n",
      "10\n",
      "عرعرعرع في\n",
      "Enestres\n",
      ".\n",
      ". .\n",
      "Maatra\n",
      "Vowel Sound\n",
      "Modifying\n",
      "Symbols for\n",
      "Hallulu (16)\n",
      "Voththulu\n",
      "Core Consonant Sound\n",
      "Symbols\n",
      "\n"
     ]
    }
   ],
   "source": [
    "import os, io\n",
    "from google.cloud import vision\n",
    "from google.cloud.vision import types\n",
    "import pandas as pd\n",
    "\n",
    "os.environ['GOOGLE_APPLICATION_CREDENTIALS'] = r'visionapi-255413-e766c8fcdacb.json'\n",
    "client = vision.ImageAnnotatorClient()\n",
    "\n",
    "FOLDER_PATH = r'C:\\Users\\onkar khedkar'\n",
    "IMAGE_FILE = 'unnamed.jpg'\n",
    "FILE_PATH = os.path.join(FOLDER_PATH, IMAGE_FILE)\n",
    "\n",
    "with io.open(FILE_PATH, 'rb') as image_file:\n",
    "    content = image_file.read()\n",
    "\n",
    "image = vision.types.Image(content=content)\n",
    "response = client.document_text_detection(image=image)\n",
    "\n",
    "docText = response.full_text_annotation.text\n",
    "print(docText)\n",
    "\n",
    "\n"
   ]
  },
  {
   "cell_type": "code",
   "execution_count": 57,
   "metadata": {},
   "outputs": [
    {
     "name": "stdout",
     "output_type": "stream",
     "text": [
      "['FIJI', 'FOOTBALL', 'ASSOCIATION\\nPLAYER', 'REGISTRATION', 'LICENSING\\nSURNAME\\nNAME\\nDATE', 'OF', 'BIRTH\\nАТТАН', 'Пото\\nHERE\\nTO', 'BE\\nCERTIFIED', 'BY\\nBARRISTER', '&\\nSOLICITOR\\nCOMMISSIONER\\nOF', 'OATH', 'OR', 'JP\\nADDRESS\\nTINE\\nPHONE', 'CONTACT\\nEMAIL', 'ADDRESS\\nPRIOR', 'REGISTRATION\\nY', 'ESNO\\nIf', 'Yes,', 'Please', 'fill', 'in', 'the', 'details', 'below:\\nDISTRICT', 'REGISTERED\\nNEW', 'DISTRICT\\nCLUB/SCHOOL', 'REGISTERED\\nNEW', 'CLUB/SCHOOL\\nLICENSE', 'NO\\nPLAYING', 'POSITION\\nsolemnly', 'and\\nsincerely', 'declare', 'that', 'above', 'information', 'provided', 'is', 'correct.\\n(Signature', 'of', 'Player)\\nWitness', 'By:\\nDate:\\n(FORM', 'SHOULD', 'BE', 'WITNESSED', 'BY', 'BARRISTER', '&', 'SOLICITOR,', 'COMMISSIONER', 'OF', 'OATH', 'OR', 'JP).\\nCHECKLIST\\nPlayer', 'Registration', 'Form\\nOriginal', 'Birth', 'Certificate\\nTransfer', 'Form', '(If', 'Applying', 'for', 'Transfer)', 'Certified', 'Copy', 'of', 'TIN', 'Card/', 'Voter', 'Card/Passport\\nPassport', 'Size', 'Photo', '(Certified)\\nCertified', 'Copy', 'of', 'Enrollment', 'Form(School\\nRegistration\\nClub', 'President', 'Secretary\\nDate\\nDistrict', 'President/', 'Secretary/School\\nDate:\\nOFFICE', 'USE', 'ONLY\\nComments:\\nReceipt', 'Number:\\nDate:\\n']\n"
     ]
    }
   ],
   "source": [
    "def Convert(string): \n",
    "    li = list(string.split(\" \")) \n",
    "    return li \n",
    "  \n",
    "# Driver code     \n",
    "str1 = docText\n",
    "all=print(Convert(str1)) "
   ]
  },
  {
   "cell_type": "code",
   "execution_count": 61,
   "metadata": {},
   "outputs": [],
   "source": [
    "import nltk\n",
    "import pandas as pd\n",
    "import re\n",
    "from nltk.tokenize import word_tokenize\n",
    "\n",
    "from nltk.tag import pos_tag"
   ]
  },
  {
   "cell_type": "code",
   "execution_count": 62,
   "metadata": {},
   "outputs": [],
   "source": [
    "from nltk.corpus import stopwords\n"
   ]
  },
  {
   "cell_type": "code",
   "execution_count": 4,
   "metadata": {},
   "outputs": [],
   "source": [
    "#nltk.download()"
   ]
  },
  {
   "cell_type": "code",
   "execution_count": 63,
   "metadata": {},
   "outputs": [
    {
     "data": {
      "text/plain": [
       "nltk.corpus.reader.wordlist.WordListCorpusReader"
      ]
     },
     "execution_count": 63,
     "metadata": {},
     "output_type": "execute_result"
    }
   ],
   "source": [
    "type(stopwords)"
   ]
  },
  {
   "cell_type": "code",
   "execution_count": 64,
   "metadata": {},
   "outputs": [
    {
     "name": "stdout",
     "output_type": "stream",
     "text": [
      "['i', 'me', 'my', 'myself', 'we', 'our', 'ours', 'ourselves', 'you', \"you're\", \"you've\", \"you'll\", \"you'd\", 'your', 'yours', 'yourself', 'yourselves', 'he', 'him', 'his', 'himself', 'she', \"she's\", 'her', 'hers', 'herself', 'it', \"it's\", 'its', 'itself', 'they', 'them', 'their', 'theirs', 'themselves', 'what', 'which', 'who', 'whom', 'this', 'that', \"that'll\", 'these', 'those', 'am', 'is', 'are', 'was', 'were', 'be', 'been', 'being', 'have', 'has', 'had', 'having', 'do', 'does', 'did', 'doing', 'a', 'an', 'the', 'and', 'but', 'if', 'or', 'because', 'as', 'until', 'while', 'of', 'at', 'by', 'for', 'with', 'about', 'against', 'between', 'into', 'through', 'during', 'before', 'after', 'above', 'below', 'to', 'from', 'up', 'down', 'in', 'out', 'on', 'off', 'over', 'under', 'again', 'further', 'then', 'once', 'here', 'there', 'when', 'where', 'why', 'how', 'all', 'any', 'both', 'each', 'few', 'more', 'most', 'other', 'some', 'such', 'no', 'nor', 'not', 'only', 'own', 'same', 'so', 'than', 'too', 'very', 's', 't', 'can', 'will', 'just', 'don', \"don't\", 'should', \"should've\", 'now', 'd', 'll', 'm', 'o', 're', 've', 'y', 'ain', 'aren', \"aren't\", 'couldn', \"couldn't\", 'didn', \"didn't\", 'doesn', \"doesn't\", 'hadn', \"hadn't\", 'hasn', \"hasn't\", 'haven', \"haven't\", 'isn', \"isn't\", 'ma', 'mightn', \"mightn't\", 'mustn', \"mustn't\", 'needn', \"needn't\", 'shan', \"shan't\", 'shouldn', \"shouldn't\", 'wasn', \"wasn't\", 'weren', \"weren't\", 'won', \"won't\", 'wouldn', \"wouldn't\"]\n"
     ]
    }
   ],
   "source": [
    " stop_words=set(stopwords.words('english'))\n",
    "print(stopwords.words('english'))"
   ]
  },
  {
   "cell_type": "code",
   "execution_count": 65,
   "metadata": {},
   "outputs": [],
   "source": [
    "def preprocess(sent):\n",
    "    sent = nltk.word_tokenize(sent)\n",
    "    sent = nltk.pos_tag(sent)\n",
    "    return sent"
   ]
  },
  {
   "cell_type": "code",
   "execution_count": 66,
   "metadata": {},
   "outputs": [
    {
     "data": {
      "text/plain": [
       "[('FIJI', 'NNP'),\n",
       " ('FOOTBALL', 'NNP'),\n",
       " ('ASSOCIATION', 'NNP'),\n",
       " ('PLAYER', 'NNP'),\n",
       " ('REGISTRATION/LICENSING', 'NNP'),\n",
       " ('SURNAME', 'NNP'),\n",
       " ('NASIE', 'NNP'),\n",
       " ('KHEDKAR', 'NNP'),\n",
       " ('ONKAR', 'NNP'),\n",
       " ('24/09/1999', 'CD'),\n",
       " ('MALE', 'NNP'),\n",
       " ('DATE', 'NNP'),\n",
       " ('OF', 'NNP'),\n",
       " ('BIRTH', 'NNP'),\n",
       " ('SEX', 'NNP'),\n",
       " ('ATTACIE', 'NNP'),\n",
       " ('PHOTO', 'NNP'),\n",
       " ('HERE', 'NNP'),\n",
       " ('TO', 'NNP'),\n",
       " ('BE', 'NNP'),\n",
       " ('CERTIFIED', 'NNP'),\n",
       " ('BY', 'NNP'),\n",
       " ('BARRISTER', 'NNP'),\n",
       " ('&', 'CC'),\n",
       " ('SOLICITOR', 'NNP'),\n",
       " ('CONNUISSIONER', 'NNP'),\n",
       " ('OF', 'NNP'),\n",
       " ('OATH', 'NNP'),\n",
       " ('OR', 'NNP'),\n",
       " ('JI*', 'NNP'),\n",
       " ('ADDRESS', 'NNP'),\n",
       " ('PHONE', 'NNP'),\n",
       " ('CONTACT', 'NNP'),\n",
       " ('EMAIL', 'NNP'),\n",
       " ('ADDRESS', 'NNP'),\n",
       " ('999', 'CD'),\n",
       " ('9922334', 'CD'),\n",
       " ('Onkar', 'NNP'),\n",
       " ('@', 'NNP'),\n",
       " ('gmail.com', 'NN'),\n",
       " ('PRIOR', 'NNP'),\n",
       " ('REGISTAATION', 'NNP'),\n",
       " ('Yes', 'NNP'),\n",
       " (',', ','),\n",
       " ('Plessa', 'NNP'),\n",
       " ('fall', 'NN'),\n",
       " ('in', 'IN'),\n",
       " ('the', 'DT'),\n",
       " ('details', 'NNS'),\n",
       " ('below', 'IN'),\n",
       " (':', ':'),\n",
       " ('DISTRUCT', 'NNP'),\n",
       " ('REGISTERED', 'NNP'),\n",
       " ('NEW', 'NNP'),\n",
       " ('DISTRICT', 'NNP'),\n",
       " ('CLUB/SCHOOL', 'NNP'),\n",
       " ('REGISTERED', 'NNP'),\n",
       " ('NEW', 'NNP'),\n",
       " ('CLUB/SCHOOL', 'NNP'),\n",
       " ('LICENSE', 'NNP'),\n",
       " ('NO', 'NNP'),\n",
       " ('.', '.'),\n",
       " ('FLAMING', 'NNP'),\n",
       " ('POSITION', 'NNP'),\n",
       " ('solemnly', 'RB'),\n",
       " ('and', 'CC'),\n",
       " (\"''\", \"''\"),\n",
       " ('Sincerely', 'RB'),\n",
       " ('declare', 'VBP'),\n",
       " ('that', 'IN'),\n",
       " ('above', 'IN'),\n",
       " ('into', 'IN'),\n",
       " ('watation', 'NN'),\n",
       " ('provided', 'VBN'),\n",
       " ('is', 'VBZ'),\n",
       " ('correct', 'JJ'),\n",
       " ('.', '.'),\n",
       " ('(', '('),\n",
       " ('Signature', 'NN'),\n",
       " ('of', 'IN'),\n",
       " ('Player', 'NNP'),\n",
       " (')', ')'),\n",
       " ('Witness', 'NNP'),\n",
       " ('by', 'IN'),\n",
       " ('(', '('),\n",
       " ('FORM', 'NNP'),\n",
       " ('SHOULD', 'NNP'),\n",
       " ('BE', 'NNP'),\n",
       " ('WITNESSED', 'NNP'),\n",
       " ('BY', 'NNP'),\n",
       " ('BARRISTER', 'NNP'),\n",
       " ('&', 'CC'),\n",
       " ('SOLICITOR', 'NNP'),\n",
       " ('.', '.'),\n",
       " ('COMMISSIONER', 'NNP'),\n",
       " ('OF', 'IN'),\n",
       " ('OATH', 'NNP'),\n",
       " ('ORJP', 'NNP'),\n",
       " (')', ')'),\n",
       " ('.', '.'),\n",
       " ('ONECKLIST', 'NNP'),\n",
       " ('Player', 'NNP'),\n",
       " ('Registration', 'NNP'),\n",
       " ('Form', 'NNP'),\n",
       " ('Transfer', 'NNP'),\n",
       " ('Form', 'NNP'),\n",
       " ('(', '('),\n",
       " ('Applying', 'VBG'),\n",
       " ('for', 'IN'),\n",
       " ('Transfer', 'NNP'),\n",
       " (')', ')'),\n",
       " ('Passport', 'NNP'),\n",
       " ('Size', 'NNP'),\n",
       " ('Photo', 'NNP'),\n",
       " ('Certled', 'NNP'),\n",
       " (')', ')'),\n",
       " ('Orional', 'NNP'),\n",
       " ('Birth', 'NNP'),\n",
       " ('Certificate', 'NNP'),\n",
       " ('Certified', 'NNP'),\n",
       " ('Copy', 'NNP'),\n",
       " ('of', 'IN'),\n",
       " ('TIN', 'NNP'),\n",
       " ('Card/', 'NNP'),\n",
       " ('Voter', 'NNP'),\n",
       " ('Card', 'NNP'),\n",
       " ('/', 'NNP'),\n",
       " ('Passport', 'NNP'),\n",
       " ('Certified', 'NNP'),\n",
       " ('copy', 'NN'),\n",
       " ('of', 'IN'),\n",
       " ('Enrollment', 'NNP'),\n",
       " ('FormiSchool', 'NNP'),\n",
       " ('Registration', 'NNP'),\n",
       " (')', ')'),\n",
       " ('Elub', 'NNP'),\n",
       " ('President/', 'NNP'),\n",
       " ('Secretary', 'NNP'),\n",
       " ('Date', 'NNP'),\n",
       " ('Hlytelet', 'NNP'),\n",
       " ('President/Secretary', 'NNP'),\n",
       " ('School', 'NNP'),\n",
       " ('Date', 'NNP'),\n",
       " (':', ':'),\n",
       " ('OFFICE', 'NN'),\n",
       " ('USE', 'NN'),\n",
       " ('ONLY', 'NNP'),\n",
       " ('Somment-', 'NNP'),\n",
       " ('ceipt', 'NN'),\n",
       " ('Number', 'NNP'),\n",
       " (':', ':'),\n",
       " ('Date', 'NN'),\n",
       " (':', ':'),\n",
       " ('No', 'DT'),\n",
       " (':', ':')]"
      ]
     },
     "execution_count": 66,
     "metadata": {},
     "output_type": "execute_result"
    }
   ],
   "source": [
    "sent = preprocess(docText)\n",
    "sent"
   ]
  },
  {
   "cell_type": "code",
   "execution_count": 67,
   "metadata": {},
   "outputs": [
    {
     "name": "stdout",
     "output_type": "stream",
     "text": [
      "['FIJI', 'FOOTBALL', 'ASSOCIATION', 'PLAYER', 'REGISTRATION/LICENSING', 'SURNAME', 'NASIE', 'KHEDKAR', 'ONKAR', '24/09/1999', 'MALE', 'DATE', 'OF', 'BIRTH', 'SEX', 'ATTACIE', 'PHOTO', 'HERE', 'TO', 'BE', 'CERTIFIED', 'BY', 'BARRISTER', '&', 'SOLICITOR', 'CONNUISSIONER', 'OF', 'OATH', 'OR', 'JI*', 'ADDRESS', 'PHONE', 'CONTACT', 'EMAIL', 'ADDRESS', '999', '9922334', 'Onkar', '@', 'gmail.com', 'PRIOR', 'REGISTAATION', 'Yes', ',', 'Plessa', 'fall', 'in', 'the', 'details', 'below', ':', 'DISTRUCT', 'REGISTERED', 'NEW', 'DISTRICT', 'CLUB/SCHOOL', 'REGISTERED', 'NEW', 'CLUB/SCHOOL', 'LICENSE', 'NO', '.', 'FLAMING', 'POSITION', 'solemnly', 'and', \"''\", 'Sincerely', 'declare', 'that', 'above', 'into', 'watation', 'provided', 'is', 'correct', '.', '(', 'Signature', 'of', 'Player', ')', 'Witness', 'by', '(', 'FORM', 'SHOULD', 'BE', 'WITNESSED', 'BY', 'BARRISTER', '&', 'SOLICITOR', '.', 'COMMISSIONER', 'OF', 'OATH', 'ORJP', ')', '.', 'ONECKLIST', 'Player', 'Registration', 'Form', 'Transfer', 'Form', '(', 'Applying', 'for', 'Transfer', ')', 'Passport', 'Size', 'Photo', 'Certled', ')', 'Orional', 'Birth', 'Certificate', 'Certified', 'Copy', 'of', 'TIN', 'Card/', 'Voter', 'Card', '/', 'Passport', 'Certified', 'copy', 'of', 'Enrollment', 'FormiSchool', 'Registration', ')', 'Elub', 'President/', 'Secretary', 'Date', 'Hlytelet', 'President/Secretary', 'School', 'Date', ':', 'OFFICE', 'USE', 'ONLY', 'Somment-', 'ceipt', 'Number', ':', 'Date', ':', 'No', ':']\n"
     ]
    }
   ],
   "source": [
    "from nltk.tokenize import sent_tokenize, word_tokenize\n",
    "#print(sent_tokenize(docText))\n",
    "print(word_tokenize(docText))\n"
   ]
  },
  {
   "cell_type": "code",
   "execution_count": 68,
   "metadata": {},
   "outputs": [],
   "source": [
    "new_words=['FIJI', 'FOOTBALL', 'ASSOCIATION', 'PLAYER', 'REGISTRATION', 'LICENSING', 'SURNAME', 'NAME', 'DATE', 'OF', 'BIRTH', 'АТТАН', 'Пото', 'HERE', 'TO', 'BE', 'CERTIFIED', 'BY', 'BARRISTER', '&', 'SOLICITOR', 'COMMISSIONER', 'OF', 'OATH', 'OR', 'JP', 'ADDRESS', 'TINE', 'PHONE', 'CONTACT', 'EMAIL', 'ADDRESS', 'PRIOR', 'REGISTRATION', 'Y', 'ESNO', 'If', 'Yes', ',', 'Please', 'fill', 'in', 'the', 'details', 'below', ':', 'DISTRICT', 'REGISTERED', 'NEW', 'DISTRICT', 'CLUB/SCHOOL', 'REGISTERED', 'NEW', 'CLUB/SCHOOL', 'LICENSE', 'NO', 'PLAYING', 'POSITION', 'solemnly', 'and', 'sincerely', 'declare', 'that', 'above', 'information', 'provided', 'is', 'correct', '.', '(', 'Signature', 'of', 'Player', ')', 'Witness', 'By', ':', 'Date', ':', '(', 'FORM', 'SHOULD', 'BE', 'WITNESSED', 'BY', 'BARRISTER', '&', 'SOLICITOR', ',', 'COMMISSIONER', 'OF', 'OATH', 'OR', 'JP', ')', '.', 'CHECKLIST', 'Player', 'Registration', 'Form', 'Original', 'Birth', 'Certificate', 'Transfer', 'Form', '(', 'If', 'Applying', 'for', 'Transfer', ')', 'Certified', 'Copy', 'of', 'TIN', 'Card/', 'Voter', 'Card/Passport', 'Passport', 'Size', 'Photo', '(', 'Certified', ')', 'Certified', 'Copy', 'of', 'Enrollment', 'Form', '(', 'School', 'Registration', 'Club', 'President', 'Secretary', 'Date', 'District', 'President/', 'Secretary/School', 'Date', ':', 'OFFICE', 'USE', 'ONLY', 'Comments', ':', 'Receipt', 'Number', ':', 'Date', ':']"
   ]
  },
  {
   "cell_type": "code",
   "execution_count": 80,
   "metadata": {},
   "outputs": [],
   "source": [
    "#new_words=['FIJI', 'FOOTBALL', 'ASSOCIATION\\nPLAYER', 'REGISTRATION', 'LICENSING\\nSURNAME\\nNAME\\nDATE', 'OF', 'BIRTH\\nАТТАН', 'Пото\\nHERE\\nTO', 'BE\\nCERTIFIED', 'BY\\nBARRISTER', '&\\nSOLICITOR\\nCOMMISSIONER\\nOF', 'OATH', 'OR', 'JP\\nADDRESS\\nTINE\\nPHONE', 'CONTACT\\nEMAIL', 'ADDRESS\\nPRIOR', 'REGISTRATION\\nY', 'ESNO\\nIf', 'Yes,', 'Please', 'fill', 'in', 'the', 'details', 'below:\\nDISTRICT', 'REGISTERED\\nNEW', 'DISTRICT\\nCLUB/SCHOOL', 'REGISTERED\\nNEW', 'CLUB/SCHOOL\\nLICENSE', 'NO\\nPLAYING', 'POSITION\\nsolemnly', 'and\\nsincerely', 'declare', 'that', 'above', 'information', 'provided', 'is', 'correct.\\n(Signature', 'of', 'Player)\\nWitness', 'By:\\nDate:\\n(FORM', 'SHOULD', 'BE', 'WITNESSED', 'BY', 'BARRISTER', '&', 'SOLICITOR,', 'COMMISSIONER', 'OF', 'OATH', 'OR', 'JP).\\nCHECKLIST\\nPlayer', 'Registration', 'Form\\nOriginal', 'Birth', 'Certificate\\nTransfer', 'Form', '(If', 'Applying', 'for', 'Transfer)', 'Certified', 'Copy', 'of', 'TIN', 'Card/', 'Voter', 'Card/Passport\\nPassport', 'Size', 'Photo', '(Certified)\\nCertified', 'Copy', 'of', 'Enrollment', 'Form(School\\nRegistration\\nClub', 'President', 'Secretary\\nDate\\nDistrict', 'President/', 'Secretary/School\\nDate:\\nOFFICE', 'USE', 'ONLY\\nComments:\\nReceipt', 'Number:\\nDate:\\n']"
   ]
  },
  {
   "cell_type": "code",
   "execution_count": 81,
   "metadata": {},
   "outputs": [],
   "source": [
    "new_words1=set(new_words)"
   ]
  },
  {
   "cell_type": "code",
   "execution_count": 82,
   "metadata": {},
   "outputs": [],
   "source": [
    "stop_words = (stopwords.words(\"english\")+(new_words))"
   ]
  },
  {
   "cell_type": "code",
   "execution_count": 83,
   "metadata": {},
   "outputs": [
    {
     "data": {
      "text/plain": [
       "['i',\n",
       " 'me',\n",
       " 'my',\n",
       " 'myself',\n",
       " 'we',\n",
       " 'our',\n",
       " 'ours',\n",
       " 'ourselves',\n",
       " 'you',\n",
       " \"you're\",\n",
       " \"you've\",\n",
       " \"you'll\",\n",
       " \"you'd\",\n",
       " 'your',\n",
       " 'yours',\n",
       " 'yourself',\n",
       " 'yourselves',\n",
       " 'he',\n",
       " 'him',\n",
       " 'his',\n",
       " 'himself',\n",
       " 'she',\n",
       " \"she's\",\n",
       " 'her',\n",
       " 'hers',\n",
       " 'herself',\n",
       " 'it',\n",
       " \"it's\",\n",
       " 'its',\n",
       " 'itself',\n",
       " 'they',\n",
       " 'them',\n",
       " 'their',\n",
       " 'theirs',\n",
       " 'themselves',\n",
       " 'what',\n",
       " 'which',\n",
       " 'who',\n",
       " 'whom',\n",
       " 'this',\n",
       " 'that',\n",
       " \"that'll\",\n",
       " 'these',\n",
       " 'those',\n",
       " 'am',\n",
       " 'is',\n",
       " 'are',\n",
       " 'was',\n",
       " 'were',\n",
       " 'be',\n",
       " 'been',\n",
       " 'being',\n",
       " 'have',\n",
       " 'has',\n",
       " 'had',\n",
       " 'having',\n",
       " 'do',\n",
       " 'does',\n",
       " 'did',\n",
       " 'doing',\n",
       " 'a',\n",
       " 'an',\n",
       " 'the',\n",
       " 'and',\n",
       " 'but',\n",
       " 'if',\n",
       " 'or',\n",
       " 'because',\n",
       " 'as',\n",
       " 'until',\n",
       " 'while',\n",
       " 'of',\n",
       " 'at',\n",
       " 'by',\n",
       " 'for',\n",
       " 'with',\n",
       " 'about',\n",
       " 'against',\n",
       " 'between',\n",
       " 'into',\n",
       " 'through',\n",
       " 'during',\n",
       " 'before',\n",
       " 'after',\n",
       " 'above',\n",
       " 'below',\n",
       " 'to',\n",
       " 'from',\n",
       " 'up',\n",
       " 'down',\n",
       " 'in',\n",
       " 'out',\n",
       " 'on',\n",
       " 'off',\n",
       " 'over',\n",
       " 'under',\n",
       " 'again',\n",
       " 'further',\n",
       " 'then',\n",
       " 'once',\n",
       " 'here',\n",
       " 'there',\n",
       " 'when',\n",
       " 'where',\n",
       " 'why',\n",
       " 'how',\n",
       " 'all',\n",
       " 'any',\n",
       " 'both',\n",
       " 'each',\n",
       " 'few',\n",
       " 'more',\n",
       " 'most',\n",
       " 'other',\n",
       " 'some',\n",
       " 'such',\n",
       " 'no',\n",
       " 'nor',\n",
       " 'not',\n",
       " 'only',\n",
       " 'own',\n",
       " 'same',\n",
       " 'so',\n",
       " 'than',\n",
       " 'too',\n",
       " 'very',\n",
       " 's',\n",
       " 't',\n",
       " 'can',\n",
       " 'will',\n",
       " 'just',\n",
       " 'don',\n",
       " \"don't\",\n",
       " 'should',\n",
       " \"should've\",\n",
       " 'now',\n",
       " 'd',\n",
       " 'll',\n",
       " 'm',\n",
       " 'o',\n",
       " 're',\n",
       " 've',\n",
       " 'y',\n",
       " 'ain',\n",
       " 'aren',\n",
       " \"aren't\",\n",
       " 'couldn',\n",
       " \"couldn't\",\n",
       " 'didn',\n",
       " \"didn't\",\n",
       " 'doesn',\n",
       " \"doesn't\",\n",
       " 'hadn',\n",
       " \"hadn't\",\n",
       " 'hasn',\n",
       " \"hasn't\",\n",
       " 'haven',\n",
       " \"haven't\",\n",
       " 'isn',\n",
       " \"isn't\",\n",
       " 'ma',\n",
       " 'mightn',\n",
       " \"mightn't\",\n",
       " 'mustn',\n",
       " \"mustn't\",\n",
       " 'needn',\n",
       " \"needn't\",\n",
       " 'shan',\n",
       " \"shan't\",\n",
       " 'shouldn',\n",
       " \"shouldn't\",\n",
       " 'wasn',\n",
       " \"wasn't\",\n",
       " 'weren',\n",
       " \"weren't\",\n",
       " 'won',\n",
       " \"won't\",\n",
       " 'wouldn',\n",
       " \"wouldn't\",\n",
       " 'FIJI',\n",
       " 'FOOTBALL',\n",
       " 'ASSOCIATION\\nPLAYER',\n",
       " 'REGISTRATION',\n",
       " 'LICENSING\\nSURNAME\\nNAME\\nDATE',\n",
       " 'OF',\n",
       " 'BIRTH\\nАТТАН',\n",
       " 'Пото\\nHERE\\nTO',\n",
       " 'BE\\nCERTIFIED',\n",
       " 'BY\\nBARRISTER',\n",
       " '&\\nSOLICITOR\\nCOMMISSIONER\\nOF',\n",
       " 'OATH',\n",
       " 'OR',\n",
       " 'JP\\nADDRESS\\nTINE\\nPHONE',\n",
       " 'CONTACT\\nEMAIL',\n",
       " 'ADDRESS\\nPRIOR',\n",
       " 'REGISTRATION\\nY',\n",
       " 'ESNO\\nIf',\n",
       " 'Yes,',\n",
       " 'Please',\n",
       " 'fill',\n",
       " 'in',\n",
       " 'the',\n",
       " 'details',\n",
       " 'below:\\nDISTRICT',\n",
       " 'REGISTERED\\nNEW',\n",
       " 'DISTRICT\\nCLUB/SCHOOL',\n",
       " 'REGISTERED\\nNEW',\n",
       " 'CLUB/SCHOOL\\nLICENSE',\n",
       " 'NO\\nPLAYING',\n",
       " 'POSITION\\nsolemnly',\n",
       " 'and\\nsincerely',\n",
       " 'declare',\n",
       " 'that',\n",
       " 'above',\n",
       " 'information',\n",
       " 'provided',\n",
       " 'is',\n",
       " 'correct.\\n(Signature',\n",
       " 'of',\n",
       " 'Player)\\nWitness',\n",
       " 'By:\\nDate:\\n(FORM',\n",
       " 'SHOULD',\n",
       " 'BE',\n",
       " 'WITNESSED',\n",
       " 'BY',\n",
       " 'BARRISTER',\n",
       " '&',\n",
       " 'SOLICITOR,',\n",
       " 'COMMISSIONER',\n",
       " 'OF',\n",
       " 'OATH',\n",
       " 'OR',\n",
       " 'JP).\\nCHECKLIST\\nPlayer',\n",
       " 'Registration',\n",
       " 'Form\\nOriginal',\n",
       " 'Birth',\n",
       " 'Certificate\\nTransfer',\n",
       " 'Form',\n",
       " '(If',\n",
       " 'Applying',\n",
       " 'for',\n",
       " 'Transfer)',\n",
       " 'Certified',\n",
       " 'Copy',\n",
       " 'of',\n",
       " 'TIN',\n",
       " 'Card/',\n",
       " 'Voter',\n",
       " 'Card/Passport\\nPassport',\n",
       " 'Size',\n",
       " 'Photo',\n",
       " '(Certified)\\nCertified',\n",
       " 'Copy',\n",
       " 'of',\n",
       " 'Enrollment',\n",
       " 'Form(School\\nRegistration\\nClub',\n",
       " 'President',\n",
       " 'Secretary\\nDate\\nDistrict',\n",
       " 'President/',\n",
       " 'Secretary/School\\nDate:\\nOFFICE',\n",
       " 'USE',\n",
       " 'ONLY\\nComments:\\nReceipt',\n",
       " 'Number:\\nDate:\\n']"
      ]
     },
     "execution_count": 83,
     "metadata": {},
     "output_type": "execute_result"
    }
   ],
   "source": [
    "stop_words"
   ]
  },
  {
   "cell_type": "code",
   "execution_count": 84,
   "metadata": {},
   "outputs": [],
   "source": [
    "document = docText.join([i for i in docText.split() if i not in stop_words])\n",
    "sentences = nltk.sent_tokenize(document)"
   ]
  },
  {
   "cell_type": "code",
   "execution_count": 85,
   "metadata": {},
   "outputs": [],
   "source": [
    "sentences = [nltk.word_tokenize(sent) for sent in sentences]"
   ]
  },
  {
   "cell_type": "code",
   "execution_count": 86,
   "metadata": {},
   "outputs": [],
   "source": [
    "sentences = [nltk.pos_tag(sent) for sent in sentences]"
   ]
  },
  {
   "cell_type": "code",
   "execution_count": 87,
   "metadata": {},
   "outputs": [
    {
     "name": "stdout",
     "output_type": "stream",
     "text": [
      "[[('ASSOCIATIONFIJI', 'NNP'), ('FOOTBALL', 'NNP'), ('ASSOCIATION', 'NNP'), ('PLAYER', 'NNP'), ('REGISTRATION/LICENSING', 'NNP'), ('SURNAME', 'NNP'), ('NASIE', 'NNP'), ('KHEDKAR', 'NNP'), ('ONKAR', 'NNP'), ('24/09/1999', 'CD'), ('MALE', 'NNP'), ('DATE', 'NNP'), ('OF', 'NNP'), ('BIRTH', 'NNP'), ('SEX', 'NNP'), ('ATTACIE', 'NNP'), ('PHOTO', 'NNP'), ('HERE', 'NNP'), ('TO', 'NNP'), ('BE', 'NNP'), ('CERTIFIED', 'NNP'), ('BY', 'NNP'), ('BARRISTER', 'NNP'), ('&', 'CC'), ('SOLICITOR', 'NNP'), ('CONNUISSIONER', 'NNP'), ('OF', 'NNP'), ('OATH', 'NNP'), ('OR', 'NNP'), ('JI*', 'NNP'), ('ADDRESS', 'NNP'), ('PHONE', 'NNP'), ('CONTACT', 'NNP'), ('EMAIL', 'NNP'), ('ADDRESS', 'NNP'), ('999', 'CD'), ('9922334', 'CD'), ('Onkar', 'NNP'), ('@', 'NNP'), ('gmail.com', 'NN'), ('PRIOR', 'NNP'), ('REGISTAATION', 'NNP'), ('Yes', 'NNP'), (',', ','), ('Plessa', 'NNP'), ('fall', 'NN'), ('in', 'IN'), ('the', 'DT'), ('details', 'NNS'), ('below', 'IN'), (':', ':'), ('DISTRUCT', 'NNP'), ('REGISTERED', 'NNP'), ('NEW', 'NNP'), ('DISTRICT', 'NNP'), ('CLUB/SCHOOL', 'NNP'), ('REGISTERED', 'NNP'), ('NEW', 'NNP'), ('CLUB/SCHOOL', 'NNP'), ('LICENSE', 'NNP'), ('NO', 'NNP'), ('.', '.')], [('FLAMING', 'NN'), ('POSITION', 'NNP'), ('solemnly', 'RB'), ('and', 'CC'), (\"''\", \"''\"), ('Sincerely', 'RB'), ('declare', 'VBP'), ('that', 'IN'), ('above', 'IN'), ('into', 'IN'), ('watation', 'NN'), ('provided', 'VBN'), ('is', 'VBZ'), ('correct', 'JJ'), ('.', '.')], [('(', '('), ('Signature', 'NN'), ('of', 'IN'), ('Player', 'NNP'), (')', ')'), ('Witness', 'NNP'), ('by', 'IN'), ('(', '('), ('FORM', 'NNP'), ('SHOULD', 'NNP'), ('BE', 'NNP'), ('WITNESSED', 'NNP'), ('BY', 'NNP'), ('BARRISTER', 'NNP'), ('&', 'CC'), ('SOLICITOR', 'NNP'), ('.', '.')], [('COMMISSIONER', 'NNP'), ('OF', 'NNP'), ('OATH', 'NNP'), ('ORJP', 'NNP'), (')', ')'), ('.', '.')], [('ONECKLIST', 'NNP'), ('Player', 'NNP'), ('Registration', 'NNP'), ('Form', 'NNP'), ('Transfer', 'NNP'), ('Form', 'NNP'), ('(', '('), ('Applying', 'VBG'), ('for', 'IN'), ('Transfer', 'NNP'), (')', ')'), ('Passport', 'NNP'), ('Size', 'NNP'), ('Photo', 'NNP'), ('Certled', 'NNP'), (')', ')'), ('Orional', 'NNP'), ('Birth', 'NNP'), ('Certificate', 'NNP'), ('Certified', 'NNP'), ('Copy', 'NNP'), ('of', 'IN'), ('TIN', 'NNP'), ('Card/', 'NNP'), ('Voter', 'NNP'), ('Card', 'NNP'), ('/', 'NNP'), ('Passport', 'NNP'), ('Certified', 'NNP'), ('copy', 'NN'), ('of', 'IN'), ('Enrollment', 'NNP'), ('FormiSchool', 'NNP'), ('Registration', 'NNP'), (')', ')'), ('Elub', 'NNP'), ('President/', 'NNP'), ('Secretary', 'NNP'), ('Date', 'NNP'), ('Hlytelet', 'NNP'), ('President/Secretary', 'NNP'), ('School', 'NNP'), ('Date', 'NNP'), (':', ':'), ('OFFICE', 'NN'), ('USE', 'NN'), ('ONLY', 'NNP'), ('Somment-', 'NNP'), ('ceipt', 'NN'), ('Number', 'NNP'), (':', ':'), ('Date', 'NN'), (':', ':'), ('No', 'DT'), (':', ':'), ('PLAYERFIJI', 'NNP'), ('FOOTBALL', 'NNP'), ('ASSOCIATION', 'NNP'), ('PLAYER', 'NNP'), ('REGISTRATION/LICENSING', 'NNP'), ('SURNAME', 'NNP'), ('NASIE', 'NNP'), ('KHEDKAR', 'NNP'), ('ONKAR', 'NNP'), ('24/09/1999', 'CD'), ('MALE', 'NNP'), ('DATE', 'NNP'), ('OF', 'NNP'), ('BIRTH', 'NNP'), ('SEX', 'NNP'), ('ATTACIE', 'NNP'), ('PHOTO', 'NNP'), ('HERE', 'NNP'), ('TO', 'NNP'), ('BE', 'NNP'), ('CERTIFIED', 'NNP'), ('BY', 'NNP'), ('BARRISTER', 'NNP'), ('&', 'CC'), ('SOLICITOR', 'NNP'), ('CONNUISSIONER', 'NNP'), ('OF', 'NNP'), ('OATH', 'NNP'), ('OR', 'NNP'), ('JI*', 'NNP'), ('ADDRESS', 'NNP'), ('PHONE', 'NNP'), ('CONTACT', 'NNP'), ('EMAIL', 'NNP'), ('ADDRESS', 'NNP'), ('999', 'CD'), ('9922334', 'CD'), ('Onkar', 'NNP'), ('@', 'NNP'), ('gmail.com', 'NN'), ('PRIOR', 'NNP'), ('REGISTAATION', 'NNP'), ('Yes', 'NNP'), (',', ','), ('Plessa', 'NNP'), ('fall', 'NN'), ('in', 'IN'), ('the', 'DT'), ('details', 'NNS'), ('below', 'IN'), (':', ':'), ('DISTRUCT', 'NNP'), ('REGISTERED', 'NNP'), ('NEW', 'NNP'), ('DISTRICT', 'NNP'), ('CLUB/SCHOOL', 'NNP'), ('REGISTERED', 'NNP'), ('NEW', 'NNP'), ('CLUB/SCHOOL', 'NNP'), ('LICENSE', 'NNP'), ('NO', 'NNP'), ('.', '.')], [('FLAMING', 'NN'), ('POSITION', 'NNP'), ('solemnly', 'RB'), ('and', 'CC'), (\"''\", \"''\"), ('Sincerely', 'RB'), ('declare', 'VBP'), ('that', 'IN'), ('above', 'IN'), ('into', 'IN'), ('watation', 'NN'), ('provided', 'VBN'), ('is', 'VBZ'), ('correct', 'JJ'), ('.', '.')], [('(', '('), ('Signature', 'NN'), ('of', 'IN'), ('Player', 'NNP'), (')', ')'), ('Witness', 'NNP'), ('by', 'IN'), ('(', '('), ('FORM', 'NNP'), ('SHOULD', 'NNP'), ('BE', 'NNP'), ('WITNESSED', 'NNP'), ('BY', 'NNP'), ('BARRISTER', 'NNP'), ('&', 'CC'), ('SOLICITOR', 'NNP'), ('.', '.')], [('COMMISSIONER', 'NNP'), ('OF', 'NNP'), ('OATH', 'NNP'), ('ORJP', 'NNP'), (')', ')'), ('.', '.')], [('ONECKLIST', 'NNP'), ('Player', 'NNP'), ('Registration', 'NNP'), ('Form', 'NNP'), ('Transfer', 'NNP'), ('Form', 'NNP'), ('(', '('), ('Applying', 'VBG'), ('for', 'IN'), ('Transfer', 'NNP'), (')', ')'), ('Passport', 'NNP'), ('Size', 'NNP'), ('Photo', 'NNP'), ('Certled', 'NNP'), (')', ')'), ('Orional', 'NNP'), ('Birth', 'NNP'), ('Certificate', 'NNP'), ('Certified', 'NNP'), ('Copy', 'NNP'), ('of', 'IN'), ('TIN', 'NNP'), ('Card/', 'NNP'), ('Voter', 'NNP'), ('Card', 'NNP'), ('/', 'NNP'), ('Passport', 'NNP'), ('Certified', 'NNP'), ('copy', 'NN'), ('of', 'IN'), ('Enrollment', 'NNP'), ('FormiSchool', 'NNP'), ('Registration', 'NNP'), (')', ')'), ('Elub', 'NNP'), ('President/', 'NNP'), ('Secretary', 'NNP'), ('Date', 'NNP'), ('Hlytelet', 'NNP'), ('President/Secretary', 'NNP'), ('School', 'NNP'), ('Date', 'NNP'), (':', ':'), ('OFFICE', 'NN'), ('USE', 'NN'), ('ONLY', 'NNP'), ('Somment-', 'NNP'), ('ceipt', 'NN'), ('Number', 'NNP'), (':', ':'), ('Date', 'NN'), (':', ':'), ('No', 'DT'), (':', ':'), ('REGISTRATION/LICENSINGFIJI', 'NNP'), ('FOOTBALL', 'NNP'), ('ASSOCIATION', 'NNP'), ('PLAYER', 'NNP'), ('REGISTRATION/LICENSING', 'NNP'), ('SURNAME', 'NNP'), ('NASIE', 'NNP'), ('KHEDKAR', 'NNP'), ('ONKAR', 'NNP'), ('24/09/1999', 'CD'), ('MALE', 'NNP'), ('DATE', 'NNP'), ('OF', 'NNP'), ('BIRTH', 'NNP'), ('SEX', 'NNP'), ('ATTACIE', 'NNP'), ('PHOTO', 'NNP'), ('HERE', 'NNP'), ('TO', 'NNP'), ('BE', 'NNP'), ('CERTIFIED', 'NNP'), ('BY', 'NNP'), ('BARRISTER', 'NNP'), ('&', 'CC'), ('SOLICITOR', 'NNP'), ('CONNUISSIONER', 'NNP'), ('OF', 'NNP'), ('OATH', 'NNP'), ('OR', 'NNP'), ('JI*', 'NNP'), ('ADDRESS', 'NNP'), ('PHONE', 'NNP'), ('CONTACT', 'NNP'), ('EMAIL', 'NNP'), ('ADDRESS', 'NNP'), ('999', 'CD'), ('9922334', 'CD'), ('Onkar', 'NNP'), ('@', 'NNP'), ('gmail.com', 'NN'), ('PRIOR', 'NNP'), ('REGISTAATION', 'NNP'), ('Yes', 'NNP'), (',', ','), ('Plessa', 'NNP'), ('fall', 'NN'), ('in', 'IN'), ('the', 'DT'), ('details', 'NNS'), ('below', 'IN'), (':', ':'), ('DISTRUCT', 'NNP'), ('REGISTERED', 'NNP'), ('NEW', 'NNP'), ('DISTRICT', 'NNP'), ('CLUB/SCHOOL', 'NNP'), ('REGISTERED', 'NNP'), ('NEW', 'NNP'), ('CLUB/SCHOOL', 'NNP'), ('LICENSE', 'NNP'), ('NO', 'NNP'), ('.', '.')], [('FLAMING', 'NN'), ('POSITION', 'NNP'), ('solemnly', 'RB'), ('and', 'CC'), (\"''\", \"''\"), ('Sincerely', 'RB'), ('declare', 'VBP'), ('that', 'IN'), ('above', 'IN'), ('into', 'IN'), ('watation', 'NN'), ('provided', 'VBN'), ('is', 'VBZ'), ('correct', 'JJ'), ('.', '.')], [('(', '('), ('Signature', 'NN'), ('of', 'IN'), ('Player', 'NNP'), (')', ')'), ('Witness', 'NNP'), ('by', 'IN'), ('(', '('), ('FORM', 'NNP'), ('SHOULD', 'NNP'), ('BE', 'NNP'), ('WITNESSED', 'NNP'), ('BY', 'NNP'), ('BARRISTER', 'NNP'), ('&', 'CC'), ('SOLICITOR', 'NNP'), ('.', '.')], [('COMMISSIONER', 'NNP'), ('OF', 'NNP'), ('OATH', 'NNP'), ('ORJP', 'NNP'), (')', ')'), ('.', '.')], [('ONECKLIST', 'NNP'), ('Player', 'NNP'), ('Registration', 'NNP'), ('Form', 'NNP'), ('Transfer', 'NNP'), ('Form', 'NNP'), ('(', '('), ('Applying', 'VBG'), ('for', 'IN'), ('Transfer', 'NNP'), (')', ')'), ('Passport', 'NNP'), ('Size', 'NNP'), ('Photo', 'NNP'), ('Certled', 'NNP'), (')', ')'), ('Orional', 'NNP'), ('Birth', 'NNP'), ('Certificate', 'NNP'), ('Certified', 'NNP'), ('Copy', 'NNP'), ('of', 'IN'), ('TIN', 'NNP'), ('Card/', 'NNP'), ('Voter', 'NNP'), ('Card', 'NNP'), ('/', 'NNP'), ('Passport', 'NNP'), ('Certified', 'NNP'), ('copy', 'NN'), ('of', 'IN'), ('Enrollment', 'NNP'), ('FormiSchool', 'NNP'), ('Registration', 'NNP'), (')', ')'), ('Elub', 'NNP'), ('President/', 'NNP'), ('Secretary', 'NNP'), ('Date', 'NNP'), ('Hlytelet', 'NNP'), ('President/Secretary', 'NNP'), ('School', 'NNP'), ('Date', 'NNP'), (':', ':'), ('OFFICE', 'NN'), ('USE', 'NN'), ('ONLY', 'NNP'), ('Somment-', 'NNP'), ('ceipt', 'NN'), ('Number', 'NNP'), (':', ':'), ('Date', 'NN'), (':', ':'), ('No', 'DT'), (':', ':'), ('SURNAMEFIJI', 'NNP'), ('FOOTBALL', 'NNP'), ('ASSOCIATION', 'NNP'), ('PLAYER', 'NNP'), ('REGISTRATION/LICENSING', 'NNP'), ('SURNAME', 'NNP'), ('NASIE', 'NNP'), ('KHEDKAR', 'NNP'), ('ONKAR', 'NNP'), ('24/09/1999', 'CD'), ('MALE', 'NNP'), ('DATE', 'NNP'), ('OF', 'NNP'), ('BIRTH', 'NNP'), ('SEX', 'NNP'), ('ATTACIE', 'NNP'), ('PHOTO', 'NNP'), ('HERE', 'NNP'), ('TO', 'NNP'), ('BE', 'NNP'), ('CERTIFIED', 'NNP'), ('BY', 'NNP'), ('BARRISTER', 'NNP'), ('&', 'CC'), ('SOLICITOR', 'NNP'), ('CONNUISSIONER', 'NNP'), ('OF', 'NNP'), ('OATH', 'NNP'), ('OR', 'NNP'), ('JI*', 'NNP'), ('ADDRESS', 'NNP'), ('PHONE', 'NNP'), ('CONTACT', 'NNP'), ('EMAIL', 'NNP'), ('ADDRESS', 'NNP'), ('999', 'CD'), ('9922334', 'CD'), ('Onkar', 'NNP'), ('@', 'NNP'), ('gmail.com', 'NN'), ('PRIOR', 'NNP'), ('REGISTAATION', 'NNP'), ('Yes', 'NNP'), (',', ','), ('Plessa', 'NNP'), ('fall', 'NN'), ('in', 'IN'), ('the', 'DT'), ('details', 'NNS'), ('below', 'IN'), (':', ':'), ('DISTRUCT', 'NNP'), ('REGISTERED', 'NNP'), ('NEW', 'NNP'), ('DISTRICT', 'NNP'), ('CLUB/SCHOOL', 'NNP'), ('REGISTERED', 'NNP'), ('NEW', 'NNP'), ('CLUB/SCHOOL', 'NNP'), ('LICENSE', 'NNP'), ('NO', 'NNP'), ('.', '.')], [('FLAMING', 'NN'), ('POSITION', 'NNP'), ('solemnly', 'RB'), ('and', 'CC'), (\"''\", \"''\"), ('Sincerely', 'RB'), ('declare', 'VBP'), ('that', 'IN'), ('above', 'IN'), ('into', 'IN'), ('watation', 'NN'), ('provided', 'VBN'), ('is', 'VBZ'), ('correct', 'JJ'), ('.', '.')], [('(', '('), ('Signature', 'NN'), ('of', 'IN'), ('Player', 'NNP'), (')', ')'), ('Witness', 'NNP'), ('by', 'IN'), ('(', '('), ('FORM', 'NNP'), ('SHOULD', 'NNP'), ('BE', 'NNP'), ('WITNESSED', 'NNP'), ('BY', 'NNP'), ('BARRISTER', 'NNP'), ('&', 'CC'), ('SOLICITOR', 'NNP'), ('.', '.')], [('COMMISSIONER', 'NNP'), ('OF', 'NNP'), ('OATH', 'NNP'), ('ORJP', 'NNP'), (')', ')'), ('.', '.')], [('ONECKLIST', 'NNP'), ('Player', 'NNP'), ('Registration', 'NNP'), ('Form', 'NNP'), ('Transfer', 'NNP'), ('Form', 'NNP'), ('(', '('), ('Applying', 'VBG'), ('for', 'IN'), ('Transfer', 'NNP'), (')', ')'), ('Passport', 'NNP'), ('Size', 'NNP'), ('Photo', 'NNP'), ('Certled', 'NNP'), (')', ')'), ('Orional', 'NNP'), ('Birth', 'NNP'), ('Certificate', 'NNP'), ('Certified', 'NNP'), ('Copy', 'NNP'), ('of', 'IN'), ('TIN', 'NNP'), ('Card/', 'NNP'), ('Voter', 'NNP'), ('Card', 'NNP'), ('/', 'NNP'), ('Passport', 'NNP'), ('Certified', 'NNP'), ('copy', 'NN'), ('of', 'IN'), ('Enrollment', 'NNP'), ('FormiSchool', 'NNP'), ('Registration', 'NNP'), (')', ')'), ('Elub', 'NNP'), ('President/', 'NNP'), ('Secretary', 'NNP'), ('Date', 'NNP'), ('Hlytelet', 'NNP'), ('President/Secretary', 'NNP'), ('School', 'NNP'), ('Date', 'NNP'), (':', ':'), ('OFFICE', 'NN'), ('USE', 'NN'), ('ONLY', 'NNP'), ('Somment-', 'NNP'), ('ceipt', 'NN'), ('Number', 'NNP'), (':', ':'), ('Date', 'NN'), (':', ':'), ('No', 'DT'), (':', ':'), ('NASIEFIJI', 'NNP'), ('FOOTBALL', 'NNP'), ('ASSOCIATION', 'NNP'), ('PLAYER', 'NNP'), ('REGISTRATION/LICENSING', 'NNP'), ('SURNAME', 'NNP'), ('NASIE', 'NNP'), ('KHEDKAR', 'NNP'), ('ONKAR', 'NNP'), ('24/09/1999', 'CD'), ('MALE', 'NNP'), ('DATE', 'NNP'), ('OF', 'NNP'), ('BIRTH', 'NNP'), ('SEX', 'NNP'), ('ATTACIE', 'NNP'), ('PHOTO', 'NNP'), ('HERE', 'NNP'), ('TO', 'NNP'), ('BE', 'NNP'), ('CERTIFIED', 'NNP'), ('BY', 'NNP'), ('BARRISTER', 'NNP'), ('&', 'CC'), ('SOLICITOR', 'NNP'), ('CONNUISSIONER', 'NNP'), ('OF', 'NNP'), ('OATH', 'NNP'), ('OR', 'NNP'), ('JI*', 'NNP'), ('ADDRESS', 'NNP'), ('PHONE', 'NNP'), ('CONTACT', 'NNP'), ('EMAIL', 'NNP'), ('ADDRESS', 'NNP'), ('999', 'CD'), ('9922334', 'CD'), ('Onkar', 'NNP'), ('@', 'NNP'), ('gmail.com', 'NN'), ('PRIOR', 'NNP'), ('REGISTAATION', 'NNP'), ('Yes', 'NNP'), (',', ','), ('Plessa', 'NNP'), ('fall', 'NN'), ('in', 'IN'), ('the', 'DT'), ('details', 'NNS'), ('below', 'IN'), (':', ':'), ('DISTRUCT', 'NNP'), ('REGISTERED', 'NNP'), ('NEW', 'NNP'), ('DISTRICT', 'NNP'), ('CLUB/SCHOOL', 'NNP'), ('REGISTERED', 'NNP'), ('NEW', 'NNP'), ('CLUB/SCHOOL', 'NNP'), ('LICENSE', 'NNP'), ('NO', 'NNP'), ('.', '.')], [('FLAMING', 'NN'), ('POSITION', 'NNP'), ('solemnly', 'RB'), ('and', 'CC'), (\"''\", \"''\"), ('Sincerely', 'RB'), ('declare', 'VBP'), ('that', 'IN'), ('above', 'IN'), ('into', 'IN'), ('watation', 'NN'), ('provided', 'VBN'), ('is', 'VBZ'), ('correct', 'JJ'), ('.', '.')], [('(', '('), ('Signature', 'NN'), ('of', 'IN'), ('Player', 'NNP'), (')', ')'), ('Witness', 'NNP'), ('by', 'IN'), ('(', '('), ('FORM', 'NNP'), ('SHOULD', 'NNP'), ('BE', 'NNP'), ('WITNESSED', 'NNP'), ('BY', 'NNP'), ('BARRISTER', 'NNP'), ('&', 'CC'), ('SOLICITOR', 'NNP'), ('.', '.')], [('COMMISSIONER', 'NNP'), ('OF', 'NNP'), ('OATH', 'NNP'), ('ORJP', 'NNP'), (')', ')'), ('.', '.')], [('ONECKLIST', 'NNP'), ('Player', 'NNP'), ('Registration', 'NNP'), ('Form', 'NNP'), ('Transfer', 'NNP'), ('Form', 'NNP'), ('(', '('), ('Applying', 'VBG'), ('for', 'IN'), ('Transfer', 'NNP'), (')', ')'), ('Passport', 'NNP'), ('Size', 'NNP'), ('Photo', 'NNP'), ('Certled', 'NNP'), (')', ')'), ('Orional', 'NNP'), ('Birth', 'NNP'), ('Certificate', 'NNP'), ('Certified', 'NNP'), ('Copy', 'NNP'), ('of', 'IN'), ('TIN', 'NNP'), ('Card/', 'NNP'), ('Voter', 'NNP'), ('Card', 'NNP'), ('/', 'NNP'), ('Passport', 'NNP'), ('Certified', 'NNP'), ('copy', 'NN'), ('of', 'IN'), ('Enrollment', 'NNP'), ('FormiSchool', 'NNP'), ('Registration', 'NNP'), (')', ')'), ('Elub', 'NNP'), ('President/', 'NNP'), ('Secretary', 'NNP'), ('Date', 'NNP'), ('Hlytelet', 'NNP'), ('President/Secretary', 'NNP'), ('School', 'NNP'), ('Date', 'NNP'), (':', ':'), ('OFFICE', 'NN'), ('USE', 'NN'), ('ONLY', 'NNP'), ('Somment-', 'NNP'), ('ceipt', 'NN'), ('Number', 'NNP'), (':', ':'), ('Date', 'NN'), (':', ':'), ('No', 'DT'), (':', ':'), ('KHEDKARFIJI', 'NNP'), ('FOOTBALL', 'NNP'), ('ASSOCIATION', 'NNP'), ('PLAYER', 'NNP'), ('REGISTRATION/LICENSING', 'NNP'), ('SURNAME', 'NNP'), ('NASIE', 'NNP'), ('KHEDKAR', 'NNP'), ('ONKAR', 'NNP'), ('24/09/1999', 'CD'), ('MALE', 'NNP'), ('DATE', 'NNP'), ('OF', 'NNP'), ('BIRTH', 'NNP'), ('SEX', 'NNP'), ('ATTACIE', 'NNP'), ('PHOTO', 'NNP'), ('HERE', 'NNP'), ('TO', 'NNP'), ('BE', 'NNP'), ('CERTIFIED', 'NNP'), ('BY', 'NNP'), ('BARRISTER', 'NNP'), ('&', 'CC'), ('SOLICITOR', 'NNP'), ('CONNUISSIONER', 'NNP'), ('OF', 'NNP'), ('OATH', 'NNP'), ('OR', 'NNP'), ('JI*', 'NNP'), ('ADDRESS', 'NNP'), ('PHONE', 'NNP'), ('CONTACT', 'NNP'), ('EMAIL', 'NNP'), ('ADDRESS', 'NNP'), ('999', 'CD'), ('9922334', 'CD'), ('Onkar', 'NNP'), ('@', 'NNP'), ('gmail.com', 'NN'), ('PRIOR', 'NNP'), ('REGISTAATION', 'NNP'), ('Yes', 'NNP'), (',', ','), ('Plessa', 'NNP'), ('fall', 'NN'), ('in', 'IN'), ('the', 'DT'), ('details', 'NNS'), ('below', 'IN'), (':', ':'), ('DISTRUCT', 'NNP'), ('REGISTERED', 'NNP'), ('NEW', 'NNP'), ('DISTRICT', 'NNP'), ('CLUB/SCHOOL', 'NNP'), ('REGISTERED', 'NNP'), ('NEW', 'NNP'), ('CLUB/SCHOOL', 'NNP'), ('LICENSE', 'NNP'), ('NO', 'NNP'), ('.', '.')], [('FLAMING', 'NN'), ('POSITION', 'NNP'), ('solemnly', 'RB'), ('and', 'CC'), (\"''\", \"''\"), ('Sincerely', 'RB'), ('declare', 'VBP'), ('that', 'IN'), ('above', 'IN'), ('into', 'IN'), ('watation', 'NN'), ('provided', 'VBN'), ('is', 'VBZ'), ('correct', 'JJ'), ('.', '.')], [('(', '('), ('Signature', 'NN'), ('of', 'IN'), ('Player', 'NNP'), (')', ')'), ('Witness', 'NNP'), ('by', 'IN'), ('(', '('), ('FORM', 'NNP'), ('SHOULD', 'NNP'), ('BE', 'NNP'), ('WITNESSED', 'NNP'), ('BY', 'NNP'), ('BARRISTER', 'NNP'), ('&', 'CC'), ('SOLICITOR', 'NNP'), ('.', '.')], [('COMMISSIONER', 'NNP'), ('OF', 'NNP'), ('OATH', 'NNP'), ('ORJP', 'NNP'), (')', ')'), ('.', '.')], [('ONECKLIST', 'NNP'), ('Player', 'NNP'), ('Registration', 'NNP'), ('Form', 'NNP'), ('Transfer', 'NNP'), ('Form', 'NNP'), ('(', '('), ('Applying', 'VBG'), ('for', 'IN'), ('Transfer', 'NNP'), (')', ')'), ('Passport', 'NNP'), ('Size', 'NNP'), ('Photo', 'NNP'), ('Certled', 'NNP'), (')', ')'), ('Orional', 'NNP'), ('Birth', 'NNP'), ('Certificate', 'NNP'), ('Certified', 'NNP'), ('Copy', 'NNP'), ('of', 'IN'), ('TIN', 'NNP'), ('Card/', 'NNP'), ('Voter', 'NNP'), ('Card', 'NNP'), ('/', 'NNP'), ('Passport', 'NNP'), ('Certified', 'NNP'), ('copy', 'NN'), ('of', 'IN'), ('Enrollment', 'NNP'), ('FormiSchool', 'NNP'), ('Registration', 'NNP'), (')', ')'), ('Elub', 'NNP'), ('President/', 'NNP'), ('Secretary', 'NNP'), ('Date', 'NNP'), ('Hlytelet', 'NNP'), ('President/Secretary', 'NNP'), ('School', 'NNP'), ('Date', 'NNP'), (':', ':'), ('OFFICE', 'NN'), ('USE', 'NN'), ('ONLY', 'NNP'), ('Somment-', 'NNP'), ('ceipt', 'NN'), ('Number', 'NNP'), (':', ':'), ('Date', 'NN'), (':', ':'), ('No', 'DT'), (':', ':'), ('ONKARFIJI', 'NNP'), ('FOOTBALL', 'NNP'), ('ASSOCIATION', 'NNP'), ('PLAYER', 'NNP'), ('REGISTRATION/LICENSING', 'NNP'), ('SURNAME', 'NNP'), ('NASIE', 'NNP'), ('KHEDKAR', 'NNP'), ('ONKAR', 'NNP'), ('24/09/1999', 'CD'), ('MALE', 'NNP'), ('DATE', 'NNP'), ('OF', 'NNP'), ('BIRTH', 'NNP'), ('SEX', 'NNP'), ('ATTACIE', 'NNP'), ('PHOTO', 'NNP'), ('HERE', 'NNP'), ('TO', 'NNP'), ('BE', 'NNP'), ('CERTIFIED', 'NNP'), ('BY', 'NNP'), ('BARRISTER', 'NNP'), ('&', 'CC'), ('SOLICITOR', 'NNP'), ('CONNUISSIONER', 'NNP'), ('OF', 'NNP'), ('OATH', 'NNP'), ('OR', 'NNP'), ('JI*', 'NNP'), ('ADDRESS', 'NNP'), ('PHONE', 'NNP'), ('CONTACT', 'NNP'), ('EMAIL', 'NNP'), ('ADDRESS', 'NNP'), ('999', 'CD'), ('9922334', 'CD'), ('Onkar', 'NNP'), ('@', 'NNP'), ('gmail.com', 'NN'), ('PRIOR', 'NNP'), ('REGISTAATION', 'NNP'), ('Yes', 'NNP'), (',', ','), ('Plessa', 'NNP'), ('fall', 'NN'), ('in', 'IN'), ('the', 'DT'), ('details', 'NNS'), ('below', 'IN'), (':', ':'), ('DISTRUCT', 'NNP'), ('REGISTERED', 'NNP'), ('NEW', 'NNP'), ('DISTRICT', 'NNP'), ('CLUB/SCHOOL', 'NNP'), ('REGISTERED', 'NNP'), ('NEW', 'NNP'), ('CLUB/SCHOOL', 'NNP'), ('LICENSE', 'NNP'), ('NO', 'NNP'), ('.', '.')], [('FLAMING', 'NN'), ('POSITION', 'NNP'), ('solemnly', 'RB'), ('and', 'CC'), (\"''\", \"''\"), ('Sincerely', 'RB'), ('declare', 'VBP'), ('that', 'IN'), ('above', 'IN'), ('into', 'IN'), ('watation', 'NN'), ('provided', 'VBN'), ('is', 'VBZ'), ('correct', 'JJ'), ('.', '.')], [('(', '('), ('Signature', 'NN'), ('of', 'IN'), ('Player', 'NNP'), (')', ')'), ('Witness', 'NNP'), ('by', 'IN'), ('(', '('), ('FORM', 'NNP'), ('SHOULD', 'NNP'), ('BE', 'NNP'), ('WITNESSED', 'NNP'), ('BY', 'NNP'), ('BARRISTER', 'NNP'), ('&', 'CC'), ('SOLICITOR', 'NNP'), ('.', '.')], [('COMMISSIONER', 'NNP'), ('OF', 'NNP'), ('OATH', 'NNP'), ('ORJP', 'NNP'), (')', ')'), ('.', '.')], [('ONECKLIST', 'NNP'), ('Player', 'NNP'), ('Registration', 'NNP'), ('Form', 'NNP'), ('Transfer', 'NNP'), ('Form', 'NNP'), ('(', '('), ('Applying', 'VBG'), ('for', 'IN'), ('Transfer', 'NNP'), (')', ')'), ('Passport', 'NNP'), ('Size', 'NNP'), ('Photo', 'NNP'), ('Certled', 'NNP'), (')', ')'), ('Orional', 'NNP'), ('Birth', 'NNP'), ('Certificate', 'NNP'), ('Certified', 'NNP'), ('Copy', 'NNP'), ('of', 'IN'), ('TIN', 'NNP'), ('Card/', 'NNP'), ('Voter', 'NNP'), ('Card', 'NNP'), ('/', 'NNP'), ('Passport', 'NNP'), ('Certified', 'NNP'), ('copy', 'NN'), ('of', 'IN'), ('Enrollment', 'NNP'), ('FormiSchool', 'NNP'), ('Registration', 'NNP'), (')', ')'), ('Elub', 'NNP'), ('President/', 'NNP'), ('Secretary', 'NNP'), ('Date', 'NNP'), ('Hlytelet', 'NNP'), ('President/Secretary', 'NNP'), ('School', 'NNP'), ('Date', 'NNP'), (':', ':'), ('OFFICE', 'NN'), ('USE', 'NN'), ('ONLY', 'NNP'), ('Somment-', 'NNP'), ('ceipt', 'NN'), ('Number', 'NNP'), (':', ':'), ('Date', 'NN'), (':', ':'), ('No', 'DT'), (':', ':'), ('24/09/1999FIJI', 'CD'), ('FOOTBALL', 'NNP'), ('ASSOCIATION', 'NNP'), ('PLAYER', 'NNP'), ('REGISTRATION/LICENSING', 'NNP'), ('SURNAME', 'NNP'), ('NASIE', 'NNP'), ('KHEDKAR', 'NNP'), ('ONKAR', 'NNP'), ('24/09/1999', 'CD'), ('MALE', 'NNP'), ('DATE', 'NNP'), ('OF', 'NNP'), ('BIRTH', 'NNP'), ('SEX', 'NNP'), ('ATTACIE', 'NNP'), ('PHOTO', 'NNP'), ('HERE', 'NNP'), ('TO', 'NNP'), ('BE', 'NNP'), ('CERTIFIED', 'NNP'), ('BY', 'NNP'), ('BARRISTER', 'NNP'), ('&', 'CC'), ('SOLICITOR', 'NNP'), ('CONNUISSIONER', 'NNP'), ('OF', 'NNP'), ('OATH', 'NNP'), ('OR', 'NNP'), ('JI*', 'NNP'), ('ADDRESS', 'NNP'), ('PHONE', 'NNP'), ('CONTACT', 'NNP'), ('EMAIL', 'NNP'), ('ADDRESS', 'NNP'), ('999', 'CD'), ('9922334', 'CD'), ('Onkar', 'NNP'), ('@', 'NNP'), ('gmail.com', 'NN'), ('PRIOR', 'NNP'), ('REGISTAATION', 'NNP'), ('Yes', 'NNP'), (',', ','), ('Plessa', 'NNP'), ('fall', 'NN'), ('in', 'IN'), ('the', 'DT'), ('details', 'NNS'), ('below', 'IN'), (':', ':'), ('DISTRUCT', 'NNP'), ('REGISTERED', 'NNP'), ('NEW', 'NNP'), ('DISTRICT', 'NNP'), ('CLUB/SCHOOL', 'NNP'), ('REGISTERED', 'NNP'), ('NEW', 'NNP'), ('CLUB/SCHOOL', 'NNP'), ('LICENSE', 'NNP'), ('NO', 'NNP'), ('.', '.')], [('FLAMING', 'NN'), ('POSITION', 'NNP'), ('solemnly', 'RB'), ('and', 'CC'), (\"''\", \"''\"), ('Sincerely', 'RB'), ('declare', 'VBP'), ('that', 'IN'), ('above', 'IN'), ('into', 'IN'), ('watation', 'NN'), ('provided', 'VBN'), ('is', 'VBZ'), ('correct', 'JJ'), ('.', '.')], [('(', '('), ('Signature', 'NN'), ('of', 'IN'), ('Player', 'NNP'), (')', ')'), ('Witness', 'NNP'), ('by', 'IN'), ('(', '('), ('FORM', 'NNP'), ('SHOULD', 'NNP'), ('BE', 'NNP'), ('WITNESSED', 'NNP'), ('BY', 'NNP'), ('BARRISTER', 'NNP'), ('&', 'CC'), ('SOLICITOR', 'NNP'), ('.', '.')], [('COMMISSIONER', 'NNP'), ('OF', 'NNP'), ('OATH', 'NNP'), ('ORJP', 'NNP'), (')', ')'), ('.', '.')], [('ONECKLIST', 'NNP'), ('Player', 'NNP'), ('Registration', 'NNP'), ('Form', 'NNP'), ('Transfer', 'NNP'), ('Form', 'NNP'), ('(', '('), ('Applying', 'VBG'), ('for', 'IN'), ('Transfer', 'NNP'), (')', ')'), ('Passport', 'NNP'), ('Size', 'NNP'), ('Photo', 'NNP'), ('Certled', 'NNP'), (')', ')'), ('Orional', 'NNP'), ('Birth', 'NNP'), ('Certificate', 'NNP'), ('Certified', 'NNP'), ('Copy', 'NNP'), ('of', 'IN'), ('TIN', 'NNP'), ('Card/', 'NNP'), ('Voter', 'NNP'), ('Card', 'NNP'), ('/', 'NNP'), ('Passport', 'NNP'), ('Certified', 'NNP'), ('copy', 'NN'), ('of', 'IN'), ('Enrollment', 'NNP'), ('FormiSchool', 'NNP'), ('Registration', 'NNP'), (')', ')'), ('Elub', 'NNP'), ('President/', 'NNP'), ('Secretary', 'NNP'), ('Date', 'NNP'), ('Hlytelet', 'NNP'), ('President/Secretary', 'NNP'), ('School', 'NNP'), ('Date', 'NNP'), (':', ':'), ('OFFICE', 'NN'), ('USE', 'NN'), ('ONLY', 'NNP'), ('Somment-', 'NNP'), ('ceipt', 'NN'), ('Number', 'NNP'), (':', ':'), ('Date', 'NN'), (':', ':'), ('No', 'DT'), (':', ':'), ('MALEFIJI', 'NNP'), ('FOOTBALL', 'NNP'), ('ASSOCIATION', 'NNP'), ('PLAYER', 'NNP'), ('REGISTRATION/LICENSING', 'NNP'), ('SURNAME', 'NNP'), ('NASIE', 'NNP'), ('KHEDKAR', 'NNP'), ('ONKAR', 'NNP'), ('24/09/1999', 'CD'), ('MALE', 'NNP'), ('DATE', 'NNP'), ('OF', 'NNP'), ('BIRTH', 'NNP'), ('SEX', 'NNP'), ('ATTACIE', 'NNP'), ('PHOTO', 'NNP'), ('HERE', 'NNP'), ('TO', 'NNP'), ('BE', 'NNP'), ('CERTIFIED', 'NNP'), ('BY', 'NNP'), ('BARRISTER', 'NNP'), ('&', 'CC'), ('SOLICITOR', 'NNP'), ('CONNUISSIONER', 'NNP'), ('OF', 'NNP'), ('OATH', 'NNP'), ('OR', 'NNP'), ('JI*', 'NNP'), ('ADDRESS', 'NNP'), ('PHONE', 'NNP'), ('CONTACT', 'NNP'), ('EMAIL', 'NNP'), ('ADDRESS', 'NNP'), ('999', 'CD'), ('9922334', 'CD'), ('Onkar', 'NNP'), ('@', 'NNP'), ('gmail.com', 'NN'), ('PRIOR', 'NNP'), ('REGISTAATION', 'NNP'), ('Yes', 'NNP'), (',', ','), ('Plessa', 'NNP'), ('fall', 'NN'), ('in', 'IN'), ('the', 'DT'), ('details', 'NNS'), ('below', 'IN'), (':', ':'), ('DISTRUCT', 'NNP'), ('REGISTERED', 'NNP'), ('NEW', 'NNP'), ('DISTRICT', 'NNP'), ('CLUB/SCHOOL', 'NNP'), ('REGISTERED', 'NNP'), ('NEW', 'NNP'), ('CLUB/SCHOOL', 'NNP'), ('LICENSE', 'NNP'), ('NO', 'NNP'), ('.', '.')], [('FLAMING', 'NN'), ('POSITION', 'NNP'), ('solemnly', 'RB'), ('and', 'CC'), (\"''\", \"''\"), ('Sincerely', 'RB'), ('declare', 'VBP'), ('that', 'IN'), ('above', 'IN'), ('into', 'IN'), ('watation', 'NN'), ('provided', 'VBN'), ('is', 'VBZ'), ('correct', 'JJ'), ('.', '.')], [('(', '('), ('Signature', 'NN'), ('of', 'IN'), ('Player', 'NNP'), (')', ')'), ('Witness', 'NNP'), ('by', 'IN'), ('(', '('), ('FORM', 'NNP'), ('SHOULD', 'NNP'), ('BE', 'NNP'), ('WITNESSED', 'NNP'), ('BY', 'NNP'), ('BARRISTER', 'NNP'), ('&', 'CC'), ('SOLICITOR', 'NNP'), ('.', '.')], [('COMMISSIONER', 'NNP'), ('OF', 'NNP'), ('OATH', 'NNP'), ('ORJP', 'NNP'), (')', ')'), ('.', '.')], [('ONECKLIST', 'NNP'), ('Player', 'NNP'), ('Registration', 'NNP'), ('Form', 'NNP'), ('Transfer', 'NNP'), ('Form', 'NNP'), ('(', '('), ('Applying', 'VBG'), ('for', 'IN'), ('Transfer', 'NNP'), (')', ')'), ('Passport', 'NNP'), ('Size', 'NNP'), ('Photo', 'NNP'), ('Certled', 'NNP'), (')', ')'), ('Orional', 'NNP'), ('Birth', 'NNP'), ('Certificate', 'NNP'), ('Certified', 'NNP'), ('Copy', 'NNP'), ('of', 'IN'), ('TIN', 'NNP'), ('Card/', 'NNP'), ('Voter', 'NNP'), ('Card', 'NNP'), ('/', 'NNP'), ('Passport', 'NNP'), ('Certified', 'NNP'), ('copy', 'NN'), ('of', 'IN'), ('Enrollment', 'NNP'), ('FormiSchool', 'NNP'), ('Registration', 'NNP'), (')', ')'), ('Elub', 'NNP'), ('President/', 'NNP'), ('Secretary', 'NNP'), ('Date', 'NNP'), ('Hlytelet', 'NNP'), ('President/Secretary', 'NNP'), ('School', 'NNP'), ('Date', 'NNP'), (':', ':'), ('OFFICE', 'NN'), ('USE', 'NN'), ('ONLY', 'NNP'), ('Somment-', 'NNP'), ('ceipt', 'NN'), ('Number', 'NNP'), (':', ':'), ('Date', 'NN'), (':', ':'), ('No', 'DT'), (':', ':'), ('DATEFIJI', 'NNP'), ('FOOTBALL', 'NNP'), ('ASSOCIATION', 'NNP'), ('PLAYER', 'NNP'), ('REGISTRATION/LICENSING', 'NNP'), ('SURNAME', 'NNP'), ('NASIE', 'NNP'), ('KHEDKAR', 'NNP'), ('ONKAR', 'NNP'), ('24/09/1999', 'CD'), ('MALE', 'NNP'), ('DATE', 'NNP'), ('OF', 'NNP'), ('BIRTH', 'NNP'), ('SEX', 'NNP'), ('ATTACIE', 'NNP'), ('PHOTO', 'NNP'), ('HERE', 'NNP'), ('TO', 'NNP'), ('BE', 'NNP'), ('CERTIFIED', 'NNP'), ('BY', 'NNP'), ('BARRISTER', 'NNP'), ('&', 'CC'), ('SOLICITOR', 'NNP'), ('CONNUISSIONER', 'NNP'), ('OF', 'NNP'), ('OATH', 'NNP'), ('OR', 'NNP'), ('JI*', 'NNP'), ('ADDRESS', 'NNP'), ('PHONE', 'NNP'), ('CONTACT', 'NNP'), ('EMAIL', 'NNP'), ('ADDRESS', 'NNP'), ('999', 'CD'), ('9922334', 'CD'), ('Onkar', 'NNP'), ('@', 'NNP'), ('gmail.com', 'NN'), ('PRIOR', 'NNP'), ('REGISTAATION', 'NNP'), ('Yes', 'NNP'), (',', ','), ('Plessa', 'NNP'), ('fall', 'NN'), ('in', 'IN'), ('the', 'DT'), ('details', 'NNS'), ('below', 'IN'), (':', ':'), ('DISTRUCT', 'NNP'), ('REGISTERED', 'NNP'), ('NEW', 'NNP'), ('DISTRICT', 'NNP'), ('CLUB/SCHOOL', 'NNP'), ('REGISTERED', 'NNP'), ('NEW', 'NNP'), ('CLUB/SCHOOL', 'NNP'), ('LICENSE', 'NNP'), ('NO', 'NNP'), ('.', '.')], [('FLAMING', 'NN'), ('POSITION', 'NNP'), ('solemnly', 'RB'), ('and', 'CC'), (\"''\", \"''\"), ('Sincerely', 'RB'), ('declare', 'VBP'), ('that', 'IN'), ('above', 'IN'), ('into', 'IN'), ('watation', 'NN'), ('provided', 'VBN'), ('is', 'VBZ'), ('correct', 'JJ'), ('.', '.')], [('(', '('), ('Signature', 'NN'), ('of', 'IN'), ('Player', 'NNP'), (')', ')'), ('Witness', 'NNP'), ('by', 'IN'), ('(', '('), ('FORM', 'NNP'), ('SHOULD', 'NNP'), ('BE', 'NNP'), ('WITNESSED', 'NNP'), ('BY', 'NNP'), ('BARRISTER', 'NNP'), ('&', 'CC'), ('SOLICITOR', 'NNP'), ('.', '.')], [('COMMISSIONER', 'NNP'), ('OF', 'NNP'), ('OATH', 'NNP'), ('ORJP', 'NNP'), (')', ')'), ('.', '.')], [('ONECKLIST', 'NNP'), ('Player', 'NNP'), ('Registration', 'NNP'), ('Form', 'NNP'), ('Transfer', 'NNP'), ('Form', 'NNP'), ('(', '('), ('Applying', 'VBG'), ('for', 'IN'), ('Transfer', 'NNP'), (')', ')'), ('Passport', 'NNP'), ('Size', 'NNP'), ('Photo', 'NNP'), ('Certled', 'NNP'), (')', ')'), ('Orional', 'NNP'), ('Birth', 'NNP'), ('Certificate', 'NNP'), ('Certified', 'NNP'), ('Copy', 'NNP'), ('of', 'IN'), ('TIN', 'NNP'), ('Card/', 'NNP'), ('Voter', 'NNP'), ('Card', 'NNP'), ('/', 'NNP'), ('Passport', 'NNP'), ('Certified', 'NNP'), ('copy', 'NN'), ('of', 'IN'), ('Enrollment', 'NNP'), ('FormiSchool', 'NNP'), ('Registration', 'NNP'), (')', ')'), ('Elub', 'NNP'), ('President/', 'NNP'), ('Secretary', 'NNP'), ('Date', 'NNP'), ('Hlytelet', 'NNP'), ('President/Secretary', 'NNP'), ('School', 'NNP'), ('Date', 'NNP'), (':', ':'), ('OFFICE', 'NN'), ('USE', 'NN'), ('ONLY', 'NNP'), ('Somment-', 'NNP'), ('ceipt', 'NN'), ('Number', 'NNP'), (':', ':'), ('Date', 'NN'), (':', ':'), ('No', 'DT'), (':', ':'), ('BIRTHFIJI', 'NNP'), ('FOOTBALL', 'NNP'), ('ASSOCIATION', 'NNP'), ('PLAYER', 'NNP'), ('REGISTRATION/LICENSING', 'NNP'), ('SURNAME', 'NNP'), ('NASIE', 'NNP'), ('KHEDKAR', 'NNP'), ('ONKAR', 'NNP'), ('24/09/1999', 'CD'), ('MALE', 'NNP'), ('DATE', 'NNP'), ('OF', 'NNP'), ('BIRTH', 'NNP'), ('SEX', 'NNP'), ('ATTACIE', 'NNP'), ('PHOTO', 'NNP'), ('HERE', 'NNP'), ('TO', 'NNP'), ('BE', 'NNP'), ('CERTIFIED', 'NNP'), ('BY', 'NNP'), ('BARRISTER', 'NNP'), ('&', 'CC'), ('SOLICITOR', 'NNP'), ('CONNUISSIONER', 'NNP'), ('OF', 'NNP'), ('OATH', 'NNP'), ('OR', 'NNP'), ('JI*', 'NNP'), ('ADDRESS', 'NNP'), ('PHONE', 'NNP'), ('CONTACT', 'NNP'), ('EMAIL', 'NNP'), ('ADDRESS', 'NNP'), ('999', 'CD'), ('9922334', 'CD'), ('Onkar', 'NNP'), ('@', 'NNP'), ('gmail.com', 'NN'), ('PRIOR', 'NNP'), ('REGISTAATION', 'NNP'), ('Yes', 'NNP'), (',', ','), ('Plessa', 'NNP'), ('fall', 'NN'), ('in', 'IN'), ('the', 'DT'), ('details', 'NNS'), ('below', 'IN'), (':', ':'), ('DISTRUCT', 'NNP'), ('REGISTERED', 'NNP'), ('NEW', 'NNP'), ('DISTRICT', 'NNP'), ('CLUB/SCHOOL', 'NNP'), ('REGISTERED', 'NNP'), ('NEW', 'NNP'), ('CLUB/SCHOOL', 'NNP'), ('LICENSE', 'NNP'), ('NO', 'NNP'), ('.', '.')], [('FLAMING', 'NN'), ('POSITION', 'NNP'), ('solemnly', 'RB'), ('and', 'CC'), (\"''\", \"''\"), ('Sincerely', 'RB'), ('declare', 'VBP'), ('that', 'IN'), ('above', 'IN'), ('into', 'IN'), ('watation', 'NN'), ('provided', 'VBN'), ('is', 'VBZ'), ('correct', 'JJ'), ('.', '.')], [('(', '('), ('Signature', 'NN'), ('of', 'IN'), ('Player', 'NNP'), (')', ')'), ('Witness', 'NNP'), ('by', 'IN'), ('(', '('), ('FORM', 'NNP'), ('SHOULD', 'NNP'), ('BE', 'NNP'), ('WITNESSED', 'NNP'), ('BY', 'NNP'), ('BARRISTER', 'NNP'), ('&', 'CC'), ('SOLICITOR', 'NNP'), ('.', '.')], [('COMMISSIONER', 'NNP'), ('OF', 'NNP'), ('OATH', 'NNP'), ('ORJP', 'NNP'), (')', ')'), ('.', '.')], [('ONECKLIST', 'NNP'), ('Player', 'NNP'), ('Registration', 'NNP'), ('Form', 'NNP'), ('Transfer', 'NNP'), ('Form', 'NNP'), ('(', '('), ('Applying', 'VBG'), ('for', 'IN'), ('Transfer', 'NNP'), (')', ')'), ('Passport', 'NNP'), ('Size', 'NNP'), ('Photo', 'NNP'), ('Certled', 'NNP'), (')', ')'), ('Orional', 'NNP'), ('Birth', 'NNP'), ('Certificate', 'NNP'), ('Certified', 'NNP'), ('Copy', 'NNP'), ('of', 'IN'), ('TIN', 'NNP'), ('Card/', 'NNP'), ('Voter', 'NNP'), ('Card', 'NNP'), ('/', 'NNP'), ('Passport', 'NNP'), ('Certified', 'NNP'), ('copy', 'NN'), ('of', 'IN'), ('Enrollment', 'NNP'), ('FormiSchool', 'NNP'), ('Registration', 'NNP'), (')', ')'), ('Elub', 'NNP'), ('President/', 'NNP'), ('Secretary', 'NNP'), ('Date', 'NNP'), ('Hlytelet', 'NNP'), ('President/Secretary', 'NNP'), ('School', 'NNP'), ('Date', 'NNP'), (':', ':'), ('OFFICE', 'NN'), ('USE', 'NN'), ('ONLY', 'NNP'), ('Somment-', 'NNP'), ('ceipt', 'NN'), ('Number', 'NNP'), (':', ':'), ('Date', 'NN'), (':', ':'), ('No', 'DT'), (':', ':'), ('SEXFIJI', 'NNP'), ('FOOTBALL', 'NNP'), ('ASSOCIATION', 'NNP'), ('PLAYER', 'NNP'), ('REGISTRATION/LICENSING', 'NNP'), ('SURNAME', 'NNP'), ('NASIE', 'NNP'), ('KHEDKAR', 'NNP'), ('ONKAR', 'NNP'), ('24/09/1999', 'CD'), ('MALE', 'NNP'), ('DATE', 'NNP'), ('OF', 'NNP'), ('BIRTH', 'NNP'), ('SEX', 'NNP'), ('ATTACIE', 'NNP'), ('PHOTO', 'NNP'), ('HERE', 'NNP'), ('TO', 'NNP'), ('BE', 'NNP'), ('CERTIFIED', 'NNP'), ('BY', 'NNP'), ('BARRISTER', 'NNP'), ('&', 'CC'), ('SOLICITOR', 'NNP'), ('CONNUISSIONER', 'NNP'), ('OF', 'NNP'), ('OATH', 'NNP'), ('OR', 'NNP'), ('JI*', 'NNP'), ('ADDRESS', 'NNP'), ('PHONE', 'NNP'), ('CONTACT', 'NNP'), ('EMAIL', 'NNP'), ('ADDRESS', 'NNP'), ('999', 'CD'), ('9922334', 'CD'), ('Onkar', 'NNP'), ('@', 'NNP'), ('gmail.com', 'NN'), ('PRIOR', 'NNP'), ('REGISTAATION', 'NNP'), ('Yes', 'NNP'), (',', ','), ('Plessa', 'NNP'), ('fall', 'NN'), ('in', 'IN'), ('the', 'DT'), ('details', 'NNS'), ('below', 'IN'), (':', ':'), ('DISTRUCT', 'NNP'), ('REGISTERED', 'NNP'), ('NEW', 'NNP'), ('DISTRICT', 'NNP'), ('CLUB/SCHOOL', 'NNP'), ('REGISTERED', 'NNP'), ('NEW', 'NNP'), ('CLUB/SCHOOL', 'NNP'), ('LICENSE', 'NNP'), ('NO', 'NNP'), ('.', '.')], [('FLAMING', 'NN'), ('POSITION', 'NNP'), ('solemnly', 'RB'), ('and', 'CC'), (\"''\", \"''\"), ('Sincerely', 'RB'), ('declare', 'VBP'), ('that', 'IN'), ('above', 'IN'), ('into', 'IN'), ('watation', 'NN'), ('provided', 'VBN'), ('is', 'VBZ'), ('correct', 'JJ'), ('.', '.')], [('(', '('), ('Signature', 'NN'), ('of', 'IN'), ('Player', 'NNP'), (')', ')'), ('Witness', 'NNP'), ('by', 'IN'), ('(', '('), ('FORM', 'NNP'), ('SHOULD', 'NNP'), ('BE', 'NNP'), ('WITNESSED', 'NNP'), ('BY', 'NNP'), ('BARRISTER', 'NNP'), ('&', 'CC'), ('SOLICITOR', 'NNP'), ('.', '.')], [('COMMISSIONER', 'NNP'), ('OF', 'NNP'), ('OATH', 'NNP'), ('ORJP', 'NNP'), (')', ')'), ('.', '.')], [('ONECKLIST', 'NNP'), ('Player', 'NNP'), ('Registration', 'NNP'), ('Form', 'NNP'), ('Transfer', 'NNP'), ('Form', 'NNP'), ('(', '('), ('Applying', 'VBG'), ('for', 'IN'), ('Transfer', 'NNP'), (')', ')'), ('Passport', 'NNP'), ('Size', 'NNP'), ('Photo', 'NNP'), ('Certled', 'NNP'), (')', ')'), ('Orional', 'NNP'), ('Birth', 'NNP'), ('Certificate', 'NNP'), ('Certified', 'NNP'), ('Copy', 'NNP'), ('of', 'IN'), ('TIN', 'NNP'), ('Card/', 'NNP'), ('Voter', 'NNP'), ('Card', 'NNP'), ('/', 'NNP'), ('Passport', 'NNP'), ('Certified', 'NNP'), ('copy', 'NN'), ('of', 'IN'), ('Enrollment', 'NNP'), ('FormiSchool', 'NNP'), ('Registration', 'NNP'), (')', ')'), ('Elub', 'NNP'), ('President/', 'NNP'), ('Secretary', 'NNP'), ('Date', 'NNP'), ('Hlytelet', 'NNP'), ('President/Secretary', 'NNP'), ('School', 'NNP'), ('Date', 'NNP'), (':', ':'), ('OFFICE', 'NN'), ('USE', 'NN'), ('ONLY', 'NNP'), ('Somment-', 'NNP'), ('ceipt', 'NN'), ('Number', 'NNP'), (':', ':'), ('Date', 'NN'), (':', ':'), ('No', 'DT'), (':', ':'), ('ATTACIEFIJI', 'NNP'), ('FOOTBALL', 'NNP'), ('ASSOCIATION', 'NNP'), ('PLAYER', 'NNP'), ('REGISTRATION/LICENSING', 'NNP'), ('SURNAME', 'NNP'), ('NASIE', 'NNP'), ('KHEDKAR', 'NNP'), ('ONKAR', 'NNP'), ('24/09/1999', 'CD'), ('MALE', 'NNP'), ('DATE', 'NNP'), ('OF', 'NNP'), ('BIRTH', 'NNP'), ('SEX', 'NNP'), ('ATTACIE', 'NNP'), ('PHOTO', 'NNP'), ('HERE', 'NNP'), ('TO', 'NNP'), ('BE', 'NNP'), ('CERTIFIED', 'NNP'), ('BY', 'NNP'), ('BARRISTER', 'NNP'), ('&', 'CC'), ('SOLICITOR', 'NNP'), ('CONNUISSIONER', 'NNP'), ('OF', 'NNP'), ('OATH', 'NNP'), ('OR', 'NNP'), ('JI*', 'NNP'), ('ADDRESS', 'NNP'), ('PHONE', 'NNP'), ('CONTACT', 'NNP'), ('EMAIL', 'NNP'), ('ADDRESS', 'NNP'), ('999', 'CD'), ('9922334', 'CD'), ('Onkar', 'NNP'), ('@', 'NNP'), ('gmail.com', 'NN'), ('PRIOR', 'NNP'), ('REGISTAATION', 'NNP'), ('Yes', 'NNP'), (',', ','), ('Plessa', 'NNP'), ('fall', 'NN'), ('in', 'IN'), ('the', 'DT'), ('details', 'NNS'), ('below', 'IN'), (':', ':'), ('DISTRUCT', 'NNP'), ('REGISTERED', 'NNP'), ('NEW', 'NNP'), ('DISTRICT', 'NNP'), ('CLUB/SCHOOL', 'NNP'), ('REGISTERED', 'NNP'), ('NEW', 'NNP'), ('CLUB/SCHOOL', 'NNP'), ('LICENSE', 'NNP'), ('NO', 'NNP'), ('.', '.')], [('FLAMING', 'NN'), ('POSITION', 'NNP'), ('solemnly', 'RB'), ('and', 'CC'), (\"''\", \"''\"), ('Sincerely', 'RB'), ('declare', 'VBP'), ('that', 'IN'), ('above', 'IN'), ('into', 'IN'), ('watation', 'NN'), ('provided', 'VBN'), ('is', 'VBZ'), ('correct', 'JJ'), ('.', '.')], [('(', '('), ('Signature', 'NN'), ('of', 'IN'), ('Player', 'NNP'), (')', ')'), ('Witness', 'NNP'), ('by', 'IN'), ('(', '('), ('FORM', 'NNP'), ('SHOULD', 'NNP'), ('BE', 'NNP'), ('WITNESSED', 'NNP'), ('BY', 'NNP'), ('BARRISTER', 'NNP'), ('&', 'CC'), ('SOLICITOR', 'NNP'), ('.', '.')], [('COMMISSIONER', 'NNP'), ('OF', 'NNP'), ('OATH', 'NNP'), ('ORJP', 'NNP'), (')', ')'), ('.', '.')], [('ONECKLIST', 'NNP'), ('Player', 'NNP'), ('Registration', 'NNP'), ('Form', 'NNP'), ('Transfer', 'NNP'), ('Form', 'NNP'), ('(', '('), ('Applying', 'VBG'), ('for', 'IN'), ('Transfer', 'NNP'), (')', ')'), ('Passport', 'NNP'), ('Size', 'NNP'), ('Photo', 'NNP'), ('Certled', 'NNP'), (')', ')'), ('Orional', 'NNP'), ('Birth', 'NNP'), ('Certificate', 'NNP'), ('Certified', 'NNP'), ('Copy', 'NNP'), ('of', 'IN'), ('TIN', 'NNP'), ('Card/', 'NNP'), ('Voter', 'NNP'), ('Card', 'NNP'), ('/', 'NNP'), ('Passport', 'NNP'), ('Certified', 'NNP'), ('copy', 'NN'), ('of', 'IN'), ('Enrollment', 'NNP'), ('FormiSchool', 'NNP'), ('Registration', 'NNP'), (')', ')'), ('Elub', 'NNP'), ('President/', 'NNP'), ('Secretary', 'NNP'), ('Date', 'NNP'), ('Hlytelet', 'NNP'), ('President/Secretary', 'NNP'), ('School', 'NNP'), ('Date', 'NNP'), (':', ':'), ('OFFICE', 'NN'), ('USE', 'NN'), ('ONLY', 'NNP'), ('Somment-', 'NNP'), ('ceipt', 'NN'), ('Number', 'NNP'), (':', ':'), ('Date', 'NN'), (':', ':'), ('No', 'DT'), (':', ':'), ('PHOTOFIJI', 'NNP'), ('FOOTBALL', 'NNP'), ('ASSOCIATION', 'NNP'), ('PLAYER', 'NNP'), ('REGISTRATION/LICENSING', 'NNP'), ('SURNAME', 'NNP'), ('NASIE', 'NNP'), ('KHEDKAR', 'NNP'), ('ONKAR', 'NNP'), ('24/09/1999', 'CD'), ('MALE', 'NNP'), ('DATE', 'NNP'), ('OF', 'NNP'), ('BIRTH', 'NNP'), ('SEX', 'NNP'), ('ATTACIE', 'NNP'), ('PHOTO', 'NNP'), ('HERE', 'NNP'), ('TO', 'NNP'), ('BE', 'NNP'), ('CERTIFIED', 'NNP'), ('BY', 'NNP'), ('BARRISTER', 'NNP'), ('&', 'CC'), ('SOLICITOR', 'NNP'), ('CONNUISSIONER', 'NNP'), ('OF', 'NNP'), ('OATH', 'NNP'), ('OR', 'NNP'), ('JI*', 'NNP'), ('ADDRESS', 'NNP'), ('PHONE', 'NNP'), ('CONTACT', 'NNP'), ('EMAIL', 'NNP'), ('ADDRESS', 'NNP'), ('999', 'CD'), ('9922334', 'CD'), ('Onkar', 'NNP'), ('@', 'NNP'), ('gmail.com', 'NN'), ('PRIOR', 'NNP'), ('REGISTAATION', 'NNP'), ('Yes', 'NNP'), (',', ','), ('Plessa', 'NNP'), ('fall', 'NN'), ('in', 'IN'), ('the', 'DT'), ('details', 'NNS'), ('below', 'IN'), (':', ':'), ('DISTRUCT', 'NNP'), ('REGISTERED', 'NNP'), ('NEW', 'NNP'), ('DISTRICT', 'NNP'), ('CLUB/SCHOOL', 'NNP'), ('REGISTERED', 'NNP'), ('NEW', 'NNP'), ('CLUB/SCHOOL', 'NNP'), ('LICENSE', 'NNP'), ('NO', 'NNP'), ('.', '.')], [('FLAMING', 'NN'), ('POSITION', 'NNP'), ('solemnly', 'RB'), ('and', 'CC'), (\"''\", \"''\"), ('Sincerely', 'RB'), ('declare', 'VBP'), ('that', 'IN'), ('above', 'IN'), ('into', 'IN'), ('watation', 'NN'), ('provided', 'VBN'), ('is', 'VBZ'), ('correct', 'JJ'), ('.', '.')], [('(', '('), ('Signature', 'NN'), ('of', 'IN'), ('Player', 'NNP'), (')', ')'), ('Witness', 'NNP'), ('by', 'IN'), ('(', '('), ('FORM', 'NNP'), ('SHOULD', 'NNP'), ('BE', 'NNP'), ('WITNESSED', 'NNP'), ('BY', 'NNP'), ('BARRISTER', 'NNP'), ('&', 'CC'), ('SOLICITOR', 'NNP'), ('.', '.')], [('COMMISSIONER', 'NNP'), ('OF', 'NNP'), ('OATH', 'NNP'), ('ORJP', 'NNP'), (')', ')'), ('.', '.')], [('ONECKLIST', 'NNP'), ('Player', 'NNP'), ('Registration', 'NNP'), ('Form', 'NNP'), ('Transfer', 'NNP'), ('Form', 'NNP'), ('(', '('), ('Applying', 'VBG'), ('for', 'IN'), ('Transfer', 'NNP'), (')', ')'), ('Passport', 'NNP'), ('Size', 'NNP'), ('Photo', 'NNP'), ('Certled', 'NNP'), (')', ')'), ('Orional', 'NNP'), ('Birth', 'NNP'), ('Certificate', 'NNP'), ('Certified', 'NNP'), ('Copy', 'NNP'), ('of', 'IN'), ('TIN', 'NNP'), ('Card/', 'NNP'), ('Voter', 'NNP'), ('Card', 'NNP'), ('/', 'NNP'), ('Passport', 'NNP'), ('Certified', 'NNP'), ('copy', 'NN'), ('of', 'IN'), ('Enrollment', 'NNP'), ('FormiSchool', 'NNP'), ('Registration', 'NNP'), (')', ')'), ('Elub', 'NNP'), ('President/', 'NNP'), ('Secretary', 'NNP'), ('Date', 'NNP'), ('Hlytelet', 'NNP'), ('President/Secretary', 'NNP'), ('School', 'NNP'), ('Date', 'NNP'), (':', ':'), ('OFFICE', 'NN'), ('USE', 'NN'), ('ONLY', 'NNP'), ('Somment-', 'NNP'), ('ceipt', 'NN'), ('Number', 'NNP'), (':', ':'), ('Date', 'NN'), (':', ':'), ('No', 'DT'), (':', ':'), ('HEREFIJI', 'NNP'), ('FOOTBALL', 'NNP'), ('ASSOCIATION', 'NNP'), ('PLAYER', 'NNP'), ('REGISTRATION/LICENSING', 'NNP'), ('SURNAME', 'NNP'), ('NASIE', 'NNP'), ('KHEDKAR', 'NNP'), ('ONKAR', 'NNP'), ('24/09/1999', 'CD'), ('MALE', 'NNP'), ('DATE', 'NNP'), ('OF', 'NNP'), ('BIRTH', 'NNP'), ('SEX', 'NNP'), ('ATTACIE', 'NNP'), ('PHOTO', 'NNP'), ('HERE', 'NNP'), ('TO', 'NNP'), ('BE', 'NNP'), ('CERTIFIED', 'NNP'), ('BY', 'NNP'), ('BARRISTER', 'NNP'), ('&', 'CC'), ('SOLICITOR', 'NNP'), ('CONNUISSIONER', 'NNP'), ('OF', 'NNP'), ('OATH', 'NNP'), ('OR', 'NNP'), ('JI*', 'NNP'), ('ADDRESS', 'NNP'), ('PHONE', 'NNP'), ('CONTACT', 'NNP'), ('EMAIL', 'NNP'), ('ADDRESS', 'NNP'), ('999', 'CD'), ('9922334', 'CD'), ('Onkar', 'NNP'), ('@', 'NNP'), ('gmail.com', 'NN'), ('PRIOR', 'NNP'), ('REGISTAATION', 'NNP'), ('Yes', 'NNP'), (',', ','), ('Plessa', 'NNP'), ('fall', 'NN'), ('in', 'IN'), ('the', 'DT'), ('details', 'NNS'), ('below', 'IN'), (':', ':'), ('DISTRUCT', 'NNP'), ('REGISTERED', 'NNP'), ('NEW', 'NNP'), ('DISTRICT', 'NNP'), ('CLUB/SCHOOL', 'NNP'), ('REGISTERED', 'NNP'), ('NEW', 'NNP'), ('CLUB/SCHOOL', 'NNP'), ('LICENSE', 'NNP'), ('NO', 'NNP'), ('.', '.')], [('FLAMING', 'NN'), ('POSITION', 'NNP'), ('solemnly', 'RB'), ('and', 'CC'), (\"''\", \"''\"), ('Sincerely', 'RB'), ('declare', 'VBP'), ('that', 'IN'), ('above', 'IN'), ('into', 'IN'), ('watation', 'NN'), ('provided', 'VBN'), ('is', 'VBZ'), ('correct', 'JJ'), ('.', '.')], [('(', '('), ('Signature', 'NN'), ('of', 'IN'), ('Player', 'NNP'), (')', ')'), ('Witness', 'NNP'), ('by', 'IN'), ('(', '('), ('FORM', 'NNP'), ('SHOULD', 'NNP'), ('BE', 'NNP'), ('WITNESSED', 'NNP'), ('BY', 'NNP'), ('BARRISTER', 'NNP'), ('&', 'CC'), ('SOLICITOR', 'NNP'), ('.', '.')], [('COMMISSIONER', 'NNP'), ('OF', 'NNP'), ('OATH', 'NNP'), ('ORJP', 'NNP'), (')', ')'), ('.', '.')], [('ONECKLIST', 'NNP'), ('Player', 'NNP'), ('Registration', 'NNP'), ('Form', 'NNP'), ('Transfer', 'NNP'), ('Form', 'NNP'), ('(', '('), ('Applying', 'VBG'), ('for', 'IN'), ('Transfer', 'NNP'), (')', ')'), ('Passport', 'NNP'), ('Size', 'NNP'), ('Photo', 'NNP'), ('Certled', 'NNP'), (')', ')'), ('Orional', 'NNP'), ('Birth', 'NNP'), ('Certificate', 'NNP'), ('Certified', 'NNP'), ('Copy', 'NNP'), ('of', 'IN'), ('TIN', 'NNP'), ('Card/', 'NNP'), ('Voter', 'NNP'), ('Card', 'NNP'), ('/', 'NNP'), ('Passport', 'NNP'), ('Certified', 'NNP'), ('copy', 'NN'), ('of', 'IN'), ('Enrollment', 'NNP'), ('FormiSchool', 'NNP'), ('Registration', 'NNP'), (')', ')'), ('Elub', 'NNP'), ('President/', 'NNP'), ('Secretary', 'NNP'), ('Date', 'NNP'), ('Hlytelet', 'NNP'), ('President/Secretary', 'NNP'), ('School', 'NNP'), ('Date', 'NNP'), (':', ':'), ('OFFICE', 'NN'), ('USE', 'NN'), ('ONLY', 'NNP'), ('Somment-', 'NNP'), ('ceipt', 'NN'), ('Number', 'NNP'), (':', ':'), ('Date', 'NN'), (':', ':'), ('No', 'DT'), (':', ':'), ('TOFIJI', 'NNP'), ('FOOTBALL', 'NNP'), ('ASSOCIATION', 'NNP'), ('PLAYER', 'NNP'), ('REGISTRATION/LICENSING', 'NNP'), ('SURNAME', 'NNP'), ('NASIE', 'NNP'), ('KHEDKAR', 'NNP'), ('ONKAR', 'NNP'), ('24/09/1999', 'CD'), ('MALE', 'NNP'), ('DATE', 'NNP'), ('OF', 'NNP'), ('BIRTH', 'NNP'), ('SEX', 'NNP'), ('ATTACIE', 'NNP'), ('PHOTO', 'NNP'), ('HERE', 'NNP'), ('TO', 'NNP'), ('BE', 'NNP'), ('CERTIFIED', 'NNP'), ('BY', 'NNP'), ('BARRISTER', 'NNP'), ('&', 'CC'), ('SOLICITOR', 'NNP'), ('CONNUISSIONER', 'NNP'), ('OF', 'NNP'), ('OATH', 'NNP'), ('OR', 'NNP'), ('JI*', 'NNP'), ('ADDRESS', 'NNP'), ('PHONE', 'NNP'), ('CONTACT', 'NNP'), ('EMAIL', 'NNP'), ('ADDRESS', 'NNP'), ('999', 'CD'), ('9922334', 'CD'), ('Onkar', 'NNP'), ('@', 'NNP'), ('gmail.com', 'NN'), ('PRIOR', 'NNP'), ('REGISTAATION', 'NNP'), ('Yes', 'NNP'), (',', ','), ('Plessa', 'NNP'), ('fall', 'NN'), ('in', 'IN'), ('the', 'DT'), ('details', 'NNS'), ('below', 'IN'), (':', ':'), ('DISTRUCT', 'NNP'), ('REGISTERED', 'NNP'), ('NEW', 'NNP'), ('DISTRICT', 'NNP'), ('CLUB/SCHOOL', 'NNP'), ('REGISTERED', 'NNP'), ('NEW', 'NNP'), ('CLUB/SCHOOL', 'NNP'), ('LICENSE', 'NNP'), ('NO', 'NNP'), ('.', '.')], [('FLAMING', 'NN'), ('POSITION', 'NNP'), ('solemnly', 'RB'), ('and', 'CC'), (\"''\", \"''\"), ('Sincerely', 'RB'), ('declare', 'VBP'), ('that', 'IN'), ('above', 'IN'), ('into', 'IN'), ('watation', 'NN'), ('provided', 'VBN'), ('is', 'VBZ'), ('correct', 'JJ'), ('.', '.')], [('(', '('), ('Signature', 'NN'), ('of', 'IN'), ('Player', 'NNP'), (')', ')'), ('Witness', 'NNP'), ('by', 'IN'), ('(', '('), ('FORM', 'NNP'), ('SHOULD', 'NNP'), ('BE', 'NNP'), ('WITNESSED', 'NNP'), ('BY', 'NNP'), ('BARRISTER', 'NNP'), ('&', 'CC'), ('SOLICITOR', 'NNP'), ('.', '.')], [('COMMISSIONER', 'NNP'), ('OF', 'NNP'), ('OATH', 'NNP'), ('ORJP', 'NNP'), (')', ')'), ('.', '.')], [('ONECKLIST', 'NNP'), ('Player', 'NNP'), ('Registration', 'NNP'), ('Form', 'NNP'), ('Transfer', 'NNP'), ('Form', 'NNP'), ('(', '('), ('Applying', 'VBG'), ('for', 'IN'), ('Transfer', 'NNP'), (')', ')'), ('Passport', 'NNP'), ('Size', 'NNP'), ('Photo', 'NNP'), ('Certled', 'NNP'), (')', ')'), ('Orional', 'NNP'), ('Birth', 'NNP'), ('Certificate', 'NNP'), ('Certified', 'NNP'), ('Copy', 'NNP'), ('of', 'IN'), ('TIN', 'NNP'), ('Card/', 'NNP'), ('Voter', 'NNP'), ('Card', 'NNP'), ('/', 'NNP'), ('Passport', 'NNP'), ('Certified', 'NNP'), ('copy', 'NN'), ('of', 'IN'), ('Enrollment', 'NNP'), ('FormiSchool', 'NNP'), ('Registration', 'NNP'), (')', ')'), ('Elub', 'NNP'), ('President/', 'NNP'), ('Secretary', 'NNP'), ('Date', 'NNP'), ('Hlytelet', 'NNP'), ('President/Secretary', 'NNP'), ('School', 'NNP'), ('Date', 'NNP'), (':', ':'), ('OFFICE', 'NN'), ('USE', 'NN'), ('ONLY', 'NNP'), ('Somment-', 'NNP'), ('ceipt', 'NN'), ('Number', 'NNP'), (':', ':'), ('Date', 'NN'), (':', ':'), ('No', 'DT'), (':', ':'), ('CERTIFIEDFIJI', 'NNP'), ('FOOTBALL', 'NNP'), ('ASSOCIATION', 'NNP'), ('PLAYER', 'NNP'), ('REGISTRATION/LICENSING', 'NNP'), ('SURNAME', 'NNP'), ('NASIE', 'NNP'), ('KHEDKAR', 'NNP'), ('ONKAR', 'NNP'), ('24/09/1999', 'CD'), ('MALE', 'NNP'), ('DATE', 'NNP'), ('OF', 'NNP'), ('BIRTH', 'NNP'), ('SEX', 'NNP'), ('ATTACIE', 'NNP'), ('PHOTO', 'NNP'), ('HERE', 'NNP'), ('TO', 'NNP'), ('BE', 'NNP'), ('CERTIFIED', 'NNP'), ('BY', 'NNP'), ('BARRISTER', 'NNP'), ('&', 'CC'), ('SOLICITOR', 'NNP'), ('CONNUISSIONER', 'NNP'), ('OF', 'NNP'), ('OATH', 'NNP'), ('OR', 'NNP'), ('JI*', 'NNP'), ('ADDRESS', 'NNP'), ('PHONE', 'NNP'), ('CONTACT', 'NNP'), ('EMAIL', 'NNP'), ('ADDRESS', 'NNP'), ('999', 'CD'), ('9922334', 'CD'), ('Onkar', 'NNP'), ('@', 'NNP'), ('gmail.com', 'NN'), ('PRIOR', 'NNP'), ('REGISTAATION', 'NNP'), ('Yes', 'NNP'), (',', ','), ('Plessa', 'NNP'), ('fall', 'NN'), ('in', 'IN'), ('the', 'DT'), ('details', 'NNS'), ('below', 'IN'), (':', ':'), ('DISTRUCT', 'NNP'), ('REGISTERED', 'NNP'), ('NEW', 'NNP'), ('DISTRICT', 'NNP'), ('CLUB/SCHOOL', 'NNP'), ('REGISTERED', 'NNP'), ('NEW', 'NNP'), ('CLUB/SCHOOL', 'NNP'), ('LICENSE', 'NNP'), ('NO', 'NNP'), ('.', '.')], [('FLAMING', 'NN'), ('POSITION', 'NNP'), ('solemnly', 'RB'), ('and', 'CC'), (\"''\", \"''\"), ('Sincerely', 'RB'), ('declare', 'VBP'), ('that', 'IN'), ('above', 'IN'), ('into', 'IN'), ('watation', 'NN'), ('provided', 'VBN'), ('is', 'VBZ'), ('correct', 'JJ'), ('.', '.')], [('(', '('), ('Signature', 'NN'), ('of', 'IN'), ('Player', 'NNP'), (')', ')'), ('Witness', 'NNP'), ('by', 'IN'), ('(', '('), ('FORM', 'NNP'), ('SHOULD', 'NNP'), ('BE', 'NNP'), ('WITNESSED', 'NNP'), ('BY', 'NNP'), ('BARRISTER', 'NNP'), ('&', 'CC'), ('SOLICITOR', 'NNP'), ('.', '.')], [('COMMISSIONER', 'NNP'), ('OF', 'NNP'), ('OATH', 'NNP'), ('ORJP', 'NNP'), (')', ')'), ('.', '.')], [('ONECKLIST', 'NNP'), ('Player', 'NNP'), ('Registration', 'NNP'), ('Form', 'NNP'), ('Transfer', 'NNP'), ('Form', 'NNP'), ('(', '('), ('Applying', 'VBG'), ('for', 'IN'), ('Transfer', 'NNP'), (')', ')'), ('Passport', 'NNP'), ('Size', 'NNP'), ('Photo', 'NNP'), ('Certled', 'NNP'), (')', ')'), ('Orional', 'NNP'), ('Birth', 'NNP'), ('Certificate', 'NNP'), ('Certified', 'NNP'), ('Copy', 'NNP'), ('of', 'IN'), ('TIN', 'NNP'), ('Card/', 'NNP'), ('Voter', 'NNP'), ('Card', 'NNP'), ('/', 'NNP'), ('Passport', 'NNP'), ('Certified', 'NNP'), ('copy', 'NN'), ('of', 'IN'), ('Enrollment', 'NNP'), ('FormiSchool', 'NNP'), ('Registration', 'NNP'), (')', ')'), ('Elub', 'NNP'), ('President/', 'NNP'), ('Secretary', 'NNP'), ('Date', 'NNP'), ('Hlytelet', 'NNP'), ('President/Secretary', 'NNP'), ('School', 'NNP'), ('Date', 'NNP'), (':', ':'), ('OFFICE', 'NN'), ('USE', 'NN'), ('ONLY', 'NNP'), ('Somment-', 'NNP'), ('ceipt', 'NN'), ('Number', 'NNP'), (':', ':'), ('Date', 'NN'), (':', ':'), ('No', 'DT'), (':', ':'), ('SOLICITORFIJI', 'NNP'), ('FOOTBALL', 'NNP'), ('ASSOCIATION', 'NNP'), ('PLAYER', 'NNP'), ('REGISTRATION/LICENSING', 'NNP'), ('SURNAME', 'NNP'), ('NASIE', 'NNP'), ('KHEDKAR', 'NNP'), ('ONKAR', 'NNP'), ('24/09/1999', 'CD'), ('MALE', 'NNP'), ('DATE', 'NNP'), ('OF', 'NNP'), ('BIRTH', 'NNP'), ('SEX', 'NNP'), ('ATTACIE', 'NNP'), ('PHOTO', 'NNP'), ('HERE', 'NNP'), ('TO', 'NNP'), ('BE', 'NNP'), ('CERTIFIED', 'NNP'), ('BY', 'NNP'), ('BARRISTER', 'NNP'), ('&', 'CC'), ('SOLICITOR', 'NNP'), ('CONNUISSIONER', 'NNP'), ('OF', 'NNP'), ('OATH', 'NNP'), ('OR', 'NNP'), ('JI*', 'NNP'), ('ADDRESS', 'NNP'), ('PHONE', 'NNP'), ('CONTACT', 'NNP'), ('EMAIL', 'NNP'), ('ADDRESS', 'NNP'), ('999', 'CD'), ('9922334', 'CD'), ('Onkar', 'NNP'), ('@', 'NNP'), ('gmail.com', 'NN'), ('PRIOR', 'NNP'), ('REGISTAATION', 'NNP'), ('Yes', 'NNP'), (',', ','), ('Plessa', 'NNP'), ('fall', 'NN'), ('in', 'IN'), ('the', 'DT'), ('details', 'NNS'), ('below', 'IN'), (':', ':'), ('DISTRUCT', 'NNP'), ('REGISTERED', 'NNP'), ('NEW', 'NNP'), ('DISTRICT', 'NNP'), ('CLUB/SCHOOL', 'NNP'), ('REGISTERED', 'NNP'), ('NEW', 'NNP'), ('CLUB/SCHOOL', 'NNP'), ('LICENSE', 'NNP'), ('NO', 'NNP'), ('.', '.')], [('FLAMING', 'NN'), ('POSITION', 'NNP'), ('solemnly', 'RB'), ('and', 'CC'), (\"''\", \"''\"), ('Sincerely', 'RB'), ('declare', 'VBP'), ('that', 'IN'), ('above', 'IN'), ('into', 'IN'), ('watation', 'NN'), ('provided', 'VBN'), ('is', 'VBZ'), ('correct', 'JJ'), ('.', '.')], [('(', '('), ('Signature', 'NN'), ('of', 'IN'), ('Player', 'NNP'), (')', ')'), ('Witness', 'NNP'), ('by', 'IN'), ('(', '('), ('FORM', 'NNP'), ('SHOULD', 'NNP'), ('BE', 'NNP'), ('WITNESSED', 'NNP'), ('BY', 'NNP'), ('BARRISTER', 'NNP'), ('&', 'CC'), ('SOLICITOR', 'NNP'), ('.', '.')], [('COMMISSIONER', 'NNP'), ('OF', 'NNP'), ('OATH', 'NNP'), ('ORJP', 'NNP'), (')', ')'), ('.', '.')], [('ONECKLIST', 'NNP'), ('Player', 'NNP'), ('Registration', 'NNP'), ('Form', 'NNP'), ('Transfer', 'NNP'), ('Form', 'NNP'), ('(', '('), ('Applying', 'VBG'), ('for', 'IN'), ('Transfer', 'NNP'), (')', ')'), ('Passport', 'NNP'), ('Size', 'NNP'), ('Photo', 'NNP'), ('Certled', 'NNP'), (')', ')'), ('Orional', 'NNP'), ('Birth', 'NNP'), ('Certificate', 'NNP'), ('Certified', 'NNP'), ('Copy', 'NNP'), ('of', 'IN'), ('TIN', 'NNP'), ('Card/', 'NNP'), ('Voter', 'NNP'), ('Card', 'NNP'), ('/', 'NNP'), ('Passport', 'NNP'), ('Certified', 'NNP'), ('copy', 'NN'), ('of', 'IN'), ('Enrollment', 'NNP'), ('FormiSchool', 'NNP'), ('Registration', 'NNP'), (')', ')'), ('Elub', 'NNP'), ('President/', 'NNP'), ('Secretary', 'NNP'), ('Date', 'NNP'), ('Hlytelet', 'NNP'), ('President/Secretary', 'NNP'), ('School', 'NNP'), ('Date', 'NNP'), (':', ':'), ('OFFICE', 'NN'), ('USE', 'NN'), ('ONLY', 'NNP'), ('Somment-', 'NNP'), ('ceipt', 'NN'), ('Number', 'NNP'), (':', ':'), ('Date', 'NN'), (':', ':'), ('No', 'DT'), (':', ':'), ('CONNUISSIONERFIJI', 'NNP'), ('FOOTBALL', 'NNP'), ('ASSOCIATION', 'NNP'), ('PLAYER', 'NNP'), ('REGISTRATION/LICENSING', 'NNP'), ('SURNAME', 'NNP'), ('NASIE', 'NNP'), ('KHEDKAR', 'NNP'), ('ONKAR', 'NNP'), ('24/09/1999', 'CD'), ('MALE', 'NNP'), ('DATE', 'NNP'), ('OF', 'NNP'), ('BIRTH', 'NNP'), ('SEX', 'NNP'), ('ATTACIE', 'NNP'), ('PHOTO', 'NNP'), ('HERE', 'NNP'), ('TO', 'NNP'), ('BE', 'NNP'), ('CERTIFIED', 'NNP'), ('BY', 'NNP'), ('BARRISTER', 'NNP'), ('&', 'CC'), ('SOLICITOR', 'NNP'), ('CONNUISSIONER', 'NNP'), ('OF', 'NNP'), ('OATH', 'NNP'), ('OR', 'NNP'), ('JI*', 'NNP'), ('ADDRESS', 'NNP'), ('PHONE', 'NNP'), ('CONTACT', 'NNP'), ('EMAIL', 'NNP'), ('ADDRESS', 'NNP'), ('999', 'CD'), ('9922334', 'CD'), ('Onkar', 'NNP'), ('@', 'NNP'), ('gmail.com', 'NN'), ('PRIOR', 'NNP'), ('REGISTAATION', 'NNP'), ('Yes', 'NNP'), (',', ','), ('Plessa', 'NNP'), ('fall', 'NN'), ('in', 'IN'), ('the', 'DT'), ('details', 'NNS'), ('below', 'IN'), (':', ':'), ('DISTRUCT', 'NNP'), ('REGISTERED', 'NNP'), ('NEW', 'NNP'), ('DISTRICT', 'NNP'), ('CLUB/SCHOOL', 'NNP'), ('REGISTERED', 'NNP'), ('NEW', 'NNP'), ('CLUB/SCHOOL', 'NNP'), ('LICENSE', 'NNP'), ('NO', 'NNP'), ('.', '.')], [('FLAMING', 'NN'), ('POSITION', 'NNP'), ('solemnly', 'RB'), ('and', 'CC'), (\"''\", \"''\"), ('Sincerely', 'RB'), ('declare', 'VBP'), ('that', 'IN'), ('above', 'IN'), ('into', 'IN'), ('watation', 'NN'), ('provided', 'VBN'), ('is', 'VBZ'), ('correct', 'JJ'), ('.', '.')], [('(', '('), ('Signature', 'NN'), ('of', 'IN'), ('Player', 'NNP'), (')', ')'), ('Witness', 'NNP'), ('by', 'IN'), ('(', '('), ('FORM', 'NNP'), ('SHOULD', 'NNP'), ('BE', 'NNP'), ('WITNESSED', 'NNP'), ('BY', 'NNP'), ('BARRISTER', 'NNP'), ('&', 'CC'), ('SOLICITOR', 'NNP'), ('.', '.')], [('COMMISSIONER', 'NNP'), ('OF', 'NNP'), ('OATH', 'NNP'), ('ORJP', 'NNP'), (')', ')'), ('.', '.')], [('ONECKLIST', 'NNP'), ('Player', 'NNP'), ('Registration', 'NNP'), ('Form', 'NNP'), ('Transfer', 'NNP'), ('Form', 'NNP'), ('(', '('), ('Applying', 'VBG'), ('for', 'IN'), ('Transfer', 'NNP'), (')', ')'), ('Passport', 'NNP'), ('Size', 'NNP'), ('Photo', 'NNP'), ('Certled', 'NNP'), (')', ')'), ('Orional', 'NNP'), ('Birth', 'NNP'), ('Certificate', 'NNP'), ('Certified', 'NNP'), ('Copy', 'NNP'), ('of', 'IN'), ('TIN', 'NNP'), ('Card/', 'NNP'), ('Voter', 'NNP'), ('Card', 'NNP'), ('/', 'NNP'), ('Passport', 'NNP'), ('Certified', 'NNP'), ('copy', 'NN'), ('of', 'IN'), ('Enrollment', 'NNP'), ('FormiSchool', 'NNP'), ('Registration', 'NNP'), (')', ')'), ('Elub', 'NNP'), ('President/', 'NNP'), ('Secretary', 'NNP'), ('Date', 'NNP'), ('Hlytelet', 'NNP'), ('President/Secretary', 'NNP'), ('School', 'NNP'), ('Date', 'NNP'), (':', ':'), ('OFFICE', 'NN'), ('USE', 'NN'), ('ONLY', 'NNP'), ('Somment-', 'NNP'), ('ceipt', 'NN'), ('Number', 'NNP'), (':', ':'), ('Date', 'NN'), (':', ':'), ('No', 'DT'), (':', ':'), ('JI*FIJI', 'NNP'), ('FOOTBALL', 'NNP'), ('ASSOCIATION', 'NNP'), ('PLAYER', 'NNP'), ('REGISTRATION/LICENSING', 'NNP'), ('SURNAME', 'NNP'), ('NASIE', 'NNP'), ('KHEDKAR', 'NNP'), ('ONKAR', 'NNP'), ('24/09/1999', 'CD'), ('MALE', 'NNP'), ('DATE', 'NNP'), ('OF', 'NNP'), ('BIRTH', 'NNP'), ('SEX', 'NNP'), ('ATTACIE', 'NNP'), ('PHOTO', 'NNP'), ('HERE', 'NNP'), ('TO', 'NNP'), ('BE', 'NNP'), ('CERTIFIED', 'NNP'), ('BY', 'NNP'), ('BARRISTER', 'NNP'), ('&', 'CC'), ('SOLICITOR', 'NNP'), ('CONNUISSIONER', 'NNP'), ('OF', 'NNP'), ('OATH', 'NNP'), ('OR', 'NNP'), ('JI*', 'NNP'), ('ADDRESS', 'NNP'), ('PHONE', 'NNP'), ('CONTACT', 'NNP'), ('EMAIL', 'NNP'), ('ADDRESS', 'NNP'), ('999', 'CD'), ('9922334', 'CD'), ('Onkar', 'NNP'), ('@', 'NNP'), ('gmail.com', 'NN'), ('PRIOR', 'NNP'), ('REGISTAATION', 'NNP'), ('Yes', 'NNP'), (',', ','), ('Plessa', 'NNP'), ('fall', 'NN'), ('in', 'IN'), ('the', 'DT'), ('details', 'NNS'), ('below', 'IN'), (':', ':'), ('DISTRUCT', 'NNP'), ('REGISTERED', 'NNP'), ('NEW', 'NNP'), ('DISTRICT', 'NNP'), ('CLUB/SCHOOL', 'NNP'), ('REGISTERED', 'NNP'), ('NEW', 'NNP'), ('CLUB/SCHOOL', 'NNP'), ('LICENSE', 'NNP'), ('NO', 'NNP'), ('.', '.')], [('FLAMING', 'NN'), ('POSITION', 'NNP'), ('solemnly', 'RB'), ('and', 'CC'), (\"''\", \"''\"), ('Sincerely', 'RB'), ('declare', 'VBP'), ('that', 'IN'), ('above', 'IN'), ('into', 'IN'), ('watation', 'NN'), ('provided', 'VBN'), ('is', 'VBZ'), ('correct', 'JJ'), ('.', '.')], [('(', '('), ('Signature', 'NN'), ('of', 'IN'), ('Player', 'NNP'), (')', ')'), ('Witness', 'NNP'), ('by', 'IN'), ('(', '('), ('FORM', 'NNP'), ('SHOULD', 'NNP'), ('BE', 'NNP'), ('WITNESSED', 'NNP'), ('BY', 'NNP'), ('BARRISTER', 'NNP'), ('&', 'CC'), ('SOLICITOR', 'NNP'), ('.', '.')], [('COMMISSIONER', 'NNP'), ('OF', 'NNP'), ('OATH', 'NNP'), ('ORJP', 'NNP'), (')', ')'), ('.', '.')], [('ONECKLIST', 'NNP'), ('Player', 'NNP'), ('Registration', 'NNP'), ('Form', 'NNP'), ('Transfer', 'NNP'), ('Form', 'NNP'), ('(', '('), ('Applying', 'VBG'), ('for', 'IN'), ('Transfer', 'NNP'), (')', ')'), ('Passport', 'NNP'), ('Size', 'NNP'), ('Photo', 'NNP'), ('Certled', 'NNP'), (')', ')'), ('Orional', 'NNP'), ('Birth', 'NNP'), ('Certificate', 'NNP'), ('Certified', 'NNP'), ('Copy', 'NNP'), ('of', 'IN'), ('TIN', 'NNP'), ('Card/', 'NNP'), ('Voter', 'NNP'), ('Card', 'NNP'), ('/', 'NNP'), ('Passport', 'NNP'), ('Certified', 'NNP'), ('copy', 'NN'), ('of', 'IN'), ('Enrollment', 'NNP'), ('FormiSchool', 'NNP'), ('Registration', 'NNP'), (')', ')'), ('Elub', 'NNP'), ('President/', 'NNP'), ('Secretary', 'NNP'), ('Date', 'NNP'), ('Hlytelet', 'NNP'), ('President/Secretary', 'NNP'), ('School', 'NNP'), ('Date', 'NNP'), (':', ':'), ('OFFICE', 'NN'), ('USE', 'NN'), ('ONLY', 'NNP'), ('Somment-', 'NNP'), ('ceipt', 'NN'), ('Number', 'NNP'), (':', ':'), ('Date', 'NN'), (':', ':'), ('No', 'DT'), (':', ':'), ('ADDRESSFIJI', 'NNP'), ('FOOTBALL', 'NNP'), ('ASSOCIATION', 'NNP'), ('PLAYER', 'NNP'), ('REGISTRATION/LICENSING', 'NNP'), ('SURNAME', 'NNP'), ('NASIE', 'NNP'), ('KHEDKAR', 'NNP'), ('ONKAR', 'NNP'), ('24/09/1999', 'CD'), ('MALE', 'NNP'), ('DATE', 'NNP'), ('OF', 'NNP'), ('BIRTH', 'NNP'), ('SEX', 'NNP'), ('ATTACIE', 'NNP'), ('PHOTO', 'NNP'), ('HERE', 'NNP'), ('TO', 'NNP'), ('BE', 'NNP'), ('CERTIFIED', 'NNP'), ('BY', 'NNP'), ('BARRISTER', 'NNP'), ('&', 'CC'), ('SOLICITOR', 'NNP'), ('CONNUISSIONER', 'NNP'), ('OF', 'NNP'), ('OATH', 'NNP'), ('OR', 'NNP'), ('JI*', 'NNP'), ('ADDRESS', 'NNP'), ('PHONE', 'NNP'), ('CONTACT', 'NNP'), ('EMAIL', 'NNP'), ('ADDRESS', 'NNP'), ('999', 'CD'), ('9922334', 'CD'), ('Onkar', 'NNP'), ('@', 'NNP'), ('gmail.com', 'NN'), ('PRIOR', 'NNP'), ('REGISTAATION', 'NNP'), ('Yes', 'NNP'), (',', ','), ('Plessa', 'NNP'), ('fall', 'NN'), ('in', 'IN'), ('the', 'DT'), ('details', 'NNS'), ('below', 'IN'), (':', ':'), ('DISTRUCT', 'NNP'), ('REGISTERED', 'NNP'), ('NEW', 'NNP'), ('DISTRICT', 'NNP'), ('CLUB/SCHOOL', 'NNP'), ('REGISTERED', 'NNP'), ('NEW', 'NNP'), ('CLUB/SCHOOL', 'NNP'), ('LICENSE', 'NNP'), ('NO', 'NNP'), ('.', '.')], [('FLAMING', 'NN'), ('POSITION', 'NNP'), ('solemnly', 'RB'), ('and', 'CC'), (\"''\", \"''\"), ('Sincerely', 'RB'), ('declare', 'VBP'), ('that', 'IN'), ('above', 'IN'), ('into', 'IN'), ('watation', 'NN'), ('provided', 'VBN'), ('is', 'VBZ'), ('correct', 'JJ'), ('.', '.')], [('(', '('), ('Signature', 'NN'), ('of', 'IN'), ('Player', 'NNP'), (')', ')'), ('Witness', 'NNP'), ('by', 'IN'), ('(', '('), ('FORM', 'NNP'), ('SHOULD', 'NNP'), ('BE', 'NNP'), ('WITNESSED', 'NNP'), ('BY', 'NNP'), ('BARRISTER', 'NNP'), ('&', 'CC'), ('SOLICITOR', 'NNP'), ('.', '.')], [('COMMISSIONER', 'NNP'), ('OF', 'NNP'), ('OATH', 'NNP'), ('ORJP', 'NNP'), (')', ')'), ('.', '.')], [('ONECKLIST', 'NNP'), ('Player', 'NNP'), ('Registration', 'NNP'), ('Form', 'NNP'), ('Transfer', 'NNP'), ('Form', 'NNP'), ('(', '('), ('Applying', 'VBG'), ('for', 'IN'), ('Transfer', 'NNP'), (')', ')'), ('Passport', 'NNP'), ('Size', 'NNP'), ('Photo', 'NNP'), ('Certled', 'NNP'), (')', ')'), ('Orional', 'NNP'), ('Birth', 'NNP'), ('Certificate', 'NNP'), ('Certified', 'NNP'), ('Copy', 'NNP'), ('of', 'IN'), ('TIN', 'NNP'), ('Card/', 'NNP'), ('Voter', 'NNP'), ('Card', 'NNP'), ('/', 'NNP'), ('Passport', 'NNP'), ('Certified', 'NNP'), ('copy', 'NN'), ('of', 'IN'), ('Enrollment', 'NNP'), ('FormiSchool', 'NNP'), ('Registration', 'NNP'), (')', ')'), ('Elub', 'NNP'), ('President/', 'NNP'), ('Secretary', 'NNP'), ('Date', 'NNP'), ('Hlytelet', 'NNP'), ('President/Secretary', 'NNP'), ('School', 'NNP'), ('Date', 'NNP'), (':', ':'), ('OFFICE', 'NN'), ('USE', 'NN'), ('ONLY', 'NNP'), ('Somment-', 'NNP'), ('ceipt', 'NN'), ('Number', 'NNP'), (':', ':'), ('Date', 'NN'), (':', ':'), ('No', 'DT'), (':', ':'), ('PHONEFIJI', 'NNP'), ('FOOTBALL', 'NNP'), ('ASSOCIATION', 'NNP'), ('PLAYER', 'NNP'), ('REGISTRATION/LICENSING', 'NNP'), ('SURNAME', 'NNP'), ('NASIE', 'NNP'), ('KHEDKAR', 'NNP'), ('ONKAR', 'NNP'), ('24/09/1999', 'CD'), ('MALE', 'NNP'), ('DATE', 'NNP'), ('OF', 'NNP'), ('BIRTH', 'NNP'), ('SEX', 'NNP'), ('ATTACIE', 'NNP'), ('PHOTO', 'NNP'), ('HERE', 'NNP'), ('TO', 'NNP'), ('BE', 'NNP'), ('CERTIFIED', 'NNP'), ('BY', 'NNP'), ('BARRISTER', 'NNP'), ('&', 'CC'), ('SOLICITOR', 'NNP'), ('CONNUISSIONER', 'NNP'), ('OF', 'NNP'), ('OATH', 'NNP'), ('OR', 'NNP'), ('JI*', 'NNP'), ('ADDRESS', 'NNP'), ('PHONE', 'NNP'), ('CONTACT', 'NNP'), ('EMAIL', 'NNP'), ('ADDRESS', 'NNP'), ('999', 'CD'), ('9922334', 'CD'), ('Onkar', 'NNP'), ('@', 'NNP'), ('gmail.com', 'NN'), ('PRIOR', 'NNP'), ('REGISTAATION', 'NNP'), ('Yes', 'NNP'), (',', ','), ('Plessa', 'NNP'), ('fall', 'NN'), ('in', 'IN'), ('the', 'DT'), ('details', 'NNS'), ('below', 'IN'), (':', ':'), ('DISTRUCT', 'NNP'), ('REGISTERED', 'NNP'), ('NEW', 'NNP'), ('DISTRICT', 'NNP'), ('CLUB/SCHOOL', 'NNP'), ('REGISTERED', 'NNP'), ('NEW', 'NNP'), ('CLUB/SCHOOL', 'NNP'), ('LICENSE', 'NNP'), ('NO', 'NNP'), ('.', '.')], [('FLAMING', 'NN'), ('POSITION', 'NNP'), ('solemnly', 'RB'), ('and', 'CC'), (\"''\", \"''\"), ('Sincerely', 'RB'), ('declare', 'VBP'), ('that', 'IN'), ('above', 'IN'), ('into', 'IN'), ('watation', 'NN'), ('provided', 'VBN'), ('is', 'VBZ'), ('correct', 'JJ'), ('.', '.')], [('(', '('), ('Signature', 'NN'), ('of', 'IN'), ('Player', 'NNP'), (')', ')'), ('Witness', 'NNP'), ('by', 'IN'), ('(', '('), ('FORM', 'NNP'), ('SHOULD', 'NNP'), ('BE', 'NNP'), ('WITNESSED', 'NNP'), ('BY', 'NNP'), ('BARRISTER', 'NNP'), ('&', 'CC'), ('SOLICITOR', 'NNP'), ('.', '.')], [('COMMISSIONER', 'NNP'), ('OF', 'NNP'), ('OATH', 'NNP'), ('ORJP', 'NNP'), (')', ')'), ('.', '.')], [('ONECKLIST', 'NNP'), ('Player', 'NNP'), ('Registration', 'NNP'), ('Form', 'NNP'), ('Transfer', 'NNP'), ('Form', 'NNP'), ('(', '('), ('Applying', 'VBG'), ('for', 'IN'), ('Transfer', 'NNP'), (')', ')'), ('Passport', 'NNP'), ('Size', 'NNP'), ('Photo', 'NNP'), ('Certled', 'NNP'), (')', ')'), ('Orional', 'NNP'), ('Birth', 'NNP'), ('Certificate', 'NNP'), ('Certified', 'NNP'), ('Copy', 'NNP'), ('of', 'IN'), ('TIN', 'NNP'), ('Card/', 'NNP'), ('Voter', 'NNP'), ('Card', 'NNP'), ('/', 'NNP'), ('Passport', 'NNP'), ('Certified', 'NNP'), ('copy', 'NN'), ('of', 'IN'), ('Enrollment', 'NNP'), ('FormiSchool', 'NNP'), ('Registration', 'NNP'), (')', ')'), ('Elub', 'NNP'), ('President/', 'NNP'), ('Secretary', 'NNP'), ('Date', 'NNP'), ('Hlytelet', 'NNP'), ('President/Secretary', 'NNP'), ('School', 'NNP'), ('Date', 'NNP'), (':', ':'), ('OFFICE', 'NN'), ('USE', 'NN'), ('ONLY', 'NNP'), ('Somment-', 'NNP'), ('ceipt', 'NN'), ('Number', 'NNP'), (':', ':'), ('Date', 'NN'), (':', ':'), ('No', 'DT'), (':', ':'), ('CONTACTFIJI', 'NNP'), ('FOOTBALL', 'NNP'), ('ASSOCIATION', 'NNP'), ('PLAYER', 'NNP'), ('REGISTRATION/LICENSING', 'NNP'), ('SURNAME', 'NNP'), ('NASIE', 'NNP'), ('KHEDKAR', 'NNP'), ('ONKAR', 'NNP'), ('24/09/1999', 'CD'), ('MALE', 'NNP'), ('DATE', 'NNP'), ('OF', 'NNP'), ('BIRTH', 'NNP'), ('SEX', 'NNP'), ('ATTACIE', 'NNP'), ('PHOTO', 'NNP'), ('HERE', 'NNP'), ('TO', 'NNP'), ('BE', 'NNP'), ('CERTIFIED', 'NNP'), ('BY', 'NNP'), ('BARRISTER', 'NNP'), ('&', 'CC'), ('SOLICITOR', 'NNP'), ('CONNUISSIONER', 'NNP'), ('OF', 'NNP'), ('OATH', 'NNP'), ('OR', 'NNP'), ('JI*', 'NNP'), ('ADDRESS', 'NNP'), ('PHONE', 'NNP'), ('CONTACT', 'NNP'), ('EMAIL', 'NNP'), ('ADDRESS', 'NNP'), ('999', 'CD'), ('9922334', 'CD'), ('Onkar', 'NNP'), ('@', 'NNP'), ('gmail.com', 'NN'), ('PRIOR', 'NNP'), ('REGISTAATION', 'NNP'), ('Yes', 'NNP'), (',', ','), ('Plessa', 'NNP'), ('fall', 'NN'), ('in', 'IN'), ('the', 'DT'), ('details', 'NNS'), ('below', 'IN'), (':', ':'), ('DISTRUCT', 'NNP'), ('REGISTERED', 'NNP'), ('NEW', 'NNP'), ('DISTRICT', 'NNP'), ('CLUB/SCHOOL', 'NNP'), ('REGISTERED', 'NNP'), ('NEW', 'NNP'), ('CLUB/SCHOOL', 'NNP'), ('LICENSE', 'NNP'), ('NO', 'NNP'), ('.', '.')], [('FLAMING', 'NN'), ('POSITION', 'NNP'), ('solemnly', 'RB'), ('and', 'CC'), (\"''\", \"''\"), ('Sincerely', 'RB'), ('declare', 'VBP'), ('that', 'IN'), ('above', 'IN'), ('into', 'IN'), ('watation', 'NN'), ('provided', 'VBN'), ('is', 'VBZ'), ('correct', 'JJ'), ('.', '.')], [('(', '('), ('Signature', 'NN'), ('of', 'IN'), ('Player', 'NNP'), (')', ')'), ('Witness', 'NNP'), ('by', 'IN'), ('(', '('), ('FORM', 'NNP'), ('SHOULD', 'NNP'), ('BE', 'NNP'), ('WITNESSED', 'NNP'), ('BY', 'NNP'), ('BARRISTER', 'NNP'), ('&', 'CC'), ('SOLICITOR', 'NNP'), ('.', '.')], [('COMMISSIONER', 'NNP'), ('OF', 'NNP'), ('OATH', 'NNP'), ('ORJP', 'NNP'), (')', ')'), ('.', '.')], [('ONECKLIST', 'NNP'), ('Player', 'NNP'), ('Registration', 'NNP'), ('Form', 'NNP'), ('Transfer', 'NNP'), ('Form', 'NNP'), ('(', '('), ('Applying', 'VBG'), ('for', 'IN'), ('Transfer', 'NNP'), (')', ')'), ('Passport', 'NNP'), ('Size', 'NNP'), ('Photo', 'NNP'), ('Certled', 'NNP'), (')', ')'), ('Orional', 'NNP'), ('Birth', 'NNP'), ('Certificate', 'NNP'), ('Certified', 'NNP'), ('Copy', 'NNP'), ('of', 'IN'), ('TIN', 'NNP'), ('Card/', 'NNP'), ('Voter', 'NNP'), ('Card', 'NNP'), ('/', 'NNP'), ('Passport', 'NNP'), ('Certified', 'NNP'), ('copy', 'NN'), ('of', 'IN'), ('Enrollment', 'NNP'), ('FormiSchool', 'NNP'), ('Registration', 'NNP'), (')', ')'), ('Elub', 'NNP'), ('President/', 'NNP'), ('Secretary', 'NNP'), ('Date', 'NNP'), ('Hlytelet', 'NNP'), ('President/Secretary', 'NNP'), ('School', 'NNP'), ('Date', 'NNP'), (':', ':'), ('OFFICE', 'NN'), ('USE', 'NN'), ('ONLY', 'NNP'), ('Somment-', 'NNP'), ('ceipt', 'NN'), ('Number', 'NNP'), (':', ':'), ('Date', 'NN'), (':', ':'), ('No', 'DT'), (':', ':'), ('EMAILFIJI', 'NNP'), ('FOOTBALL', 'NNP'), ('ASSOCIATION', 'NNP'), ('PLAYER', 'NNP'), ('REGISTRATION/LICENSING', 'NNP'), ('SURNAME', 'NNP'), ('NASIE', 'NNP'), ('KHEDKAR', 'NNP'), ('ONKAR', 'NNP'), ('24/09/1999', 'CD'), ('MALE', 'NNP'), ('DATE', 'NNP'), ('OF', 'NNP'), ('BIRTH', 'NNP'), ('SEX', 'NNP'), ('ATTACIE', 'NNP'), ('PHOTO', 'NNP'), ('HERE', 'NNP'), ('TO', 'NNP'), ('BE', 'NNP'), ('CERTIFIED', 'NNP'), ('BY', 'NNP'), ('BARRISTER', 'NNP'), ('&', 'CC'), ('SOLICITOR', 'NNP'), ('CONNUISSIONER', 'NNP'), ('OF', 'NNP'), ('OATH', 'NNP'), ('OR', 'NNP'), ('JI*', 'NNP'), ('ADDRESS', 'NNP'), ('PHONE', 'NNP'), ('CONTACT', 'NNP'), ('EMAIL', 'NNP'), ('ADDRESS', 'NNP'), ('999', 'CD'), ('9922334', 'CD'), ('Onkar', 'NNP'), ('@', 'NNP'), ('gmail.com', 'NN'), ('PRIOR', 'NNP'), ('REGISTAATION', 'NNP'), ('Yes', 'NNP'), (',', ','), ('Plessa', 'NNP'), ('fall', 'NN'), ('in', 'IN'), ('the', 'DT'), ('details', 'NNS'), ('below', 'IN'), (':', ':'), ('DISTRUCT', 'NNP'), ('REGISTERED', 'NNP'), ('NEW', 'NNP'), ('DISTRICT', 'NNP'), ('CLUB/SCHOOL', 'NNP'), ('REGISTERED', 'NNP'), ('NEW', 'NNP'), ('CLUB/SCHOOL', 'NNP'), ('LICENSE', 'NNP'), ('NO', 'NNP'), ('.', '.')], [('FLAMING', 'NN'), ('POSITION', 'NNP'), ('solemnly', 'RB'), ('and', 'CC'), (\"''\", \"''\"), ('Sincerely', 'RB'), ('declare', 'VBP'), ('that', 'IN'), ('above', 'IN'), ('into', 'IN'), ('watation', 'NN'), ('provided', 'VBN'), ('is', 'VBZ'), ('correct', 'JJ'), ('.', '.')], [('(', '('), ('Signature', 'NN'), ('of', 'IN'), ('Player', 'NNP'), (')', ')'), ('Witness', 'NNP'), ('by', 'IN'), ('(', '('), ('FORM', 'NNP'), ('SHOULD', 'NNP'), ('BE', 'NNP'), ('WITNESSED', 'NNP'), ('BY', 'NNP'), ('BARRISTER', 'NNP'), ('&', 'CC'), ('SOLICITOR', 'NNP'), ('.', '.')], [('COMMISSIONER', 'NNP'), ('OF', 'NNP'), ('OATH', 'NNP'), ('ORJP', 'NNP'), (')', ')'), ('.', '.')], [('ONECKLIST', 'NNP'), ('Player', 'NNP'), ('Registration', 'NNP'), ('Form', 'NNP'), ('Transfer', 'NNP'), ('Form', 'NNP'), ('(', '('), ('Applying', 'VBG'), ('for', 'IN'), ('Transfer', 'NNP'), (')', ')'), ('Passport', 'NNP'), ('Size', 'NNP'), ('Photo', 'NNP'), ('Certled', 'NNP'), (')', ')'), ('Orional', 'NNP'), ('Birth', 'NNP'), ('Certificate', 'NNP'), ('Certified', 'NNP'), ('Copy', 'NNP'), ('of', 'IN'), ('TIN', 'NNP'), ('Card/', 'NNP'), ('Voter', 'NNP'), ('Card', 'NNP'), ('/', 'NNP'), ('Passport', 'NNP'), ('Certified', 'NNP'), ('copy', 'NN'), ('of', 'IN'), ('Enrollment', 'NNP'), ('FormiSchool', 'NNP'), ('Registration', 'NNP'), (')', ')'), ('Elub', 'NNP'), ('President/', 'NNP'), ('Secretary', 'NNP'), ('Date', 'NNP'), ('Hlytelet', 'NNP'), ('President/Secretary', 'NNP'), ('School', 'NNP'), ('Date', 'NNP'), (':', ':'), ('OFFICE', 'NN'), ('USE', 'NN'), ('ONLY', 'NNP'), ('Somment-', 'NNP'), ('ceipt', 'NN'), ('Number', 'NNP'), (':', ':'), ('Date', 'NN'), (':', ':'), ('No', 'DT'), (':', ':'), ('ADDRESSFIJI', 'NNP'), ('FOOTBALL', 'NNP'), ('ASSOCIATION', 'NNP'), ('PLAYER', 'NNP'), ('REGISTRATION/LICENSING', 'NNP'), ('SURNAME', 'NNP'), ('NASIE', 'NNP'), ('KHEDKAR', 'NNP'), ('ONKAR', 'NNP'), ('24/09/1999', 'CD'), ('MALE', 'NNP'), ('DATE', 'NNP'), ('OF', 'NNP'), ('BIRTH', 'NNP'), ('SEX', 'NNP'), ('ATTACIE', 'NNP'), ('PHOTO', 'NNP'), ('HERE', 'NNP'), ('TO', 'NNP'), ('BE', 'NNP'), ('CERTIFIED', 'NNP'), ('BY', 'NNP'), ('BARRISTER', 'NNP'), ('&', 'CC'), ('SOLICITOR', 'NNP'), ('CONNUISSIONER', 'NNP'), ('OF', 'NNP'), ('OATH', 'NNP'), ('OR', 'NNP'), ('JI*', 'NNP'), ('ADDRESS', 'NNP'), ('PHONE', 'NNP'), ('CONTACT', 'NNP'), ('EMAIL', 'NNP'), ('ADDRESS', 'NNP'), ('999', 'CD'), ('9922334', 'CD'), ('Onkar', 'NNP'), ('@', 'NNP'), ('gmail.com', 'NN'), ('PRIOR', 'NNP'), ('REGISTAATION', 'NNP'), ('Yes', 'NNP'), (',', ','), ('Plessa', 'NNP'), ('fall', 'NN'), ('in', 'IN'), ('the', 'DT'), ('details', 'NNS'), ('below', 'IN'), (':', ':'), ('DISTRUCT', 'NNP'), ('REGISTERED', 'NNP'), ('NEW', 'NNP'), ('DISTRICT', 'NNP'), ('CLUB/SCHOOL', 'NNP'), ('REGISTERED', 'NNP'), ('NEW', 'NNP'), ('CLUB/SCHOOL', 'NNP'), ('LICENSE', 'NNP'), ('NO', 'NNP'), ('.', '.')], [('FLAMING', 'NN'), ('POSITION', 'NNP'), ('solemnly', 'RB'), ('and', 'CC'), (\"''\", \"''\"), ('Sincerely', 'RB'), ('declare', 'VBP'), ('that', 'IN'), ('above', 'IN'), ('into', 'IN'), ('watation', 'NN'), ('provided', 'VBN'), ('is', 'VBZ'), ('correct', 'JJ'), ('.', '.')], [('(', '('), ('Signature', 'NN'), ('of', 'IN'), ('Player', 'NNP'), (')', ')'), ('Witness', 'NNP'), ('by', 'IN'), ('(', '('), ('FORM', 'NNP'), ('SHOULD', 'NNP'), ('BE', 'NNP'), ('WITNESSED', 'NNP'), ('BY', 'NNP'), ('BARRISTER', 'NNP'), ('&', 'CC'), ('SOLICITOR', 'NNP'), ('.', '.')], [('COMMISSIONER', 'NNP'), ('OF', 'NNP'), ('OATH', 'NNP'), ('ORJP', 'NNP'), (')', ')'), ('.', '.')], [('ONECKLIST', 'NNP'), ('Player', 'NNP'), ('Registration', 'NNP'), ('Form', 'NNP'), ('Transfer', 'NNP'), ('Form', 'NNP'), ('(', '('), ('Applying', 'VBG'), ('for', 'IN'), ('Transfer', 'NNP'), (')', ')'), ('Passport', 'NNP'), ('Size', 'NNP'), ('Photo', 'NNP'), ('Certled', 'NNP'), (')', ')'), ('Orional', 'NNP'), ('Birth', 'NNP'), ('Certificate', 'NNP'), ('Certified', 'NNP'), ('Copy', 'NNP'), ('of', 'IN'), ('TIN', 'NNP'), ('Card/', 'NNP'), ('Voter', 'NNP'), ('Card', 'NNP'), ('/', 'NNP'), ('Passport', 'NNP'), ('Certified', 'NNP'), ('copy', 'NN'), ('of', 'IN'), ('Enrollment', 'NNP'), ('FormiSchool', 'NNP'), ('Registration', 'NNP'), (')', ')'), ('Elub', 'NNP'), ('President/', 'NNP'), ('Secretary', 'NNP'), ('Date', 'NNP'), ('Hlytelet', 'NNP'), ('President/Secretary', 'NNP'), ('School', 'NNP'), ('Date', 'NNP'), (':', ':'), ('OFFICE', 'NN'), ('USE', 'NN'), ('ONLY', 'NNP'), ('Somment-', 'NNP'), ('ceipt', 'NN'), ('Number', 'NNP'), (':', ':'), ('Date', 'NN'), (':', ':'), ('No', 'DT'), (':', ':'), ('999FIJI', 'CD'), ('FOOTBALL', 'NNP'), ('ASSOCIATION', 'NNP'), ('PLAYER', 'NNP'), ('REGISTRATION/LICENSING', 'NNP'), ('SURNAME', 'NNP'), ('NASIE', 'NNP'), ('KHEDKAR', 'NNP'), ('ONKAR', 'NNP'), ('24/09/1999', 'CD'), ('MALE', 'NNP'), ('DATE', 'NNP'), ('OF', 'NNP'), ('BIRTH', 'NNP'), ('SEX', 'NNP'), ('ATTACIE', 'NNP'), ('PHOTO', 'NNP'), ('HERE', 'NNP'), ('TO', 'NNP'), ('BE', 'NNP'), ('CERTIFIED', 'NNP'), ('BY', 'NNP'), ('BARRISTER', 'NNP'), ('&', 'CC'), ('SOLICITOR', 'NNP'), ('CONNUISSIONER', 'NNP'), ('OF', 'NNP'), ('OATH', 'NNP'), ('OR', 'NNP'), ('JI*', 'NNP'), ('ADDRESS', 'NNP'), ('PHONE', 'NNP'), ('CONTACT', 'NNP'), ('EMAIL', 'NNP'), ('ADDRESS', 'NNP'), ('999', 'CD'), ('9922334', 'CD'), ('Onkar', 'NNP'), ('@', 'NNP'), ('gmail.com', 'NN'), ('PRIOR', 'NNP'), ('REGISTAATION', 'NNP'), ('Yes', 'NNP'), (',', ','), ('Plessa', 'NNP'), ('fall', 'NN'), ('in', 'IN'), ('the', 'DT'), ('details', 'NNS'), ('below', 'IN'), (':', ':'), ('DISTRUCT', 'NNP'), ('REGISTERED', 'NNP'), ('NEW', 'NNP'), ('DISTRICT', 'NNP'), ('CLUB/SCHOOL', 'NNP'), ('REGISTERED', 'NNP'), ('NEW', 'NNP'), ('CLUB/SCHOOL', 'NNP'), ('LICENSE', 'NNP'), ('NO', 'NNP'), ('.', '.')], [('FLAMING', 'NN'), ('POSITION', 'NNP'), ('solemnly', 'RB'), ('and', 'CC'), (\"''\", \"''\"), ('Sincerely', 'RB'), ('declare', 'VBP'), ('that', 'IN'), ('above', 'IN'), ('into', 'IN'), ('watation', 'NN'), ('provided', 'VBN'), ('is', 'VBZ'), ('correct', 'JJ'), ('.', '.')], [('(', '('), ('Signature', 'NN'), ('of', 'IN'), ('Player', 'NNP'), (')', ')'), ('Witness', 'NNP'), ('by', 'IN'), ('(', '('), ('FORM', 'NNP'), ('SHOULD', 'NNP'), ('BE', 'NNP'), ('WITNESSED', 'NNP'), ('BY', 'NNP'), ('BARRISTER', 'NNP'), ('&', 'CC'), ('SOLICITOR', 'NNP'), ('.', '.')], [('COMMISSIONER', 'NNP'), ('OF', 'NNP'), ('OATH', 'NNP'), ('ORJP', 'NNP'), (')', ')'), ('.', '.')], [('ONECKLIST', 'NNP'), ('Player', 'NNP'), ('Registration', 'NNP'), ('Form', 'NNP'), ('Transfer', 'NNP'), ('Form', 'NNP'), ('(', '('), ('Applying', 'VBG'), ('for', 'IN'), ('Transfer', 'NNP'), (')', ')'), ('Passport', 'NNP'), ('Size', 'NNP'), ('Photo', 'NNP'), ('Certled', 'NNP'), (')', ')'), ('Orional', 'NNP'), ('Birth', 'NNP'), ('Certificate', 'NNP'), ('Certified', 'NNP'), ('Copy', 'NNP'), ('of', 'IN'), ('TIN', 'NNP'), ('Card/', 'NNP'), ('Voter', 'NNP'), ('Card', 'NNP'), ('/', 'NNP'), ('Passport', 'NNP'), ('Certified', 'NNP'), ('copy', 'NN'), ('of', 'IN'), ('Enrollment', 'NNP'), ('FormiSchool', 'NNP'), ('Registration', 'NNP'), (')', ')'), ('Elub', 'NNP'), ('President/', 'NNP'), ('Secretary', 'NNP'), ('Date', 'NNP'), ('Hlytelet', 'NNP'), ('President/Secretary', 'NNP'), ('School', 'NNP'), ('Date', 'NNP'), (':', ':'), ('OFFICE', 'NN'), ('USE', 'NN'), ('ONLY', 'NNP'), ('Somment-', 'NNP'), ('ceipt', 'NN'), ('Number', 'NNP'), (':', ':'), ('Date', 'NN'), (':', ':'), ('No', 'DT'), (':', ':'), ('9922334FIJI', 'CD'), ('FOOTBALL', 'NNP'), ('ASSOCIATION', 'NNP'), ('PLAYER', 'NNP'), ('REGISTRATION/LICENSING', 'NNP'), ('SURNAME', 'NNP'), ('NASIE', 'NNP'), ('KHEDKAR', 'NNP'), ('ONKAR', 'NNP'), ('24/09/1999', 'CD'), ('MALE', 'NNP'), ('DATE', 'NNP'), ('OF', 'NNP'), ('BIRTH', 'NNP'), ('SEX', 'NNP'), ('ATTACIE', 'NNP'), ('PHOTO', 'NNP'), ('HERE', 'NNP'), ('TO', 'NNP'), ('BE', 'NNP'), ('CERTIFIED', 'NNP'), ('BY', 'NNP'), ('BARRISTER', 'NNP'), ('&', 'CC'), ('SOLICITOR', 'NNP'), ('CONNUISSIONER', 'NNP'), ('OF', 'NNP'), ('OATH', 'NNP'), ('OR', 'NNP'), ('JI*', 'NNP'), ('ADDRESS', 'NNP'), ('PHONE', 'NNP'), ('CONTACT', 'NNP'), ('EMAIL', 'NNP'), ('ADDRESS', 'NNP'), ('999', 'CD'), ('9922334', 'CD'), ('Onkar', 'NNP'), ('@', 'NNP'), ('gmail.com', 'NN'), ('PRIOR', 'NNP'), ('REGISTAATION', 'NNP'), ('Yes', 'NNP'), (',', ','), ('Plessa', 'NNP'), ('fall', 'NN'), ('in', 'IN'), ('the', 'DT'), ('details', 'NNS'), ('below', 'IN'), (':', ':'), ('DISTRUCT', 'NNP'), ('REGISTERED', 'NNP'), ('NEW', 'NNP'), ('DISTRICT', 'NNP'), ('CLUB/SCHOOL', 'NNP'), ('REGISTERED', 'NNP'), ('NEW', 'NNP'), ('CLUB/SCHOOL', 'NNP'), ('LICENSE', 'NNP'), ('NO', 'NNP'), ('.', '.')], [('FLAMING', 'NN'), ('POSITION', 'NNP'), ('solemnly', 'RB'), ('and', 'CC'), (\"''\", \"''\"), ('Sincerely', 'RB'), ('declare', 'VBP'), ('that', 'IN'), ('above', 'IN'), ('into', 'IN'), ('watation', 'NN'), ('provided', 'VBN'), ('is', 'VBZ'), ('correct', 'JJ'), ('.', '.')], [('(', '('), ('Signature', 'NN'), ('of', 'IN'), ('Player', 'NNP'), (')', ')'), ('Witness', 'NNP'), ('by', 'IN'), ('(', '('), ('FORM', 'NNP'), ('SHOULD', 'NNP'), ('BE', 'NNP'), ('WITNESSED', 'NNP'), ('BY', 'NNP'), ('BARRISTER', 'NNP'), ('&', 'CC'), ('SOLICITOR', 'NNP'), ('.', '.')], [('COMMISSIONER', 'NNP'), ('OF', 'NNP'), ('OATH', 'NNP'), ('ORJP', 'NNP'), (')', ')'), ('.', '.')], [('ONECKLIST', 'NNP'), ('Player', 'NNP'), ('Registration', 'NNP'), ('Form', 'NNP'), ('Transfer', 'NNP'), ('Form', 'NNP'), ('(', '('), ('Applying', 'VBG'), ('for', 'IN'), ('Transfer', 'NNP'), (')', ')'), ('Passport', 'NNP'), ('Size', 'NNP'), ('Photo', 'NNP'), ('Certled', 'NNP'), (')', ')'), ('Orional', 'NNP'), ('Birth', 'NNP'), ('Certificate', 'NNP'), ('Certified', 'NNP'), ('Copy', 'NNP'), ('of', 'IN'), ('TIN', 'NNP'), ('Card/', 'NNP'), ('Voter', 'NNP'), ('Card', 'NNP'), ('/', 'NNP'), ('Passport', 'NNP'), ('Certified', 'NNP'), ('copy', 'NN'), ('of', 'IN'), ('Enrollment', 'NNP'), ('FormiSchool', 'NNP'), ('Registration', 'NNP'), (')', ')'), ('Elub', 'NNP'), ('President/', 'NNP'), ('Secretary', 'NNP'), ('Date', 'NNP'), ('Hlytelet', 'NNP'), ('President/Secretary', 'NNP'), ('School', 'NNP'), ('Date', 'NNP'), (':', ':'), ('OFFICE', 'NN'), ('USE', 'NN'), ('ONLY', 'NNP'), ('Somment-', 'NNP'), ('ceipt', 'NN'), ('Number', 'NNP'), (':', ':'), ('Date', 'NN'), (':', ':'), ('No', 'DT'), (':', ':'), ('Onkar', 'NNP'), ('@', 'NNP'), ('gmail.comFIJI', 'NN'), ('FOOTBALL', 'NNP'), ('ASSOCIATION', 'NNP'), ('PLAYER', 'NNP'), ('REGISTRATION/LICENSING', 'NNP'), ('SURNAME', 'NNP'), ('NASIE', 'NNP'), ('KHEDKAR', 'NNP'), ('ONKAR', 'NNP'), ('24/09/1999', 'CD'), ('MALE', 'NNP'), ('DATE', 'NNP'), ('OF', 'NNP'), ('BIRTH', 'NNP'), ('SEX', 'NNP'), ('ATTACIE', 'NNP'), ('PHOTO', 'NNP'), ('HERE', 'NNP'), ('TO', 'NNP'), ('BE', 'NNP'), ('CERTIFIED', 'NNP'), ('BY', 'NNP'), ('BARRISTER', 'NNP'), ('&', 'CC'), ('SOLICITOR', 'NNP'), ('CONNUISSIONER', 'NNP'), ('OF', 'NNP'), ('OATH', 'NNP'), ('OR', 'NNP'), ('JI*', 'NNP'), ('ADDRESS', 'NNP'), ('PHONE', 'NNP'), ('CONTACT', 'NNP'), ('EMAIL', 'NNP'), ('ADDRESS', 'NNP'), ('999', 'CD'), ('9922334', 'CD'), ('Onkar', 'NNP'), ('@', 'NNP'), ('gmail.com', 'NN'), ('PRIOR', 'NNP'), ('REGISTAATION', 'NNP'), ('Yes', 'NNP'), (',', ','), ('Plessa', 'NNP'), ('fall', 'NN'), ('in', 'IN'), ('the', 'DT'), ('details', 'NNS'), ('below', 'IN'), (':', ':'), ('DISTRUCT', 'NNP'), ('REGISTERED', 'NNP'), ('NEW', 'NNP'), ('DISTRICT', 'NNP'), ('CLUB/SCHOOL', 'NNP'), ('REGISTERED', 'NNP'), ('NEW', 'NNP'), ('CLUB/SCHOOL', 'NNP'), ('LICENSE', 'NNP'), ('NO', 'NNP'), ('.', '.')], [('FLAMING', 'NN'), ('POSITION', 'NNP'), ('solemnly', 'RB'), ('and', 'CC'), (\"''\", \"''\"), ('Sincerely', 'RB'), ('declare', 'VBP'), ('that', 'IN'), ('above', 'IN'), ('into', 'IN'), ('watation', 'NN'), ('provided', 'VBN'), ('is', 'VBZ'), ('correct', 'JJ'), ('.', '.')], [('(', '('), ('Signature', 'NN'), ('of', 'IN'), ('Player', 'NNP'), (')', ')'), ('Witness', 'NNP'), ('by', 'IN'), ('(', '('), ('FORM', 'NNP'), ('SHOULD', 'NNP'), ('BE', 'NNP'), ('WITNESSED', 'NNP'), ('BY', 'NNP'), ('BARRISTER', 'NNP'), ('&', 'CC'), ('SOLICITOR', 'NNP'), ('.', '.')], [('COMMISSIONER', 'NNP'), ('OF', 'NNP'), ('OATH', 'NNP'), ('ORJP', 'NNP'), (')', ')'), ('.', '.')], [('ONECKLIST', 'NNP'), ('Player', 'NNP'), ('Registration', 'NNP'), ('Form', 'NNP'), ('Transfer', 'NNP'), ('Form', 'NNP'), ('(', '('), ('Applying', 'VBG'), ('for', 'IN'), ('Transfer', 'NNP'), (')', ')'), ('Passport', 'NNP'), ('Size', 'NNP'), ('Photo', 'NNP'), ('Certled', 'NNP'), (')', ')'), ('Orional', 'NNP'), ('Birth', 'NNP'), ('Certificate', 'NNP'), ('Certified', 'NNP'), ('Copy', 'NNP'), ('of', 'IN'), ('TIN', 'NNP'), ('Card/', 'NNP'), ('Voter', 'NNP'), ('Card', 'NNP'), ('/', 'NNP'), ('Passport', 'NNP'), ('Certified', 'NNP'), ('copy', 'NN'), ('of', 'IN'), ('Enrollment', 'NNP'), ('FormiSchool', 'NNP'), ('Registration', 'NNP'), (')', ')'), ('Elub', 'NNP'), ('President/', 'NNP'), ('Secretary', 'NNP'), ('Date', 'NNP'), ('Hlytelet', 'NNP'), ('President/Secretary', 'NNP'), ('School', 'NNP'), ('Date', 'NNP'), (':', ':'), ('OFFICE', 'NN'), ('USE', 'NN'), ('ONLY', 'NNP'), ('Somment-', 'NNP'), ('ceipt', 'NN'), ('Number', 'NNP'), (':', ':'), ('Date', 'NN'), (':', ':'), ('No', 'DT'), (':', ':'), ('PRIORFIJI', 'NNP'), ('FOOTBALL', 'NNP'), ('ASSOCIATION', 'NNP'), ('PLAYER', 'NNP'), ('REGISTRATION/LICENSING', 'NNP'), ('SURNAME', 'NNP'), ('NASIE', 'NNP'), ('KHEDKAR', 'NNP'), ('ONKAR', 'NNP'), ('24/09/1999', 'CD'), ('MALE', 'NNP'), ('DATE', 'NNP'), ('OF', 'NNP'), ('BIRTH', 'NNP'), ('SEX', 'NNP'), ('ATTACIE', 'NNP'), ('PHOTO', 'NNP'), ('HERE', 'NNP'), ('TO', 'NNP'), ('BE', 'NNP'), ('CERTIFIED', 'NNP'), ('BY', 'NNP'), ('BARRISTER', 'NNP'), ('&', 'CC'), ('SOLICITOR', 'NNP'), ('CONNUISSIONER', 'NNP'), ('OF', 'NNP'), ('OATH', 'NNP'), ('OR', 'NNP'), ('JI*', 'NNP'), ('ADDRESS', 'NNP'), ('PHONE', 'NNP'), ('CONTACT', 'NNP'), ('EMAIL', 'NNP'), ('ADDRESS', 'NNP'), ('999', 'CD'), ('9922334', 'CD'), ('Onkar', 'NNP'), ('@', 'NNP'), ('gmail.com', 'NN'), ('PRIOR', 'NNP'), ('REGISTAATION', 'NNP'), ('Yes', 'NNP'), (',', ','), ('Plessa', 'NNP'), ('fall', 'NN'), ('in', 'IN'), ('the', 'DT'), ('details', 'NNS'), ('below', 'IN'), (':', ':'), ('DISTRUCT', 'NNP'), ('REGISTERED', 'NNP'), ('NEW', 'NNP'), ('DISTRICT', 'NNP'), ('CLUB/SCHOOL', 'NNP'), ('REGISTERED', 'NNP'), ('NEW', 'NNP'), ('CLUB/SCHOOL', 'NNP'), ('LICENSE', 'NNP'), ('NO', 'NNP'), ('.', '.')], [('FLAMING', 'NN'), ('POSITION', 'NNP'), ('solemnly', 'RB'), ('and', 'CC'), (\"''\", \"''\"), ('Sincerely', 'RB'), ('declare', 'VBP'), ('that', 'IN'), ('above', 'IN'), ('into', 'IN'), ('watation', 'NN'), ('provided', 'VBN'), ('is', 'VBZ'), ('correct', 'JJ'), ('.', '.')], [('(', '('), ('Signature', 'NN'), ('of', 'IN'), ('Player', 'NNP'), (')', ')'), ('Witness', 'NNP'), ('by', 'IN'), ('(', '('), ('FORM', 'NNP'), ('SHOULD', 'NNP'), ('BE', 'NNP'), ('WITNESSED', 'NNP'), ('BY', 'NNP'), ('BARRISTER', 'NNP'), ('&', 'CC'), ('SOLICITOR', 'NNP'), ('.', '.')], [('COMMISSIONER', 'NNP'), ('OF', 'NNP'), ('OATH', 'NNP'), ('ORJP', 'NNP'), (')', ')'), ('.', '.')], [('ONECKLIST', 'NNP'), ('Player', 'NNP'), ('Registration', 'NNP'), ('Form', 'NNP'), ('Transfer', 'NNP'), ('Form', 'NNP'), ('(', '('), ('Applying', 'VBG'), ('for', 'IN'), ('Transfer', 'NNP'), (')', ')'), ('Passport', 'NNP'), ('Size', 'NNP'), ('Photo', 'NNP'), ('Certled', 'NNP'), (')', ')'), ('Orional', 'NNP'), ('Birth', 'NNP'), ('Certificate', 'NNP'), ('Certified', 'NNP'), ('Copy', 'NNP'), ('of', 'IN'), ('TIN', 'NNP'), ('Card/', 'NNP'), ('Voter', 'NNP'), ('Card', 'NNP'), ('/', 'NNP'), ('Passport', 'NNP'), ('Certified', 'NNP'), ('copy', 'NN'), ('of', 'IN'), ('Enrollment', 'NNP'), ('FormiSchool', 'NNP'), ('Registration', 'NNP'), (')', ')'), ('Elub', 'NNP'), ('President/', 'NNP'), ('Secretary', 'NNP'), ('Date', 'NNP'), ('Hlytelet', 'NNP'), ('President/Secretary', 'NNP'), ('School', 'NNP'), ('Date', 'NNP'), (':', ':'), ('OFFICE', 'NN'), ('USE', 'NN'), ('ONLY', 'NNP'), ('Somment-', 'NNP'), ('ceipt', 'NN'), ('Number', 'NNP'), (':', ':'), ('Date', 'NN'), (':', ':'), ('No', 'DT'), (':', ':'), ('REGISTAATIONFIJI', 'NNP'), ('FOOTBALL', 'NNP'), ('ASSOCIATION', 'NNP'), ('PLAYER', 'NNP'), ('REGISTRATION/LICENSING', 'NNP'), ('SURNAME', 'NNP'), ('NASIE', 'NNP'), ('KHEDKAR', 'NNP'), ('ONKAR', 'NNP'), ('24/09/1999', 'CD'), ('MALE', 'NNP'), ('DATE', 'NNP'), ('OF', 'NNP'), ('BIRTH', 'NNP'), ('SEX', 'NNP'), ('ATTACIE', 'NNP'), ('PHOTO', 'NNP'), ('HERE', 'NNP'), ('TO', 'NNP'), ('BE', 'NNP'), ('CERTIFIED', 'NNP'), ('BY', 'NNP'), ('BARRISTER', 'NNP'), ('&', 'CC'), ('SOLICITOR', 'NNP'), ('CONNUISSIONER', 'NNP'), ('OF', 'NNP'), ('OATH', 'NNP'), ('OR', 'NNP'), ('JI*', 'NNP'), ('ADDRESS', 'NNP'), ('PHONE', 'NNP'), ('CONTACT', 'NNP'), ('EMAIL', 'NNP'), ('ADDRESS', 'NNP'), ('999', 'CD'), ('9922334', 'CD'), ('Onkar', 'NNP'), ('@', 'NNP'), ('gmail.com', 'NN'), ('PRIOR', 'NNP'), ('REGISTAATION', 'NNP'), ('Yes', 'NNP'), (',', ','), ('Plessa', 'NNP'), ('fall', 'NN'), ('in', 'IN'), ('the', 'DT'), ('details', 'NNS'), ('below', 'IN'), (':', ':'), ('DISTRUCT', 'NNP'), ('REGISTERED', 'NNP'), ('NEW', 'NNP'), ('DISTRICT', 'NNP'), ('CLUB/SCHOOL', 'NNP'), ('REGISTERED', 'NNP'), ('NEW', 'NNP'), ('CLUB/SCHOOL', 'NNP'), ('LICENSE', 'NNP'), ('NO', 'NNP'), ('.', '.')], [('FLAMING', 'NN'), ('POSITION', 'NNP'), ('solemnly', 'RB'), ('and', 'CC'), (\"''\", \"''\"), ('Sincerely', 'RB'), ('declare', 'VBP'), ('that', 'IN'), ('above', 'IN'), ('into', 'IN'), ('watation', 'NN'), ('provided', 'VBN'), ('is', 'VBZ'), ('correct', 'JJ'), ('.', '.')], [('(', '('), ('Signature', 'NN'), ('of', 'IN'), ('Player', 'NNP'), (')', ')'), ('Witness', 'NNP'), ('by', 'IN'), ('(', '('), ('FORM', 'NNP'), ('SHOULD', 'NNP'), ('BE', 'NNP'), ('WITNESSED', 'NNP'), ('BY', 'NNP'), ('BARRISTER', 'NNP'), ('&', 'CC'), ('SOLICITOR', 'NNP'), ('.', '.')], [('COMMISSIONER', 'NNP'), ('OF', 'NNP'), ('OATH', 'NNP'), ('ORJP', 'NNP'), (')', ')'), ('.', '.')], [('ONECKLIST', 'NNP'), ('Player', 'NNP'), ('Registration', 'NNP'), ('Form', 'NNP'), ('Transfer', 'NNP'), ('Form', 'NNP'), ('(', '('), ('Applying', 'VBG'), ('for', 'IN'), ('Transfer', 'NNP'), (')', ')'), ('Passport', 'NNP'), ('Size', 'NNP'), ('Photo', 'NNP'), ('Certled', 'NNP'), (')', ')'), ('Orional', 'NNP'), ('Birth', 'NNP'), ('Certificate', 'NNP'), ('Certified', 'NNP'), ('Copy', 'NNP'), ('of', 'IN'), ('TIN', 'NNP'), ('Card/', 'NNP'), ('Voter', 'NNP'), ('Card', 'NNP'), ('/', 'NNP'), ('Passport', 'NNP'), ('Certified', 'NNP'), ('copy', 'NN'), ('of', 'IN'), ('Enrollment', 'NNP'), ('FormiSchool', 'NNP'), ('Registration', 'NNP'), (')', ')'), ('Elub', 'NNP'), ('President/', 'NNP'), ('Secretary', 'NNP'), ('Date', 'NNP'), ('Hlytelet', 'NNP'), ('President/Secretary', 'NNP'), ('School', 'NNP'), ('Date', 'NNP'), (':', ':'), ('OFFICE', 'NN'), ('USE', 'NN'), ('ONLY', 'NNP'), ('Somment-', 'NNP'), ('ceipt', 'NN'), ('Number', 'NNP'), (':', ':'), ('Date', 'NN'), (':', ':'), ('No', 'DT'), (':', ':'), ('PlessaFIJI', 'NNP'), ('FOOTBALL', 'NNP'), ('ASSOCIATION', 'NNP'), ('PLAYER', 'NNP'), ('REGISTRATION/LICENSING', 'NNP'), ('SURNAME', 'NNP'), ('NASIE', 'NNP'), ('KHEDKAR', 'NNP'), ('ONKAR', 'NNP'), ('24/09/1999', 'CD'), ('MALE', 'NNP'), ('DATE', 'NNP'), ('OF', 'NNP'), ('BIRTH', 'NNP'), ('SEX', 'NNP'), ('ATTACIE', 'NNP'), ('PHOTO', 'NNP'), ('HERE', 'NNP'), ('TO', 'NNP'), ('BE', 'NNP'), ('CERTIFIED', 'NNP'), ('BY', 'NNP'), ('BARRISTER', 'NNP'), ('&', 'CC'), ('SOLICITOR', 'NNP'), ('CONNUISSIONER', 'NNP'), ('OF', 'NNP'), ('OATH', 'NNP'), ('OR', 'NNP'), ('JI*', 'NNP'), ('ADDRESS', 'NNP'), ('PHONE', 'NNP'), ('CONTACT', 'NNP'), ('EMAIL', 'NNP'), ('ADDRESS', 'NNP'), ('999', 'CD'), ('9922334', 'CD'), ('Onkar', 'NNP'), ('@', 'NNP'), ('gmail.com', 'NN'), ('PRIOR', 'NNP'), ('REGISTAATION', 'NNP'), ('Yes', 'NNP'), (',', ','), ('Plessa', 'NNP'), ('fall', 'NN'), ('in', 'IN'), ('the', 'DT'), ('details', 'NNS'), ('below', 'IN'), (':', ':'), ('DISTRUCT', 'NNP'), ('REGISTERED', 'NNP'), ('NEW', 'NNP'), ('DISTRICT', 'NNP'), ('CLUB/SCHOOL', 'NNP'), ('REGISTERED', 'NNP'), ('NEW', 'NNP'), ('CLUB/SCHOOL', 'NNP'), ('LICENSE', 'NNP'), ('NO', 'NNP'), ('.', '.')], [('FLAMING', 'NN'), ('POSITION', 'NNP'), ('solemnly', 'RB'), ('and', 'CC'), (\"''\", \"''\"), ('Sincerely', 'RB'), ('declare', 'VBP'), ('that', 'IN'), ('above', 'IN'), ('into', 'IN'), ('watation', 'NN'), ('provided', 'VBN'), ('is', 'VBZ'), ('correct', 'JJ'), ('.', '.')], [('(', '('), ('Signature', 'NN'), ('of', 'IN'), ('Player', 'NNP'), (')', ')'), ('Witness', 'NNP'), ('by', 'IN'), ('(', '('), ('FORM', 'NNP'), ('SHOULD', 'NNP'), ('BE', 'NNP'), ('WITNESSED', 'NNP'), ('BY', 'NNP'), ('BARRISTER', 'NNP'), ('&', 'CC'), ('SOLICITOR', 'NNP'), ('.', '.')], [('COMMISSIONER', 'NNP'), ('OF', 'NNP'), ('OATH', 'NNP'), ('ORJP', 'NNP'), (')', ')'), ('.', '.')], [('ONECKLIST', 'NNP'), ('Player', 'NNP'), ('Registration', 'NNP'), ('Form', 'NNP'), ('Transfer', 'NNP'), ('Form', 'NNP'), ('(', '('), ('Applying', 'VBG'), ('for', 'IN'), ('Transfer', 'NNP'), (')', ')'), ('Passport', 'NNP'), ('Size', 'NNP'), ('Photo', 'NNP'), ('Certled', 'NNP'), (')', ')'), ('Orional', 'NNP'), ('Birth', 'NNP'), ('Certificate', 'NNP'), ('Certified', 'NNP'), ('Copy', 'NNP'), ('of', 'IN'), ('TIN', 'NNP'), ('Card/', 'NNP'), ('Voter', 'NNP'), ('Card', 'NNP'), ('/', 'NNP'), ('Passport', 'NNP'), ('Certified', 'NNP'), ('copy', 'NN'), ('of', 'IN'), ('Enrollment', 'NNP'), ('FormiSchool', 'NNP'), ('Registration', 'NNP'), (')', ')'), ('Elub', 'NNP'), ('President/', 'NNP'), ('Secretary', 'NNP'), ('Date', 'NNP'), ('Hlytelet', 'NNP'), ('President/Secretary', 'NNP'), ('School', 'NNP'), ('Date', 'NNP'), (':', ':'), ('OFFICE', 'NN'), ('USE', 'NN'), ('ONLY', 'NNP'), ('Somment-', 'NNP'), ('ceipt', 'NN'), ('Number', 'NNP'), (':', ':'), ('Date', 'NN'), (':', ':'), ('No', 'DT'), (':', ':'), ('fallFIJI', 'NN'), ('FOOTBALL', 'NNP'), ('ASSOCIATION', 'NNP'), ('PLAYER', 'NNP'), ('REGISTRATION/LICENSING', 'NNP'), ('SURNAME', 'NNP'), ('NASIE', 'NNP'), ('KHEDKAR', 'NNP'), ('ONKAR', 'NNP'), ('24/09/1999', 'CD'), ('MALE', 'NNP'), ('DATE', 'NNP'), ('OF', 'NNP'), ('BIRTH', 'NNP'), ('SEX', 'NNP'), ('ATTACIE', 'NNP'), ('PHOTO', 'NNP'), ('HERE', 'NNP'), ('TO', 'NNP'), ('BE', 'NNP'), ('CERTIFIED', 'NNP'), ('BY', 'NNP'), ('BARRISTER', 'NNP'), ('&', 'CC'), ('SOLICITOR', 'NNP'), ('CONNUISSIONER', 'NNP'), ('OF', 'NNP'), ('OATH', 'NNP'), ('OR', 'NNP'), ('JI*', 'NNP'), ('ADDRESS', 'NNP'), ('PHONE', 'NNP'), ('CONTACT', 'NNP'), ('EMAIL', 'NNP'), ('ADDRESS', 'NNP'), ('999', 'CD'), ('9922334', 'CD'), ('Onkar', 'NNP'), ('@', 'NNP'), ('gmail.com', 'NN'), ('PRIOR', 'NNP'), ('REGISTAATION', 'NNP'), ('Yes', 'NNP'), (',', ','), ('Plessa', 'NNP'), ('fall', 'NN'), ('in', 'IN'), ('the', 'DT'), ('details', 'NNS'), ('below', 'IN'), (':', ':'), ('DISTRUCT', 'NNP'), ('REGISTERED', 'NNP'), ('NEW', 'NNP'), ('DISTRICT', 'NNP'), ('CLUB/SCHOOL', 'NNP'), ('REGISTERED', 'NNP'), ('NEW', 'NNP'), ('CLUB/SCHOOL', 'NNP'), ('LICENSE', 'NNP'), ('NO', 'NNP'), ('.', '.')], [('FLAMING', 'NN'), ('POSITION', 'NNP'), ('solemnly', 'RB'), ('and', 'CC'), (\"''\", \"''\"), ('Sincerely', 'RB'), ('declare', 'VBP'), ('that', 'IN'), ('above', 'IN'), ('into', 'IN'), ('watation', 'NN'), ('provided', 'VBN'), ('is', 'VBZ'), ('correct', 'JJ'), ('.', '.')], [('(', '('), ('Signature', 'NN'), ('of', 'IN'), ('Player', 'NNP'), (')', ')'), ('Witness', 'NNP'), ('by', 'IN'), ('(', '('), ('FORM', 'NNP'), ('SHOULD', 'NNP'), ('BE', 'NNP'), ('WITNESSED', 'NNP'), ('BY', 'NNP'), ('BARRISTER', 'NNP'), ('&', 'CC'), ('SOLICITOR', 'NNP'), ('.', '.')], [('COMMISSIONER', 'NNP'), ('OF', 'NNP'), ('OATH', 'NNP'), ('ORJP', 'NNP'), (')', ')'), ('.', '.')], [('ONECKLIST', 'NNP'), ('Player', 'NNP'), ('Registration', 'NNP'), ('Form', 'NNP'), ('Transfer', 'NNP'), ('Form', 'NNP'), ('(', '('), ('Applying', 'VBG'), ('for', 'IN'), ('Transfer', 'NNP'), (')', ')'), ('Passport', 'NNP'), ('Size', 'NNP'), ('Photo', 'NNP'), ('Certled', 'NNP'), (')', ')'), ('Orional', 'NNP'), ('Birth', 'NNP'), ('Certificate', 'NNP'), ('Certified', 'NNP'), ('Copy', 'NNP'), ('of', 'IN'), ('TIN', 'NNP'), ('Card/', 'NNP'), ('Voter', 'NNP'), ('Card', 'NNP'), ('/', 'NNP'), ('Passport', 'NNP'), ('Certified', 'NNP'), ('copy', 'NN'), ('of', 'IN'), ('Enrollment', 'NNP'), ('FormiSchool', 'NNP'), ('Registration', 'NNP'), (')', ')'), ('Elub', 'NNP'), ('President/', 'NNP'), ('Secretary', 'NNP'), ('Date', 'NNP'), ('Hlytelet', 'NNP'), ('President/Secretary', 'NNP'), ('School', 'NNP'), ('Date', 'NNP'), (':', ':'), ('OFFICE', 'NN'), ('USE', 'NN'), ('ONLY', 'NNP'), ('Somment-', 'NNP'), ('ceipt', 'NN'), ('Number', 'NNP'), (':', ':'), ('Date', 'NN'), (':', ':'), ('No', 'DT'), (':', ':'), ('below', 'NN'), (':', ':'), ('FIJI', 'NNP'), ('FOOTBALL', 'NNP'), ('ASSOCIATION', 'NNP'), ('PLAYER', 'NNP'), ('REGISTRATION/LICENSING', 'NNP'), ('SURNAME', 'NNP'), ('NASIE', 'NNP'), ('KHEDKAR', 'NNP'), ('ONKAR', 'NNP'), ('24/09/1999', 'CD'), ('MALE', 'NNP'), ('DATE', 'NNP'), ('OF', 'NNP'), ('BIRTH', 'NNP'), ('SEX', 'NNP'), ('ATTACIE', 'NNP'), ('PHOTO', 'NNP'), ('HERE', 'NNP'), ('TO', 'NNP'), ('BE', 'NNP'), ('CERTIFIED', 'NNP'), ('BY', 'NNP'), ('BARRISTER', 'NNP'), ('&', 'CC'), ('SOLICITOR', 'NNP'), ('CONNUISSIONER', 'NNP'), ('OF', 'NNP'), ('OATH', 'NNP'), ('OR', 'NNP'), ('JI*', 'NNP'), ('ADDRESS', 'NNP'), ('PHONE', 'NNP'), ('CONTACT', 'NNP'), ('EMAIL', 'NNP'), ('ADDRESS', 'NNP'), ('999', 'CD'), ('9922334', 'CD'), ('Onkar', 'NNP'), ('@', 'NNP'), ('gmail.com', 'NN'), ('PRIOR', 'NNP'), ('REGISTAATION', 'NNP'), ('Yes', 'NNP'), (',', ','), ('Plessa', 'NNP'), ('fall', 'NN'), ('in', 'IN'), ('the', 'DT'), ('details', 'NNS'), ('below', 'IN'), (':', ':'), ('DISTRUCT', 'NNP'), ('REGISTERED', 'NNP'), ('NEW', 'NNP'), ('DISTRICT', 'NNP'), ('CLUB/SCHOOL', 'NNP'), ('REGISTERED', 'NNP'), ('NEW', 'NNP'), ('CLUB/SCHOOL', 'NNP'), ('LICENSE', 'NNP'), ('NO', 'NNP'), ('.', '.')], [('FLAMING', 'NN'), ('POSITION', 'NNP'), ('solemnly', 'RB'), ('and', 'CC'), (\"''\", \"''\"), ('Sincerely', 'RB'), ('declare', 'VBP'), ('that', 'IN'), ('above', 'IN'), ('into', 'IN'), ('watation', 'NN'), ('provided', 'VBN'), ('is', 'VBZ'), ('correct', 'JJ'), ('.', '.')], [('(', '('), ('Signature', 'NN'), ('of', 'IN'), ('Player', 'NNP'), (')', ')'), ('Witness', 'NNP'), ('by', 'IN'), ('(', '('), ('FORM', 'NNP'), ('SHOULD', 'NNP'), ('BE', 'NNP'), ('WITNESSED', 'NNP'), ('BY', 'NNP'), ('BARRISTER', 'NNP'), ('&', 'CC'), ('SOLICITOR', 'NNP'), ('.', '.')], [('COMMISSIONER', 'NNP'), ('OF', 'NNP'), ('OATH', 'NNP'), ('ORJP', 'NNP'), (')', ')'), ('.', '.')], [('ONECKLIST', 'NNP'), ('Player', 'NNP'), ('Registration', 'NNP'), ('Form', 'NNP'), ('Transfer', 'NNP'), ('Form', 'NNP'), ('(', '('), ('Applying', 'VBG'), ('for', 'IN'), ('Transfer', 'NNP'), (')', ')'), ('Passport', 'NNP'), ('Size', 'NNP'), ('Photo', 'NNP'), ('Certled', 'NNP'), (')', ')'), ('Orional', 'NNP'), ('Birth', 'NNP'), ('Certificate', 'NNP'), ('Certified', 'NNP'), ('Copy', 'NNP'), ('of', 'IN'), ('TIN', 'NNP'), ('Card/', 'NNP'), ('Voter', 'NNP'), ('Card', 'NNP'), ('/', 'NNP'), ('Passport', 'NNP'), ('Certified', 'NNP'), ('copy', 'NN'), ('of', 'IN'), ('Enrollment', 'NNP'), ('FormiSchool', 'NNP'), ('Registration', 'NNP'), (')', ')'), ('Elub', 'NNP'), ('President/', 'NNP'), ('Secretary', 'NNP'), ('Date', 'NNP'), ('Hlytelet', 'NNP'), ('President/Secretary', 'NNP'), ('School', 'NNP'), ('Date', 'NNP'), (':', ':'), ('OFFICE', 'NN'), ('USE', 'NN'), ('ONLY', 'NNP'), ('Somment-', 'NNP'), ('ceipt', 'NN'), ('Number', 'NNP'), (':', ':'), ('Date', 'NN'), (':', ':'), ('No', 'DT'), (':', ':'), ('DISTRUCTFIJI', 'NNP'), ('FOOTBALL', 'NNP'), ('ASSOCIATION', 'NNP'), ('PLAYER', 'NNP'), ('REGISTRATION/LICENSING', 'NNP'), ('SURNAME', 'NNP'), ('NASIE', 'NNP'), ('KHEDKAR', 'NNP'), ('ONKAR', 'NNP'), ('24/09/1999', 'CD'), ('MALE', 'NNP'), ('DATE', 'NNP'), ('OF', 'NNP'), ('BIRTH', 'NNP'), ('SEX', 'NNP'), ('ATTACIE', 'NNP'), ('PHOTO', 'NNP'), ('HERE', 'NNP'), ('TO', 'NNP'), ('BE', 'NNP'), ('CERTIFIED', 'NNP'), ('BY', 'NNP'), ('BARRISTER', 'NNP'), ('&', 'CC'), ('SOLICITOR', 'NNP'), ('CONNUISSIONER', 'NNP'), ('OF', 'NNP'), ('OATH', 'NNP'), ('OR', 'NNP'), ('JI*', 'NNP'), ('ADDRESS', 'NNP'), ('PHONE', 'NNP'), ('CONTACT', 'NNP'), ('EMAIL', 'NNP'), ('ADDRESS', 'NNP'), ('999', 'CD'), ('9922334', 'CD'), ('Onkar', 'NNP'), ('@', 'NNP'), ('gmail.com', 'NN'), ('PRIOR', 'NNP'), ('REGISTAATION', 'NNP'), ('Yes', 'NNP'), (',', ','), ('Plessa', 'NNP'), ('fall', 'NN'), ('in', 'IN'), ('the', 'DT'), ('details', 'NNS'), ('below', 'IN'), (':', ':'), ('DISTRUCT', 'NNP'), ('REGISTERED', 'NNP'), ('NEW', 'NNP'), ('DISTRICT', 'NNP'), ('CLUB/SCHOOL', 'NNP'), ('REGISTERED', 'NNP'), ('NEW', 'NNP'), ('CLUB/SCHOOL', 'NNP'), ('LICENSE', 'NNP'), ('NO', 'NNP'), ('.', '.')], [('FLAMING', 'NN'), ('POSITION', 'NNP'), ('solemnly', 'RB'), ('and', 'CC'), (\"''\", \"''\"), ('Sincerely', 'RB'), ('declare', 'VBP'), ('that', 'IN'), ('above', 'IN'), ('into', 'IN'), ('watation', 'NN'), ('provided', 'VBN'), ('is', 'VBZ'), ('correct', 'JJ'), ('.', '.')], [('(', '('), ('Signature', 'NN'), ('of', 'IN'), ('Player', 'NNP'), (')', ')'), ('Witness', 'NNP'), ('by', 'IN'), ('(', '('), ('FORM', 'NNP'), ('SHOULD', 'NNP'), ('BE', 'NNP'), ('WITNESSED', 'NNP'), ('BY', 'NNP'), ('BARRISTER', 'NNP'), ('&', 'CC'), ('SOLICITOR', 'NNP'), ('.', '.')], [('COMMISSIONER', 'NNP'), ('OF', 'NNP'), ('OATH', 'NNP'), ('ORJP', 'NNP'), (')', ')'), ('.', '.')], [('ONECKLIST', 'NNP'), ('Player', 'NNP'), ('Registration', 'NNP'), ('Form', 'NNP'), ('Transfer', 'NNP'), ('Form', 'NNP'), ('(', '('), ('Applying', 'VBG'), ('for', 'IN'), ('Transfer', 'NNP'), (')', ')'), ('Passport', 'NNP'), ('Size', 'NNP'), ('Photo', 'NNP'), ('Certled', 'NNP'), (')', ')'), ('Orional', 'NNP'), ('Birth', 'NNP'), ('Certificate', 'NNP'), ('Certified', 'NNP'), ('Copy', 'NNP'), ('of', 'IN'), ('TIN', 'NNP'), ('Card/', 'NNP'), ('Voter', 'NNP'), ('Card', 'NNP'), ('/', 'NNP'), ('Passport', 'NNP'), ('Certified', 'NNP'), ('copy', 'NN'), ('of', 'IN'), ('Enrollment', 'NNP'), ('FormiSchool', 'NNP'), ('Registration', 'NNP'), (')', ')'), ('Elub', 'NNP'), ('President/', 'NNP'), ('Secretary', 'NNP'), ('Date', 'NNP'), ('Hlytelet', 'NNP'), ('President/Secretary', 'NNP'), ('School', 'NNP'), ('Date', 'NNP'), (':', ':'), ('OFFICE', 'NN'), ('USE', 'NN'), ('ONLY', 'NNP'), ('Somment-', 'NNP'), ('ceipt', 'NN'), ('Number', 'NNP'), (':', ':'), ('Date', 'NN'), (':', ':'), ('No', 'DT'), (':', ':'), ('REGISTEREDFIJI', 'NNP'), ('FOOTBALL', 'NNP'), ('ASSOCIATION', 'NNP'), ('PLAYER', 'NNP'), ('REGISTRATION/LICENSING', 'NNP'), ('SURNAME', 'NNP'), ('NASIE', 'NNP'), ('KHEDKAR', 'NNP'), ('ONKAR', 'NNP'), ('24/09/1999', 'CD'), ('MALE', 'NNP'), ('DATE', 'NNP'), ('OF', 'NNP'), ('BIRTH', 'NNP'), ('SEX', 'NNP'), ('ATTACIE', 'NNP'), ('PHOTO', 'NNP'), ('HERE', 'NNP'), ('TO', 'NNP'), ('BE', 'NNP'), ('CERTIFIED', 'NNP'), ('BY', 'NNP'), ('BARRISTER', 'NNP'), ('&', 'CC'), ('SOLICITOR', 'NNP'), ('CONNUISSIONER', 'NNP'), ('OF', 'NNP'), ('OATH', 'NNP'), ('OR', 'NNP'), ('JI*', 'NNP'), ('ADDRESS', 'NNP'), ('PHONE', 'NNP'), ('CONTACT', 'NNP'), ('EMAIL', 'NNP'), ('ADDRESS', 'NNP'), ('999', 'CD'), ('9922334', 'CD'), ('Onkar', 'NNP'), ('@', 'NNP'), ('gmail.com', 'NN'), ('PRIOR', 'NNP'), ('REGISTAATION', 'NNP'), ('Yes', 'NNP'), (',', ','), ('Plessa', 'NNP'), ('fall', 'NN'), ('in', 'IN'), ('the', 'DT'), ('details', 'NNS'), ('below', 'IN'), (':', ':'), ('DISTRUCT', 'NNP'), ('REGISTERED', 'NNP'), ('NEW', 'NNP'), ('DISTRICT', 'NNP'), ('CLUB/SCHOOL', 'NNP'), ('REGISTERED', 'NNP'), ('NEW', 'NNP'), ('CLUB/SCHOOL', 'NNP'), ('LICENSE', 'NNP'), ('NO', 'NNP'), ('.', '.')], [('FLAMING', 'NN'), ('POSITION', 'NNP'), ('solemnly', 'RB'), ('and', 'CC'), (\"''\", \"''\"), ('Sincerely', 'RB'), ('declare', 'VBP'), ('that', 'IN'), ('above', 'IN'), ('into', 'IN'), ('watation', 'NN'), ('provided', 'VBN'), ('is', 'VBZ'), ('correct', 'JJ'), ('.', '.')], [('(', '('), ('Signature', 'NN'), ('of', 'IN'), ('Player', 'NNP'), (')', ')'), ('Witness', 'NNP'), ('by', 'IN'), ('(', '('), ('FORM', 'NNP'), ('SHOULD', 'NNP'), ('BE', 'NNP'), ('WITNESSED', 'NNP'), ('BY', 'NNP'), ('BARRISTER', 'NNP'), ('&', 'CC'), ('SOLICITOR', 'NNP'), ('.', '.')], [('COMMISSIONER', 'NNP'), ('OF', 'NNP'), ('OATH', 'NNP'), ('ORJP', 'NNP'), (')', ')'), ('.', '.')], [('ONECKLIST', 'NNP'), ('Player', 'NNP'), ('Registration', 'NNP'), ('Form', 'NNP'), ('Transfer', 'NNP'), ('Form', 'NNP'), ('(', '('), ('Applying', 'VBG'), ('for', 'IN'), ('Transfer', 'NNP'), (')', ')'), ('Passport', 'NNP'), ('Size', 'NNP'), ('Photo', 'NNP'), ('Certled', 'NNP'), (')', ')'), ('Orional', 'NNP'), ('Birth', 'NNP'), ('Certificate', 'NNP'), ('Certified', 'NNP'), ('Copy', 'NNP'), ('of', 'IN'), ('TIN', 'NNP'), ('Card/', 'NNP'), ('Voter', 'NNP'), ('Card', 'NNP'), ('/', 'NNP'), ('Passport', 'NNP'), ('Certified', 'NNP'), ('copy', 'NN'), ('of', 'IN'), ('Enrollment', 'NNP'), ('FormiSchool', 'NNP'), ('Registration', 'NNP'), (')', ')'), ('Elub', 'NNP'), ('President/', 'NNP'), ('Secretary', 'NNP'), ('Date', 'NNP'), ('Hlytelet', 'NNP'), ('President/Secretary', 'NNP'), ('School', 'NNP'), ('Date', 'NNP'), (':', ':'), ('OFFICE', 'NN'), ('USE', 'NN'), ('ONLY', 'NNP'), ('Somment-', 'NNP'), ('ceipt', 'NN'), ('Number', 'NNP'), (':', ':'), ('Date', 'NN'), (':', ':'), ('No', 'DT'), (':', ':'), ('NEWFIJI', 'NNP'), ('FOOTBALL', 'NNP'), ('ASSOCIATION', 'NNP'), ('PLAYER', 'NNP'), ('REGISTRATION/LICENSING', 'NNP'), ('SURNAME', 'NNP'), ('NASIE', 'NNP'), ('KHEDKAR', 'NNP'), ('ONKAR', 'NNP'), ('24/09/1999', 'CD'), ('MALE', 'NNP'), ('DATE', 'NNP'), ('OF', 'NNP'), ('BIRTH', 'NNP'), ('SEX', 'NNP'), ('ATTACIE', 'NNP'), ('PHOTO', 'NNP'), ('HERE', 'NNP'), ('TO', 'NNP'), ('BE', 'NNP'), ('CERTIFIED', 'NNP'), ('BY', 'NNP'), ('BARRISTER', 'NNP'), ('&', 'CC'), ('SOLICITOR', 'NNP'), ('CONNUISSIONER', 'NNP'), ('OF', 'NNP'), ('OATH', 'NNP'), ('OR', 'NNP'), ('JI*', 'NNP'), ('ADDRESS', 'NNP'), ('PHONE', 'NNP'), ('CONTACT', 'NNP'), ('EMAIL', 'NNP'), ('ADDRESS', 'NNP'), ('999', 'CD'), ('9922334', 'CD'), ('Onkar', 'NNP'), ('@', 'NNP'), ('gmail.com', 'NN'), ('PRIOR', 'NNP'), ('REGISTAATION', 'NNP'), ('Yes', 'NNP'), (',', ','), ('Plessa', 'NNP'), ('fall', 'NN'), ('in', 'IN'), ('the', 'DT'), ('details', 'NNS'), ('below', 'IN'), (':', ':'), ('DISTRUCT', 'NNP'), ('REGISTERED', 'NNP'), ('NEW', 'NNP'), ('DISTRICT', 'NNP'), ('CLUB/SCHOOL', 'NNP'), ('REGISTERED', 'NNP'), ('NEW', 'NNP'), ('CLUB/SCHOOL', 'NNP'), ('LICENSE', 'NNP'), ('NO', 'NNP'), ('.', '.')], [('FLAMING', 'NN'), ('POSITION', 'NNP'), ('solemnly', 'RB'), ('and', 'CC'), (\"''\", \"''\"), ('Sincerely', 'RB'), ('declare', 'VBP'), ('that', 'IN'), ('above', 'IN'), ('into', 'IN'), ('watation', 'NN'), ('provided', 'VBN'), ('is', 'VBZ'), ('correct', 'JJ'), ('.', '.')], [('(', '('), ('Signature', 'NN'), ('of', 'IN'), ('Player', 'NNP'), (')', ')'), ('Witness', 'NNP'), ('by', 'IN'), ('(', '('), ('FORM', 'NNP'), ('SHOULD', 'NNP'), ('BE', 'NNP'), ('WITNESSED', 'NNP'), ('BY', 'NNP'), ('BARRISTER', 'NNP'), ('&', 'CC'), ('SOLICITOR', 'NNP'), ('.', '.')], [('COMMISSIONER', 'NNP'), ('OF', 'NNP'), ('OATH', 'NNP'), ('ORJP', 'NNP'), (')', ')'), ('.', '.')], [('ONECKLIST', 'NNP'), ('Player', 'NNP'), ('Registration', 'NNP'), ('Form', 'NNP'), ('Transfer', 'NNP'), ('Form', 'NNP'), ('(', '('), ('Applying', 'VBG'), ('for', 'IN'), ('Transfer', 'NNP'), (')', ')'), ('Passport', 'NNP'), ('Size', 'NNP'), ('Photo', 'NNP'), ('Certled', 'NNP'), (')', ')'), ('Orional', 'NNP'), ('Birth', 'NNP'), ('Certificate', 'NNP'), ('Certified', 'NNP'), ('Copy', 'NNP'), ('of', 'IN'), ('TIN', 'NNP'), ('Card/', 'NNP'), ('Voter', 'NNP'), ('Card', 'NNP'), ('/', 'NNP'), ('Passport', 'NNP'), ('Certified', 'NNP'), ('copy', 'NN'), ('of', 'IN'), ('Enrollment', 'NNP'), ('FormiSchool', 'NNP'), ('Registration', 'NNP'), (')', ')'), ('Elub', 'NNP'), ('President/', 'NNP'), ('Secretary', 'NNP'), ('Date', 'NNP'), ('Hlytelet', 'NNP'), ('President/Secretary', 'NNP'), ('School', 'NNP'), ('Date', 'NNP'), (':', ':'), ('OFFICE', 'NN'), ('USE', 'NN'), ('ONLY', 'NNP'), ('Somment-', 'NNP'), ('ceipt', 'NN'), ('Number', 'NNP'), (':', ':'), ('Date', 'NN'), (':', ':'), ('No', 'DT'), (':', ':'), ('DISTRICTFIJI', 'NNP'), ('FOOTBALL', 'NNP'), ('ASSOCIATION', 'NNP'), ('PLAYER', 'NNP'), ('REGISTRATION/LICENSING', 'NNP'), ('SURNAME', 'NNP'), ('NASIE', 'NNP'), ('KHEDKAR', 'NNP'), ('ONKAR', 'NNP'), ('24/09/1999', 'CD'), ('MALE', 'NNP'), ('DATE', 'NNP'), ('OF', 'NNP'), ('BIRTH', 'NNP'), ('SEX', 'NNP'), ('ATTACIE', 'NNP'), ('PHOTO', 'NNP'), ('HERE', 'NNP'), ('TO', 'NNP'), ('BE', 'NNP'), ('CERTIFIED', 'NNP'), ('BY', 'NNP'), ('BARRISTER', 'NNP'), ('&', 'CC'), ('SOLICITOR', 'NNP'), ('CONNUISSIONER', 'NNP'), ('OF', 'NNP'), ('OATH', 'NNP'), ('OR', 'NNP'), ('JI*', 'NNP'), ('ADDRESS', 'NNP'), ('PHONE', 'NNP'), ('CONTACT', 'NNP'), ('EMAIL', 'NNP'), ('ADDRESS', 'NNP'), ('999', 'CD'), ('9922334', 'CD'), ('Onkar', 'NNP'), ('@', 'NNP'), ('gmail.com', 'NN'), ('PRIOR', 'NNP'), ('REGISTAATION', 'NNP'), ('Yes', 'NNP'), (',', ','), ('Plessa', 'NNP'), ('fall', 'NN'), ('in', 'IN'), ('the', 'DT'), ('details', 'NNS'), ('below', 'IN'), (':', ':'), ('DISTRUCT', 'NNP'), ('REGISTERED', 'NNP'), ('NEW', 'NNP'), ('DISTRICT', 'NNP'), ('CLUB/SCHOOL', 'NNP'), ('REGISTERED', 'NNP'), ('NEW', 'NNP'), ('CLUB/SCHOOL', 'NNP'), ('LICENSE', 'NNP'), ('NO', 'NNP'), ('.', '.')], [('FLAMING', 'NN'), ('POSITION', 'NNP'), ('solemnly', 'RB'), ('and', 'CC'), (\"''\", \"''\"), ('Sincerely', 'RB'), ('declare', 'VBP'), ('that', 'IN'), ('above', 'IN'), ('into', 'IN'), ('watation', 'NN'), ('provided', 'VBN'), ('is', 'VBZ'), ('correct', 'JJ'), ('.', '.')], [('(', '('), ('Signature', 'NN'), ('of', 'IN'), ('Player', 'NNP'), (')', ')'), ('Witness', 'NNP'), ('by', 'IN'), ('(', '('), ('FORM', 'NNP'), ('SHOULD', 'NNP'), ('BE', 'NNP'), ('WITNESSED', 'NNP'), ('BY', 'NNP'), ('BARRISTER', 'NNP'), ('&', 'CC'), ('SOLICITOR', 'NNP'), ('.', '.')], [('COMMISSIONER', 'NNP'), ('OF', 'NNP'), ('OATH', 'NNP'), ('ORJP', 'NNP'), (')', ')'), ('.', '.')], [('ONECKLIST', 'NNP'), ('Player', 'NNP'), ('Registration', 'NNP'), ('Form', 'NNP'), ('Transfer', 'NNP'), ('Form', 'NNP'), ('(', '('), ('Applying', 'VBG'), ('for', 'IN'), ('Transfer', 'NNP'), (')', ')'), ('Passport', 'NNP'), ('Size', 'NNP'), ('Photo', 'NNP'), ('Certled', 'NNP'), (')', ')'), ('Orional', 'NNP'), ('Birth', 'NNP'), ('Certificate', 'NNP'), ('Certified', 'NNP'), ('Copy', 'NNP'), ('of', 'IN'), ('TIN', 'NNP'), ('Card/', 'NNP'), ('Voter', 'NNP'), ('Card', 'NNP'), ('/', 'NNP'), ('Passport', 'NNP'), ('Certified', 'NNP'), ('copy', 'NN'), ('of', 'IN'), ('Enrollment', 'NNP'), ('FormiSchool', 'NNP'), ('Registration', 'NNP'), (')', ')'), ('Elub', 'NNP'), ('President/', 'NNP'), ('Secretary', 'NNP'), ('Date', 'NNP'), ('Hlytelet', 'NNP'), ('President/Secretary', 'NNP'), ('School', 'NNP'), ('Date', 'NNP'), (':', ':'), ('OFFICE', 'NN'), ('USE', 'NN'), ('ONLY', 'NNP'), ('Somment-', 'NNP'), ('ceipt', 'NN'), ('Number', 'NNP'), (':', ':'), ('Date', 'NN'), (':', ':'), ('No', 'DT'), (':', ':'), ('CLUB/SCHOOLFIJI', 'NNP'), ('FOOTBALL', 'NNP'), ('ASSOCIATION', 'NNP'), ('PLAYER', 'NNP'), ('REGISTRATION/LICENSING', 'NNP'), ('SURNAME', 'NNP'), ('NASIE', 'NNP'), ('KHEDKAR', 'NNP'), ('ONKAR', 'NNP'), ('24/09/1999', 'CD'), ('MALE', 'NNP'), ('DATE', 'NNP'), ('OF', 'NNP'), ('BIRTH', 'NNP'), ('SEX', 'NNP'), ('ATTACIE', 'NNP'), ('PHOTO', 'NNP'), ('HERE', 'NNP'), ('TO', 'NNP'), ('BE', 'NNP'), ('CERTIFIED', 'NNP'), ('BY', 'NNP'), ('BARRISTER', 'NNP'), ('&', 'CC'), ('SOLICITOR', 'NNP'), ('CONNUISSIONER', 'NNP'), ('OF', 'NNP'), ('OATH', 'NNP'), ('OR', 'NNP'), ('JI*', 'NNP'), ('ADDRESS', 'NNP'), ('PHONE', 'NNP'), ('CONTACT', 'NNP'), ('EMAIL', 'NNP'), ('ADDRESS', 'NNP'), ('999', 'CD'), ('9922334', 'CD'), ('Onkar', 'NNP'), ('@', 'NNP'), ('gmail.com', 'NN'), ('PRIOR', 'NNP'), ('REGISTAATION', 'NNP'), ('Yes', 'NNP'), (',', ','), ('Plessa', 'NNP'), ('fall', 'NN'), ('in', 'IN'), ('the', 'DT'), ('details', 'NNS'), ('below', 'IN'), (':', ':'), ('DISTRUCT', 'NNP'), ('REGISTERED', 'NNP'), ('NEW', 'NNP'), ('DISTRICT', 'NNP'), ('CLUB/SCHOOL', 'NNP'), ('REGISTERED', 'NNP'), ('NEW', 'NNP'), ('CLUB/SCHOOL', 'NNP'), ('LICENSE', 'NNP'), ('NO', 'NNP'), ('.', '.')], [('FLAMING', 'NN'), ('POSITION', 'NNP'), ('solemnly', 'RB'), ('and', 'CC'), (\"''\", \"''\"), ('Sincerely', 'RB'), ('declare', 'VBP'), ('that', 'IN'), ('above', 'IN'), ('into', 'IN'), ('watation', 'NN'), ('provided', 'VBN'), ('is', 'VBZ'), ('correct', 'JJ'), ('.', '.')], [('(', '('), ('Signature', 'NN'), ('of', 'IN'), ('Player', 'NNP'), (')', ')'), ('Witness', 'NNP'), ('by', 'IN'), ('(', '('), ('FORM', 'NNP'), ('SHOULD', 'NNP'), ('BE', 'NNP'), ('WITNESSED', 'NNP'), ('BY', 'NNP'), ('BARRISTER', 'NNP'), ('&', 'CC'), ('SOLICITOR', 'NNP'), ('.', '.')], [('COMMISSIONER', 'NNP'), ('OF', 'NNP'), ('OATH', 'NNP'), ('ORJP', 'NNP'), (')', ')'), ('.', '.')], [('ONECKLIST', 'NNP'), ('Player', 'NNP'), ('Registration', 'NNP'), ('Form', 'NNP'), ('Transfer', 'NNP'), ('Form', 'NNP'), ('(', '('), ('Applying', 'VBG'), ('for', 'IN'), ('Transfer', 'NNP'), (')', ')'), ('Passport', 'NNP'), ('Size', 'NNP'), ('Photo', 'NNP'), ('Certled', 'NNP'), (')', ')'), ('Orional', 'NNP'), ('Birth', 'NNP'), ('Certificate', 'NNP'), ('Certified', 'NNP'), ('Copy', 'NNP'), ('of', 'IN'), ('TIN', 'NNP'), ('Card/', 'NNP'), ('Voter', 'NNP'), ('Card', 'NNP'), ('/', 'NNP'), ('Passport', 'NNP'), ('Certified', 'NNP'), ('copy', 'NN'), ('of', 'IN'), ('Enrollment', 'NNP'), ('FormiSchool', 'NNP'), ('Registration', 'NNP'), (')', ')'), ('Elub', 'NNP'), ('President/', 'NNP'), ('Secretary', 'NNP'), ('Date', 'NNP'), ('Hlytelet', 'NNP'), ('President/Secretary', 'NNP'), ('School', 'NNP'), ('Date', 'NNP'), (':', ':'), ('OFFICE', 'NN'), ('USE', 'NN'), ('ONLY', 'NNP'), ('Somment-', 'NNP'), ('ceipt', 'NN'), ('Number', 'NNP'), (':', ':'), ('Date', 'NN'), (':', ':'), ('No', 'DT'), (':', ':'), ('REGISTEREDFIJI', 'NNP'), ('FOOTBALL', 'NNP'), ('ASSOCIATION', 'NNP'), ('PLAYER', 'NNP'), ('REGISTRATION/LICENSING', 'NNP'), ('SURNAME', 'NNP'), ('NASIE', 'NNP'), ('KHEDKAR', 'NNP'), ('ONKAR', 'NNP'), ('24/09/1999', 'CD'), ('MALE', 'NNP'), ('DATE', 'NNP'), ('OF', 'NNP'), ('BIRTH', 'NNP'), ('SEX', 'NNP'), ('ATTACIE', 'NNP'), ('PHOTO', 'NNP'), ('HERE', 'NNP'), ('TO', 'NNP'), ('BE', 'NNP'), ('CERTIFIED', 'NNP'), ('BY', 'NNP'), ('BARRISTER', 'NNP'), ('&', 'CC'), ('SOLICITOR', 'NNP'), ('CONNUISSIONER', 'NNP'), ('OF', 'NNP'), ('OATH', 'NNP'), ('OR', 'NNP'), ('JI*', 'NNP'), ('ADDRESS', 'NNP'), ('PHONE', 'NNP'), ('CONTACT', 'NNP'), ('EMAIL', 'NNP'), ('ADDRESS', 'NNP'), ('999', 'CD'), ('9922334', 'CD'), ('Onkar', 'NNP'), ('@', 'NNP'), ('gmail.com', 'NN'), ('PRIOR', 'NNP'), ('REGISTAATION', 'NNP'), ('Yes', 'NNP'), (',', ','), ('Plessa', 'NNP'), ('fall', 'NN'), ('in', 'IN'), ('the', 'DT'), ('details', 'NNS'), ('below', 'IN'), (':', ':'), ('DISTRUCT', 'NNP'), ('REGISTERED', 'NNP'), ('NEW', 'NNP'), ('DISTRICT', 'NNP'), ('CLUB/SCHOOL', 'NNP'), ('REGISTERED', 'NNP'), ('NEW', 'NNP'), ('CLUB/SCHOOL', 'NNP'), ('LICENSE', 'NNP'), ('NO', 'NNP'), ('.', '.')], [('FLAMING', 'NN'), ('POSITION', 'NNP'), ('solemnly', 'RB'), ('and', 'CC'), (\"''\", \"''\"), ('Sincerely', 'RB'), ('declare', 'VBP'), ('that', 'IN'), ('above', 'IN'), ('into', 'IN'), ('watation', 'NN'), ('provided', 'VBN'), ('is', 'VBZ'), ('correct', 'JJ'), ('.', '.')], [('(', '('), ('Signature', 'NN'), ('of', 'IN'), ('Player', 'NNP'), (')', ')'), ('Witness', 'NNP'), ('by', 'IN'), ('(', '('), ('FORM', 'NNP'), ('SHOULD', 'NNP'), ('BE', 'NNP'), ('WITNESSED', 'NNP'), ('BY', 'NNP'), ('BARRISTER', 'NNP'), ('&', 'CC'), ('SOLICITOR', 'NNP'), ('.', '.')], [('COMMISSIONER', 'NNP'), ('OF', 'NNP'), ('OATH', 'NNP'), ('ORJP', 'NNP'), (')', ')'), ('.', '.')], [('ONECKLIST', 'NNP'), ('Player', 'NNP'), ('Registration', 'NNP'), ('Form', 'NNP'), ('Transfer', 'NNP'), ('Form', 'NNP'), ('(', '('), ('Applying', 'VBG'), ('for', 'IN'), ('Transfer', 'NNP'), (')', ')'), ('Passport', 'NNP'), ('Size', 'NNP'), ('Photo', 'NNP'), ('Certled', 'NNP'), (')', ')'), ('Orional', 'NNP'), ('Birth', 'NNP'), ('Certificate', 'NNP'), ('Certified', 'NNP'), ('Copy', 'NNP'), ('of', 'IN'), ('TIN', 'NNP'), ('Card/', 'NNP'), ('Voter', 'NNP'), ('Card', 'NNP'), ('/', 'NNP'), ('Passport', 'NNP'), ('Certified', 'NNP'), ('copy', 'NN'), ('of', 'IN'), ('Enrollment', 'NNP'), ('FormiSchool', 'NNP'), ('Registration', 'NNP'), (')', ')'), ('Elub', 'NNP'), ('President/', 'NNP'), ('Secretary', 'NNP'), ('Date', 'NNP'), ('Hlytelet', 'NNP'), ('President/Secretary', 'NNP'), ('School', 'NNP'), ('Date', 'NNP'), (':', ':'), ('OFFICE', 'NN'), ('USE', 'NN'), ('ONLY', 'NNP'), ('Somment-', 'NNP'), ('ceipt', 'NN'), ('Number', 'NNP'), (':', ':'), ('Date', 'NN'), (':', ':'), ('No', 'DT'), (':', ':'), ('NEWFIJI', 'NNP'), ('FOOTBALL', 'NNP'), ('ASSOCIATION', 'NNP'), ('PLAYER', 'NNP'), ('REGISTRATION/LICENSING', 'NNP'), ('SURNAME', 'NNP'), ('NASIE', 'NNP'), ('KHEDKAR', 'NNP'), ('ONKAR', 'NNP'), ('24/09/1999', 'CD'), ('MALE', 'NNP'), ('DATE', 'NNP'), ('OF', 'NNP'), ('BIRTH', 'NNP'), ('SEX', 'NNP'), ('ATTACIE', 'NNP'), ('PHOTO', 'NNP'), ('HERE', 'NNP'), ('TO', 'NNP'), ('BE', 'NNP'), ('CERTIFIED', 'NNP'), ('BY', 'NNP'), ('BARRISTER', 'NNP'), ('&', 'CC'), ('SOLICITOR', 'NNP'), ('CONNUISSIONER', 'NNP'), ('OF', 'NNP'), ('OATH', 'NNP'), ('OR', 'NNP'), ('JI*', 'NNP'), ('ADDRESS', 'NNP'), ('PHONE', 'NNP'), ('CONTACT', 'NNP'), ('EMAIL', 'NNP'), ('ADDRESS', 'NNP'), ('999', 'CD'), ('9922334', 'CD'), ('Onkar', 'NNP'), ('@', 'NNP'), ('gmail.com', 'NN'), ('PRIOR', 'NNP'), ('REGISTAATION', 'NNP'), ('Yes', 'NNP'), (',', ','), ('Plessa', 'NNP'), ('fall', 'NN'), ('in', 'IN'), ('the', 'DT'), ('details', 'NNS'), ('below', 'IN'), (':', ':'), ('DISTRUCT', 'NNP'), ('REGISTERED', 'NNP'), ('NEW', 'NNP'), ('DISTRICT', 'NNP'), ('CLUB/SCHOOL', 'NNP'), ('REGISTERED', 'NNP'), ('NEW', 'NNP'), ('CLUB/SCHOOL', 'NNP'), ('LICENSE', 'NNP'), ('NO', 'NNP'), ('.', '.')], [('FLAMING', 'NN'), ('POSITION', 'NNP'), ('solemnly', 'RB'), ('and', 'CC'), (\"''\", \"''\"), ('Sincerely', 'RB'), ('declare', 'VBP'), ('that', 'IN'), ('above', 'IN'), ('into', 'IN'), ('watation', 'NN'), ('provided', 'VBN'), ('is', 'VBZ'), ('correct', 'JJ'), ('.', '.')], [('(', '('), ('Signature', 'NN'), ('of', 'IN'), ('Player', 'NNP'), (')', ')'), ('Witness', 'NNP'), ('by', 'IN'), ('(', '('), ('FORM', 'NNP'), ('SHOULD', 'NNP'), ('BE', 'NNP'), ('WITNESSED', 'NNP'), ('BY', 'NNP'), ('BARRISTER', 'NNP'), ('&', 'CC'), ('SOLICITOR', 'NNP'), ('.', '.')], [('COMMISSIONER', 'NNP'), ('OF', 'NNP'), ('OATH', 'NNP'), ('ORJP', 'NNP'), (')', ')'), ('.', '.')], [('ONECKLIST', 'NNP'), ('Player', 'NNP'), ('Registration', 'NNP'), ('Form', 'NNP'), ('Transfer', 'NNP'), ('Form', 'NNP'), ('(', '('), ('Applying', 'VBG'), ('for', 'IN'), ('Transfer', 'NNP'), (')', ')'), ('Passport', 'NNP'), ('Size', 'NNP'), ('Photo', 'NNP'), ('Certled', 'NNP'), (')', ')'), ('Orional', 'NNP'), ('Birth', 'NNP'), ('Certificate', 'NNP'), ('Certified', 'NNP'), ('Copy', 'NNP'), ('of', 'IN'), ('TIN', 'NNP'), ('Card/', 'NNP'), ('Voter', 'NNP'), ('Card', 'NNP'), ('/', 'NNP'), ('Passport', 'NNP'), ('Certified', 'NNP'), ('copy', 'NN'), ('of', 'IN'), ('Enrollment', 'NNP'), ('FormiSchool', 'NNP'), ('Registration', 'NNP'), (')', ')'), ('Elub', 'NNP'), ('President/', 'NNP'), ('Secretary', 'NNP'), ('Date', 'NNP'), ('Hlytelet', 'NNP'), ('President/Secretary', 'NNP'), ('School', 'NNP'), ('Date', 'NNP'), (':', ':'), ('OFFICE', 'NN'), ('USE', 'NN'), ('ONLY', 'NNP'), ('Somment-', 'NNP'), ('ceipt', 'NN'), ('Number', 'NNP'), (':', ':'), ('Date', 'NN'), (':', ':'), ('No', 'DT'), (':', ':'), ('CLUB/SCHOOLFIJI', 'NNP'), ('FOOTBALL', 'NNP'), ('ASSOCIATION', 'NNP'), ('PLAYER', 'NNP'), ('REGISTRATION/LICENSING', 'NNP'), ('SURNAME', 'NNP'), ('NASIE', 'NNP'), ('KHEDKAR', 'NNP'), ('ONKAR', 'NNP'), ('24/09/1999', 'CD'), ('MALE', 'NNP'), ('DATE', 'NNP'), ('OF', 'NNP'), ('BIRTH', 'NNP'), ('SEX', 'NNP'), ('ATTACIE', 'NNP'), ('PHOTO', 'NNP'), ('HERE', 'NNP'), ('TO', 'NNP'), ('BE', 'NNP'), ('CERTIFIED', 'NNP'), ('BY', 'NNP'), ('BARRISTER', 'NNP'), ('&', 'CC'), ('SOLICITOR', 'NNP'), ('CONNUISSIONER', 'NNP'), ('OF', 'NNP'), ('OATH', 'NNP'), ('OR', 'NNP'), ('JI*', 'NNP'), ('ADDRESS', 'NNP'), ('PHONE', 'NNP'), ('CONTACT', 'NNP'), ('EMAIL', 'NNP'), ('ADDRESS', 'NNP'), ('999', 'CD'), ('9922334', 'CD'), ('Onkar', 'NNP'), ('@', 'NNP'), ('gmail.com', 'NN'), ('PRIOR', 'NNP'), ('REGISTAATION', 'NNP'), ('Yes', 'NNP'), (',', ','), ('Plessa', 'NNP'), ('fall', 'NN'), ('in', 'IN'), ('the', 'DT'), ('details', 'NNS'), ('below', 'IN'), (':', ':'), ('DISTRUCT', 'NNP'), ('REGISTERED', 'NNP'), ('NEW', 'NNP'), ('DISTRICT', 'NNP'), ('CLUB/SCHOOL', 'NNP'), ('REGISTERED', 'NNP'), ('NEW', 'NNP'), ('CLUB/SCHOOL', 'NNP'), ('LICENSE', 'NNP'), ('NO', 'NNP'), ('.', '.')], [('FLAMING', 'NN'), ('POSITION', 'NNP'), ('solemnly', 'RB'), ('and', 'CC'), (\"''\", \"''\"), ('Sincerely', 'RB'), ('declare', 'VBP'), ('that', 'IN'), ('above', 'IN'), ('into', 'IN'), ('watation', 'NN'), ('provided', 'VBN'), ('is', 'VBZ'), ('correct', 'JJ'), ('.', '.')], [('(', '('), ('Signature', 'NN'), ('of', 'IN'), ('Player', 'NNP'), (')', ')'), ('Witness', 'NNP'), ('by', 'IN'), ('(', '('), ('FORM', 'NNP'), ('SHOULD', 'NNP'), ('BE', 'NNP'), ('WITNESSED', 'NNP'), ('BY', 'NNP'), ('BARRISTER', 'NNP'), ('&', 'CC'), ('SOLICITOR', 'NNP'), ('.', '.')], [('COMMISSIONER', 'NNP'), ('OF', 'NNP'), ('OATH', 'NNP'), ('ORJP', 'NNP'), (')', ')'), ('.', '.')], [('ONECKLIST', 'NNP'), ('Player', 'NNP'), ('Registration', 'NNP'), ('Form', 'NNP'), ('Transfer', 'NNP'), ('Form', 'NNP'), ('(', '('), ('Applying', 'VBG'), ('for', 'IN'), ('Transfer', 'NNP'), (')', ')'), ('Passport', 'NNP'), ('Size', 'NNP'), ('Photo', 'NNP'), ('Certled', 'NNP'), (')', ')'), ('Orional', 'NNP'), ('Birth', 'NNP'), ('Certificate', 'NNP'), ('Certified', 'NNP'), ('Copy', 'NNP'), ('of', 'IN'), ('TIN', 'NNP'), ('Card/', 'NNP'), ('Voter', 'NNP'), ('Card', 'NNP'), ('/', 'NNP'), ('Passport', 'NNP'), ('Certified', 'NNP'), ('copy', 'NN'), ('of', 'IN'), ('Enrollment', 'NNP'), ('FormiSchool', 'NNP'), ('Registration', 'NNP'), (')', ')'), ('Elub', 'NNP'), ('President/', 'NNP'), ('Secretary', 'NNP'), ('Date', 'NNP'), ('Hlytelet', 'NNP'), ('President/Secretary', 'NNP'), ('School', 'NNP'), ('Date', 'NNP'), (':', ':'), ('OFFICE', 'NN'), ('USE', 'NN'), ('ONLY', 'NNP'), ('Somment-', 'NNP'), ('ceipt', 'NN'), ('Number', 'NNP'), (':', ':'), ('Date', 'NN'), (':', ':'), ('No', 'DT'), (':', ':'), ('LICENSEFIJI', 'NNP'), ('FOOTBALL', 'NNP'), ('ASSOCIATION', 'NNP'), ('PLAYER', 'NNP'), ('REGISTRATION/LICENSING', 'NNP'), ('SURNAME', 'NNP'), ('NASIE', 'NNP'), ('KHEDKAR', 'NNP'), ('ONKAR', 'NNP'), ('24/09/1999', 'CD'), ('MALE', 'NNP'), ('DATE', 'NNP'), ('OF', 'NNP'), ('BIRTH', 'NNP'), ('SEX', 'NNP'), ('ATTACIE', 'NNP'), ('PHOTO', 'NNP'), ('HERE', 'NNP'), ('TO', 'NNP'), ('BE', 'NNP'), ('CERTIFIED', 'NNP'), ('BY', 'NNP'), ('BARRISTER', 'NNP'), ('&', 'CC'), ('SOLICITOR', 'NNP'), ('CONNUISSIONER', 'NNP'), ('OF', 'NNP'), ('OATH', 'NNP'), ('OR', 'NNP'), ('JI*', 'NNP'), ('ADDRESS', 'NNP'), ('PHONE', 'NNP'), ('CONTACT', 'NNP'), ('EMAIL', 'NNP'), ('ADDRESS', 'NNP'), ('999', 'CD'), ('9922334', 'CD'), ('Onkar', 'NNP'), ('@', 'NNP'), ('gmail.com', 'NN'), ('PRIOR', 'NNP'), ('REGISTAATION', 'NNP'), ('Yes', 'NNP'), (',', ','), ('Plessa', 'NNP'), ('fall', 'NN'), ('in', 'IN'), ('the', 'DT'), ('details', 'NNS'), ('below', 'IN'), (':', ':'), ('DISTRUCT', 'NNP'), ('REGISTERED', 'NNP'), ('NEW', 'NNP'), ('DISTRICT', 'NNP'), ('CLUB/SCHOOL', 'NNP'), ('REGISTERED', 'NNP'), ('NEW', 'NNP'), ('CLUB/SCHOOL', 'NNP'), ('LICENSE', 'NNP'), ('NO', 'NNP'), ('.', '.')], [('FLAMING', 'NN'), ('POSITION', 'NNP'), ('solemnly', 'RB'), ('and', 'CC'), (\"''\", \"''\"), ('Sincerely', 'RB'), ('declare', 'VBP'), ('that', 'IN'), ('above', 'IN'), ('into', 'IN'), ('watation', 'NN'), ('provided', 'VBN'), ('is', 'VBZ'), ('correct', 'JJ'), ('.', '.')], [('(', '('), ('Signature', 'NN'), ('of', 'IN'), ('Player', 'NNP'), (')', ')'), ('Witness', 'NNP'), ('by', 'IN'), ('(', '('), ('FORM', 'NNP'), ('SHOULD', 'NNP'), ('BE', 'NNP'), ('WITNESSED', 'NNP'), ('BY', 'NNP'), ('BARRISTER', 'NNP'), ('&', 'CC'), ('SOLICITOR', 'NNP'), ('.', '.')], [('COMMISSIONER', 'NNP'), ('OF', 'NNP'), ('OATH', 'NNP'), ('ORJP', 'NNP'), (')', ')'), ('.', '.')], [('ONECKLIST', 'NNP'), ('Player', 'NNP'), ('Registration', 'NNP'), ('Form', 'NNP'), ('Transfer', 'NNP'), ('Form', 'NNP'), ('(', '('), ('Applying', 'VBG'), ('for', 'IN'), ('Transfer', 'NNP'), (')', ')'), ('Passport', 'NNP'), ('Size', 'NNP'), ('Photo', 'NNP'), ('Certled', 'NNP'), (')', ')'), ('Orional', 'NNP'), ('Birth', 'NNP'), ('Certificate', 'NNP'), ('Certified', 'NNP'), ('Copy', 'NNP'), ('of', 'IN'), ('TIN', 'NNP'), ('Card/', 'NNP'), ('Voter', 'NNP'), ('Card', 'NNP'), ('/', 'NNP'), ('Passport', 'NNP'), ('Certified', 'NNP'), ('copy', 'NN'), ('of', 'IN'), ('Enrollment', 'NNP'), ('FormiSchool', 'NNP'), ('Registration', 'NNP'), (')', ')'), ('Elub', 'NNP'), ('President/', 'NNP'), ('Secretary', 'NNP'), ('Date', 'NNP'), ('Hlytelet', 'NNP'), ('President/Secretary', 'NNP'), ('School', 'NNP'), ('Date', 'NNP'), (':', ':'), ('OFFICE', 'NN'), ('USE', 'NN'), ('ONLY', 'NNP'), ('Somment-', 'NNP'), ('ceipt', 'NN'), ('Number', 'NNP'), (':', ':'), ('Date', 'NN'), (':', ':'), ('No', 'DT'), (':', ':'), ('NO.FIJI', 'NNP'), ('FOOTBALL', 'NNP'), ('ASSOCIATION', 'NNP'), ('PLAYER', 'NNP'), ('REGISTRATION/LICENSING', 'NNP'), ('SURNAME', 'NNP'), ('NASIE', 'NNP'), ('KHEDKAR', 'NNP'), ('ONKAR', 'NNP'), ('24/09/1999', 'CD'), ('MALE', 'NNP'), ('DATE', 'NNP'), ('OF', 'NNP'), ('BIRTH', 'NNP'), ('SEX', 'NNP'), ('ATTACIE', 'NNP'), ('PHOTO', 'NNP'), ('HERE', 'NNP'), ('TO', 'NNP'), ('BE', 'NNP'), ('CERTIFIED', 'NNP'), ('BY', 'NNP'), ('BARRISTER', 'NNP'), ('&', 'CC'), ('SOLICITOR', 'NNP'), ('CONNUISSIONER', 'NNP'), ('OF', 'NNP'), ('OATH', 'NNP'), ('OR', 'NNP'), ('JI*', 'NNP'), ('ADDRESS', 'NNP'), ('PHONE', 'NNP'), ('CONTACT', 'NNP'), ('EMAIL', 'NNP'), ('ADDRESS', 'NNP'), ('999', 'CD'), ('9922334', 'CD'), ('Onkar', 'NNP'), ('@', 'NNP'), ('gmail.com', 'NN'), ('PRIOR', 'NNP'), ('REGISTAATION', 'NNP'), ('Yes', 'NNP'), (',', ','), ('Plessa', 'NNP'), ('fall', 'NN'), ('in', 'IN'), ('the', 'DT'), ('details', 'NNS'), ('below', 'IN'), (':', ':'), ('DISTRUCT', 'NNP'), ('REGISTERED', 'NNP'), ('NEW', 'NNP'), ('DISTRICT', 'NNP'), ('CLUB/SCHOOL', 'NNP'), ('REGISTERED', 'NNP'), ('NEW', 'NNP'), ('CLUB/SCHOOL', 'NNP'), ('LICENSE', 'NNP'), ('NO', 'NNP'), ('.', '.')], [('FLAMING', 'NN'), ('POSITION', 'NNP'), ('solemnly', 'RB'), ('and', 'CC'), (\"''\", \"''\"), ('Sincerely', 'RB'), ('declare', 'VBP'), ('that', 'IN'), ('above', 'IN'), ('into', 'IN'), ('watation', 'NN'), ('provided', 'VBN'), ('is', 'VBZ'), ('correct', 'JJ'), ('.', '.')], [('(', '('), ('Signature', 'NN'), ('of', 'IN'), ('Player', 'NNP'), (')', ')'), ('Witness', 'NNP'), ('by', 'IN'), ('(', '('), ('FORM', 'NNP'), ('SHOULD', 'NNP'), ('BE', 'NNP'), ('WITNESSED', 'NNP'), ('BY', 'NNP'), ('BARRISTER', 'NNP'), ('&', 'CC'), ('SOLICITOR', 'NNP'), ('.', '.')], [('COMMISSIONER', 'NNP'), ('OF', 'NNP'), ('OATH', 'NNP'), ('ORJP', 'NNP'), (')', ')'), ('.', '.')], [('ONECKLIST', 'NNP'), ('Player', 'NNP'), ('Registration', 'NNP'), ('Form', 'NNP'), ('Transfer', 'NNP'), ('Form', 'NNP'), ('(', '('), ('Applying', 'VBG'), ('for', 'IN'), ('Transfer', 'NNP'), (')', ')'), ('Passport', 'NNP'), ('Size', 'NNP'), ('Photo', 'NNP'), ('Certled', 'NNP'), (')', ')'), ('Orional', 'NNP'), ('Birth', 'NNP'), ('Certificate', 'NNP'), ('Certified', 'NNP'), ('Copy', 'NNP'), ('of', 'IN'), ('TIN', 'NNP'), ('Card/', 'NNP'), ('Voter', 'NNP'), ('Card', 'NNP'), ('/', 'NNP'), ('Passport', 'NNP'), ('Certified', 'NNP'), ('copy', 'NN'), ('of', 'IN'), ('Enrollment', 'NNP'), ('FormiSchool', 'NNP'), ('Registration', 'NNP'), (')', ')'), ('Elub', 'NNP'), ('President/', 'NNP'), ('Secretary', 'NNP'), ('Date', 'NNP'), ('Hlytelet', 'NNP'), ('President/Secretary', 'NNP'), ('School', 'NNP'), ('Date', 'NNP'), (':', ':'), ('OFFICE', 'NN'), ('USE', 'NN'), ('ONLY', 'NNP'), ('Somment-', 'NNP'), ('ceipt', 'NN'), ('Number', 'NNP'), (':', ':'), ('Date', 'NN'), (':', ':'), ('No', 'DT'), (':', ':'), ('FLAMINGFIJI', 'NNP'), ('FOOTBALL', 'NNP'), ('ASSOCIATION', 'NNP'), ('PLAYER', 'NNP'), ('REGISTRATION/LICENSING', 'NNP'), ('SURNAME', 'NNP'), ('NASIE', 'NNP'), ('KHEDKAR', 'NNP'), ('ONKAR', 'NNP'), ('24/09/1999', 'CD'), ('MALE', 'NNP'), ('DATE', 'NNP'), ('OF', 'NNP'), ('BIRTH', 'NNP'), ('SEX', 'NNP'), ('ATTACIE', 'NNP'), ('PHOTO', 'NNP'), ('HERE', 'NNP'), ('TO', 'NNP'), ('BE', 'NNP'), ('CERTIFIED', 'NNP'), ('BY', 'NNP'), ('BARRISTER', 'NNP'), ('&', 'CC'), ('SOLICITOR', 'NNP'), ('CONNUISSIONER', 'NNP'), ('OF', 'NNP'), ('OATH', 'NNP'), ('OR', 'NNP'), ('JI*', 'NNP'), ('ADDRESS', 'NNP'), ('PHONE', 'NNP'), ('CONTACT', 'NNP'), ('EMAIL', 'NNP'), ('ADDRESS', 'NNP'), ('999', 'CD'), ('9922334', 'CD'), ('Onkar', 'NNP'), ('@', 'NNP'), ('gmail.com', 'NN'), ('PRIOR', 'NNP'), ('REGISTAATION', 'NNP'), ('Yes', 'NNP'), (',', ','), ('Plessa', 'NNP'), ('fall', 'NN'), ('in', 'IN'), ('the', 'DT'), ('details', 'NNS'), ('below', 'IN'), (':', ':'), ('DISTRUCT', 'NNP'), ('REGISTERED', 'NNP'), ('NEW', 'NNP'), ('DISTRICT', 'NNP'), ('CLUB/SCHOOL', 'NNP'), ('REGISTERED', 'NNP'), ('NEW', 'NNP'), ('CLUB/SCHOOL', 'NNP'), ('LICENSE', 'NNP'), ('NO', 'NNP'), ('.', '.')], [('FLAMING', 'NN'), ('POSITION', 'NNP'), ('solemnly', 'RB'), ('and', 'CC'), (\"''\", \"''\"), ('Sincerely', 'RB'), ('declare', 'VBP'), ('that', 'IN'), ('above', 'IN'), ('into', 'IN'), ('watation', 'NN'), ('provided', 'VBN'), ('is', 'VBZ'), ('correct', 'JJ'), ('.', '.')], [('(', '('), ('Signature', 'NN'), ('of', 'IN'), ('Player', 'NNP'), (')', ')'), ('Witness', 'NNP'), ('by', 'IN'), ('(', '('), ('FORM', 'NNP'), ('SHOULD', 'NNP'), ('BE', 'NNP'), ('WITNESSED', 'NNP'), ('BY', 'NNP'), ('BARRISTER', 'NNP'), ('&', 'CC'), ('SOLICITOR', 'NNP'), ('.', '.')], [('COMMISSIONER', 'NNP'), ('OF', 'NNP'), ('OATH', 'NNP'), ('ORJP', 'NNP'), (')', ')'), ('.', '.')], [('ONECKLIST', 'NNP'), ('Player', 'NNP'), ('Registration', 'NNP'), ('Form', 'NNP'), ('Transfer', 'NNP'), ('Form', 'NNP'), ('(', '('), ('Applying', 'VBG'), ('for', 'IN'), ('Transfer', 'NNP'), (')', ')'), ('Passport', 'NNP'), ('Size', 'NNP'), ('Photo', 'NNP'), ('Certled', 'NNP'), (')', ')'), ('Orional', 'NNP'), ('Birth', 'NNP'), ('Certificate', 'NNP'), ('Certified', 'NNP'), ('Copy', 'NNP'), ('of', 'IN'), ('TIN', 'NNP'), ('Card/', 'NNP'), ('Voter', 'NNP'), ('Card', 'NNP'), ('/', 'NNP'), ('Passport', 'NNP'), ('Certified', 'NNP'), ('copy', 'NN'), ('of', 'IN'), ('Enrollment', 'NNP'), ('FormiSchool', 'NNP'), ('Registration', 'NNP'), (')', ')'), ('Elub', 'NNP'), ('President/', 'NNP'), ('Secretary', 'NNP'), ('Date', 'NNP'), ('Hlytelet', 'NNP'), ('President/Secretary', 'NNP'), ('School', 'NNP'), ('Date', 'NNP'), (':', ':'), ('OFFICE', 'NN'), ('USE', 'NN'), ('ONLY', 'NNP'), ('Somment-', 'NNP'), ('ceipt', 'NN'), ('Number', 'NNP'), (':', ':'), ('Date', 'NN'), (':', ':'), ('No', 'DT'), (':', ':'), ('POSITIONFIJI', 'NNP'), ('FOOTBALL', 'NNP'), ('ASSOCIATION', 'NNP'), ('PLAYER', 'NNP'), ('REGISTRATION/LICENSING', 'NNP'), ('SURNAME', 'NNP'), ('NASIE', 'NNP'), ('KHEDKAR', 'NNP'), ('ONKAR', 'NNP'), ('24/09/1999', 'CD'), ('MALE', 'NNP'), ('DATE', 'NNP'), ('OF', 'NNP'), ('BIRTH', 'NNP'), ('SEX', 'NNP'), ('ATTACIE', 'NNP'), ('PHOTO', 'NNP'), ('HERE', 'NNP'), ('TO', 'NNP'), ('BE', 'NNP'), ('CERTIFIED', 'NNP'), ('BY', 'NNP'), ('BARRISTER', 'NNP'), ('&', 'CC'), ('SOLICITOR', 'NNP'), ('CONNUISSIONER', 'NNP'), ('OF', 'NNP'), ('OATH', 'NNP'), ('OR', 'NNP'), ('JI*', 'NNP'), ('ADDRESS', 'NNP'), ('PHONE', 'NNP'), ('CONTACT', 'NNP'), ('EMAIL', 'NNP'), ('ADDRESS', 'NNP'), ('999', 'CD'), ('9922334', 'CD'), ('Onkar', 'NNP'), ('@', 'NNP'), ('gmail.com', 'NN'), ('PRIOR', 'NNP'), ('REGISTAATION', 'NNP'), ('Yes', 'NNP'), (',', ','), ('Plessa', 'NNP'), ('fall', 'NN'), ('in', 'IN'), ('the', 'DT'), ('details', 'NNS'), ('below', 'IN'), (':', ':'), ('DISTRUCT', 'NNP'), ('REGISTERED', 'NNP'), ('NEW', 'NNP'), ('DISTRICT', 'NNP'), ('CLUB/SCHOOL', 'NNP'), ('REGISTERED', 'NNP'), ('NEW', 'NNP'), ('CLUB/SCHOOL', 'NNP'), ('LICENSE', 'NNP'), ('NO', 'NNP'), ('.', '.')], [('FLAMING', 'NN'), ('POSITION', 'NNP'), ('solemnly', 'RB'), ('and', 'CC'), (\"''\", \"''\"), ('Sincerely', 'RB'), ('declare', 'VBP'), ('that', 'IN'), ('above', 'IN'), ('into', 'IN'), ('watation', 'NN'), ('provided', 'VBN'), ('is', 'VBZ'), ('correct', 'JJ'), ('.', '.')], [('(', '('), ('Signature', 'NN'), ('of', 'IN'), ('Player', 'NNP'), (')', ')'), ('Witness', 'NNP'), ('by', 'IN'), ('(', '('), ('FORM', 'NNP'), ('SHOULD', 'NNP'), ('BE', 'NNP'), ('WITNESSED', 'NNP'), ('BY', 'NNP'), ('BARRISTER', 'NNP'), ('&', 'CC'), ('SOLICITOR', 'NNP'), ('.', '.')], [('COMMISSIONER', 'NNP'), ('OF', 'NNP'), ('OATH', 'NNP'), ('ORJP', 'NNP'), (')', ')'), ('.', '.')], [('ONECKLIST', 'NNP'), ('Player', 'NNP'), ('Registration', 'NNP'), ('Form', 'NNP'), ('Transfer', 'NNP'), ('Form', 'NNP'), ('(', '('), ('Applying', 'VBG'), ('for', 'IN'), ('Transfer', 'NNP'), (')', ')'), ('Passport', 'NNP'), ('Size', 'NNP'), ('Photo', 'NNP'), ('Certled', 'NNP'), (')', ')'), ('Orional', 'NNP'), ('Birth', 'NNP'), ('Certificate', 'NNP'), ('Certified', 'NNP'), ('Copy', 'NNP'), ('of', 'IN'), ('TIN', 'NNP'), ('Card/', 'NNP'), ('Voter', 'NNP'), ('Card', 'NNP'), ('/', 'NNP'), ('Passport', 'NNP'), ('Certified', 'NNP'), ('copy', 'NN'), ('of', 'IN'), ('Enrollment', 'NNP'), ('FormiSchool', 'NNP'), ('Registration', 'NNP'), (')', ')'), ('Elub', 'NNP'), ('President/', 'NNP'), ('Secretary', 'NNP'), ('Date', 'NNP'), ('Hlytelet', 'NNP'), ('President/Secretary', 'NNP'), ('School', 'NNP'), ('Date', 'NNP'), (':', ':'), ('OFFICE', 'NN'), ('USE', 'NN'), ('ONLY', 'NNP'), ('Somment-', 'NNP'), ('ceipt', 'NN'), ('Number', 'NNP'), (':', ':'), ('Date', 'NN'), (':', ':'), ('No', 'DT'), (':', ':'), ('solemnlyFIJI', 'NN'), ('FOOTBALL', 'NNP'), ('ASSOCIATION', 'NNP'), ('PLAYER', 'NNP'), ('REGISTRATION/LICENSING', 'NNP'), ('SURNAME', 'NNP'), ('NASIE', 'NNP'), ('KHEDKAR', 'NNP'), ('ONKAR', 'NNP'), ('24/09/1999', 'CD'), ('MALE', 'NNP'), ('DATE', 'NNP'), ('OF', 'NNP'), ('BIRTH', 'NNP'), ('SEX', 'NNP'), ('ATTACIE', 'NNP'), ('PHOTO', 'NNP'), ('HERE', 'NNP'), ('TO', 'NNP'), ('BE', 'NNP'), ('CERTIFIED', 'NNP'), ('BY', 'NNP'), ('BARRISTER', 'NNP'), ('&', 'CC'), ('SOLICITOR', 'NNP'), ('CONNUISSIONER', 'NNP'), ('OF', 'NNP'), ('OATH', 'NNP'), ('OR', 'NNP'), ('JI*', 'NNP'), ('ADDRESS', 'NNP'), ('PHONE', 'NNP'), ('CONTACT', 'NNP'), ('EMAIL', 'NNP'), ('ADDRESS', 'NNP'), ('999', 'CD'), ('9922334', 'CD'), ('Onkar', 'NNP'), ('@', 'NNP'), ('gmail.com', 'NN'), ('PRIOR', 'NNP'), ('REGISTAATION', 'NNP'), ('Yes', 'NNP'), (',', ','), ('Plessa', 'NNP'), ('fall', 'NN'), ('in', 'IN'), ('the', 'DT'), ('details', 'NNS'), ('below', 'IN'), (':', ':'), ('DISTRUCT', 'NNP'), ('REGISTERED', 'NNP'), ('NEW', 'NNP'), ('DISTRICT', 'NNP'), ('CLUB/SCHOOL', 'NNP'), ('REGISTERED', 'NNP'), ('NEW', 'NNP'), ('CLUB/SCHOOL', 'NNP'), ('LICENSE', 'NNP'), ('NO', 'NNP'), ('.', '.')], [('FLAMING', 'NN'), ('POSITION', 'NNP'), ('solemnly', 'RB'), ('and', 'CC'), (\"''\", \"''\"), ('Sincerely', 'RB'), ('declare', 'VBP'), ('that', 'IN'), ('above', 'IN'), ('into', 'IN'), ('watation', 'NN'), ('provided', 'VBN'), ('is', 'VBZ'), ('correct', 'JJ'), ('.', '.')], [('(', '('), ('Signature', 'NN'), ('of', 'IN'), ('Player', 'NNP'), (')', ')'), ('Witness', 'NNP'), ('by', 'IN'), ('(', '('), ('FORM', 'NNP'), ('SHOULD', 'NNP'), ('BE', 'NNP'), ('WITNESSED', 'NNP'), ('BY', 'NNP'), ('BARRISTER', 'NNP'), ('&', 'CC'), ('SOLICITOR', 'NNP'), ('.', '.')], [('COMMISSIONER', 'NNP'), ('OF', 'NNP'), ('OATH', 'NNP'), ('ORJP', 'NNP'), (')', ')'), ('.', '.')], [('ONECKLIST', 'NNP'), ('Player', 'NNP'), ('Registration', 'NNP'), ('Form', 'NNP'), ('Transfer', 'NNP'), ('Form', 'NNP'), ('(', '('), ('Applying', 'VBG'), ('for', 'IN'), ('Transfer', 'NNP'), (')', ')'), ('Passport', 'NNP'), ('Size', 'NNP'), ('Photo', 'NNP'), ('Certled', 'NNP'), (')', ')'), ('Orional', 'NNP'), ('Birth', 'NNP'), ('Certificate', 'NNP'), ('Certified', 'NNP'), ('Copy', 'NNP'), ('of', 'IN'), ('TIN', 'NNP'), ('Card/', 'NNP'), ('Voter', 'NNP'), ('Card', 'NNP'), ('/', 'NNP'), ('Passport', 'NNP'), ('Certified', 'NNP'), ('copy', 'NN'), ('of', 'IN'), ('Enrollment', 'NNP'), ('FormiSchool', 'NNP'), ('Registration', 'NNP'), (')', ')'), ('Elub', 'NNP'), ('President/', 'NNP'), ('Secretary', 'NNP'), ('Date', 'NNP'), ('Hlytelet', 'NNP'), ('President/Secretary', 'NNP'), ('School', 'NNP'), ('Date', 'NNP'), (':', ':'), ('OFFICE', 'NN'), ('USE', 'NN'), ('ONLY', 'NNP'), ('Somment-', 'NNP'), ('ceipt', 'NN'), ('Number', 'NNP'), (':', ':'), ('Date', 'NN'), (':', ':'), ('No', 'DT'), (':', ':'), (\"''\", \"''\"), ('SincerelyFIJI', 'NNP'), ('FOOTBALL', 'NNP'), ('ASSOCIATION', 'NNP'), ('PLAYER', 'NNP'), ('REGISTRATION/LICENSING', 'NNP'), ('SURNAME', 'NNP'), ('NASIE', 'NNP'), ('KHEDKAR', 'NNP'), ('ONKAR', 'NNP'), ('24/09/1999', 'CD'), ('MALE', 'NNP'), ('DATE', 'NNP'), ('OF', 'NNP'), ('BIRTH', 'NNP'), ('SEX', 'NNP'), ('ATTACIE', 'NNP'), ('PHOTO', 'NNP'), ('HERE', 'NNP'), ('TO', 'NNP'), ('BE', 'NNP'), ('CERTIFIED', 'NNP'), ('BY', 'NNP'), ('BARRISTER', 'NNP'), ('&', 'CC'), ('SOLICITOR', 'NNP'), ('CONNUISSIONER', 'NNP'), ('OF', 'NNP'), ('OATH', 'NNP'), ('OR', 'NNP'), ('JI*', 'NNP'), ('ADDRESS', 'NNP'), ('PHONE', 'NNP'), ('CONTACT', 'NNP'), ('EMAIL', 'NNP'), ('ADDRESS', 'NNP'), ('999', 'CD'), ('9922334', 'CD'), ('Onkar', 'NNP'), ('@', 'NNP'), ('gmail.com', 'NN'), ('PRIOR', 'NNP'), ('REGISTAATION', 'NNP'), ('Yes', 'NNP'), (',', ','), ('Plessa', 'NNP'), ('fall', 'NN'), ('in', 'IN'), ('the', 'DT'), ('details', 'NNS'), ('below', 'IN'), (':', ':'), ('DISTRUCT', 'NNP'), ('REGISTERED', 'NNP'), ('NEW', 'NNP'), ('DISTRICT', 'NNP'), ('CLUB/SCHOOL', 'NNP'), ('REGISTERED', 'NNP'), ('NEW', 'NNP'), ('CLUB/SCHOOL', 'NNP'), ('LICENSE', 'NNP'), ('NO', 'NNP'), ('.', '.')], [('FLAMING', 'NN'), ('POSITION', 'NNP'), ('solemnly', 'RB'), ('and', 'CC'), (\"''\", \"''\"), ('Sincerely', 'RB'), ('declare', 'VBP'), ('that', 'IN'), ('above', 'IN'), ('into', 'IN'), ('watation', 'NN'), ('provided', 'VBN'), ('is', 'VBZ'), ('correct', 'JJ'), ('.', '.')], [('(', '('), ('Signature', 'NN'), ('of', 'IN'), ('Player', 'NNP'), (')', ')'), ('Witness', 'NNP'), ('by', 'IN'), ('(', '('), ('FORM', 'NNP'), ('SHOULD', 'NNP'), ('BE', 'NNP'), ('WITNESSED', 'NNP'), ('BY', 'NNP'), ('BARRISTER', 'NNP'), ('&', 'CC'), ('SOLICITOR', 'NNP'), ('.', '.')], [('COMMISSIONER', 'NNP'), ('OF', 'NNP'), ('OATH', 'NNP'), ('ORJP', 'NNP'), (')', ')'), ('.', '.')], [('ONECKLIST', 'NNP'), ('Player', 'NNP'), ('Registration', 'NNP'), ('Form', 'NNP'), ('Transfer', 'NNP'), ('Form', 'NNP'), ('(', '('), ('Applying', 'VBG'), ('for', 'IN'), ('Transfer', 'NNP'), (')', ')'), ('Passport', 'NNP'), ('Size', 'NNP'), ('Photo', 'NNP'), ('Certled', 'NNP'), (')', ')'), ('Orional', 'NNP'), ('Birth', 'NNP'), ('Certificate', 'NNP'), ('Certified', 'NNP'), ('Copy', 'NNP'), ('of', 'IN'), ('TIN', 'NNP'), ('Card/', 'NNP'), ('Voter', 'NNP'), ('Card', 'NNP'), ('/', 'NNP'), ('Passport', 'NNP'), ('Certified', 'NNP'), ('copy', 'NN'), ('of', 'IN'), ('Enrollment', 'NNP'), ('FormiSchool', 'NNP'), ('Registration', 'NNP'), (')', ')'), ('Elub', 'NNP'), ('President/', 'NNP'), ('Secretary', 'NNP'), ('Date', 'NNP'), ('Hlytelet', 'NNP'), ('President/Secretary', 'NNP'), ('School', 'NNP'), ('Date', 'NNP'), (':', ':'), ('OFFICE', 'NN'), ('USE', 'NN'), ('ONLY', 'NNP'), ('Somment-', 'NNP'), ('ceipt', 'NN'), ('Number', 'NNP'), (':', ':'), ('Date', 'NN'), (':', ':'), ('No', 'DT'), (':', ':'), ('watationFIJI', 'NN'), ('FOOTBALL', 'NNP'), ('ASSOCIATION', 'NNP'), ('PLAYER', 'NNP'), ('REGISTRATION/LICENSING', 'NNP'), ('SURNAME', 'NNP'), ('NASIE', 'NNP'), ('KHEDKAR', 'NNP'), ('ONKAR', 'NNP'), ('24/09/1999', 'CD'), ('MALE', 'NNP'), ('DATE', 'NNP'), ('OF', 'NNP'), ('BIRTH', 'NNP'), ('SEX', 'NNP'), ('ATTACIE', 'NNP'), ('PHOTO', 'NNP'), ('HERE', 'NNP'), ('TO', 'NNP'), ('BE', 'NNP'), ('CERTIFIED', 'NNP'), ('BY', 'NNP'), ('BARRISTER', 'NNP'), ('&', 'CC'), ('SOLICITOR', 'NNP'), ('CONNUISSIONER', 'NNP'), ('OF', 'NNP'), ('OATH', 'NNP'), ('OR', 'NNP'), ('JI*', 'NNP'), ('ADDRESS', 'NNP'), ('PHONE', 'NNP'), ('CONTACT', 'NNP'), ('EMAIL', 'NNP'), ('ADDRESS', 'NNP'), ('999', 'CD'), ('9922334', 'CD'), ('Onkar', 'NNP'), ('@', 'NNP'), ('gmail.com', 'NN'), ('PRIOR', 'NNP'), ('REGISTAATION', 'NNP'), ('Yes', 'NNP'), (',', ','), ('Plessa', 'NNP'), ('fall', 'NN'), ('in', 'IN'), ('the', 'DT'), ('details', 'NNS'), ('below', 'IN'), (':', ':'), ('DISTRUCT', 'NNP'), ('REGISTERED', 'NNP'), ('NEW', 'NNP'), ('DISTRICT', 'NNP'), ('CLUB/SCHOOL', 'NNP'), ('REGISTERED', 'NNP'), ('NEW', 'NNP'), ('CLUB/SCHOOL', 'NNP'), ('LICENSE', 'NNP'), ('NO', 'NNP'), ('.', '.')], [('FLAMING', 'NN'), ('POSITION', 'NNP'), ('solemnly', 'RB'), ('and', 'CC'), (\"''\", \"''\"), ('Sincerely', 'RB'), ('declare', 'VBP'), ('that', 'IN'), ('above', 'IN'), ('into', 'IN'), ('watation', 'NN'), ('provided', 'VBN'), ('is', 'VBZ'), ('correct', 'JJ'), ('.', '.')], [('(', '('), ('Signature', 'NN'), ('of', 'IN'), ('Player', 'NNP'), (')', ')'), ('Witness', 'NNP'), ('by', 'IN'), ('(', '('), ('FORM', 'NNP'), ('SHOULD', 'NNP'), ('BE', 'NNP'), ('WITNESSED', 'NNP'), ('BY', 'NNP'), ('BARRISTER', 'NNP'), ('&', 'CC'), ('SOLICITOR', 'NNP'), ('.', '.')], [('COMMISSIONER', 'NNP'), ('OF', 'NNP'), ('OATH', 'NNP'), ('ORJP', 'NNP'), (')', ')'), ('.', '.')], [('ONECKLIST', 'NNP'), ('Player', 'NNP'), ('Registration', 'NNP'), ('Form', 'NNP'), ('Transfer', 'NNP'), ('Form', 'NNP'), ('(', '('), ('Applying', 'VBG'), ('for', 'IN'), ('Transfer', 'NNP'), (')', ')'), ('Passport', 'NNP'), ('Size', 'NNP'), ('Photo', 'NNP'), ('Certled', 'NNP'), (')', ')'), ('Orional', 'NNP'), ('Birth', 'NNP'), ('Certificate', 'NNP'), ('Certified', 'NNP'), ('Copy', 'NNP'), ('of', 'IN'), ('TIN', 'NNP'), ('Card/', 'NNP'), ('Voter', 'NNP'), ('Card', 'NNP'), ('/', 'NNP'), ('Passport', 'NNP'), ('Certified', 'NNP'), ('copy', 'NN'), ('of', 'IN'), ('Enrollment', 'NNP'), ('FormiSchool', 'NNP'), ('Registration', 'NNP'), (')', ')'), ('Elub', 'NNP'), ('President/', 'NNP'), ('Secretary', 'NNP'), ('Date', 'NNP'), ('Hlytelet', 'NNP'), ('President/Secretary', 'NNP'), ('School', 'NNP'), ('Date', 'NNP'), (':', ':'), ('OFFICE', 'NN'), ('USE', 'NN'), ('ONLY', 'NNP'), ('Somment-', 'NNP'), ('ceipt', 'NN'), ('Number', 'NNP'), (':', ':'), ('Date', 'NN'), (':', ':'), ('No', 'DT'), (':', ':'), ('correct.FIJI', 'NN'), ('FOOTBALL', 'NNP'), ('ASSOCIATION', 'NNP'), ('PLAYER', 'NNP'), ('REGISTRATION/LICENSING', 'NNP'), ('SURNAME', 'NNP'), ('NASIE', 'NNP'), ('KHEDKAR', 'NNP'), ('ONKAR', 'NNP'), ('24/09/1999', 'CD'), ('MALE', 'NNP'), ('DATE', 'NNP'), ('OF', 'NNP'), ('BIRTH', 'NNP'), ('SEX', 'NNP'), ('ATTACIE', 'NNP'), ('PHOTO', 'NNP'), ('HERE', 'NNP'), ('TO', 'NNP'), ('BE', 'NNP'), ('CERTIFIED', 'NNP'), ('BY', 'NNP'), ('BARRISTER', 'NNP'), ('&', 'CC'), ('SOLICITOR', 'NNP'), ('CONNUISSIONER', 'NNP'), ('OF', 'NNP'), ('OATH', 'NNP'), ('OR', 'NNP'), ('JI*', 'NNP'), ('ADDRESS', 'NNP'), ('PHONE', 'NNP'), ('CONTACT', 'NNP'), ('EMAIL', 'NNP'), ('ADDRESS', 'NNP'), ('999', 'CD'), ('9922334', 'CD'), ('Onkar', 'NNP'), ('@', 'NNP'), ('gmail.com', 'NN'), ('PRIOR', 'NNP'), ('REGISTAATION', 'NNP'), ('Yes', 'NNP'), (',', ','), ('Plessa', 'NNP'), ('fall', 'NN'), ('in', 'IN'), ('the', 'DT'), ('details', 'NNS'), ('below', 'IN'), (':', ':'), ('DISTRUCT', 'NNP'), ('REGISTERED', 'NNP'), ('NEW', 'NNP'), ('DISTRICT', 'NNP'), ('CLUB/SCHOOL', 'NNP'), ('REGISTERED', 'NNP'), ('NEW', 'NNP'), ('CLUB/SCHOOL', 'NNP'), ('LICENSE', 'NNP'), ('NO', 'NNP'), ('.', '.')], [('FLAMING', 'NN'), ('POSITION', 'NNP'), ('solemnly', 'RB'), ('and', 'CC'), (\"''\", \"''\"), ('Sincerely', 'RB'), ('declare', 'VBP'), ('that', 'IN'), ('above', 'IN'), ('into', 'IN'), ('watation', 'NN'), ('provided', 'VBN'), ('is', 'VBZ'), ('correct', 'JJ'), ('.', '.')], [('(', '('), ('Signature', 'NN'), ('of', 'IN'), ('Player', 'NNP'), (')', ')'), ('Witness', 'NNP'), ('by', 'IN'), ('(', '('), ('FORM', 'NNP'), ('SHOULD', 'NNP'), ('BE', 'NNP'), ('WITNESSED', 'NNP'), ('BY', 'NNP'), ('BARRISTER', 'NNP'), ('&', 'CC'), ('SOLICITOR', 'NNP'), ('.', '.')], [('COMMISSIONER', 'NNP'), ('OF', 'NNP'), ('OATH', 'NNP'), ('ORJP', 'NNP'), (')', ')'), ('.', '.')], [('ONECKLIST', 'NNP'), ('Player', 'NNP'), ('Registration', 'NNP'), ('Form', 'NNP'), ('Transfer', 'NNP'), ('Form', 'NNP'), ('(', '('), ('Applying', 'VBG'), ('for', 'IN'), ('Transfer', 'NNP'), (')', ')'), ('Passport', 'NNP'), ('Size', 'NNP'), ('Photo', 'NNP'), ('Certled', 'NNP'), (')', ')'), ('Orional', 'NNP'), ('Birth', 'NNP'), ('Certificate', 'NNP'), ('Certified', 'NNP'), ('Copy', 'NNP'), ('of', 'IN'), ('TIN', 'NNP'), ('Card/', 'NNP'), ('Voter', 'NNP'), ('Card', 'NNP'), ('/', 'NNP'), ('Passport', 'NNP'), ('Certified', 'NNP'), ('copy', 'NN'), ('of', 'IN'), ('Enrollment', 'NNP'), ('FormiSchool', 'NNP'), ('Registration', 'NNP'), (')', ')'), ('Elub', 'NNP'), ('President/', 'NNP'), ('Secretary', 'NNP'), ('Date', 'NNP'), ('Hlytelet', 'NNP'), ('President/Secretary', 'NNP'), ('School', 'NNP'), ('Date', 'NNP'), (':', ':'), ('OFFICE', 'NN'), ('USE', 'NN'), ('ONLY', 'NNP'), ('Somment-', 'NNP'), ('ceipt', 'NN'), ('Number', 'NNP'), (':', ':'), ('Date', 'NN'), (':', ':'), ('No', 'DT'), (':', ':'), ('(', '('), ('SignatureFIJI', 'NNP'), ('FOOTBALL', 'NNP'), ('ASSOCIATION', 'NNP'), ('PLAYER', 'NNP'), ('REGISTRATION/LICENSING', 'NNP'), ('SURNAME', 'NNP'), ('NASIE', 'NNP'), ('KHEDKAR', 'NNP'), ('ONKAR', 'NNP'), ('24/09/1999', 'CD'), ('MALE', 'NNP'), ('DATE', 'NNP'), ('OF', 'NNP'), ('BIRTH', 'NNP'), ('SEX', 'NNP'), ('ATTACIE', 'NNP'), ('PHOTO', 'NNP'), ('HERE', 'NNP'), ('TO', 'NNP'), ('BE', 'NNP'), ('CERTIFIED', 'NNP'), ('BY', 'NNP'), ('BARRISTER', 'NNP'), ('&', 'CC'), ('SOLICITOR', 'NNP'), ('CONNUISSIONER', 'NNP'), ('OF', 'NNP'), ('OATH', 'NNP'), ('OR', 'NNP'), ('JI*', 'NNP'), ('ADDRESS', 'NNP'), ('PHONE', 'NNP'), ('CONTACT', 'NNP'), ('EMAIL', 'NNP'), ('ADDRESS', 'NNP'), ('999', 'CD'), ('9922334', 'CD'), ('Onkar', 'NNP'), ('@', 'NNP'), ('gmail.com', 'NN'), ('PRIOR', 'NNP'), ('REGISTAATION', 'NNP'), ('Yes', 'NNP'), (',', ','), ('Plessa', 'NNP'), ('fall', 'NN'), ('in', 'IN'), ('the', 'DT'), ('details', 'NNS'), ('below', 'IN'), (':', ':'), ('DISTRUCT', 'NNP'), ('REGISTERED', 'NNP'), ('NEW', 'NNP'), ('DISTRICT', 'NNP'), ('CLUB/SCHOOL', 'NNP'), ('REGISTERED', 'NNP'), ('NEW', 'NNP'), ('CLUB/SCHOOL', 'NNP'), ('LICENSE', 'NNP'), ('NO', 'NNP'), ('.', '.')], [('FLAMING', 'NN'), ('POSITION', 'NNP'), ('solemnly', 'RB'), ('and', 'CC'), (\"''\", \"''\"), ('Sincerely', 'RB'), ('declare', 'VBP'), ('that', 'IN'), ('above', 'IN'), ('into', 'IN'), ('watation', 'NN'), ('provided', 'VBN'), ('is', 'VBZ'), ('correct', 'JJ'), ('.', '.')], [('(', '('), ('Signature', 'NN'), ('of', 'IN'), ('Player', 'NNP'), (')', ')'), ('Witness', 'NNP'), ('by', 'IN'), ('(', '('), ('FORM', 'NNP'), ('SHOULD', 'NNP'), ('BE', 'NNP'), ('WITNESSED', 'NNP'), ('BY', 'NNP'), ('BARRISTER', 'NNP'), ('&', 'CC'), ('SOLICITOR', 'NNP'), ('.', '.')], [('COMMISSIONER', 'NNP'), ('OF', 'NNP'), ('OATH', 'NNP'), ('ORJP', 'NNP'), (')', ')'), ('.', '.')], [('ONECKLIST', 'NNP'), ('Player', 'NNP'), ('Registration', 'NNP'), ('Form', 'NNP'), ('Transfer', 'NNP'), ('Form', 'NNP'), ('(', '('), ('Applying', 'VBG'), ('for', 'IN'), ('Transfer', 'NNP'), (')', ')'), ('Passport', 'NNP'), ('Size', 'NNP'), ('Photo', 'NNP'), ('Certled', 'NNP'), (')', ')'), ('Orional', 'NNP'), ('Birth', 'NNP'), ('Certificate', 'NNP'), ('Certified', 'NNP'), ('Copy', 'NNP'), ('of', 'IN'), ('TIN', 'NNP'), ('Card/', 'NNP'), ('Voter', 'NNP'), ('Card', 'NNP'), ('/', 'NNP'), ('Passport', 'NNP'), ('Certified', 'NNP'), ('copy', 'NN'), ('of', 'IN'), ('Enrollment', 'NNP'), ('FormiSchool', 'NNP'), ('Registration', 'NNP'), (')', ')'), ('Elub', 'NNP'), ('President/', 'NNP'), ('Secretary', 'NNP'), ('Date', 'NNP'), ('Hlytelet', 'NNP'), ('President/Secretary', 'NNP'), ('School', 'NNP'), ('Date', 'NNP'), (':', ':'), ('OFFICE', 'NN'), ('USE', 'NN'), ('ONLY', 'NNP'), ('Somment-', 'NNP'), ('ceipt', 'NN'), ('Number', 'NNP'), (':', ':'), ('Date', 'NN'), (':', ':'), ('No', 'DT'), (':', ':'), ('Player', 'NN'), (')', ')'), ('FIJI', 'NNP'), ('FOOTBALL', 'NNP'), ('ASSOCIATION', 'NNP'), ('PLAYER', 'NNP'), ('REGISTRATION/LICENSING', 'NNP'), ('SURNAME', 'NNP'), ('NASIE', 'NNP'), ('KHEDKAR', 'NNP'), ('ONKAR', 'NNP'), ('24/09/1999', 'CD'), ('MALE', 'NNP'), ('DATE', 'NNP'), ('OF', 'NNP'), ('BIRTH', 'NNP'), ('SEX', 'NNP'), ('ATTACIE', 'NNP'), ('PHOTO', 'NNP'), ('HERE', 'NNP'), ('TO', 'NNP'), ('BE', 'NNP'), ('CERTIFIED', 'NNP'), ('BY', 'NNP'), ('BARRISTER', 'NNP'), ('&', 'CC'), ('SOLICITOR', 'NNP'), ('CONNUISSIONER', 'NNP'), ('OF', 'NNP'), ('OATH', 'NNP'), ('OR', 'NNP'), ('JI*', 'NNP'), ('ADDRESS', 'NNP'), ('PHONE', 'NNP'), ('CONTACT', 'NNP'), ('EMAIL', 'NNP'), ('ADDRESS', 'NNP'), ('999', 'CD'), ('9922334', 'CD'), ('Onkar', 'NNP'), ('@', 'NNP'), ('gmail.com', 'NN'), ('PRIOR', 'NNP'), ('REGISTAATION', 'NNP'), ('Yes', 'NNP'), (',', ','), ('Plessa', 'NNP'), ('fall', 'NN'), ('in', 'IN'), ('the', 'DT'), ('details', 'NNS'), ('below', 'IN'), (':', ':'), ('DISTRUCT', 'NNP'), ('REGISTERED', 'NNP'), ('NEW', 'NNP'), ('DISTRICT', 'NNP'), ('CLUB/SCHOOL', 'NNP'), ('REGISTERED', 'NNP'), ('NEW', 'NNP'), ('CLUB/SCHOOL', 'NNP'), ('LICENSE', 'NNP'), ('NO', 'NNP'), ('.', '.')], [('FLAMING', 'NN'), ('POSITION', 'NNP'), ('solemnly', 'RB'), ('and', 'CC'), (\"''\", \"''\"), ('Sincerely', 'RB'), ('declare', 'VBP'), ('that', 'IN'), ('above', 'IN'), ('into', 'IN'), ('watation', 'NN'), ('provided', 'VBN'), ('is', 'VBZ'), ('correct', 'JJ'), ('.', '.')], [('(', '('), ('Signature', 'NN'), ('of', 'IN'), ('Player', 'NNP'), (')', ')'), ('Witness', 'NNP'), ('by', 'IN'), ('(', '('), ('FORM', 'NNP'), ('SHOULD', 'NNP'), ('BE', 'NNP'), ('WITNESSED', 'NNP'), ('BY', 'NNP'), ('BARRISTER', 'NNP'), ('&', 'CC'), ('SOLICITOR', 'NNP'), ('.', '.')], [('COMMISSIONER', 'NNP'), ('OF', 'NNP'), ('OATH', 'NNP'), ('ORJP', 'NNP'), (')', ')'), ('.', '.')], [('ONECKLIST', 'NNP'), ('Player', 'NNP'), ('Registration', 'NNP'), ('Form', 'NNP'), ('Transfer', 'NNP'), ('Form', 'NNP'), ('(', '('), ('Applying', 'VBG'), ('for', 'IN'), ('Transfer', 'NNP'), (')', ')'), ('Passport', 'NNP'), ('Size', 'NNP'), ('Photo', 'NNP'), ('Certled', 'NNP'), (')', ')'), ('Orional', 'NNP'), ('Birth', 'NNP'), ('Certificate', 'NNP'), ('Certified', 'NNP'), ('Copy', 'NNP'), ('of', 'IN'), ('TIN', 'NNP'), ('Card/', 'NNP'), ('Voter', 'NNP'), ('Card', 'NNP'), ('/', 'NNP'), ('Passport', 'NNP'), ('Certified', 'NNP'), ('copy', 'NN'), ('of', 'IN'), ('Enrollment', 'NNP'), ('FormiSchool', 'NNP'), ('Registration', 'NNP'), (')', ')'), ('Elub', 'NNP'), ('President/', 'NNP'), ('Secretary', 'NNP'), ('Date', 'NNP'), ('Hlytelet', 'NNP'), ('President/Secretary', 'NNP'), ('School', 'NNP'), ('Date', 'NNP'), (':', ':'), ('OFFICE', 'NN'), ('USE', 'NN'), ('ONLY', 'NNP'), ('Somment-', 'NNP'), ('ceipt', 'NN'), ('Number', 'NNP'), (':', ':'), ('Date', 'NN'), (':', ':'), ('No', 'DT'), (':', ':'), ('WitnessFIJI', 'NNP'), ('FOOTBALL', 'NNP'), ('ASSOCIATION', 'NNP'), ('PLAYER', 'NNP'), ('REGISTRATION/LICENSING', 'NNP'), ('SURNAME', 'NNP'), ('NASIE', 'NNP'), ('KHEDKAR', 'NNP'), ('ONKAR', 'NNP'), ('24/09/1999', 'CD'), ('MALE', 'NNP'), ('DATE', 'NNP'), ('OF', 'NNP'), ('BIRTH', 'NNP'), ('SEX', 'NNP'), ('ATTACIE', 'NNP'), ('PHOTO', 'NNP'), ('HERE', 'NNP'), ('TO', 'NNP'), ('BE', 'NNP'), ('CERTIFIED', 'NNP'), ('BY', 'NNP'), ('BARRISTER', 'NNP'), ('&', 'CC'), ('SOLICITOR', 'NNP'), ('CONNUISSIONER', 'NNP'), ('OF', 'NNP'), ('OATH', 'NNP'), ('OR', 'NNP'), ('JI*', 'NNP'), ('ADDRESS', 'NNP'), ('PHONE', 'NNP'), ('CONTACT', 'NNP'), ('EMAIL', 'NNP'), ('ADDRESS', 'NNP'), ('999', 'CD'), ('9922334', 'CD'), ('Onkar', 'NNP'), ('@', 'NNP'), ('gmail.com', 'NN'), ('PRIOR', 'NNP'), ('REGISTAATION', 'NNP'), ('Yes', 'NNP'), (',', ','), ('Plessa', 'NNP'), ('fall', 'NN'), ('in', 'IN'), ('the', 'DT'), ('details', 'NNS'), ('below', 'IN'), (':', ':'), ('DISTRUCT', 'NNP'), ('REGISTERED', 'NNP'), ('NEW', 'NNP'), ('DISTRICT', 'NNP'), ('CLUB/SCHOOL', 'NNP'), ('REGISTERED', 'NNP'), ('NEW', 'NNP'), ('CLUB/SCHOOL', 'NNP'), ('LICENSE', 'NNP'), ('NO', 'NNP'), ('.', '.')], [('FLAMING', 'NN'), ('POSITION', 'NNP'), ('solemnly', 'RB'), ('and', 'CC'), (\"''\", \"''\"), ('Sincerely', 'RB'), ('declare', 'VBP'), ('that', 'IN'), ('above', 'IN'), ('into', 'IN'), ('watation', 'NN'), ('provided', 'VBN'), ('is', 'VBZ'), ('correct', 'JJ'), ('.', '.')], [('(', '('), ('Signature', 'NN'), ('of', 'IN'), ('Player', 'NNP'), (')', ')'), ('Witness', 'NNP'), ('by', 'IN'), ('(', '('), ('FORM', 'NNP'), ('SHOULD', 'NNP'), ('BE', 'NNP'), ('WITNESSED', 'NNP'), ('BY', 'NNP'), ('BARRISTER', 'NNP'), ('&', 'CC'), ('SOLICITOR', 'NNP'), ('.', '.')], [('COMMISSIONER', 'NNP'), ('OF', 'NNP'), ('OATH', 'NNP'), ('ORJP', 'NNP'), (')', ')'), ('.', '.')], [('ONECKLIST', 'NNP'), ('Player', 'NNP'), ('Registration', 'NNP'), ('Form', 'NNP'), ('Transfer', 'NNP'), ('Form', 'NNP'), ('(', '('), ('Applying', 'VBG'), ('for', 'IN'), ('Transfer', 'NNP'), (')', ')'), ('Passport', 'NNP'), ('Size', 'NNP'), ('Photo', 'NNP'), ('Certled', 'NNP'), (')', ')'), ('Orional', 'NNP'), ('Birth', 'NNP'), ('Certificate', 'NNP'), ('Certified', 'NNP'), ('Copy', 'NNP'), ('of', 'IN'), ('TIN', 'NNP'), ('Card/', 'NNP'), ('Voter', 'NNP'), ('Card', 'NNP'), ('/', 'NNP'), ('Passport', 'NNP'), ('Certified', 'NNP'), ('copy', 'NN'), ('of', 'IN'), ('Enrollment', 'NNP'), ('FormiSchool', 'NNP'), ('Registration', 'NNP'), (')', ')'), ('Elub', 'NNP'), ('President/', 'NNP'), ('Secretary', 'NNP'), ('Date', 'NNP'), ('Hlytelet', 'NNP'), ('President/Secretary', 'NNP'), ('School', 'NNP'), ('Date', 'NNP'), (':', ':'), ('OFFICE', 'NN'), ('USE', 'NN'), ('ONLY', 'NNP'), ('Somment-', 'NNP'), ('ceipt', 'NN'), ('Number', 'NNP'), (':', ':'), ('Date', 'NN'), (':', ':'), ('No', 'DT'), (':', ':'), ('(', '('), ('FORMFIJI', 'NNP'), ('FOOTBALL', 'NNP'), ('ASSOCIATION', 'NNP'), ('PLAYER', 'NNP'), ('REGISTRATION/LICENSING', 'NNP'), ('SURNAME', 'NNP'), ('NASIE', 'NNP'), ('KHEDKAR', 'NNP'), ('ONKAR', 'NNP'), ('24/09/1999', 'CD'), ('MALE', 'NNP'), ('DATE', 'NNP'), ('OF', 'NNP'), ('BIRTH', 'NNP'), ('SEX', 'NNP'), ('ATTACIE', 'NNP'), ('PHOTO', 'NNP'), ('HERE', 'NNP'), ('TO', 'NNP'), ('BE', 'NNP'), ('CERTIFIED', 'NNP'), ('BY', 'NNP'), ('BARRISTER', 'NNP'), ('&', 'CC'), ('SOLICITOR', 'NNP'), ('CONNUISSIONER', 'NNP'), ('OF', 'NNP'), ('OATH', 'NNP'), ('OR', 'NNP'), ('JI*', 'NNP'), ('ADDRESS', 'NNP'), ('PHONE', 'NNP'), ('CONTACT', 'NNP'), ('EMAIL', 'NNP'), ('ADDRESS', 'NNP'), ('999', 'CD'), ('9922334', 'CD'), ('Onkar', 'NNP'), ('@', 'NNP'), ('gmail.com', 'NN'), ('PRIOR', 'NNP'), ('REGISTAATION', 'NNP'), ('Yes', 'NNP'), (',', ','), ('Plessa', 'NNP'), ('fall', 'NN'), ('in', 'IN'), ('the', 'DT'), ('details', 'NNS'), ('below', 'IN'), (':', ':'), ('DISTRUCT', 'NNP'), ('REGISTERED', 'NNP'), ('NEW', 'NNP'), ('DISTRICT', 'NNP'), ('CLUB/SCHOOL', 'NNP'), ('REGISTERED', 'NNP'), ('NEW', 'NNP'), ('CLUB/SCHOOL', 'NNP'), ('LICENSE', 'NNP'), ('NO', 'NNP'), ('.', '.')], [('FLAMING', 'NN'), ('POSITION', 'NNP'), ('solemnly', 'RB'), ('and', 'CC'), (\"''\", \"''\"), ('Sincerely', 'RB'), ('declare', 'VBP'), ('that', 'IN'), ('above', 'IN'), ('into', 'IN'), ('watation', 'NN'), ('provided', 'VBN'), ('is', 'VBZ'), ('correct', 'JJ'), ('.', '.')], [('(', '('), ('Signature', 'NN'), ('of', 'IN'), ('Player', 'NNP'), (')', ')'), ('Witness', 'NNP'), ('by', 'IN'), ('(', '('), ('FORM', 'NNP'), ('SHOULD', 'NNP'), ('BE', 'NNP'), ('WITNESSED', 'NNP'), ('BY', 'NNP'), ('BARRISTER', 'NNP'), ('&', 'CC'), ('SOLICITOR', 'NNP'), ('.', '.')], [('COMMISSIONER', 'NNP'), ('OF', 'NNP'), ('OATH', 'NNP'), ('ORJP', 'NNP'), (')', ')'), ('.', '.')], [('ONECKLIST', 'NNP'), ('Player', 'NNP'), ('Registration', 'NNP'), ('Form', 'NNP'), ('Transfer', 'NNP'), ('Form', 'NNP'), ('(', '('), ('Applying', 'VBG'), ('for', 'IN'), ('Transfer', 'NNP'), (')', ')'), ('Passport', 'NNP'), ('Size', 'NNP'), ('Photo', 'NNP'), ('Certled', 'NNP'), (')', ')'), ('Orional', 'NNP'), ('Birth', 'NNP'), ('Certificate', 'NNP'), ('Certified', 'NNP'), ('Copy', 'NNP'), ('of', 'IN'), ('TIN', 'NNP'), ('Card/', 'NNP'), ('Voter', 'NNP'), ('Card', 'NNP'), ('/', 'NNP'), ('Passport', 'NNP'), ('Certified', 'NNP'), ('copy', 'NN'), ('of', 'IN'), ('Enrollment', 'NNP'), ('FormiSchool', 'NNP'), ('Registration', 'NNP'), (')', ')'), ('Elub', 'NNP'), ('President/', 'NNP'), ('Secretary', 'NNP'), ('Date', 'NNP'), ('Hlytelet', 'NNP'), ('President/Secretary', 'NNP'), ('School', 'NNP'), ('Date', 'NNP'), (':', ':'), ('OFFICE', 'NN'), ('USE', 'NN'), ('ONLY', 'NNP'), ('Somment-', 'NNP'), ('ceipt', 'NN'), ('Number', 'NNP'), (':', ':'), ('Date', 'NN'), (':', ':'), ('No', 'DT'), (':', ':'), ('SOLICITOR.FIJI', 'NNP'), ('FOOTBALL', 'NNP'), ('ASSOCIATION', 'NNP'), ('PLAYER', 'NNP'), ('REGISTRATION/LICENSING', 'NNP'), ('SURNAME', 'NNP'), ('NASIE', 'NNP'), ('KHEDKAR', 'NNP'), ('ONKAR', 'NNP'), ('24/09/1999', 'CD'), ('MALE', 'NNP'), ('DATE', 'NNP'), ('OF', 'NNP'), ('BIRTH', 'NNP'), ('SEX', 'NNP'), ('ATTACIE', 'NNP'), ('PHOTO', 'NNP'), ('HERE', 'NNP'), ('TO', 'NNP'), ('BE', 'NNP'), ('CERTIFIED', 'NNP'), ('BY', 'NNP'), ('BARRISTER', 'NNP'), ('&', 'CC'), ('SOLICITOR', 'NNP'), ('CONNUISSIONER', 'NNP'), ('OF', 'NNP'), ('OATH', 'NNP'), ('OR', 'NNP'), ('JI*', 'NNP'), ('ADDRESS', 'NNP'), ('PHONE', 'NNP'), ('CONTACT', 'NNP'), ('EMAIL', 'NNP'), ('ADDRESS', 'NNP'), ('999', 'CD'), ('9922334', 'CD'), ('Onkar', 'NNP'), ('@', 'NNP'), ('gmail.com', 'NN'), ('PRIOR', 'NNP'), ('REGISTAATION', 'NNP'), ('Yes', 'NNP'), (',', ','), ('Plessa', 'NNP'), ('fall', 'NN'), ('in', 'IN'), ('the', 'DT'), ('details', 'NNS'), ('below', 'IN'), (':', ':'), ('DISTRUCT', 'NNP'), ('REGISTERED', 'NNP'), ('NEW', 'NNP'), ('DISTRICT', 'NNP'), ('CLUB/SCHOOL', 'NNP'), ('REGISTERED', 'NNP'), ('NEW', 'NNP'), ('CLUB/SCHOOL', 'NNP'), ('LICENSE', 'NNP'), ('NO', 'NNP'), ('.', '.')], [('FLAMING', 'NN'), ('POSITION', 'NNP'), ('solemnly', 'RB'), ('and', 'CC'), (\"''\", \"''\"), ('Sincerely', 'RB'), ('declare', 'VBP'), ('that', 'IN'), ('above', 'IN'), ('into', 'IN'), ('watation', 'NN'), ('provided', 'VBN'), ('is', 'VBZ'), ('correct', 'JJ'), ('.', '.')], [('(', '('), ('Signature', 'NN'), ('of', 'IN'), ('Player', 'NNP'), (')', ')'), ('Witness', 'NNP'), ('by', 'IN'), ('(', '('), ('FORM', 'NNP'), ('SHOULD', 'NNP'), ('BE', 'NNP'), ('WITNESSED', 'NNP'), ('BY', 'NNP'), ('BARRISTER', 'NNP'), ('&', 'CC'), ('SOLICITOR', 'NNP'), ('.', '.')], [('COMMISSIONER', 'NNP'), ('OF', 'NNP'), ('OATH', 'NNP'), ('ORJP', 'NNP'), (')', ')'), ('.', '.')], [('ONECKLIST', 'NNP'), ('Player', 'NNP'), ('Registration', 'NNP'), ('Form', 'NNP'), ('Transfer', 'NNP'), ('Form', 'NNP'), ('(', '('), ('Applying', 'VBG'), ('for', 'IN'), ('Transfer', 'NNP'), (')', ')'), ('Passport', 'NNP'), ('Size', 'NNP'), ('Photo', 'NNP'), ('Certled', 'NNP'), (')', ')'), ('Orional', 'NNP'), ('Birth', 'NNP'), ('Certificate', 'NNP'), ('Certified', 'NNP'), ('Copy', 'NNP'), ('of', 'IN'), ('TIN', 'NNP'), ('Card/', 'NNP'), ('Voter', 'NNP'), ('Card', 'NNP'), ('/', 'NNP'), ('Passport', 'NNP'), ('Certified', 'NNP'), ('copy', 'NN'), ('of', 'IN'), ('Enrollment', 'NNP'), ('FormiSchool', 'NNP'), ('Registration', 'NNP'), (')', ')'), ('Elub', 'NNP'), ('President/', 'NNP'), ('Secretary', 'NNP'), ('Date', 'NNP'), ('Hlytelet', 'NNP'), ('President/Secretary', 'NNP'), ('School', 'NNP'), ('Date', 'NNP'), (':', ':'), ('OFFICE', 'NN'), ('USE', 'NN'), ('ONLY', 'NNP'), ('Somment-', 'NNP'), ('ceipt', 'NN'), ('Number', 'NNP'), (':', ':'), ('Date', 'NN'), (':', ':'), ('No', 'DT'), (':', ':'), ('ORJP', 'NN'), (')', ')'), ('.FIJI', 'NNP'), ('FOOTBALL', 'NNP'), ('ASSOCIATION', 'NNP'), ('PLAYER', 'NNP'), ('REGISTRATION/LICENSING', 'NNP'), ('SURNAME', 'NNP'), ('NASIE', 'NNP'), ('KHEDKAR', 'NNP'), ('ONKAR', 'NNP'), ('24/09/1999', 'CD'), ('MALE', 'NNP'), ('DATE', 'NNP'), ('OF', 'NNP'), ('BIRTH', 'NNP'), ('SEX', 'NNP'), ('ATTACIE', 'NNP'), ('PHOTO', 'NNP'), ('HERE', 'NNP'), ('TO', 'NNP'), ('BE', 'NNP'), ('CERTIFIED', 'NNP'), ('BY', 'NNP'), ('BARRISTER', 'NNP'), ('&', 'CC'), ('SOLICITOR', 'NNP'), ('CONNUISSIONER', 'NNP'), ('OF', 'NNP'), ('OATH', 'NNP'), ('OR', 'NNP'), ('JI*', 'NNP'), ('ADDRESS', 'NNP'), ('PHONE', 'NNP'), ('CONTACT', 'NNP'), ('EMAIL', 'NNP'), ('ADDRESS', 'NNP'), ('999', 'CD'), ('9922334', 'CD'), ('Onkar', 'NNP'), ('@', 'NNP'), ('gmail.com', 'NN'), ('PRIOR', 'NNP'), ('REGISTAATION', 'NNP'), ('Yes', 'NNP'), (',', ','), ('Plessa', 'NNP'), ('fall', 'NN'), ('in', 'IN'), ('the', 'DT'), ('details', 'NNS'), ('below', 'IN'), (':', ':'), ('DISTRUCT', 'NNP'), ('REGISTERED', 'NNP'), ('NEW', 'NNP'), ('DISTRICT', 'NNP'), ('CLUB/SCHOOL', 'NNP'), ('REGISTERED', 'NNP'), ('NEW', 'NNP'), ('CLUB/SCHOOL', 'NNP'), ('LICENSE', 'NNP'), ('NO', 'NNP'), ('.', '.')], [('FLAMING', 'NN'), ('POSITION', 'NNP'), ('solemnly', 'RB'), ('and', 'CC'), (\"''\", \"''\"), ('Sincerely', 'RB'), ('declare', 'VBP'), ('that', 'IN'), ('above', 'IN'), ('into', 'IN'), ('watation', 'NN'), ('provided', 'VBN'), ('is', 'VBZ'), ('correct', 'JJ'), ('.', '.')], [('(', '('), ('Signature', 'NN'), ('of', 'IN'), ('Player', 'NNP'), (')', ')'), ('Witness', 'NNP'), ('by', 'IN'), ('(', '('), ('FORM', 'NNP'), ('SHOULD', 'NNP'), ('BE', 'NNP'), ('WITNESSED', 'NNP'), ('BY', 'NNP'), ('BARRISTER', 'NNP'), ('&', 'CC'), ('SOLICITOR', 'NNP'), ('.', '.')], [('COMMISSIONER', 'NNP'), ('OF', 'NNP'), ('OATH', 'NNP'), ('ORJP', 'NNP'), (')', ')'), ('.', '.')], [('ONECKLIST', 'NNP'), ('Player', 'NNP'), ('Registration', 'NNP'), ('Form', 'NNP'), ('Transfer', 'NNP'), ('Form', 'NNP'), ('(', '('), ('Applying', 'VBG'), ('for', 'IN'), ('Transfer', 'NNP'), (')', ')'), ('Passport', 'NNP'), ('Size', 'NNP'), ('Photo', 'NNP'), ('Certled', 'NNP'), (')', ')'), ('Orional', 'NNP'), ('Birth', 'NNP'), ('Certificate', 'NNP'), ('Certified', 'NNP'), ('Copy', 'NNP'), ('of', 'IN'), ('TIN', 'NNP'), ('Card/', 'NNP'), ('Voter', 'NNP'), ('Card', 'NNP'), ('/', 'NNP'), ('Passport', 'NNP'), ('Certified', 'NNP'), ('copy', 'NN'), ('of', 'IN'), ('Enrollment', 'NNP'), ('FormiSchool', 'NNP'), ('Registration', 'NNP'), (')', ')'), ('Elub', 'NNP'), ('President/', 'NNP'), ('Secretary', 'NNP'), ('Date', 'NNP'), ('Hlytelet', 'NNP'), ('President/Secretary', 'NNP'), ('School', 'NNP'), ('Date', 'NNP'), (':', ':'), ('OFFICE', 'NN'), ('USE', 'NN'), ('ONLY', 'NNP'), ('Somment-', 'NNP'), ('ceipt', 'NN'), ('Number', 'NNP'), (':', ':'), ('Date', 'NN'), (':', ':'), ('No', 'DT'), (':', ':'), ('ONECKLISTFIJI', 'NNP'), ('FOOTBALL', 'NNP'), ('ASSOCIATION', 'NNP'), ('PLAYER', 'NNP'), ('REGISTRATION/LICENSING', 'NNP'), ('SURNAME', 'NNP'), ('NASIE', 'NNP'), ('KHEDKAR', 'NNP'), ('ONKAR', 'NNP'), ('24/09/1999', 'CD'), ('MALE', 'NNP'), ('DATE', 'NNP'), ('OF', 'NNP'), ('BIRTH', 'NNP'), ('SEX', 'NNP'), ('ATTACIE', 'NNP'), ('PHOTO', 'NNP'), ('HERE', 'NNP'), ('TO', 'NNP'), ('BE', 'NNP'), ('CERTIFIED', 'NNP'), ('BY', 'NNP'), ('BARRISTER', 'NNP'), ('&', 'CC'), ('SOLICITOR', 'NNP'), ('CONNUISSIONER', 'NNP'), ('OF', 'NNP'), ('OATH', 'NNP'), ('OR', 'NNP'), ('JI*', 'NNP'), ('ADDRESS', 'NNP'), ('PHONE', 'NNP'), ('CONTACT', 'NNP'), ('EMAIL', 'NNP'), ('ADDRESS', 'NNP'), ('999', 'CD'), ('9922334', 'CD'), ('Onkar', 'NNP'), ('@', 'NNP'), ('gmail.com', 'NN'), ('PRIOR', 'NNP'), ('REGISTAATION', 'NNP'), ('Yes', 'NNP'), (',', ','), ('Plessa', 'NNP'), ('fall', 'NN'), ('in', 'IN'), ('the', 'DT'), ('details', 'NNS'), ('below', 'IN'), (':', ':'), ('DISTRUCT', 'NNP'), ('REGISTERED', 'NNP'), ('NEW', 'NNP'), ('DISTRICT', 'NNP'), ('CLUB/SCHOOL', 'NNP'), ('REGISTERED', 'NNP'), ('NEW', 'NNP'), ('CLUB/SCHOOL', 'NNP'), ('LICENSE', 'NNP'), ('NO', 'NNP'), ('.', '.')], [('FLAMING', 'NN'), ('POSITION', 'NNP'), ('solemnly', 'RB'), ('and', 'CC'), (\"''\", \"''\"), ('Sincerely', 'RB'), ('declare', 'VBP'), ('that', 'IN'), ('above', 'IN'), ('into', 'IN'), ('watation', 'NN'), ('provided', 'VBN'), ('is', 'VBZ'), ('correct', 'JJ'), ('.', '.')], [('(', '('), ('Signature', 'NN'), ('of', 'IN'), ('Player', 'NNP'), (')', ')'), ('Witness', 'NNP'), ('by', 'IN'), ('(', '('), ('FORM', 'NNP'), ('SHOULD', 'NNP'), ('BE', 'NNP'), ('WITNESSED', 'NNP'), ('BY', 'NNP'), ('BARRISTER', 'NNP'), ('&', 'CC'), ('SOLICITOR', 'NNP'), ('.', '.')], [('COMMISSIONER', 'NNP'), ('OF', 'NNP'), ('OATH', 'NNP'), ('ORJP', 'NNP'), (')', ')'), ('.', '.')], [('ONECKLIST', 'NNP'), ('Player', 'NNP'), ('Registration', 'NNP'), ('Form', 'NNP'), ('Transfer', 'NNP'), ('Form', 'NNP'), ('(', '('), ('Applying', 'VBG'), ('for', 'IN'), ('Transfer', 'NNP'), (')', ')'), ('Passport', 'NNP'), ('Size', 'NNP'), ('Photo', 'NNP'), ('Certled', 'NNP'), (')', ')'), ('Orional', 'NNP'), ('Birth', 'NNP'), ('Certificate', 'NNP'), ('Certified', 'NNP'), ('Copy', 'NNP'), ('of', 'IN'), ('TIN', 'NNP'), ('Card/', 'NNP'), ('Voter', 'NNP'), ('Card', 'NNP'), ('/', 'NNP'), ('Passport', 'NNP'), ('Certified', 'NNP'), ('copy', 'NN'), ('of', 'IN'), ('Enrollment', 'NNP'), ('FormiSchool', 'NNP'), ('Registration', 'NNP'), (')', ')'), ('Elub', 'NNP'), ('President/', 'NNP'), ('Secretary', 'NNP'), ('Date', 'NNP'), ('Hlytelet', 'NNP'), ('President/Secretary', 'NNP'), ('School', 'NNP'), ('Date', 'NNP'), (':', ':'), ('OFFICE', 'NN'), ('USE', 'NN'), ('ONLY', 'NNP'), ('Somment-', 'NNP'), ('ceipt', 'NN'), ('Number', 'NNP'), (':', ':'), ('Date', 'NN'), (':', ':'), ('No', 'DT'), (':', ':'), ('PlayerFIJI', 'NNP'), ('FOOTBALL', 'NNP'), ('ASSOCIATION', 'NNP'), ('PLAYER', 'NNP'), ('REGISTRATION/LICENSING', 'NNP'), ('SURNAME', 'NNP'), ('NASIE', 'NNP'), ('KHEDKAR', 'NNP'), ('ONKAR', 'NNP'), ('24/09/1999', 'CD'), ('MALE', 'NNP'), ('DATE', 'NNP'), ('OF', 'NNP'), ('BIRTH', 'NNP'), ('SEX', 'NNP'), ('ATTACIE', 'NNP'), ('PHOTO', 'NNP'), ('HERE', 'NNP'), ('TO', 'NNP'), ('BE', 'NNP'), ('CERTIFIED', 'NNP'), ('BY', 'NNP'), ('BARRISTER', 'NNP'), ('&', 'CC'), ('SOLICITOR', 'NNP'), ('CONNUISSIONER', 'NNP'), ('OF', 'NNP'), ('OATH', 'NNP'), ('OR', 'NNP'), ('JI*', 'NNP'), ('ADDRESS', 'NNP'), ('PHONE', 'NNP'), ('CONTACT', 'NNP'), ('EMAIL', 'NNP'), ('ADDRESS', 'NNP'), ('999', 'CD'), ('9922334', 'CD'), ('Onkar', 'NNP'), ('@', 'NNP'), ('gmail.com', 'NN'), ('PRIOR', 'NNP'), ('REGISTAATION', 'NNP'), ('Yes', 'NNP'), (',', ','), ('Plessa', 'NNP'), ('fall', 'NN'), ('in', 'IN'), ('the', 'DT'), ('details', 'NNS'), ('below', 'IN'), (':', ':'), ('DISTRUCT', 'NNP'), ('REGISTERED', 'NNP'), ('NEW', 'NNP'), ('DISTRICT', 'NNP'), ('CLUB/SCHOOL', 'NNP'), ('REGISTERED', 'NNP'), ('NEW', 'NNP'), ('CLUB/SCHOOL', 'NNP'), ('LICENSE', 'NNP'), ('NO', 'NNP'), ('.', '.')], [('FLAMING', 'NN'), ('POSITION', 'NNP'), ('solemnly', 'RB'), ('and', 'CC'), (\"''\", \"''\"), ('Sincerely', 'RB'), ('declare', 'VBP'), ('that', 'IN'), ('above', 'IN'), ('into', 'IN'), ('watation', 'NN'), ('provided', 'VBN'), ('is', 'VBZ'), ('correct', 'JJ'), ('.', '.')], [('(', '('), ('Signature', 'NN'), ('of', 'IN'), ('Player', 'NNP'), (')', ')'), ('Witness', 'NNP'), ('by', 'IN'), ('(', '('), ('FORM', 'NNP'), ('SHOULD', 'NNP'), ('BE', 'NNP'), ('WITNESSED', 'NNP'), ('BY', 'NNP'), ('BARRISTER', 'NNP'), ('&', 'CC'), ('SOLICITOR', 'NNP'), ('.', '.')], [('COMMISSIONER', 'NNP'), ('OF', 'NNP'), ('OATH', 'NNP'), ('ORJP', 'NNP'), (')', ')'), ('.', '.')], [('ONECKLIST', 'NNP'), ('Player', 'NNP'), ('Registration', 'NNP'), ('Form', 'NNP'), ('Transfer', 'NNP'), ('Form', 'NNP'), ('(', '('), ('Applying', 'VBG'), ('for', 'IN'), ('Transfer', 'NNP'), (')', ')'), ('Passport', 'NNP'), ('Size', 'NNP'), ('Photo', 'NNP'), ('Certled', 'NNP'), (')', ')'), ('Orional', 'NNP'), ('Birth', 'NNP'), ('Certificate', 'NNP'), ('Certified', 'NNP'), ('Copy', 'NNP'), ('of', 'IN'), ('TIN', 'NNP'), ('Card/', 'NNP'), ('Voter', 'NNP'), ('Card', 'NNP'), ('/', 'NNP'), ('Passport', 'NNP'), ('Certified', 'NNP'), ('copy', 'NN'), ('of', 'IN'), ('Enrollment', 'NNP'), ('FormiSchool', 'NNP'), ('Registration', 'NNP'), (')', ')'), ('Elub', 'NNP'), ('President/', 'NNP'), ('Secretary', 'NNP'), ('Date', 'NNP'), ('Hlytelet', 'NNP'), ('President/Secretary', 'NNP'), ('School', 'NNP'), ('Date', 'NNP'), (':', ':'), ('OFFICE', 'NN'), ('USE', 'NN'), ('ONLY', 'NNP'), ('Somment-', 'NNP'), ('ceipt', 'NN'), ('Number', 'NNP'), (':', ':'), ('Date', 'NN'), (':', ':'), ('No', 'DT'), (':', ':'), ('TransferFIJI', 'NNP'), ('FOOTBALL', 'NNP'), ('ASSOCIATION', 'NNP'), ('PLAYER', 'NNP'), ('REGISTRATION/LICENSING', 'NNP'), ('SURNAME', 'NNP'), ('NASIE', 'NNP'), ('KHEDKAR', 'NNP'), ('ONKAR', 'NNP'), ('24/09/1999', 'CD'), ('MALE', 'NNP'), ('DATE', 'NNP'), ('OF', 'NNP'), ('BIRTH', 'NNP'), ('SEX', 'NNP'), ('ATTACIE', 'NNP'), ('PHOTO', 'NNP'), ('HERE', 'NNP'), ('TO', 'NNP'), ('BE', 'NNP'), ('CERTIFIED', 'NNP'), ('BY', 'NNP'), ('BARRISTER', 'NNP'), ('&', 'CC'), ('SOLICITOR', 'NNP'), ('CONNUISSIONER', 'NNP'), ('OF', 'NNP'), ('OATH', 'NNP'), ('OR', 'NNP'), ('JI*', 'NNP'), ('ADDRESS', 'NNP'), ('PHONE', 'NNP'), ('CONTACT', 'NNP'), ('EMAIL', 'NNP'), ('ADDRESS', 'NNP'), ('999', 'CD'), ('9922334', 'CD'), ('Onkar', 'NNP'), ('@', 'NNP'), ('gmail.com', 'NN'), ('PRIOR', 'NNP'), ('REGISTAATION', 'NNP'), ('Yes', 'NNP'), (',', ','), ('Plessa', 'NNP'), ('fall', 'NN'), ('in', 'IN'), ('the', 'DT'), ('details', 'NNS'), ('below', 'IN'), (':', ':'), ('DISTRUCT', 'NNP'), ('REGISTERED', 'NNP'), ('NEW', 'NNP'), ('DISTRICT', 'NNP'), ('CLUB/SCHOOL', 'NNP'), ('REGISTERED', 'NNP'), ('NEW', 'NNP'), ('CLUB/SCHOOL', 'NNP'), ('LICENSE', 'NNP'), ('NO', 'NNP'), ('.', '.')], [('FLAMING', 'NN'), ('POSITION', 'NNP'), ('solemnly', 'RB'), ('and', 'CC'), (\"''\", \"''\"), ('Sincerely', 'RB'), ('declare', 'VBP'), ('that', 'IN'), ('above', 'IN'), ('into', 'IN'), ('watation', 'NN'), ('provided', 'VBN'), ('is', 'VBZ'), ('correct', 'JJ'), ('.', '.')], [('(', '('), ('Signature', 'NN'), ('of', 'IN'), ('Player', 'NNP'), (')', ')'), ('Witness', 'NNP'), ('by', 'IN'), ('(', '('), ('FORM', 'NNP'), ('SHOULD', 'NNP'), ('BE', 'NNP'), ('WITNESSED', 'NNP'), ('BY', 'NNP'), ('BARRISTER', 'NNP'), ('&', 'CC'), ('SOLICITOR', 'NNP'), ('.', '.')], [('COMMISSIONER', 'NNP'), ('OF', 'NNP'), ('OATH', 'NNP'), ('ORJP', 'NNP'), (')', ')'), ('.', '.')], [('ONECKLIST', 'NNP'), ('Player', 'NNP'), ('Registration', 'NNP'), ('Form', 'NNP'), ('Transfer', 'NNP'), ('Form', 'NNP'), ('(', '('), ('Applying', 'VBG'), ('for', 'IN'), ('Transfer', 'NNP'), (')', ')'), ('Passport', 'NNP'), ('Size', 'NNP'), ('Photo', 'NNP'), ('Certled', 'NNP'), (')', ')'), ('Orional', 'NNP'), ('Birth', 'NNP'), ('Certificate', 'NNP'), ('Certified', 'NNP'), ('Copy', 'NNP'), ('of', 'IN'), ('TIN', 'NNP'), ('Card/', 'NNP'), ('Voter', 'NNP'), ('Card', 'NNP'), ('/', 'NNP'), ('Passport', 'NNP'), ('Certified', 'NNP'), ('copy', 'NN'), ('of', 'IN'), ('Enrollment', 'NNP'), ('FormiSchool', 'NNP'), ('Registration', 'NNP'), (')', ')'), ('Elub', 'NNP'), ('President/', 'NNP'), ('Secretary', 'NNP'), ('Date', 'NNP'), ('Hlytelet', 'NNP'), ('President/Secretary', 'NNP'), ('School', 'NNP'), ('Date', 'NNP'), (':', ':'), ('OFFICE', 'NN'), ('USE', 'NN'), ('ONLY', 'NNP'), ('Somment-', 'NNP'), ('ceipt', 'NN'), ('Number', 'NNP'), (':', ':'), ('Date', 'NN'), (':', ':'), ('No', 'DT'), (':', ':'), ('(', '('), ('FIJI', 'NNP'), ('FOOTBALL', 'NNP'), ('ASSOCIATION', 'NNP'), ('PLAYER', 'NNP'), ('REGISTRATION/LICENSING', 'NNP'), ('SURNAME', 'NNP'), ('NASIE', 'NNP'), ('KHEDKAR', 'NNP'), ('ONKAR', 'NNP'), ('24/09/1999', 'CD'), ('MALE', 'NNP'), ('DATE', 'NNP'), ('OF', 'NNP'), ('BIRTH', 'NNP'), ('SEX', 'NNP'), ('ATTACIE', 'NNP'), ('PHOTO', 'NNP'), ('HERE', 'NNP'), ('TO', 'NNP'), ('BE', 'NNP'), ('CERTIFIED', 'NNP'), ('BY', 'NNP'), ('BARRISTER', 'NNP'), ('&', 'CC'), ('SOLICITOR', 'NNP'), ('CONNUISSIONER', 'NNP'), ('OF', 'NNP'), ('OATH', 'NNP'), ('OR', 'NNP'), ('JI*', 'NNP'), ('ADDRESS', 'NNP'), ('PHONE', 'NNP'), ('CONTACT', 'NNP'), ('EMAIL', 'NNP'), ('ADDRESS', 'NNP'), ('999', 'CD'), ('9922334', 'CD'), ('Onkar', 'NNP'), ('@', 'NNP'), ('gmail.com', 'NN'), ('PRIOR', 'NNP'), ('REGISTAATION', 'NNP'), ('Yes', 'NNP'), (',', ','), ('Plessa', 'NNP'), ('fall', 'NN'), ('in', 'IN'), ('the', 'DT'), ('details', 'NNS'), ('below', 'IN'), (':', ':'), ('DISTRUCT', 'NNP'), ('REGISTERED', 'NNP'), ('NEW', 'NNP'), ('DISTRICT', 'NNP'), ('CLUB/SCHOOL', 'NNP'), ('REGISTERED', 'NNP'), ('NEW', 'NNP'), ('CLUB/SCHOOL', 'NNP'), ('LICENSE', 'NNP'), ('NO', 'NNP'), ('.', '.')], [('FLAMING', 'NN'), ('POSITION', 'NNP'), ('solemnly', 'RB'), ('and', 'CC'), (\"''\", \"''\"), ('Sincerely', 'RB'), ('declare', 'VBP'), ('that', 'IN'), ('above', 'IN'), ('into', 'IN'), ('watation', 'NN'), ('provided', 'VBN'), ('is', 'VBZ'), ('correct', 'JJ'), ('.', '.')], [('(', '('), ('Signature', 'NN'), ('of', 'IN'), ('Player', 'NNP'), (')', ')'), ('Witness', 'NNP'), ('by', 'IN'), ('(', '('), ('FORM', 'NNP'), ('SHOULD', 'NNP'), ('BE', 'NNP'), ('WITNESSED', 'NNP'), ('BY', 'NNP'), ('BARRISTER', 'NNP'), ('&', 'CC'), ('SOLICITOR', 'NNP'), ('.', '.')], [('COMMISSIONER', 'NNP'), ('OF', 'NNP'), ('OATH', 'NNP'), ('ORJP', 'NNP'), (')', ')'), ('.', '.')], [('ONECKLIST', 'NNP'), ('Player', 'NNP'), ('Registration', 'NNP'), ('Form', 'NNP'), ('Transfer', 'NNP'), ('Form', 'NNP'), ('(', '('), ('Applying', 'VBG'), ('for', 'IN'), ('Transfer', 'NNP'), (')', ')'), ('Passport', 'NNP'), ('Size', 'NNP'), ('Photo', 'NNP'), ('Certled', 'NNP'), (')', ')'), ('Orional', 'NNP'), ('Birth', 'NNP'), ('Certificate', 'NNP'), ('Certified', 'NNP'), ('Copy', 'NNP'), ('of', 'IN'), ('TIN', 'NNP'), ('Card/', 'NNP'), ('Voter', 'NNP'), ('Card', 'NNP'), ('/', 'NNP'), ('Passport', 'NNP'), ('Certified', 'NNP'), ('copy', 'NN'), ('of', 'IN'), ('Enrollment', 'NNP'), ('FormiSchool', 'NNP'), ('Registration', 'NNP'), (')', ')'), ('Elub', 'NNP'), ('President/', 'NNP'), ('Secretary', 'NNP'), ('Date', 'NNP'), ('Hlytelet', 'NNP'), ('President/Secretary', 'NNP'), ('School', 'NNP'), ('Date', 'NNP'), (':', ':'), ('OFFICE', 'NN'), ('USE', 'NN'), ('ONLY', 'NNP'), ('Somment-', 'NNP'), ('ceipt', 'NN'), ('Number', 'NNP'), (':', ':'), ('Date', 'NN'), (':', ':'), ('No', 'DT'), (':', ':'), ('PassportFIJI', 'NNP'), ('FOOTBALL', 'NNP'), ('ASSOCIATION', 'NNP'), ('PLAYER', 'NNP'), ('REGISTRATION/LICENSING', 'NNP'), ('SURNAME', 'NNP'), ('NASIE', 'NNP'), ('KHEDKAR', 'NNP'), ('ONKAR', 'NNP'), ('24/09/1999', 'CD'), ('MALE', 'NNP'), ('DATE', 'NNP'), ('OF', 'NNP'), ('BIRTH', 'NNP'), ('SEX', 'NNP'), ('ATTACIE', 'NNP'), ('PHOTO', 'NNP'), ('HERE', 'NNP'), ('TO', 'NNP'), ('BE', 'NNP'), ('CERTIFIED', 'NNP'), ('BY', 'NNP'), ('BARRISTER', 'NNP'), ('&', 'CC'), ('SOLICITOR', 'NNP'), ('CONNUISSIONER', 'NNP'), ('OF', 'NNP'), ('OATH', 'NNP'), ('OR', 'NNP'), ('JI*', 'NNP'), ('ADDRESS', 'NNP'), ('PHONE', 'NNP'), ('CONTACT', 'NNP'), ('EMAIL', 'NNP'), ('ADDRESS', 'NNP'), ('999', 'CD'), ('9922334', 'CD'), ('Onkar', 'NNP'), ('@', 'NNP'), ('gmail.com', 'NN'), ('PRIOR', 'NNP'), ('REGISTAATION', 'NNP'), ('Yes', 'NNP'), (',', ','), ('Plessa', 'NNP'), ('fall', 'NN'), ('in', 'IN'), ('the', 'DT'), ('details', 'NNS'), ('below', 'IN'), (':', ':'), ('DISTRUCT', 'NNP'), ('REGISTERED', 'NNP'), ('NEW', 'NNP'), ('DISTRICT', 'NNP'), ('CLUB/SCHOOL', 'NNP'), ('REGISTERED', 'NNP'), ('NEW', 'NNP'), ('CLUB/SCHOOL', 'NNP'), ('LICENSE', 'NNP'), ('NO', 'NNP'), ('.', '.')], [('FLAMING', 'NN'), ('POSITION', 'NNP'), ('solemnly', 'RB'), ('and', 'CC'), (\"''\", \"''\"), ('Sincerely', 'RB'), ('declare', 'VBP'), ('that', 'IN'), ('above', 'IN'), ('into', 'IN'), ('watation', 'NN'), ('provided', 'VBN'), ('is', 'VBZ'), ('correct', 'JJ'), ('.', '.')], [('(', '('), ('Signature', 'NN'), ('of', 'IN'), ('Player', 'NNP'), (')', ')'), ('Witness', 'NNP'), ('by', 'IN'), ('(', '('), ('FORM', 'NNP'), ('SHOULD', 'NNP'), ('BE', 'NNP'), ('WITNESSED', 'NNP'), ('BY', 'NNP'), ('BARRISTER', 'NNP'), ('&', 'CC'), ('SOLICITOR', 'NNP'), ('.', '.')], [('COMMISSIONER', 'NNP'), ('OF', 'NNP'), ('OATH', 'NNP'), ('ORJP', 'NNP'), (')', ')'), ('.', '.')], [('ONECKLIST', 'NNP'), ('Player', 'NNP'), ('Registration', 'NNP'), ('Form', 'NNP'), ('Transfer', 'NNP'), ('Form', 'NNP'), ('(', '('), ('Applying', 'VBG'), ('for', 'IN'), ('Transfer', 'NNP'), (')', ')'), ('Passport', 'NNP'), ('Size', 'NNP'), ('Photo', 'NNP'), ('Certled', 'NNP'), (')', ')'), ('Orional', 'NNP'), ('Birth', 'NNP'), ('Certificate', 'NNP'), ('Certified', 'NNP'), ('Copy', 'NNP'), ('of', 'IN'), ('TIN', 'NNP'), ('Card/', 'NNP'), ('Voter', 'NNP'), ('Card', 'NNP'), ('/', 'NNP'), ('Passport', 'NNP'), ('Certified', 'NNP'), ('copy', 'NN'), ('of', 'IN'), ('Enrollment', 'NNP'), ('FormiSchool', 'NNP'), ('Registration', 'NNP'), (')', ')'), ('Elub', 'NNP'), ('President/', 'NNP'), ('Secretary', 'NNP'), ('Date', 'NNP'), ('Hlytelet', 'NNP'), ('President/Secretary', 'NNP'), ('School', 'NNP'), ('Date', 'NNP'), (':', ':'), ('OFFICE', 'NN'), ('USE', 'NN'), ('ONLY', 'NNP'), ('Somment-', 'NNP'), ('ceipt', 'NN'), ('Number', 'NNP'), (':', ':'), ('Date', 'NN'), (':', ':'), ('No', 'DT'), (':', ':'), ('Certled', 'VBN'), (')', ')'), ('FIJI', 'NNP'), ('FOOTBALL', 'NNP'), ('ASSOCIATION', 'NNP'), ('PLAYER', 'NNP'), ('REGISTRATION/LICENSING', 'NNP'), ('SURNAME', 'NNP'), ('NASIE', 'NNP'), ('KHEDKAR', 'NNP'), ('ONKAR', 'NNP'), ('24/09/1999', 'CD'), ('MALE', 'NNP'), ('DATE', 'NNP'), ('OF', 'NNP'), ('BIRTH', 'NNP'), ('SEX', 'NNP'), ('ATTACIE', 'NNP'), ('PHOTO', 'NNP'), ('HERE', 'NNP'), ('TO', 'NNP'), ('BE', 'NNP'), ('CERTIFIED', 'NNP'), ('BY', 'NNP'), ('BARRISTER', 'NNP'), ('&', 'CC'), ('SOLICITOR', 'NNP'), ('CONNUISSIONER', 'NNP'), ('OF', 'NNP'), ('OATH', 'NNP'), ('OR', 'NNP'), ('JI*', 'NNP'), ('ADDRESS', 'NNP'), ('PHONE', 'NNP'), ('CONTACT', 'NNP'), ('EMAIL', 'NNP'), ('ADDRESS', 'NNP'), ('999', 'CD'), ('9922334', 'CD'), ('Onkar', 'NNP'), ('@', 'NNP'), ('gmail.com', 'NN'), ('PRIOR', 'NNP'), ('REGISTAATION', 'NNP'), ('Yes', 'NNP'), (',', ','), ('Plessa', 'NNP'), ('fall', 'NN'), ('in', 'IN'), ('the', 'DT'), ('details', 'NNS'), ('below', 'IN'), (':', ':'), ('DISTRUCT', 'NNP'), ('REGISTERED', 'NNP'), ('NEW', 'NNP'), ('DISTRICT', 'NNP'), ('CLUB/SCHOOL', 'NNP'), ('REGISTERED', 'NNP'), ('NEW', 'NNP'), ('CLUB/SCHOOL', 'NNP'), ('LICENSE', 'NNP'), ('NO', 'NNP'), ('.', '.')], [('FLAMING', 'NN'), ('POSITION', 'NNP'), ('solemnly', 'RB'), ('and', 'CC'), (\"''\", \"''\"), ('Sincerely', 'RB'), ('declare', 'VBP'), ('that', 'IN'), ('above', 'IN'), ('into', 'IN'), ('watation', 'NN'), ('provided', 'VBN'), ('is', 'VBZ'), ('correct', 'JJ'), ('.', '.')], [('(', '('), ('Signature', 'NN'), ('of', 'IN'), ('Player', 'NNP'), (')', ')'), ('Witness', 'NNP'), ('by', 'IN'), ('(', '('), ('FORM', 'NNP'), ('SHOULD', 'NNP'), ('BE', 'NNP'), ('WITNESSED', 'NNP'), ('BY', 'NNP'), ('BARRISTER', 'NNP'), ('&', 'CC'), ('SOLICITOR', 'NNP'), ('.', '.')], [('COMMISSIONER', 'NNP'), ('OF', 'NNP'), ('OATH', 'NNP'), ('ORJP', 'NNP'), (')', ')'), ('.', '.')], [('ONECKLIST', 'NNP'), ('Player', 'NNP'), ('Registration', 'NNP'), ('Form', 'NNP'), ('Transfer', 'NNP'), ('Form', 'NNP'), ('(', '('), ('Applying', 'VBG'), ('for', 'IN'), ('Transfer', 'NNP'), (')', ')'), ('Passport', 'NNP'), ('Size', 'NNP'), ('Photo', 'NNP'), ('Certled', 'NNP'), (')', ')'), ('Orional', 'NNP'), ('Birth', 'NNP'), ('Certificate', 'NNP'), ('Certified', 'NNP'), ('Copy', 'NNP'), ('of', 'IN'), ('TIN', 'NNP'), ('Card/', 'NNP'), ('Voter', 'NNP'), ('Card', 'NNP'), ('/', 'NNP'), ('Passport', 'NNP'), ('Certified', 'NNP'), ('copy', 'NN'), ('of', 'IN'), ('Enrollment', 'NNP'), ('FormiSchool', 'NNP'), ('Registration', 'NNP'), (')', ')'), ('Elub', 'NNP'), ('President/', 'NNP'), ('Secretary', 'NNP'), ('Date', 'NNP'), ('Hlytelet', 'NNP'), ('President/Secretary', 'NNP'), ('School', 'NNP'), ('Date', 'NNP'), (':', ':'), ('OFFICE', 'NN'), ('USE', 'NN'), ('ONLY', 'NNP'), ('Somment-', 'NNP'), ('ceipt', 'NN'), ('Number', 'NNP'), (':', ':'), ('Date', 'NN'), (':', ':'), ('No', 'DT'), (':', ':'), ('OrionalFIJI', 'NNP'), ('FOOTBALL', 'NNP'), ('ASSOCIATION', 'NNP'), ('PLAYER', 'NNP'), ('REGISTRATION/LICENSING', 'NNP'), ('SURNAME', 'NNP'), ('NASIE', 'NNP'), ('KHEDKAR', 'NNP'), ('ONKAR', 'NNP'), ('24/09/1999', 'CD'), ('MALE', 'NNP'), ('DATE', 'NNP'), ('OF', 'NNP'), ('BIRTH', 'NNP'), ('SEX', 'NNP'), ('ATTACIE', 'NNP'), ('PHOTO', 'NNP'), ('HERE', 'NNP'), ('TO', 'NNP'), ('BE', 'NNP'), ('CERTIFIED', 'NNP'), ('BY', 'NNP'), ('BARRISTER', 'NNP'), ('&', 'CC'), ('SOLICITOR', 'NNP'), ('CONNUISSIONER', 'NNP'), ('OF', 'NNP'), ('OATH', 'NNP'), ('OR', 'NNP'), ('JI*', 'NNP'), ('ADDRESS', 'NNP'), ('PHONE', 'NNP'), ('CONTACT', 'NNP'), ('EMAIL', 'NNP'), ('ADDRESS', 'NNP'), ('999', 'CD'), ('9922334', 'CD'), ('Onkar', 'NNP'), ('@', 'NNP'), ('gmail.com', 'NN'), ('PRIOR', 'NNP'), ('REGISTAATION', 'NNP'), ('Yes', 'NNP'), (',', ','), ('Plessa', 'NNP'), ('fall', 'NN'), ('in', 'IN'), ('the', 'DT'), ('details', 'NNS'), ('below', 'IN'), (':', ':'), ('DISTRUCT', 'NNP'), ('REGISTERED', 'NNP'), ('NEW', 'NNP'), ('DISTRICT', 'NNP'), ('CLUB/SCHOOL', 'NNP'), ('REGISTERED', 'NNP'), ('NEW', 'NNP'), ('CLUB/SCHOOL', 'NNP'), ('LICENSE', 'NNP'), ('NO', 'NNP'), ('.', '.')], [('FLAMING', 'NN'), ('POSITION', 'NNP'), ('solemnly', 'RB'), ('and', 'CC'), (\"''\", \"''\"), ('Sincerely', 'RB'), ('declare', 'VBP'), ('that', 'IN'), ('above', 'IN'), ('into', 'IN'), ('watation', 'NN'), ('provided', 'VBN'), ('is', 'VBZ'), ('correct', 'JJ'), ('.', '.')], [('(', '('), ('Signature', 'NN'), ('of', 'IN'), ('Player', 'NNP'), (')', ')'), ('Witness', 'NNP'), ('by', 'IN'), ('(', '('), ('FORM', 'NNP'), ('SHOULD', 'NNP'), ('BE', 'NNP'), ('WITNESSED', 'NNP'), ('BY', 'NNP'), ('BARRISTER', 'NNP'), ('&', 'CC'), ('SOLICITOR', 'NNP'), ('.', '.')], [('COMMISSIONER', 'NNP'), ('OF', 'NNP'), ('OATH', 'NNP'), ('ORJP', 'NNP'), (')', ')'), ('.', '.')], [('ONECKLIST', 'NNP'), ('Player', 'NNP'), ('Registration', 'NNP'), ('Form', 'NNP'), ('Transfer', 'NNP'), ('Form', 'NNP'), ('(', '('), ('Applying', 'VBG'), ('for', 'IN'), ('Transfer', 'NNP'), (')', ')'), ('Passport', 'NNP'), ('Size', 'NNP'), ('Photo', 'NNP'), ('Certled', 'NNP'), (')', ')'), ('Orional', 'NNP'), ('Birth', 'NNP'), ('Certificate', 'NNP'), ('Certified', 'NNP'), ('Copy', 'NNP'), ('of', 'IN'), ('TIN', 'NNP'), ('Card/', 'NNP'), ('Voter', 'NNP'), ('Card', 'NNP'), ('/', 'NNP'), ('Passport', 'NNP'), ('Certified', 'NNP'), ('copy', 'NN'), ('of', 'IN'), ('Enrollment', 'NNP'), ('FormiSchool', 'NNP'), ('Registration', 'NNP'), (')', ')'), ('Elub', 'NNP'), ('President/', 'NNP'), ('Secretary', 'NNP'), ('Date', 'NNP'), ('Hlytelet', 'NNP'), ('President/Secretary', 'NNP'), ('School', 'NNP'), ('Date', 'NNP'), (':', ':'), ('OFFICE', 'NN'), ('USE', 'NN'), ('ONLY', 'NNP'), ('Somment-', 'NNP'), ('ceipt', 'NN'), ('Number', 'NNP'), (':', ':'), ('Date', 'NN'), (':', ':'), ('No', 'DT'), (':', ':'), ('CertificateFIJI', 'NNP'), ('FOOTBALL', 'NNP'), ('ASSOCIATION', 'NNP'), ('PLAYER', 'NNP'), ('REGISTRATION/LICENSING', 'NNP'), ('SURNAME', 'NNP'), ('NASIE', 'NNP'), ('KHEDKAR', 'NNP'), ('ONKAR', 'NNP'), ('24/09/1999', 'CD'), ('MALE', 'NNP'), ('DATE', 'NNP'), ('OF', 'NNP'), ('BIRTH', 'NNP'), ('SEX', 'NNP'), ('ATTACIE', 'NNP'), ('PHOTO', 'NNP'), ('HERE', 'NNP'), ('TO', 'NNP'), ('BE', 'NNP'), ('CERTIFIED', 'NNP'), ('BY', 'NNP'), ('BARRISTER', 'NNP'), ('&', 'CC'), ('SOLICITOR', 'NNP'), ('CONNUISSIONER', 'NNP'), ('OF', 'NNP'), ('OATH', 'NNP'), ('OR', 'NNP'), ('JI*', 'NNP'), ('ADDRESS', 'NNP'), ('PHONE', 'NNP'), ('CONTACT', 'NNP'), ('EMAIL', 'NNP'), ('ADDRESS', 'NNP'), ('999', 'CD'), ('9922334', 'CD'), ('Onkar', 'NNP'), ('@', 'NNP'), ('gmail.com', 'NN'), ('PRIOR', 'NNP'), ('REGISTAATION', 'NNP'), ('Yes', 'NNP'), (',', ','), ('Plessa', 'NNP'), ('fall', 'NN'), ('in', 'IN'), ('the', 'DT'), ('details', 'NNS'), ('below', 'IN'), (':', ':'), ('DISTRUCT', 'NNP'), ('REGISTERED', 'NNP'), ('NEW', 'NNP'), ('DISTRICT', 'NNP'), ('CLUB/SCHOOL', 'NNP'), ('REGISTERED', 'NNP'), ('NEW', 'NNP'), ('CLUB/SCHOOL', 'NNP'), ('LICENSE', 'NNP'), ('NO', 'NNP'), ('.', '.')], [('FLAMING', 'NN'), ('POSITION', 'NNP'), ('solemnly', 'RB'), ('and', 'CC'), (\"''\", \"''\"), ('Sincerely', 'RB'), ('declare', 'VBP'), ('that', 'IN'), ('above', 'IN'), ('into', 'IN'), ('watation', 'NN'), ('provided', 'VBN'), ('is', 'VBZ'), ('correct', 'JJ'), ('.', '.')], [('(', '('), ('Signature', 'NN'), ('of', 'IN'), ('Player', 'NNP'), (')', ')'), ('Witness', 'NNP'), ('by', 'IN'), ('(', '('), ('FORM', 'NNP'), ('SHOULD', 'NNP'), ('BE', 'NNP'), ('WITNESSED', 'NNP'), ('BY', 'NNP'), ('BARRISTER', 'NNP'), ('&', 'CC'), ('SOLICITOR', 'NNP'), ('.', '.')], [('COMMISSIONER', 'NNP'), ('OF', 'NNP'), ('OATH', 'NNP'), ('ORJP', 'NNP'), (')', ')'), ('.', '.')], [('ONECKLIST', 'NNP'), ('Player', 'NNP'), ('Registration', 'NNP'), ('Form', 'NNP'), ('Transfer', 'NNP'), ('Form', 'NNP'), ('(', '('), ('Applying', 'VBG'), ('for', 'IN'), ('Transfer', 'NNP'), (')', ')'), ('Passport', 'NNP'), ('Size', 'NNP'), ('Photo', 'NNP'), ('Certled', 'NNP'), (')', ')'), ('Orional', 'NNP'), ('Birth', 'NNP'), ('Certificate', 'NNP'), ('Certified', 'NNP'), ('Copy', 'NNP'), ('of', 'IN'), ('TIN', 'NNP'), ('Card/', 'NNP'), ('Voter', 'NNP'), ('Card', 'NNP'), ('/', 'NNP'), ('Passport', 'NNP'), ('Certified', 'NNP'), ('copy', 'NN'), ('of', 'IN'), ('Enrollment', 'NNP'), ('FormiSchool', 'NNP'), ('Registration', 'NNP'), (')', ')'), ('Elub', 'NNP'), ('President/', 'NNP'), ('Secretary', 'NNP'), ('Date', 'NNP'), ('Hlytelet', 'NNP'), ('President/Secretary', 'NNP'), ('School', 'NNP'), ('Date', 'NNP'), (':', ':'), ('OFFICE', 'NN'), ('USE', 'NN'), ('ONLY', 'NNP'), ('Somment-', 'NNP'), ('ceipt', 'NN'), ('Number', 'NNP'), (':', ':'), ('Date', 'NN'), (':', ':'), ('No', 'DT'), (':', ':'), ('CardFIJI', 'NNP'), ('FOOTBALL', 'NNP'), ('ASSOCIATION', 'NNP'), ('PLAYER', 'NNP'), ('REGISTRATION/LICENSING', 'NNP'), ('SURNAME', 'NNP'), ('NASIE', 'NNP'), ('KHEDKAR', 'NNP'), ('ONKAR', 'NNP'), ('24/09/1999', 'CD'), ('MALE', 'NNP'), ('DATE', 'NNP'), ('OF', 'NNP'), ('BIRTH', 'NNP'), ('SEX', 'NNP'), ('ATTACIE', 'NNP'), ('PHOTO', 'NNP'), ('HERE', 'NNP'), ('TO', 'NNP'), ('BE', 'NNP'), ('CERTIFIED', 'NNP'), ('BY', 'NNP'), ('BARRISTER', 'NNP'), ('&', 'CC'), ('SOLICITOR', 'NNP'), ('CONNUISSIONER', 'NNP'), ('OF', 'NNP'), ('OATH', 'NNP'), ('OR', 'NNP'), ('JI*', 'NNP'), ('ADDRESS', 'NNP'), ('PHONE', 'NNP'), ('CONTACT', 'NNP'), ('EMAIL', 'NNP'), ('ADDRESS', 'NNP'), ('999', 'CD'), ('9922334', 'CD'), ('Onkar', 'NNP'), ('@', 'NNP'), ('gmail.com', 'NN'), ('PRIOR', 'NNP'), ('REGISTAATION', 'NNP'), ('Yes', 'NNP'), (',', ','), ('Plessa', 'NNP'), ('fall', 'NN'), ('in', 'IN'), ('the', 'DT'), ('details', 'NNS'), ('below', 'IN'), (':', ':'), ('DISTRUCT', 'NNP'), ('REGISTERED', 'NNP'), ('NEW', 'NNP'), ('DISTRICT', 'NNP'), ('CLUB/SCHOOL', 'NNP'), ('REGISTERED', 'NNP'), ('NEW', 'NNP'), ('CLUB/SCHOOL', 'NNP'), ('LICENSE', 'NNP'), ('NO', 'NNP'), ('.', '.')], [('FLAMING', 'NN'), ('POSITION', 'NNP'), ('solemnly', 'RB'), ('and', 'CC'), (\"''\", \"''\"), ('Sincerely', 'RB'), ('declare', 'VBP'), ('that', 'IN'), ('above', 'IN'), ('into', 'IN'), ('watation', 'NN'), ('provided', 'VBN'), ('is', 'VBZ'), ('correct', 'JJ'), ('.', '.')], [('(', '('), ('Signature', 'NN'), ('of', 'IN'), ('Player', 'NNP'), (')', ')'), ('Witness', 'NNP'), ('by', 'IN'), ('(', '('), ('FORM', 'NNP'), ('SHOULD', 'NNP'), ('BE', 'NNP'), ('WITNESSED', 'NNP'), ('BY', 'NNP'), ('BARRISTER', 'NNP'), ('&', 'CC'), ('SOLICITOR', 'NNP'), ('.', '.')], [('COMMISSIONER', 'NNP'), ('OF', 'NNP'), ('OATH', 'NNP'), ('ORJP', 'NNP'), (')', ')'), ('.', '.')], [('ONECKLIST', 'NNP'), ('Player', 'NNP'), ('Registration', 'NNP'), ('Form', 'NNP'), ('Transfer', 'NNP'), ('Form', 'NNP'), ('(', '('), ('Applying', 'VBG'), ('for', 'IN'), ('Transfer', 'NNP'), (')', ')'), ('Passport', 'NNP'), ('Size', 'NNP'), ('Photo', 'NNP'), ('Certled', 'NNP'), (')', ')'), ('Orional', 'NNP'), ('Birth', 'NNP'), ('Certificate', 'NNP'), ('Certified', 'NNP'), ('Copy', 'NNP'), ('of', 'IN'), ('TIN', 'NNP'), ('Card/', 'NNP'), ('Voter', 'NNP'), ('Card', 'NNP'), ('/', 'NNP'), ('Passport', 'NNP'), ('Certified', 'NNP'), ('copy', 'NN'), ('of', 'IN'), ('Enrollment', 'NNP'), ('FormiSchool', 'NNP'), ('Registration', 'NNP'), (')', ')'), ('Elub', 'NNP'), ('President/', 'NNP'), ('Secretary', 'NNP'), ('Date', 'NNP'), ('Hlytelet', 'NNP'), ('President/Secretary', 'NNP'), ('School', 'NNP'), ('Date', 'NNP'), (':', ':'), ('OFFICE', 'NN'), ('USE', 'NN'), ('ONLY', 'NNP'), ('Somment-', 'NNP'), ('ceipt', 'NN'), ('Number', 'NNP'), (':', ':'), ('Date', 'NN'), (':', ':'), ('No', 'DT'), (':', ':'), ('/FIJI', 'NN'), ('FOOTBALL', 'NNP'), ('ASSOCIATION', 'NNP'), ('PLAYER', 'NNP'), ('REGISTRATION/LICENSING', 'NNP'), ('SURNAME', 'NNP'), ('NASIE', 'NNP'), ('KHEDKAR', 'NNP'), ('ONKAR', 'NNP'), ('24/09/1999', 'CD'), ('MALE', 'NNP'), ('DATE', 'NNP'), ('OF', 'NNP'), ('BIRTH', 'NNP'), ('SEX', 'NNP'), ('ATTACIE', 'NNP'), ('PHOTO', 'NNP'), ('HERE', 'NNP'), ('TO', 'NNP'), ('BE', 'NNP'), ('CERTIFIED', 'NNP'), ('BY', 'NNP'), ('BARRISTER', 'NNP'), ('&', 'CC'), ('SOLICITOR', 'NNP'), ('CONNUISSIONER', 'NNP'), ('OF', 'NNP'), ('OATH', 'NNP'), ('OR', 'NNP'), ('JI*', 'NNP'), ('ADDRESS', 'NNP'), ('PHONE', 'NNP'), ('CONTACT', 'NNP'), ('EMAIL', 'NNP'), ('ADDRESS', 'NNP'), ('999', 'CD'), ('9922334', 'CD'), ('Onkar', 'NNP'), ('@', 'NNP'), ('gmail.com', 'NN'), ('PRIOR', 'NNP'), ('REGISTAATION', 'NNP'), ('Yes', 'NNP'), (',', ','), ('Plessa', 'NNP'), ('fall', 'NN'), ('in', 'IN'), ('the', 'DT'), ('details', 'NNS'), ('below', 'IN'), (':', ':'), ('DISTRUCT', 'NNP'), ('REGISTERED', 'NNP'), ('NEW', 'NNP'), ('DISTRICT', 'NNP'), ('CLUB/SCHOOL', 'NNP'), ('REGISTERED', 'NNP'), ('NEW', 'NNP'), ('CLUB/SCHOOL', 'NNP'), ('LICENSE', 'NNP'), ('NO', 'NNP'), ('.', '.')], [('FLAMING', 'NN'), ('POSITION', 'NNP'), ('solemnly', 'RB'), ('and', 'CC'), (\"''\", \"''\"), ('Sincerely', 'RB'), ('declare', 'VBP'), ('that', 'IN'), ('above', 'IN'), ('into', 'IN'), ('watation', 'NN'), ('provided', 'VBN'), ('is', 'VBZ'), ('correct', 'JJ'), ('.', '.')], [('(', '('), ('Signature', 'NN'), ('of', 'IN'), ('Player', 'NNP'), (')', ')'), ('Witness', 'NNP'), ('by', 'IN'), ('(', '('), ('FORM', 'NNP'), ('SHOULD', 'NNP'), ('BE', 'NNP'), ('WITNESSED', 'NNP'), ('BY', 'NNP'), ('BARRISTER', 'NNP'), ('&', 'CC'), ('SOLICITOR', 'NNP'), ('.', '.')], [('COMMISSIONER', 'NNP'), ('OF', 'NNP'), ('OATH', 'NNP'), ('ORJP', 'NNP'), (')', ')'), ('.', '.')], [('ONECKLIST', 'NNP'), ('Player', 'NNP'), ('Registration', 'NNP'), ('Form', 'NNP'), ('Transfer', 'NNP'), ('Form', 'NNP'), ('(', '('), ('Applying', 'VBG'), ('for', 'IN'), ('Transfer', 'NNP'), (')', ')'), ('Passport', 'NNP'), ('Size', 'NNP'), ('Photo', 'NNP'), ('Certled', 'NNP'), (')', ')'), ('Orional', 'NNP'), ('Birth', 'NNP'), ('Certificate', 'NNP'), ('Certified', 'NNP'), ('Copy', 'NNP'), ('of', 'IN'), ('TIN', 'NNP'), ('Card/', 'NNP'), ('Voter', 'NNP'), ('Card', 'NNP'), ('/', 'NNP'), ('Passport', 'NNP'), ('Certified', 'NNP'), ('copy', 'NN'), ('of', 'IN'), ('Enrollment', 'NNP'), ('FormiSchool', 'NNP'), ('Registration', 'NNP'), (')', ')'), ('Elub', 'NNP'), ('President/', 'NNP'), ('Secretary', 'NNP'), ('Date', 'NNP'), ('Hlytelet', 'NNP'), ('President/Secretary', 'NNP'), ('School', 'NNP'), ('Date', 'NNP'), (':', ':'), ('OFFICE', 'NN'), ('USE', 'NN'), ('ONLY', 'NNP'), ('Somment-', 'NNP'), ('ceipt', 'NN'), ('Number', 'NNP'), (':', ':'), ('Date', 'NN'), (':', ':'), ('No', 'DT'), (':', ':'), ('PassportFIJI', 'NNP'), ('FOOTBALL', 'NNP'), ('ASSOCIATION', 'NNP'), ('PLAYER', 'NNP'), ('REGISTRATION/LICENSING', 'NNP'), ('SURNAME', 'NNP'), ('NASIE', 'NNP'), ('KHEDKAR', 'NNP'), ('ONKAR', 'NNP'), ('24/09/1999', 'CD'), ('MALE', 'NNP'), ('DATE', 'NNP'), ('OF', 'NNP'), ('BIRTH', 'NNP'), ('SEX', 'NNP'), ('ATTACIE', 'NNP'), ('PHOTO', 'NNP'), ('HERE', 'NNP'), ('TO', 'NNP'), ('BE', 'NNP'), ('CERTIFIED', 'NNP'), ('BY', 'NNP'), ('BARRISTER', 'NNP'), ('&', 'CC'), ('SOLICITOR', 'NNP'), ('CONNUISSIONER', 'NNP'), ('OF', 'NNP'), ('OATH', 'NNP'), ('OR', 'NNP'), ('JI*', 'NNP'), ('ADDRESS', 'NNP'), ('PHONE', 'NNP'), ('CONTACT', 'NNP'), ('EMAIL', 'NNP'), ('ADDRESS', 'NNP'), ('999', 'CD'), ('9922334', 'CD'), ('Onkar', 'NNP'), ('@', 'NNP'), ('gmail.com', 'NN'), ('PRIOR', 'NNP'), ('REGISTAATION', 'NNP'), ('Yes', 'NNP'), (',', ','), ('Plessa', 'NNP'), ('fall', 'NN'), ('in', 'IN'), ('the', 'DT'), ('details', 'NNS'), ('below', 'IN'), (':', ':'), ('DISTRUCT', 'NNP'), ('REGISTERED', 'NNP'), ('NEW', 'NNP'), ('DISTRICT', 'NNP'), ('CLUB/SCHOOL', 'NNP'), ('REGISTERED', 'NNP'), ('NEW', 'NNP'), ('CLUB/SCHOOL', 'NNP'), ('LICENSE', 'NNP'), ('NO', 'NNP'), ('.', '.')], [('FLAMING', 'NN'), ('POSITION', 'NNP'), ('solemnly', 'RB'), ('and', 'CC'), (\"''\", \"''\"), ('Sincerely', 'RB'), ('declare', 'VBP'), ('that', 'IN'), ('above', 'IN'), ('into', 'IN'), ('watation', 'NN'), ('provided', 'VBN'), ('is', 'VBZ'), ('correct', 'JJ'), ('.', '.')], [('(', '('), ('Signature', 'NN'), ('of', 'IN'), ('Player', 'NNP'), (')', ')'), ('Witness', 'NNP'), ('by', 'IN'), ('(', '('), ('FORM', 'NNP'), ('SHOULD', 'NNP'), ('BE', 'NNP'), ('WITNESSED', 'NNP'), ('BY', 'NNP'), ('BARRISTER', 'NNP'), ('&', 'CC'), ('SOLICITOR', 'NNP'), ('.', '.')], [('COMMISSIONER', 'NNP'), ('OF', 'NNP'), ('OATH', 'NNP'), ('ORJP', 'NNP'), (')', ')'), ('.', '.')], [('ONECKLIST', 'NNP'), ('Player', 'NNP'), ('Registration', 'NNP'), ('Form', 'NNP'), ('Transfer', 'NNP'), ('Form', 'NNP'), ('(', '('), ('Applying', 'VBG'), ('for', 'IN'), ('Transfer', 'NNP'), (')', ')'), ('Passport', 'NNP'), ('Size', 'NNP'), ('Photo', 'NNP'), ('Certled', 'NNP'), (')', ')'), ('Orional', 'NNP'), ('Birth', 'NNP'), ('Certificate', 'NNP'), ('Certified', 'NNP'), ('Copy', 'NNP'), ('of', 'IN'), ('TIN', 'NNP'), ('Card/', 'NNP'), ('Voter', 'NNP'), ('Card', 'NNP'), ('/', 'NNP'), ('Passport', 'NNP'), ('Certified', 'NNP'), ('copy', 'NN'), ('of', 'IN'), ('Enrollment', 'NNP'), ('FormiSchool', 'NNP'), ('Registration', 'NNP'), (')', ')'), ('Elub', 'NNP'), ('President/', 'NNP'), ('Secretary', 'NNP'), ('Date', 'NNP'), ('Hlytelet', 'NNP'), ('President/Secretary', 'NNP'), ('School', 'NNP'), ('Date', 'NNP'), (':', ':'), ('OFFICE', 'NN'), ('USE', 'NN'), ('ONLY', 'NNP'), ('Somment-', 'NNP'), ('ceipt', 'NN'), ('Number', 'NNP'), (':', ':'), ('Date', 'NN'), (':', ':'), ('No', 'DT'), (':', ':'), ('copyFIJI', 'NN'), ('FOOTBALL', 'NNP'), ('ASSOCIATION', 'NNP'), ('PLAYER', 'NNP'), ('REGISTRATION/LICENSING', 'NNP'), ('SURNAME', 'NNP'), ('NASIE', 'NNP'), ('KHEDKAR', 'NNP'), ('ONKAR', 'NNP'), ('24/09/1999', 'CD'), ('MALE', 'NNP'), ('DATE', 'NNP'), ('OF', 'NNP'), ('BIRTH', 'NNP'), ('SEX', 'NNP'), ('ATTACIE', 'NNP'), ('PHOTO', 'NNP'), ('HERE', 'NNP'), ('TO', 'NNP'), ('BE', 'NNP'), ('CERTIFIED', 'NNP'), ('BY', 'NNP'), ('BARRISTER', 'NNP'), ('&', 'CC'), ('SOLICITOR', 'NNP'), ('CONNUISSIONER', 'NNP'), ('OF', 'NNP'), ('OATH', 'NNP'), ('OR', 'NNP'), ('JI*', 'NNP'), ('ADDRESS', 'NNP'), ('PHONE', 'NNP'), ('CONTACT', 'NNP'), ('EMAIL', 'NNP'), ('ADDRESS', 'NNP'), ('999', 'CD'), ('9922334', 'CD'), ('Onkar', 'NNP'), ('@', 'NNP'), ('gmail.com', 'NN'), ('PRIOR', 'NNP'), ('REGISTAATION', 'NNP'), ('Yes', 'NNP'), (',', ','), ('Plessa', 'NNP'), ('fall', 'NN'), ('in', 'IN'), ('the', 'DT'), ('details', 'NNS'), ('below', 'IN'), (':', ':'), ('DISTRUCT', 'NNP'), ('REGISTERED', 'NNP'), ('NEW', 'NNP'), ('DISTRICT', 'NNP'), ('CLUB/SCHOOL', 'NNP'), ('REGISTERED', 'NNP'), ('NEW', 'NNP'), ('CLUB/SCHOOL', 'NNP'), ('LICENSE', 'NNP'), ('NO', 'NNP'), ('.', '.')], [('FLAMING', 'NN'), ('POSITION', 'NNP'), ('solemnly', 'RB'), ('and', 'CC'), (\"''\", \"''\"), ('Sincerely', 'RB'), ('declare', 'VBP'), ('that', 'IN'), ('above', 'IN'), ('into', 'IN'), ('watation', 'NN'), ('provided', 'VBN'), ('is', 'VBZ'), ('correct', 'JJ'), ('.', '.')], [('(', '('), ('Signature', 'NN'), ('of', 'IN'), ('Player', 'NNP'), (')', ')'), ('Witness', 'NNP'), ('by', 'IN'), ('(', '('), ('FORM', 'NNP'), ('SHOULD', 'NNP'), ('BE', 'NNP'), ('WITNESSED', 'NNP'), ('BY', 'NNP'), ('BARRISTER', 'NNP'), ('&', 'CC'), ('SOLICITOR', 'NNP'), ('.', '.')], [('COMMISSIONER', 'NNP'), ('OF', 'NNP'), ('OATH', 'NNP'), ('ORJP', 'NNP'), (')', ')'), ('.', '.')], [('ONECKLIST', 'NNP'), ('Player', 'NNP'), ('Registration', 'NNP'), ('Form', 'NNP'), ('Transfer', 'NNP'), ('Form', 'NNP'), ('(', '('), ('Applying', 'VBG'), ('for', 'IN'), ('Transfer', 'NNP'), (')', ')'), ('Passport', 'NNP'), ('Size', 'NNP'), ('Photo', 'NNP'), ('Certled', 'NNP'), (')', ')'), ('Orional', 'NNP'), ('Birth', 'NNP'), ('Certificate', 'NNP'), ('Certified', 'NNP'), ('Copy', 'NNP'), ('of', 'IN'), ('TIN', 'NNP'), ('Card/', 'NNP'), ('Voter', 'NNP'), ('Card', 'NNP'), ('/', 'NNP'), ('Passport', 'NNP'), ('Certified', 'NNP'), ('copy', 'NN'), ('of', 'IN'), ('Enrollment', 'NNP'), ('FormiSchool', 'NNP'), ('Registration', 'NNP'), (')', ')'), ('Elub', 'NNP'), ('President/', 'NNP'), ('Secretary', 'NNP'), ('Date', 'NNP'), ('Hlytelet', 'NNP'), ('President/Secretary', 'NNP'), ('School', 'NNP'), ('Date', 'NNP'), (':', ':'), ('OFFICE', 'NN'), ('USE', 'NN'), ('ONLY', 'NNP'), ('Somment-', 'NNP'), ('ceipt', 'NN'), ('Number', 'NNP'), (':', ':'), ('Date', 'NN'), (':', ':'), ('No', 'DT'), (':', ':'), ('FormiSchoolFIJI', 'NNP'), ('FOOTBALL', 'NNP'), ('ASSOCIATION', 'NNP'), ('PLAYER', 'NNP'), ('REGISTRATION/LICENSING', 'NNP'), ('SURNAME', 'NNP'), ('NASIE', 'NNP'), ('KHEDKAR', 'NNP'), ('ONKAR', 'NNP'), ('24/09/1999', 'CD'), ('MALE', 'NNP'), ('DATE', 'NNP'), ('OF', 'NNP'), ('BIRTH', 'NNP'), ('SEX', 'NNP'), ('ATTACIE', 'NNP'), ('PHOTO', 'NNP'), ('HERE', 'NNP'), ('TO', 'NNP'), ('BE', 'NNP'), ('CERTIFIED', 'NNP'), ('BY', 'NNP'), ('BARRISTER', 'NNP'), ('&', 'CC'), ('SOLICITOR', 'NNP'), ('CONNUISSIONER', 'NNP'), ('OF', 'NNP'), ('OATH', 'NNP'), ('OR', 'NNP'), ('JI*', 'NNP'), ('ADDRESS', 'NNP'), ('PHONE', 'NNP'), ('CONTACT', 'NNP'), ('EMAIL', 'NNP'), ('ADDRESS', 'NNP'), ('999', 'CD'), ('9922334', 'CD'), ('Onkar', 'NNP'), ('@', 'NNP'), ('gmail.com', 'NN'), ('PRIOR', 'NNP'), ('REGISTAATION', 'NNP'), ('Yes', 'NNP'), (',', ','), ('Plessa', 'NNP'), ('fall', 'NN'), ('in', 'IN'), ('the', 'DT'), ('details', 'NNS'), ('below', 'IN'), (':', ':'), ('DISTRUCT', 'NNP'), ('REGISTERED', 'NNP'), ('NEW', 'NNP'), ('DISTRICT', 'NNP'), ('CLUB/SCHOOL', 'NNP'), ('REGISTERED', 'NNP'), ('NEW', 'NNP'), ('CLUB/SCHOOL', 'NNP'), ('LICENSE', 'NNP'), ('NO', 'NNP'), ('.', '.')], [('FLAMING', 'NN'), ('POSITION', 'NNP'), ('solemnly', 'RB'), ('and', 'CC'), (\"''\", \"''\"), ('Sincerely', 'RB'), ('declare', 'VBP'), ('that', 'IN'), ('above', 'IN'), ('into', 'IN'), ('watation', 'NN'), ('provided', 'VBN'), ('is', 'VBZ'), ('correct', 'JJ'), ('.', '.')], [('(', '('), ('Signature', 'NN'), ('of', 'IN'), ('Player', 'NNP'), (')', ')'), ('Witness', 'NNP'), ('by', 'IN'), ('(', '('), ('FORM', 'NNP'), ('SHOULD', 'NNP'), ('BE', 'NNP'), ('WITNESSED', 'NNP'), ('BY', 'NNP'), ('BARRISTER', 'NNP'), ('&', 'CC'), ('SOLICITOR', 'NNP'), ('.', '.')], [('COMMISSIONER', 'NNP'), ('OF', 'NNP'), ('OATH', 'NNP'), ('ORJP', 'NNP'), (')', ')'), ('.', '.')], [('ONECKLIST', 'NNP'), ('Player', 'NNP'), ('Registration', 'NNP'), ('Form', 'NNP'), ('Transfer', 'NNP'), ('Form', 'NNP'), ('(', '('), ('Applying', 'VBG'), ('for', 'IN'), ('Transfer', 'NNP'), (')', ')'), ('Passport', 'NNP'), ('Size', 'NNP'), ('Photo', 'NNP'), ('Certled', 'NNP'), (')', ')'), ('Orional', 'NNP'), ('Birth', 'NNP'), ('Certificate', 'NNP'), ('Certified', 'NNP'), ('Copy', 'NNP'), ('of', 'IN'), ('TIN', 'NNP'), ('Card/', 'NNP'), ('Voter', 'NNP'), ('Card', 'NNP'), ('/', 'NNP'), ('Passport', 'NNP'), ('Certified', 'NNP'), ('copy', 'NN'), ('of', 'IN'), ('Enrollment', 'NNP'), ('FormiSchool', 'NNP'), ('Registration', 'NNP'), (')', ')'), ('Elub', 'NNP'), ('President/', 'NNP'), ('Secretary', 'NNP'), ('Date', 'NNP'), ('Hlytelet', 'NNP'), ('President/Secretary', 'NNP'), ('School', 'NNP'), ('Date', 'NNP'), (':', ':'), ('OFFICE', 'NN'), ('USE', 'NN'), ('ONLY', 'NNP'), ('Somment-', 'NNP'), ('ceipt', 'NN'), ('Number', 'NNP'), (':', ':'), ('Date', 'NN'), (':', ':'), ('No', 'DT'), (':', ':'), ('Registration', 'NN'), (')', ')'), ('FIJI', 'NNP'), ('FOOTBALL', 'NNP'), ('ASSOCIATION', 'NNP'), ('PLAYER', 'NNP'), ('REGISTRATION/LICENSING', 'NNP'), ('SURNAME', 'NNP'), ('NASIE', 'NNP'), ('KHEDKAR', 'NNP'), ('ONKAR', 'NNP'), ('24/09/1999', 'CD'), ('MALE', 'NNP'), ('DATE', 'NNP'), ('OF', 'NNP'), ('BIRTH', 'NNP'), ('SEX', 'NNP'), ('ATTACIE', 'NNP'), ('PHOTO', 'NNP'), ('HERE', 'NNP'), ('TO', 'NNP'), ('BE', 'NNP'), ('CERTIFIED', 'NNP'), ('BY', 'NNP'), ('BARRISTER', 'NNP'), ('&', 'CC'), ('SOLICITOR', 'NNP'), ('CONNUISSIONER', 'NNP'), ('OF', 'NNP'), ('OATH', 'NNP'), ('OR', 'NNP'), ('JI*', 'NNP'), ('ADDRESS', 'NNP'), ('PHONE', 'NNP'), ('CONTACT', 'NNP'), ('EMAIL', 'NNP'), ('ADDRESS', 'NNP'), ('999', 'CD'), ('9922334', 'CD'), ('Onkar', 'NNP'), ('@', 'NNP'), ('gmail.com', 'NN'), ('PRIOR', 'NNP'), ('REGISTAATION', 'NNP'), ('Yes', 'NNP'), (',', ','), ('Plessa', 'NNP'), ('fall', 'NN'), ('in', 'IN'), ('the', 'DT'), ('details', 'NNS'), ('below', 'IN'), (':', ':'), ('DISTRUCT', 'NNP'), ('REGISTERED', 'NNP'), ('NEW', 'NNP'), ('DISTRICT', 'NNP'), ('CLUB/SCHOOL', 'NNP'), ('REGISTERED', 'NNP'), ('NEW', 'NNP'), ('CLUB/SCHOOL', 'NNP'), ('LICENSE', 'NNP'), ('NO', 'NNP'), ('.', '.')], [('FLAMING', 'NN'), ('POSITION', 'NNP'), ('solemnly', 'RB'), ('and', 'CC'), (\"''\", \"''\"), ('Sincerely', 'RB'), ('declare', 'VBP'), ('that', 'IN'), ('above', 'IN'), ('into', 'IN'), ('watation', 'NN'), ('provided', 'VBN'), ('is', 'VBZ'), ('correct', 'JJ'), ('.', '.')], [('(', '('), ('Signature', 'NN'), ('of', 'IN'), ('Player', 'NNP'), (')', ')'), ('Witness', 'NNP'), ('by', 'IN'), ('(', '('), ('FORM', 'NNP'), ('SHOULD', 'NNP'), ('BE', 'NNP'), ('WITNESSED', 'NNP'), ('BY', 'NNP'), ('BARRISTER', 'NNP'), ('&', 'CC'), ('SOLICITOR', 'NNP'), ('.', '.')], [('COMMISSIONER', 'NNP'), ('OF', 'NNP'), ('OATH', 'NNP'), ('ORJP', 'NNP'), (')', ')'), ('.', '.')], [('ONECKLIST', 'NNP'), ('Player', 'NNP'), ('Registration', 'NNP'), ('Form', 'NNP'), ('Transfer', 'NNP'), ('Form', 'NNP'), ('(', '('), ('Applying', 'VBG'), ('for', 'IN'), ('Transfer', 'NNP'), (')', ')'), ('Passport', 'NNP'), ('Size', 'NNP'), ('Photo', 'NNP'), ('Certled', 'NNP'), (')', ')'), ('Orional', 'NNP'), ('Birth', 'NNP'), ('Certificate', 'NNP'), ('Certified', 'NNP'), ('Copy', 'NNP'), ('of', 'IN'), ('TIN', 'NNP'), ('Card/', 'NNP'), ('Voter', 'NNP'), ('Card', 'NNP'), ('/', 'NNP'), ('Passport', 'NNP'), ('Certified', 'NNP'), ('copy', 'NN'), ('of', 'IN'), ('Enrollment', 'NNP'), ('FormiSchool', 'NNP'), ('Registration', 'NNP'), (')', ')'), ('Elub', 'NNP'), ('President/', 'NNP'), ('Secretary', 'NNP'), ('Date', 'NNP'), ('Hlytelet', 'NNP'), ('President/Secretary', 'NNP'), ('School', 'NNP'), ('Date', 'NNP'), (':', ':'), ('OFFICE', 'NN'), ('USE', 'NN'), ('ONLY', 'NNP'), ('Somment-', 'NNP'), ('ceipt', 'NN'), ('Number', 'NNP'), (':', ':'), ('Date', 'NN'), (':', ':'), ('No', 'DT'), (':', ':'), ('ElubFIJI', 'NNP'), ('FOOTBALL', 'NNP'), ('ASSOCIATION', 'NNP'), ('PLAYER', 'NNP'), ('REGISTRATION/LICENSING', 'NNP'), ('SURNAME', 'NNP'), ('NASIE', 'NNP'), ('KHEDKAR', 'NNP'), ('ONKAR', 'NNP'), ('24/09/1999', 'CD'), ('MALE', 'NNP'), ('DATE', 'NNP'), ('OF', 'NNP'), ('BIRTH', 'NNP'), ('SEX', 'NNP'), ('ATTACIE', 'NNP'), ('PHOTO', 'NNP'), ('HERE', 'NNP'), ('TO', 'NNP'), ('BE', 'NNP'), ('CERTIFIED', 'NNP'), ('BY', 'NNP'), ('BARRISTER', 'NNP'), ('&', 'CC'), ('SOLICITOR', 'NNP'), ('CONNUISSIONER', 'NNP'), ('OF', 'NNP'), ('OATH', 'NNP'), ('OR', 'NNP'), ('JI*', 'NNP'), ('ADDRESS', 'NNP'), ('PHONE', 'NNP'), ('CONTACT', 'NNP'), ('EMAIL', 'NNP'), ('ADDRESS', 'NNP'), ('999', 'CD'), ('9922334', 'CD'), ('Onkar', 'NNP'), ('@', 'NNP'), ('gmail.com', 'NN'), ('PRIOR', 'NNP'), ('REGISTAATION', 'NNP'), ('Yes', 'NNP'), (',', ','), ('Plessa', 'NNP'), ('fall', 'NN'), ('in', 'IN'), ('the', 'DT'), ('details', 'NNS'), ('below', 'IN'), (':', ':'), ('DISTRUCT', 'NNP'), ('REGISTERED', 'NNP'), ('NEW', 'NNP'), ('DISTRICT', 'NNP'), ('CLUB/SCHOOL', 'NNP'), ('REGISTERED', 'NNP'), ('NEW', 'NNP'), ('CLUB/SCHOOL', 'NNP'), ('LICENSE', 'NNP'), ('NO', 'NNP'), ('.', '.')], [('FLAMING', 'NN'), ('POSITION', 'NNP'), ('solemnly', 'RB'), ('and', 'CC'), (\"''\", \"''\"), ('Sincerely', 'RB'), ('declare', 'VBP'), ('that', 'IN'), ('above', 'IN'), ('into', 'IN'), ('watation', 'NN'), ('provided', 'VBN'), ('is', 'VBZ'), ('correct', 'JJ'), ('.', '.')], [('(', '('), ('Signature', 'NN'), ('of', 'IN'), ('Player', 'NNP'), (')', ')'), ('Witness', 'NNP'), ('by', 'IN'), ('(', '('), ('FORM', 'NNP'), ('SHOULD', 'NNP'), ('BE', 'NNP'), ('WITNESSED', 'NNP'), ('BY', 'NNP'), ('BARRISTER', 'NNP'), ('&', 'CC'), ('SOLICITOR', 'NNP'), ('.', '.')], [('COMMISSIONER', 'NNP'), ('OF', 'NNP'), ('OATH', 'NNP'), ('ORJP', 'NNP'), (')', ')'), ('.', '.')], [('ONECKLIST', 'NNP'), ('Player', 'NNP'), ('Registration', 'NNP'), ('Form', 'NNP'), ('Transfer', 'NNP'), ('Form', 'NNP'), ('(', '('), ('Applying', 'VBG'), ('for', 'IN'), ('Transfer', 'NNP'), (')', ')'), ('Passport', 'NNP'), ('Size', 'NNP'), ('Photo', 'NNP'), ('Certled', 'NNP'), (')', ')'), ('Orional', 'NNP'), ('Birth', 'NNP'), ('Certificate', 'NNP'), ('Certified', 'NNP'), ('Copy', 'NNP'), ('of', 'IN'), ('TIN', 'NNP'), ('Card/', 'NNP'), ('Voter', 'NNP'), ('Card', 'NNP'), ('/', 'NNP'), ('Passport', 'NNP'), ('Certified', 'NNP'), ('copy', 'NN'), ('of', 'IN'), ('Enrollment', 'NNP'), ('FormiSchool', 'NNP'), ('Registration', 'NNP'), (')', ')'), ('Elub', 'NNP'), ('President/', 'NNP'), ('Secretary', 'NNP'), ('Date', 'NNP'), ('Hlytelet', 'NNP'), ('President/Secretary', 'NNP'), ('School', 'NNP'), ('Date', 'NNP'), (':', ':'), ('OFFICE', 'NN'), ('USE', 'NN'), ('ONLY', 'NNP'), ('Somment-', 'NNP'), ('ceipt', 'NN'), ('Number', 'NNP'), (':', ':'), ('Date', 'NN'), (':', ':'), ('No', 'DT'), (':', ':'), ('SecretaryFIJI', 'NNP'), ('FOOTBALL', 'NNP'), ('ASSOCIATION', 'NNP'), ('PLAYER', 'NNP'), ('REGISTRATION/LICENSING', 'NNP'), ('SURNAME', 'NNP'), ('NASIE', 'NNP'), ('KHEDKAR', 'NNP'), ('ONKAR', 'NNP'), ('24/09/1999', 'CD'), ('MALE', 'NNP'), ('DATE', 'NNP'), ('OF', 'NNP'), ('BIRTH', 'NNP'), ('SEX', 'NNP'), ('ATTACIE', 'NNP'), ('PHOTO', 'NNP'), ('HERE', 'NNP'), ('TO', 'NNP'), ('BE', 'NNP'), ('CERTIFIED', 'NNP'), ('BY', 'NNP'), ('BARRISTER', 'NNP'), ('&', 'CC'), ('SOLICITOR', 'NNP'), ('CONNUISSIONER', 'NNP'), ('OF', 'NNP'), ('OATH', 'NNP'), ('OR', 'NNP'), ('JI*', 'NNP'), ('ADDRESS', 'NNP'), ('PHONE', 'NNP'), ('CONTACT', 'NNP'), ('EMAIL', 'NNP'), ('ADDRESS', 'NNP'), ('999', 'CD'), ('9922334', 'CD'), ('Onkar', 'NNP'), ('@', 'NNP'), ('gmail.com', 'NN'), ('PRIOR', 'NNP'), ('REGISTAATION', 'NNP'), ('Yes', 'NNP'), (',', ','), ('Plessa', 'NNP'), ('fall', 'NN'), ('in', 'IN'), ('the', 'DT'), ('details', 'NNS'), ('below', 'IN'), (':', ':'), ('DISTRUCT', 'NNP'), ('REGISTERED', 'NNP'), ('NEW', 'NNP'), ('DISTRICT', 'NNP'), ('CLUB/SCHOOL', 'NNP'), ('REGISTERED', 'NNP'), ('NEW', 'NNP'), ('CLUB/SCHOOL', 'NNP'), ('LICENSE', 'NNP'), ('NO', 'NNP'), ('.', '.')], [('FLAMING', 'NN'), ('POSITION', 'NNP'), ('solemnly', 'RB'), ('and', 'CC'), (\"''\", \"''\"), ('Sincerely', 'RB'), ('declare', 'VBP'), ('that', 'IN'), ('above', 'IN'), ('into', 'IN'), ('watation', 'NN'), ('provided', 'VBN'), ('is', 'VBZ'), ('correct', 'JJ'), ('.', '.')], [('(', '('), ('Signature', 'NN'), ('of', 'IN'), ('Player', 'NNP'), (')', ')'), ('Witness', 'NNP'), ('by', 'IN'), ('(', '('), ('FORM', 'NNP'), ('SHOULD', 'NNP'), ('BE', 'NNP'), ('WITNESSED', 'NNP'), ('BY', 'NNP'), ('BARRISTER', 'NNP'), ('&', 'CC'), ('SOLICITOR', 'NNP'), ('.', '.')], [('COMMISSIONER', 'NNP'), ('OF', 'NNP'), ('OATH', 'NNP'), ('ORJP', 'NNP'), (')', ')'), ('.', '.')], [('ONECKLIST', 'NNP'), ('Player', 'NNP'), ('Registration', 'NNP'), ('Form', 'NNP'), ('Transfer', 'NNP'), ('Form', 'NNP'), ('(', '('), ('Applying', 'VBG'), ('for', 'IN'), ('Transfer', 'NNP'), (')', ')'), ('Passport', 'NNP'), ('Size', 'NNP'), ('Photo', 'NNP'), ('Certled', 'NNP'), (')', ')'), ('Orional', 'NNP'), ('Birth', 'NNP'), ('Certificate', 'NNP'), ('Certified', 'NNP'), ('Copy', 'NNP'), ('of', 'IN'), ('TIN', 'NNP'), ('Card/', 'NNP'), ('Voter', 'NNP'), ('Card', 'NNP'), ('/', 'NNP'), ('Passport', 'NNP'), ('Certified', 'NNP'), ('copy', 'NN'), ('of', 'IN'), ('Enrollment', 'NNP'), ('FormiSchool', 'NNP'), ('Registration', 'NNP'), (')', ')'), ('Elub', 'NNP'), ('President/', 'NNP'), ('Secretary', 'NNP'), ('Date', 'NNP'), ('Hlytelet', 'NNP'), ('President/Secretary', 'NNP'), ('School', 'NNP'), ('Date', 'NNP'), (':', ':'), ('OFFICE', 'NN'), ('USE', 'NN'), ('ONLY', 'NNP'), ('Somment-', 'NNP'), ('ceipt', 'NN'), ('Number', 'NNP'), (':', ':'), ('Date', 'NN'), (':', ':'), ('No', 'DT'), (':', ':'), ('DateFIJI', 'NNP'), ('FOOTBALL', 'NNP'), ('ASSOCIATION', 'NNP'), ('PLAYER', 'NNP'), ('REGISTRATION/LICENSING', 'NNP'), ('SURNAME', 'NNP'), ('NASIE', 'NNP'), ('KHEDKAR', 'NNP'), ('ONKAR', 'NNP'), ('24/09/1999', 'CD'), ('MALE', 'NNP'), ('DATE', 'NNP'), ('OF', 'NNP'), ('BIRTH', 'NNP'), ('SEX', 'NNP'), ('ATTACIE', 'NNP'), ('PHOTO', 'NNP'), ('HERE', 'NNP'), ('TO', 'NNP'), ('BE', 'NNP'), ('CERTIFIED', 'NNP'), ('BY', 'NNP'), ('BARRISTER', 'NNP'), ('&', 'CC'), ('SOLICITOR', 'NNP'), ('CONNUISSIONER', 'NNP'), ('OF', 'NNP'), ('OATH', 'NNP'), ('OR', 'NNP'), ('JI*', 'NNP'), ('ADDRESS', 'NNP'), ('PHONE', 'NNP'), ('CONTACT', 'NNP'), ('EMAIL', 'NNP'), ('ADDRESS', 'NNP'), ('999', 'CD'), ('9922334', 'CD'), ('Onkar', 'NNP'), ('@', 'NNP'), ('gmail.com', 'NN'), ('PRIOR', 'NNP'), ('REGISTAATION', 'NNP'), ('Yes', 'NNP'), (',', ','), ('Plessa', 'NNP'), ('fall', 'NN'), ('in', 'IN'), ('the', 'DT'), ('details', 'NNS'), ('below', 'IN'), (':', ':'), ('DISTRUCT', 'NNP'), ('REGISTERED', 'NNP'), ('NEW', 'NNP'), ('DISTRICT', 'NNP'), ('CLUB/SCHOOL', 'NNP'), ('REGISTERED', 'NNP'), ('NEW', 'NNP'), ('CLUB/SCHOOL', 'NNP'), ('LICENSE', 'NNP'), ('NO', 'NNP'), ('.', '.')], [('FLAMING', 'NN'), ('POSITION', 'NNP'), ('solemnly', 'RB'), ('and', 'CC'), (\"''\", \"''\"), ('Sincerely', 'RB'), ('declare', 'VBP'), ('that', 'IN'), ('above', 'IN'), ('into', 'IN'), ('watation', 'NN'), ('provided', 'VBN'), ('is', 'VBZ'), ('correct', 'JJ'), ('.', '.')], [('(', '('), ('Signature', 'NN'), ('of', 'IN'), ('Player', 'NNP'), (')', ')'), ('Witness', 'NNP'), ('by', 'IN'), ('(', '('), ('FORM', 'NNP'), ('SHOULD', 'NNP'), ('BE', 'NNP'), ('WITNESSED', 'NNP'), ('BY', 'NNP'), ('BARRISTER', 'NNP'), ('&', 'CC'), ('SOLICITOR', 'NNP'), ('.', '.')], [('COMMISSIONER', 'NNP'), ('OF', 'NNP'), ('OATH', 'NNP'), ('ORJP', 'NNP'), (')', ')'), ('.', '.')], [('ONECKLIST', 'NNP'), ('Player', 'NNP'), ('Registration', 'NNP'), ('Form', 'NNP'), ('Transfer', 'NNP'), ('Form', 'NNP'), ('(', '('), ('Applying', 'VBG'), ('for', 'IN'), ('Transfer', 'NNP'), (')', ')'), ('Passport', 'NNP'), ('Size', 'NNP'), ('Photo', 'NNP'), ('Certled', 'NNP'), (')', ')'), ('Orional', 'NNP'), ('Birth', 'NNP'), ('Certificate', 'NNP'), ('Certified', 'NNP'), ('Copy', 'NNP'), ('of', 'IN'), ('TIN', 'NNP'), ('Card/', 'NNP'), ('Voter', 'NNP'), ('Card', 'NNP'), ('/', 'NNP'), ('Passport', 'NNP'), ('Certified', 'NNP'), ('copy', 'NN'), ('of', 'IN'), ('Enrollment', 'NNP'), ('FormiSchool', 'NNP'), ('Registration', 'NNP'), (')', ')'), ('Elub', 'NNP'), ('President/', 'NNP'), ('Secretary', 'NNP'), ('Date', 'NNP'), ('Hlytelet', 'NNP'), ('President/Secretary', 'NNP'), ('School', 'NNP'), ('Date', 'NNP'), (':', ':'), ('OFFICE', 'NN'), ('USE', 'NN'), ('ONLY', 'NNP'), ('Somment-', 'NNP'), ('ceipt', 'NN'), ('Number', 'NNP'), (':', ':'), ('Date', 'NN'), (':', ':'), ('No', 'DT'), (':', ':'), ('HlyteletFIJI', 'NNP'), ('FOOTBALL', 'NNP'), ('ASSOCIATION', 'NNP'), ('PLAYER', 'NNP'), ('REGISTRATION/LICENSING', 'NNP'), ('SURNAME', 'NNP'), ('NASIE', 'NNP'), ('KHEDKAR', 'NNP'), ('ONKAR', 'NNP'), ('24/09/1999', 'CD'), ('MALE', 'NNP'), ('DATE', 'NNP'), ('OF', 'NNP'), ('BIRTH', 'NNP'), ('SEX', 'NNP'), ('ATTACIE', 'NNP'), ('PHOTO', 'NNP'), ('HERE', 'NNP'), ('TO', 'NNP'), ('BE', 'NNP'), ('CERTIFIED', 'NNP'), ('BY', 'NNP'), ('BARRISTER', 'NNP'), ('&', 'CC'), ('SOLICITOR', 'NNP'), ('CONNUISSIONER', 'NNP'), ('OF', 'NNP'), ('OATH', 'NNP'), ('OR', 'NNP'), ('JI*', 'NNP'), ('ADDRESS', 'NNP'), ('PHONE', 'NNP'), ('CONTACT', 'NNP'), ('EMAIL', 'NNP'), ('ADDRESS', 'NNP'), ('999', 'CD'), ('9922334', 'CD'), ('Onkar', 'NNP'), ('@', 'NNP'), ('gmail.com', 'NN'), ('PRIOR', 'NNP'), ('REGISTAATION', 'NNP'), ('Yes', 'NNP'), (',', ','), ('Plessa', 'NNP'), ('fall', 'NN'), ('in', 'IN'), ('the', 'DT'), ('details', 'NNS'), ('below', 'IN'), (':', ':'), ('DISTRUCT', 'NNP'), ('REGISTERED', 'NNP'), ('NEW', 'NNP'), ('DISTRICT', 'NNP'), ('CLUB/SCHOOL', 'NNP'), ('REGISTERED', 'NNP'), ('NEW', 'NNP'), ('CLUB/SCHOOL', 'NNP'), ('LICENSE', 'NNP'), ('NO', 'NNP'), ('.', '.')], [('FLAMING', 'NN'), ('POSITION', 'NNP'), ('solemnly', 'RB'), ('and', 'CC'), (\"''\", \"''\"), ('Sincerely', 'RB'), ('declare', 'VBP'), ('that', 'IN'), ('above', 'IN'), ('into', 'IN'), ('watation', 'NN'), ('provided', 'VBN'), ('is', 'VBZ'), ('correct', 'JJ'), ('.', '.')], [('(', '('), ('Signature', 'NN'), ('of', 'IN'), ('Player', 'NNP'), (')', ')'), ('Witness', 'NNP'), ('by', 'IN'), ('(', '('), ('FORM', 'NNP'), ('SHOULD', 'NNP'), ('BE', 'NNP'), ('WITNESSED', 'NNP'), ('BY', 'NNP'), ('BARRISTER', 'NNP'), ('&', 'CC'), ('SOLICITOR', 'NNP'), ('.', '.')], [('COMMISSIONER', 'NNP'), ('OF', 'NNP'), ('OATH', 'NNP'), ('ORJP', 'NNP'), (')', ')'), ('.', '.')], [('ONECKLIST', 'NNP'), ('Player', 'NNP'), ('Registration', 'NNP'), ('Form', 'NNP'), ('Transfer', 'NNP'), ('Form', 'NNP'), ('(', '('), ('Applying', 'VBG'), ('for', 'IN'), ('Transfer', 'NNP'), (')', ')'), ('Passport', 'NNP'), ('Size', 'NNP'), ('Photo', 'NNP'), ('Certled', 'NNP'), (')', ')'), ('Orional', 'NNP'), ('Birth', 'NNP'), ('Certificate', 'NNP'), ('Certified', 'NNP'), ('Copy', 'NNP'), ('of', 'IN'), ('TIN', 'NNP'), ('Card/', 'NNP'), ('Voter', 'NNP'), ('Card', 'NNP'), ('/', 'NNP'), ('Passport', 'NNP'), ('Certified', 'NNP'), ('copy', 'NN'), ('of', 'IN'), ('Enrollment', 'NNP'), ('FormiSchool', 'NNP'), ('Registration', 'NNP'), (')', ')'), ('Elub', 'NNP'), ('President/', 'NNP'), ('Secretary', 'NNP'), ('Date', 'NNP'), ('Hlytelet', 'NNP'), ('President/Secretary', 'NNP'), ('School', 'NNP'), ('Date', 'NNP'), (':', ':'), ('OFFICE', 'NN'), ('USE', 'NN'), ('ONLY', 'NNP'), ('Somment-', 'NNP'), ('ceipt', 'NN'), ('Number', 'NNP'), (':', ':'), ('Date', 'NN'), (':', ':'), ('No', 'DT'), (':', ':'), ('President/SecretaryFIJI', 'NNP'), ('FOOTBALL', 'NNP'), ('ASSOCIATION', 'NNP'), ('PLAYER', 'NNP'), ('REGISTRATION/LICENSING', 'NNP'), ('SURNAME', 'NNP'), ('NASIE', 'NNP'), ('KHEDKAR', 'NNP'), ('ONKAR', 'NNP'), ('24/09/1999', 'CD'), ('MALE', 'NNP'), ('DATE', 'NNP'), ('OF', 'NNP'), ('BIRTH', 'NNP'), ('SEX', 'NNP'), ('ATTACIE', 'NNP'), ('PHOTO', 'NNP'), ('HERE', 'NNP'), ('TO', 'NNP'), ('BE', 'NNP'), ('CERTIFIED', 'NNP'), ('BY', 'NNP'), ('BARRISTER', 'NNP'), ('&', 'CC'), ('SOLICITOR', 'NNP'), ('CONNUISSIONER', 'NNP'), ('OF', 'NNP'), ('OATH', 'NNP'), ('OR', 'NNP'), ('JI*', 'NNP'), ('ADDRESS', 'NNP'), ('PHONE', 'NNP'), ('CONTACT', 'NNP'), ('EMAIL', 'NNP'), ('ADDRESS', 'NNP'), ('999', 'CD'), ('9922334', 'CD'), ('Onkar', 'NNP'), ('@', 'NNP'), ('gmail.com', 'NN'), ('PRIOR', 'NNP'), ('REGISTAATION', 'NNP'), ('Yes', 'NNP'), (',', ','), ('Plessa', 'NNP'), ('fall', 'NN'), ('in', 'IN'), ('the', 'DT'), ('details', 'NNS'), ('below', 'IN'), (':', ':'), ('DISTRUCT', 'NNP'), ('REGISTERED', 'NNP'), ('NEW', 'NNP'), ('DISTRICT', 'NNP'), ('CLUB/SCHOOL', 'NNP'), ('REGISTERED', 'NNP'), ('NEW', 'NNP'), ('CLUB/SCHOOL', 'NNP'), ('LICENSE', 'NNP'), ('NO', 'NNP'), ('.', '.')], [('FLAMING', 'NN'), ('POSITION', 'NNP'), ('solemnly', 'RB'), ('and', 'CC'), (\"''\", \"''\"), ('Sincerely', 'RB'), ('declare', 'VBP'), ('that', 'IN'), ('above', 'IN'), ('into', 'IN'), ('watation', 'NN'), ('provided', 'VBN'), ('is', 'VBZ'), ('correct', 'JJ'), ('.', '.')], [('(', '('), ('Signature', 'NN'), ('of', 'IN'), ('Player', 'NNP'), (')', ')'), ('Witness', 'NNP'), ('by', 'IN'), ('(', '('), ('FORM', 'NNP'), ('SHOULD', 'NNP'), ('BE', 'NNP'), ('WITNESSED', 'NNP'), ('BY', 'NNP'), ('BARRISTER', 'NNP'), ('&', 'CC'), ('SOLICITOR', 'NNP'), ('.', '.')], [('COMMISSIONER', 'NNP'), ('OF', 'NNP'), ('OATH', 'NNP'), ('ORJP', 'NNP'), (')', ')'), ('.', '.')], [('ONECKLIST', 'NNP'), ('Player', 'NNP'), ('Registration', 'NNP'), ('Form', 'NNP'), ('Transfer', 'NNP'), ('Form', 'NNP'), ('(', '('), ('Applying', 'VBG'), ('for', 'IN'), ('Transfer', 'NNP'), (')', ')'), ('Passport', 'NNP'), ('Size', 'NNP'), ('Photo', 'NNP'), ('Certled', 'NNP'), (')', ')'), ('Orional', 'NNP'), ('Birth', 'NNP'), ('Certificate', 'NNP'), ('Certified', 'NNP'), ('Copy', 'NNP'), ('of', 'IN'), ('TIN', 'NNP'), ('Card/', 'NNP'), ('Voter', 'NNP'), ('Card', 'NNP'), ('/', 'NNP'), ('Passport', 'NNP'), ('Certified', 'NNP'), ('copy', 'NN'), ('of', 'IN'), ('Enrollment', 'NNP'), ('FormiSchool', 'NNP'), ('Registration', 'NNP'), (')', ')'), ('Elub', 'NNP'), ('President/', 'NNP'), ('Secretary', 'NNP'), ('Date', 'NNP'), ('Hlytelet', 'NNP'), ('President/Secretary', 'NNP'), ('School', 'NNP'), ('Date', 'NNP'), (':', ':'), ('OFFICE', 'NN'), ('USE', 'NN'), ('ONLY', 'NNP'), ('Somment-', 'NNP'), ('ceipt', 'NN'), ('Number', 'NNP'), (':', ':'), ('Date', 'NN'), (':', ':'), ('No', 'DT'), (':', ':'), ('SchoolFIJI', 'NNP'), ('FOOTBALL', 'NNP'), ('ASSOCIATION', 'NNP'), ('PLAYER', 'NNP'), ('REGISTRATION/LICENSING', 'NNP'), ('SURNAME', 'NNP'), ('NASIE', 'NNP'), ('KHEDKAR', 'NNP'), ('ONKAR', 'NNP'), ('24/09/1999', 'CD'), ('MALE', 'NNP'), ('DATE', 'NNP'), ('OF', 'NNP'), ('BIRTH', 'NNP'), ('SEX', 'NNP'), ('ATTACIE', 'NNP'), ('PHOTO', 'NNP'), ('HERE', 'NNP'), ('TO', 'NNP'), ('BE', 'NNP'), ('CERTIFIED', 'NNP'), ('BY', 'NNP'), ('BARRISTER', 'NNP'), ('&', 'CC'), ('SOLICITOR', 'NNP'), ('CONNUISSIONER', 'NNP'), ('OF', 'NNP'), ('OATH', 'NNP'), ('OR', 'NNP'), ('JI*', 'NNP'), ('ADDRESS', 'NNP'), ('PHONE', 'NNP'), ('CONTACT', 'NNP'), ('EMAIL', 'NNP'), ('ADDRESS', 'NNP'), ('999', 'CD'), ('9922334', 'CD'), ('Onkar', 'NNP'), ('@', 'NNP'), ('gmail.com', 'NN'), ('PRIOR', 'NNP'), ('REGISTAATION', 'NNP'), ('Yes', 'NNP'), (',', ','), ('Plessa', 'NNP'), ('fall', 'NN'), ('in', 'IN'), ('the', 'DT'), ('details', 'NNS'), ('below', 'IN'), (':', ':'), ('DISTRUCT', 'NNP'), ('REGISTERED', 'NNP'), ('NEW', 'NNP'), ('DISTRICT', 'NNP'), ('CLUB/SCHOOL', 'NNP'), ('REGISTERED', 'NNP'), ('NEW', 'NNP'), ('CLUB/SCHOOL', 'NNP'), ('LICENSE', 'NNP'), ('NO', 'NNP'), ('.', '.')], [('FLAMING', 'NN'), ('POSITION', 'NNP'), ('solemnly', 'RB'), ('and', 'CC'), (\"''\", \"''\"), ('Sincerely', 'RB'), ('declare', 'VBP'), ('that', 'IN'), ('above', 'IN'), ('into', 'IN'), ('watation', 'NN'), ('provided', 'VBN'), ('is', 'VBZ'), ('correct', 'JJ'), ('.', '.')], [('(', '('), ('Signature', 'NN'), ('of', 'IN'), ('Player', 'NNP'), (')', ')'), ('Witness', 'NNP'), ('by', 'IN'), ('(', '('), ('FORM', 'NNP'), ('SHOULD', 'NNP'), ('BE', 'NNP'), ('WITNESSED', 'NNP'), ('BY', 'NNP'), ('BARRISTER', 'NNP'), ('&', 'CC'), ('SOLICITOR', 'NNP'), ('.', '.')], [('COMMISSIONER', 'NNP'), ('OF', 'NNP'), ('OATH', 'NNP'), ('ORJP', 'NNP'), (')', ')'), ('.', '.')], [('ONECKLIST', 'NNP'), ('Player', 'NNP'), ('Registration', 'NNP'), ('Form', 'NNP'), ('Transfer', 'NNP'), ('Form', 'NNP'), ('(', '('), ('Applying', 'VBG'), ('for', 'IN'), ('Transfer', 'NNP'), (')', ')'), ('Passport', 'NNP'), ('Size', 'NNP'), ('Photo', 'NNP'), ('Certled', 'NNP'), (')', ')'), ('Orional', 'NNP'), ('Birth', 'NNP'), ('Certificate', 'NNP'), ('Certified', 'NNP'), ('Copy', 'NNP'), ('of', 'IN'), ('TIN', 'NNP'), ('Card/', 'NNP'), ('Voter', 'NNP'), ('Card', 'NNP'), ('/', 'NNP'), ('Passport', 'NNP'), ('Certified', 'NNP'), ('copy', 'NN'), ('of', 'IN'), ('Enrollment', 'NNP'), ('FormiSchool', 'NNP'), ('Registration', 'NNP'), (')', ')'), ('Elub', 'NNP'), ('President/', 'NNP'), ('Secretary', 'NNP'), ('Date', 'NNP'), ('Hlytelet', 'NNP'), ('President/Secretary', 'NNP'), ('School', 'NNP'), ('Date', 'NNP'), (':', ':'), ('OFFICE', 'NN'), ('USE', 'NN'), ('ONLY', 'NNP'), ('Somment-', 'NNP'), ('ceipt', 'NN'), ('Number', 'NNP'), (':', ':'), ('Date', 'NN'), (':', ':'), ('No', 'DT'), (':', ':'), ('Date', 'NN'), (':', ':'), ('FIJI', 'NNP'), ('FOOTBALL', 'NNP'), ('ASSOCIATION', 'NNP'), ('PLAYER', 'NNP'), ('REGISTRATION/LICENSING', 'NNP'), ('SURNAME', 'NNP'), ('NASIE', 'NNP'), ('KHEDKAR', 'NNP'), ('ONKAR', 'NNP'), ('24/09/1999', 'CD'), ('MALE', 'NNP'), ('DATE', 'NNP'), ('OF', 'NNP'), ('BIRTH', 'NNP'), ('SEX', 'NNP'), ('ATTACIE', 'NNP'), ('PHOTO', 'NNP'), ('HERE', 'NNP'), ('TO', 'NNP'), ('BE', 'NNP'), ('CERTIFIED', 'NNP'), ('BY', 'NNP'), ('BARRISTER', 'NNP'), ('&', 'CC'), ('SOLICITOR', 'NNP'), ('CONNUISSIONER', 'NNP'), ('OF', 'NNP'), ('OATH', 'NNP'), ('OR', 'NNP'), ('JI*', 'NNP'), ('ADDRESS', 'NNP'), ('PHONE', 'NNP'), ('CONTACT', 'NNP'), ('EMAIL', 'NNP'), ('ADDRESS', 'NNP'), ('999', 'CD'), ('9922334', 'CD'), ('Onkar', 'NNP'), ('@', 'NNP'), ('gmail.com', 'NN'), ('PRIOR', 'NNP'), ('REGISTAATION', 'NNP'), ('Yes', 'NNP'), (',', ','), ('Plessa', 'NNP'), ('fall', 'NN'), ('in', 'IN'), ('the', 'DT'), ('details', 'NNS'), ('below', 'IN'), (':', ':'), ('DISTRUCT', 'NNP'), ('REGISTERED', 'NNP'), ('NEW', 'NNP'), ('DISTRICT', 'NNP'), ('CLUB/SCHOOL', 'NNP'), ('REGISTERED', 'NNP'), ('NEW', 'NNP'), ('CLUB/SCHOOL', 'NNP'), ('LICENSE', 'NNP'), ('NO', 'NNP'), ('.', '.')], [('FLAMING', 'NN'), ('POSITION', 'NNP'), ('solemnly', 'RB'), ('and', 'CC'), (\"''\", \"''\"), ('Sincerely', 'RB'), ('declare', 'VBP'), ('that', 'IN'), ('above', 'IN'), ('into', 'IN'), ('watation', 'NN'), ('provided', 'VBN'), ('is', 'VBZ'), ('correct', 'JJ'), ('.', '.')], [('(', '('), ('Signature', 'NN'), ('of', 'IN'), ('Player', 'NNP'), (')', ')'), ('Witness', 'NNP'), ('by', 'IN'), ('(', '('), ('FORM', 'NNP'), ('SHOULD', 'NNP'), ('BE', 'NNP'), ('WITNESSED', 'NNP'), ('BY', 'NNP'), ('BARRISTER', 'NNP'), ('&', 'CC'), ('SOLICITOR', 'NNP'), ('.', '.')], [('COMMISSIONER', 'NNP'), ('OF', 'NNP'), ('OATH', 'NNP'), ('ORJP', 'NNP'), (')', ')'), ('.', '.')], [('ONECKLIST', 'NNP'), ('Player', 'NNP'), ('Registration', 'NNP'), ('Form', 'NNP'), ('Transfer', 'NNP'), ('Form', 'NNP'), ('(', '('), ('Applying', 'VBG'), ('for', 'IN'), ('Transfer', 'NNP'), (')', ')'), ('Passport', 'NNP'), ('Size', 'NNP'), ('Photo', 'NNP'), ('Certled', 'NNP'), (')', ')'), ('Orional', 'NNP'), ('Birth', 'NNP'), ('Certificate', 'NNP'), ('Certified', 'NNP'), ('Copy', 'NNP'), ('of', 'IN'), ('TIN', 'NNP'), ('Card/', 'NNP'), ('Voter', 'NNP'), ('Card', 'NNP'), ('/', 'NNP'), ('Passport', 'NNP'), ('Certified', 'NNP'), ('copy', 'NN'), ('of', 'IN'), ('Enrollment', 'NNP'), ('FormiSchool', 'NNP'), ('Registration', 'NNP'), (')', ')'), ('Elub', 'NNP'), ('President/', 'NNP'), ('Secretary', 'NNP'), ('Date', 'NNP'), ('Hlytelet', 'NNP'), ('President/Secretary', 'NNP'), ('School', 'NNP'), ('Date', 'NNP'), (':', ':'), ('OFFICE', 'NN'), ('USE', 'NN'), ('ONLY', 'NNP'), ('Somment-', 'NNP'), ('ceipt', 'NN'), ('Number', 'NNP'), (':', ':'), ('Date', 'NN'), (':', ':'), ('No', 'DT'), (':', ':'), ('OFFICEFIJI', 'NNP'), ('FOOTBALL', 'NNP'), ('ASSOCIATION', 'NNP'), ('PLAYER', 'NNP'), ('REGISTRATION/LICENSING', 'NNP'), ('SURNAME', 'NNP'), ('NASIE', 'NNP'), ('KHEDKAR', 'NNP'), ('ONKAR', 'NNP'), ('24/09/1999', 'CD'), ('MALE', 'NNP'), ('DATE', 'NNP'), ('OF', 'NNP'), ('BIRTH', 'NNP'), ('SEX', 'NNP'), ('ATTACIE', 'NNP'), ('PHOTO', 'NNP'), ('HERE', 'NNP'), ('TO', 'NNP'), ('BE', 'NNP'), ('CERTIFIED', 'NNP'), ('BY', 'NNP'), ('BARRISTER', 'NNP'), ('&', 'CC'), ('SOLICITOR', 'NNP'), ('CONNUISSIONER', 'NNP'), ('OF', 'NNP'), ('OATH', 'NNP'), ('OR', 'NNP'), ('JI*', 'NNP'), ('ADDRESS', 'NNP'), ('PHONE', 'NNP'), ('CONTACT', 'NNP'), ('EMAIL', 'NNP'), ('ADDRESS', 'NNP'), ('999', 'CD'), ('9922334', 'CD'), ('Onkar', 'NNP'), ('@', 'NNP'), ('gmail.com', 'NN'), ('PRIOR', 'NNP'), ('REGISTAATION', 'NNP'), ('Yes', 'NNP'), (',', ','), ('Plessa', 'NNP'), ('fall', 'NN'), ('in', 'IN'), ('the', 'DT'), ('details', 'NNS'), ('below', 'IN'), (':', ':'), ('DISTRUCT', 'NNP'), ('REGISTERED', 'NNP'), ('NEW', 'NNP'), ('DISTRICT', 'NNP'), ('CLUB/SCHOOL', 'NNP'), ('REGISTERED', 'NNP'), ('NEW', 'NNP'), ('CLUB/SCHOOL', 'NNP'), ('LICENSE', 'NNP'), ('NO', 'NNP'), ('.', '.')], [('FLAMING', 'NN'), ('POSITION', 'NNP'), ('solemnly', 'RB'), ('and', 'CC'), (\"''\", \"''\"), ('Sincerely', 'RB'), ('declare', 'VBP'), ('that', 'IN'), ('above', 'IN'), ('into', 'IN'), ('watation', 'NN'), ('provided', 'VBN'), ('is', 'VBZ'), ('correct', 'JJ'), ('.', '.')], [('(', '('), ('Signature', 'NN'), ('of', 'IN'), ('Player', 'NNP'), (')', ')'), ('Witness', 'NNP'), ('by', 'IN'), ('(', '('), ('FORM', 'NNP'), ('SHOULD', 'NNP'), ('BE', 'NNP'), ('WITNESSED', 'NNP'), ('BY', 'NNP'), ('BARRISTER', 'NNP'), ('&', 'CC'), ('SOLICITOR', 'NNP'), ('.', '.')], [('COMMISSIONER', 'NNP'), ('OF', 'NNP'), ('OATH', 'NNP'), ('ORJP', 'NNP'), (')', ')'), ('.', '.')], [('ONECKLIST', 'NNP'), ('Player', 'NNP'), ('Registration', 'NNP'), ('Form', 'NNP'), ('Transfer', 'NNP'), ('Form', 'NNP'), ('(', '('), ('Applying', 'VBG'), ('for', 'IN'), ('Transfer', 'NNP'), (')', ')'), ('Passport', 'NNP'), ('Size', 'NNP'), ('Photo', 'NNP'), ('Certled', 'NNP'), (')', ')'), ('Orional', 'NNP'), ('Birth', 'NNP'), ('Certificate', 'NNP'), ('Certified', 'NNP'), ('Copy', 'NNP'), ('of', 'IN'), ('TIN', 'NNP'), ('Card/', 'NNP'), ('Voter', 'NNP'), ('Card', 'NNP'), ('/', 'NNP'), ('Passport', 'NNP'), ('Certified', 'NNP'), ('copy', 'NN'), ('of', 'IN'), ('Enrollment', 'NNP'), ('FormiSchool', 'NNP'), ('Registration', 'NNP'), (')', ')'), ('Elub', 'NNP'), ('President/', 'NNP'), ('Secretary', 'NNP'), ('Date', 'NNP'), ('Hlytelet', 'NNP'), ('President/Secretary', 'NNP'), ('School', 'NNP'), ('Date', 'NNP'), (':', ':'), ('OFFICE', 'NN'), ('USE', 'NN'), ('ONLY', 'NNP'), ('Somment-', 'NNP'), ('ceipt', 'NN'), ('Number', 'NNP'), (':', ':'), ('Date', 'NN'), (':', ':'), ('No', 'DT'), (':', ':'), ('ONLYFIJI', 'NNP'), ('FOOTBALL', 'NNP'), ('ASSOCIATION', 'NNP'), ('PLAYER', 'NNP'), ('REGISTRATION/LICENSING', 'NNP'), ('SURNAME', 'NNP'), ('NASIE', 'NNP'), ('KHEDKAR', 'NNP'), ('ONKAR', 'NNP'), ('24/09/1999', 'CD'), ('MALE', 'NNP'), ('DATE', 'NNP'), ('OF', 'NNP'), ('BIRTH', 'NNP'), ('SEX', 'NNP'), ('ATTACIE', 'NNP'), ('PHOTO', 'NNP'), ('HERE', 'NNP'), ('TO', 'NNP'), ('BE', 'NNP'), ('CERTIFIED', 'NNP'), ('BY', 'NNP'), ('BARRISTER', 'NNP'), ('&', 'CC'), ('SOLICITOR', 'NNP'), ('CONNUISSIONER', 'NNP'), ('OF', 'NNP'), ('OATH', 'NNP'), ('OR', 'NNP'), ('JI*', 'NNP'), ('ADDRESS', 'NNP'), ('PHONE', 'NNP'), ('CONTACT', 'NNP'), ('EMAIL', 'NNP'), ('ADDRESS', 'NNP'), ('999', 'CD'), ('9922334', 'CD'), ('Onkar', 'NNP'), ('@', 'NNP'), ('gmail.com', 'NN'), ('PRIOR', 'NNP'), ('REGISTAATION', 'NNP'), ('Yes', 'NNP'), (',', ','), ('Plessa', 'NNP'), ('fall', 'NN'), ('in', 'IN'), ('the', 'DT'), ('details', 'NNS'), ('below', 'IN'), (':', ':'), ('DISTRUCT', 'NNP'), ('REGISTERED', 'NNP'), ('NEW', 'NNP'), ('DISTRICT', 'NNP'), ('CLUB/SCHOOL', 'NNP'), ('REGISTERED', 'NNP'), ('NEW', 'NNP'), ('CLUB/SCHOOL', 'NNP'), ('LICENSE', 'NNP'), ('NO', 'NNP'), ('.', '.')], [('FLAMING', 'NN'), ('POSITION', 'NNP'), ('solemnly', 'RB'), ('and', 'CC'), (\"''\", \"''\"), ('Sincerely', 'RB'), ('declare', 'VBP'), ('that', 'IN'), ('above', 'IN'), ('into', 'IN'), ('watation', 'NN'), ('provided', 'VBN'), ('is', 'VBZ'), ('correct', 'JJ'), ('.', '.')], [('(', '('), ('Signature', 'NN'), ('of', 'IN'), ('Player', 'NNP'), (')', ')'), ('Witness', 'NNP'), ('by', 'IN'), ('(', '('), ('FORM', 'NNP'), ('SHOULD', 'NNP'), ('BE', 'NNP'), ('WITNESSED', 'NNP'), ('BY', 'NNP'), ('BARRISTER', 'NNP'), ('&', 'CC'), ('SOLICITOR', 'NNP'), ('.', '.')], [('COMMISSIONER', 'NNP'), ('OF', 'NNP'), ('OATH', 'NNP'), ('ORJP', 'NNP'), (')', ')'), ('.', '.')], [('ONECKLIST', 'NNP'), ('Player', 'NNP'), ('Registration', 'NNP'), ('Form', 'NNP'), ('Transfer', 'NNP'), ('Form', 'NNP'), ('(', '('), ('Applying', 'VBG'), ('for', 'IN'), ('Transfer', 'NNP'), (')', ')'), ('Passport', 'NNP'), ('Size', 'NNP'), ('Photo', 'NNP'), ('Certled', 'NNP'), (')', ')'), ('Orional', 'NNP'), ('Birth', 'NNP'), ('Certificate', 'NNP'), ('Certified', 'NNP'), ('Copy', 'NNP'), ('of', 'IN'), ('TIN', 'NNP'), ('Card/', 'NNP'), ('Voter', 'NNP'), ('Card', 'NNP'), ('/', 'NNP'), ('Passport', 'NNP'), ('Certified', 'NNP'), ('copy', 'NN'), ('of', 'IN'), ('Enrollment', 'NNP'), ('FormiSchool', 'NNP'), ('Registration', 'NNP'), (')', ')'), ('Elub', 'NNP'), ('President/', 'NNP'), ('Secretary', 'NNP'), ('Date', 'NNP'), ('Hlytelet', 'NNP'), ('President/Secretary', 'NNP'), ('School', 'NNP'), ('Date', 'NNP'), (':', ':'), ('OFFICE', 'NN'), ('USE', 'NN'), ('ONLY', 'NNP'), ('Somment-', 'NNP'), ('ceipt', 'NN'), ('Number', 'NNP'), (':', ':'), ('Date', 'NN'), (':', ':'), ('No', 'DT'), (':', ':'), ('Somment-FIJI', 'JJ'), ('FOOTBALL', 'NNP'), ('ASSOCIATION', 'NNP'), ('PLAYER', 'NNP'), ('REGISTRATION/LICENSING', 'NNP'), ('SURNAME', 'NNP'), ('NASIE', 'NNP'), ('KHEDKAR', 'NNP'), ('ONKAR', 'NNP'), ('24/09/1999', 'CD'), ('MALE', 'NNP'), ('DATE', 'NNP'), ('OF', 'NNP'), ('BIRTH', 'NNP'), ('SEX', 'NNP'), ('ATTACIE', 'NNP'), ('PHOTO', 'NNP'), ('HERE', 'NNP'), ('TO', 'NNP'), ('BE', 'NNP'), ('CERTIFIED', 'NNP'), ('BY', 'NNP'), ('BARRISTER', 'NNP'), ('&', 'CC'), ('SOLICITOR', 'NNP'), ('CONNUISSIONER', 'NNP'), ('OF', 'NNP'), ('OATH', 'NNP'), ('OR', 'NNP'), ('JI*', 'NNP'), ('ADDRESS', 'NNP'), ('PHONE', 'NNP'), ('CONTACT', 'NNP'), ('EMAIL', 'NNP'), ('ADDRESS', 'NNP'), ('999', 'CD'), ('9922334', 'CD'), ('Onkar', 'NNP'), ('@', 'NNP'), ('gmail.com', 'NN'), ('PRIOR', 'NNP'), ('REGISTAATION', 'NNP'), ('Yes', 'NNP'), (',', ','), ('Plessa', 'NNP'), ('fall', 'NN'), ('in', 'IN'), ('the', 'DT'), ('details', 'NNS'), ('below', 'IN'), (':', ':'), ('DISTRUCT', 'NNP'), ('REGISTERED', 'NNP'), ('NEW', 'NNP'), ('DISTRICT', 'NNP'), ('CLUB/SCHOOL', 'NNP'), ('REGISTERED', 'NNP'), ('NEW', 'NNP'), ('CLUB/SCHOOL', 'NNP'), ('LICENSE', 'NNP'), ('NO', 'NNP'), ('.', '.')], [('FLAMING', 'NN'), ('POSITION', 'NNP'), ('solemnly', 'RB'), ('and', 'CC'), (\"''\", \"''\"), ('Sincerely', 'RB'), ('declare', 'VBP'), ('that', 'IN'), ('above', 'IN'), ('into', 'IN'), ('watation', 'NN'), ('provided', 'VBN'), ('is', 'VBZ'), ('correct', 'JJ'), ('.', '.')], [('(', '('), ('Signature', 'NN'), ('of', 'IN'), ('Player', 'NNP'), (')', ')'), ('Witness', 'NNP'), ('by', 'IN'), ('(', '('), ('FORM', 'NNP'), ('SHOULD', 'NNP'), ('BE', 'NNP'), ('WITNESSED', 'NNP'), ('BY', 'NNP'), ('BARRISTER', 'NNP'), ('&', 'CC'), ('SOLICITOR', 'NNP'), ('.', '.')], [('COMMISSIONER', 'NNP'), ('OF', 'NNP'), ('OATH', 'NNP'), ('ORJP', 'NNP'), (')', ')'), ('.', '.')], [('ONECKLIST', 'NNP'), ('Player', 'NNP'), ('Registration', 'NNP'), ('Form', 'NNP'), ('Transfer', 'NNP'), ('Form', 'NNP'), ('(', '('), ('Applying', 'VBG'), ('for', 'IN'), ('Transfer', 'NNP'), (')', ')'), ('Passport', 'NNP'), ('Size', 'NNP'), ('Photo', 'NNP'), ('Certled', 'NNP'), (')', ')'), ('Orional', 'NNP'), ('Birth', 'NNP'), ('Certificate', 'NNP'), ('Certified', 'NNP'), ('Copy', 'NNP'), ('of', 'IN'), ('TIN', 'NNP'), ('Card/', 'NNP'), ('Voter', 'NNP'), ('Card', 'NNP'), ('/', 'NNP'), ('Passport', 'NNP'), ('Certified', 'NNP'), ('copy', 'NN'), ('of', 'IN'), ('Enrollment', 'NNP'), ('FormiSchool', 'NNP'), ('Registration', 'NNP'), (')', ')'), ('Elub', 'NNP'), ('President/', 'NNP'), ('Secretary', 'NNP'), ('Date', 'NNP'), ('Hlytelet', 'NNP'), ('President/Secretary', 'NNP'), ('School', 'NNP'), ('Date', 'NNP'), (':', ':'), ('OFFICE', 'NN'), ('USE', 'NN'), ('ONLY', 'NNP'), ('Somment-', 'NNP'), ('ceipt', 'NN'), ('Number', 'NNP'), (':', ':'), ('Date', 'NN'), (':', ':'), ('No', 'DT'), (':', ':'), ('ceiptFIJI', 'NN'), ('FOOTBALL', 'NNP'), ('ASSOCIATION', 'NNP'), ('PLAYER', 'NNP'), ('REGISTRATION/LICENSING', 'NNP'), ('SURNAME', 'NNP'), ('NASIE', 'NNP'), ('KHEDKAR', 'NNP'), ('ONKAR', 'NNP'), ('24/09/1999', 'CD'), ('MALE', 'NNP'), ('DATE', 'NNP'), ('OF', 'NNP'), ('BIRTH', 'NNP'), ('SEX', 'NNP'), ('ATTACIE', 'NNP'), ('PHOTO', 'NNP'), ('HERE', 'NNP'), ('TO', 'NNP'), ('BE', 'NNP'), ('CERTIFIED', 'NNP'), ('BY', 'NNP'), ('BARRISTER', 'NNP'), ('&', 'CC'), ('SOLICITOR', 'NNP'), ('CONNUISSIONER', 'NNP'), ('OF', 'NNP'), ('OATH', 'NNP'), ('OR', 'NNP'), ('JI*', 'NNP'), ('ADDRESS', 'NNP'), ('PHONE', 'NNP'), ('CONTACT', 'NNP'), ('EMAIL', 'NNP'), ('ADDRESS', 'NNP'), ('999', 'CD'), ('9922334', 'CD'), ('Onkar', 'NNP'), ('@', 'NNP'), ('gmail.com', 'NN'), ('PRIOR', 'NNP'), ('REGISTAATION', 'NNP'), ('Yes', 'NNP'), (',', ','), ('Plessa', 'NNP'), ('fall', 'NN'), ('in', 'IN'), ('the', 'DT'), ('details', 'NNS'), ('below', 'IN'), (':', ':'), ('DISTRUCT', 'NNP'), ('REGISTERED', 'NNP'), ('NEW', 'NNP'), ('DISTRICT', 'NNP'), ('CLUB/SCHOOL', 'NNP'), ('REGISTERED', 'NNP'), ('NEW', 'NNP'), ('CLUB/SCHOOL', 'NNP'), ('LICENSE', 'NNP'), ('NO', 'NNP'), ('.', '.')], [('FLAMING', 'NN'), ('POSITION', 'NNP'), ('solemnly', 'RB'), ('and', 'CC'), (\"''\", \"''\"), ('Sincerely', 'RB'), ('declare', 'VBP'), ('that', 'IN'), ('above', 'IN'), ('into', 'IN'), ('watation', 'NN'), ('provided', 'VBN'), ('is', 'VBZ'), ('correct', 'JJ'), ('.', '.')], [('(', '('), ('Signature', 'NN'), ('of', 'IN'), ('Player', 'NNP'), (')', ')'), ('Witness', 'NNP'), ('by', 'IN'), ('(', '('), ('FORM', 'NNP'), ('SHOULD', 'NNP'), ('BE', 'NNP'), ('WITNESSED', 'NNP'), ('BY', 'NNP'), ('BARRISTER', 'NNP'), ('&', 'CC'), ('SOLICITOR', 'NNP'), ('.', '.')], [('COMMISSIONER', 'NNP'), ('OF', 'NNP'), ('OATH', 'NNP'), ('ORJP', 'NNP'), (')', ')'), ('.', '.')], [('ONECKLIST', 'NNP'), ('Player', 'NNP'), ('Registration', 'NNP'), ('Form', 'NNP'), ('Transfer', 'NNP'), ('Form', 'NNP'), ('(', '('), ('Applying', 'VBG'), ('for', 'IN'), ('Transfer', 'NNP'), (')', ')'), ('Passport', 'NNP'), ('Size', 'NNP'), ('Photo', 'NNP'), ('Certled', 'NNP'), (')', ')'), ('Orional', 'NNP'), ('Birth', 'NNP'), ('Certificate', 'NNP'), ('Certified', 'NNP'), ('Copy', 'NNP'), ('of', 'IN'), ('TIN', 'NNP'), ('Card/', 'NNP'), ('Voter', 'NNP'), ('Card', 'NNP'), ('/', 'NNP'), ('Passport', 'NNP'), ('Certified', 'NNP'), ('copy', 'NN'), ('of', 'IN'), ('Enrollment', 'NNP'), ('FormiSchool', 'NNP'), ('Registration', 'NNP'), (')', ')'), ('Elub', 'NNP'), ('President/', 'NNP'), ('Secretary', 'NNP'), ('Date', 'NNP'), ('Hlytelet', 'NNP'), ('President/Secretary', 'NNP'), ('School', 'NNP'), ('Date', 'NNP'), (':', ':'), ('OFFICE', 'NN'), ('USE', 'NN'), ('ONLY', 'NNP'), ('Somment-', 'NNP'), ('ceipt', 'NN'), ('Number', 'NNP'), (':', ':'), ('Date', 'NN'), (':', ':'), ('No', 'DT'), (':', ':'), ('Number', 'NN'), (':', ':'), ('FIJI', 'NNP'), ('FOOTBALL', 'NNP'), ('ASSOCIATION', 'NNP'), ('PLAYER', 'NNP'), ('REGISTRATION/LICENSING', 'NNP'), ('SURNAME', 'NNP'), ('NASIE', 'NNP'), ('KHEDKAR', 'NNP'), ('ONKAR', 'NNP'), ('24/09/1999', 'CD'), ('MALE', 'NNP'), ('DATE', 'NNP'), ('OF', 'NNP'), ('BIRTH', 'NNP'), ('SEX', 'NNP'), ('ATTACIE', 'NNP'), ('PHOTO', 'NNP'), ('HERE', 'NNP'), ('TO', 'NNP'), ('BE', 'NNP'), ('CERTIFIED', 'NNP'), ('BY', 'NNP'), ('BARRISTER', 'NNP'), ('&', 'CC'), ('SOLICITOR', 'NNP'), ('CONNUISSIONER', 'NNP'), ('OF', 'NNP'), ('OATH', 'NNP'), ('OR', 'NNP'), ('JI*', 'NNP'), ('ADDRESS', 'NNP'), ('PHONE', 'NNP'), ('CONTACT', 'NNP'), ('EMAIL', 'NNP'), ('ADDRESS', 'NNP'), ('999', 'CD'), ('9922334', 'CD'), ('Onkar', 'NNP'), ('@', 'NNP'), ('gmail.com', 'NN'), ('PRIOR', 'NNP'), ('REGISTAATION', 'NNP'), ('Yes', 'NNP'), (',', ','), ('Plessa', 'NNP'), ('fall', 'NN'), ('in', 'IN'), ('the', 'DT'), ('details', 'NNS'), ('below', 'IN'), (':', ':'), ('DISTRUCT', 'NNP'), ('REGISTERED', 'NNP'), ('NEW', 'NNP'), ('DISTRICT', 'NNP'), ('CLUB/SCHOOL', 'NNP'), ('REGISTERED', 'NNP'), ('NEW', 'NNP'), ('CLUB/SCHOOL', 'NNP'), ('LICENSE', 'NNP'), ('NO', 'NNP'), ('.', '.')], [('FLAMING', 'NN'), ('POSITION', 'NNP'), ('solemnly', 'RB'), ('and', 'CC'), (\"''\", \"''\"), ('Sincerely', 'RB'), ('declare', 'VBP'), ('that', 'IN'), ('above', 'IN'), ('into', 'IN'), ('watation', 'NN'), ('provided', 'VBN'), ('is', 'VBZ'), ('correct', 'JJ'), ('.', '.')], [('(', '('), ('Signature', 'NN'), ('of', 'IN'), ('Player', 'NNP'), (')', ')'), ('Witness', 'NNP'), ('by', 'IN'), ('(', '('), ('FORM', 'NNP'), ('SHOULD', 'NNP'), ('BE', 'NNP'), ('WITNESSED', 'NNP'), ('BY', 'NNP'), ('BARRISTER', 'NNP'), ('&', 'CC'), ('SOLICITOR', 'NNP'), ('.', '.')], [('COMMISSIONER', 'NNP'), ('OF', 'NNP'), ('OATH', 'NNP'), ('ORJP', 'NNP'), (')', ')'), ('.', '.')], [('ONECKLIST', 'NNP'), ('Player', 'NNP'), ('Registration', 'NNP'), ('Form', 'NNP'), ('Transfer', 'NNP'), ('Form', 'NNP'), ('(', '('), ('Applying', 'VBG'), ('for', 'IN'), ('Transfer', 'NNP'), (')', ')'), ('Passport', 'NNP'), ('Size', 'NNP'), ('Photo', 'NNP'), ('Certled', 'NNP'), (')', ')'), ('Orional', 'NNP'), ('Birth', 'NNP'), ('Certificate', 'NNP'), ('Certified', 'NNP'), ('Copy', 'NNP'), ('of', 'IN'), ('TIN', 'NNP'), ('Card/', 'NNP'), ('Voter', 'NNP'), ('Card', 'NNP'), ('/', 'NNP'), ('Passport', 'NNP'), ('Certified', 'NNP'), ('copy', 'NN'), ('of', 'IN'), ('Enrollment', 'NNP'), ('FormiSchool', 'NNP'), ('Registration', 'NNP'), (')', ')'), ('Elub', 'NNP'), ('President/', 'NNP'), ('Secretary', 'NNP'), ('Date', 'NNP'), ('Hlytelet', 'NNP'), ('President/Secretary', 'NNP'), ('School', 'NNP'), ('Date', 'NNP'), (':', ':'), ('OFFICE', 'NN'), ('USE', 'NN'), ('ONLY', 'NNP'), ('Somment-', 'NNP'), ('ceipt', 'NN'), ('Number', 'NNP'), (':', ':'), ('Date', 'NN'), (':', ':'), ('No', 'DT'), (':', ':'), ('Date', 'NN'), (':', ':'), ('FIJI', 'NNP'), ('FOOTBALL', 'NNP'), ('ASSOCIATION', 'NNP'), ('PLAYER', 'NNP'), ('REGISTRATION/LICENSING', 'NNP'), ('SURNAME', 'NNP'), ('NASIE', 'NNP'), ('KHEDKAR', 'NNP'), ('ONKAR', 'NNP'), ('24/09/1999', 'CD'), ('MALE', 'NNP'), ('DATE', 'NNP'), ('OF', 'NNP'), ('BIRTH', 'NNP'), ('SEX', 'NNP'), ('ATTACIE', 'NNP'), ('PHOTO', 'NNP'), ('HERE', 'NNP'), ('TO', 'NNP'), ('BE', 'NNP'), ('CERTIFIED', 'NNP'), ('BY', 'NNP'), ('BARRISTER', 'NNP'), ('&', 'CC'), ('SOLICITOR', 'NNP'), ('CONNUISSIONER', 'NNP'), ('OF', 'NNP'), ('OATH', 'NNP'), ('OR', 'NNP'), ('JI*', 'NNP'), ('ADDRESS', 'NNP'), ('PHONE', 'NNP'), ('CONTACT', 'NNP'), ('EMAIL', 'NNP'), ('ADDRESS', 'NNP'), ('999', 'CD'), ('9922334', 'CD'), ('Onkar', 'NNP'), ('@', 'NNP'), ('gmail.com', 'NN'), ('PRIOR', 'NNP'), ('REGISTAATION', 'NNP'), ('Yes', 'NNP'), (',', ','), ('Plessa', 'NNP'), ('fall', 'NN'), ('in', 'IN'), ('the', 'DT'), ('details', 'NNS'), ('below', 'IN'), (':', ':'), ('DISTRUCT', 'NNP'), ('REGISTERED', 'NNP'), ('NEW', 'NNP'), ('DISTRICT', 'NNP'), ('CLUB/SCHOOL', 'NNP'), ('REGISTERED', 'NNP'), ('NEW', 'NNP'), ('CLUB/SCHOOL', 'NNP'), ('LICENSE', 'NNP'), ('NO', 'NNP'), ('.', '.')], [('FLAMING', 'NN'), ('POSITION', 'NNP'), ('solemnly', 'RB'), ('and', 'CC'), (\"''\", \"''\"), ('Sincerely', 'RB'), ('declare', 'VBP'), ('that', 'IN'), ('above', 'IN'), ('into', 'IN'), ('watation', 'NN'), ('provided', 'VBN'), ('is', 'VBZ'), ('correct', 'JJ'), ('.', '.')], [('(', '('), ('Signature', 'NN'), ('of', 'IN'), ('Player', 'NNP'), (')', ')'), ('Witness', 'NNP'), ('by', 'IN'), ('(', '('), ('FORM', 'NNP'), ('SHOULD', 'NNP'), ('BE', 'NNP'), ('WITNESSED', 'NNP'), ('BY', 'NNP'), ('BARRISTER', 'NNP'), ('&', 'CC'), ('SOLICITOR', 'NNP'), ('.', '.')], [('COMMISSIONER', 'NNP'), ('OF', 'NNP'), ('OATH', 'NNP'), ('ORJP', 'NNP'), (')', ')'), ('.', '.')], [('ONECKLIST', 'NNP'), ('Player', 'NNP'), ('Registration', 'NNP'), ('Form', 'NNP'), ('Transfer', 'NNP'), ('Form', 'NNP'), ('(', '('), ('Applying', 'VBG'), ('for', 'IN'), ('Transfer', 'NNP'), (')', ')'), ('Passport', 'NNP'), ('Size', 'NNP'), ('Photo', 'NNP'), ('Certled', 'NNP'), (')', ')'), ('Orional', 'NNP'), ('Birth', 'NNP'), ('Certificate', 'NNP'), ('Certified', 'NNP'), ('Copy', 'NNP'), ('of', 'IN'), ('TIN', 'NNP'), ('Card/', 'NNP'), ('Voter', 'NNP'), ('Card', 'NNP'), ('/', 'NNP'), ('Passport', 'NNP'), ('Certified', 'NNP'), ('copy', 'NN'), ('of', 'IN'), ('Enrollment', 'NNP'), ('FormiSchool', 'NNP'), ('Registration', 'NNP'), (')', ')'), ('Elub', 'NNP'), ('President/', 'NNP'), ('Secretary', 'NNP'), ('Date', 'NNP'), ('Hlytelet', 'NNP'), ('President/Secretary', 'NNP'), ('School', 'NNP'), ('Date', 'NNP'), (':', ':'), ('OFFICE', 'NN'), ('USE', 'NN'), ('ONLY', 'NNP'), ('Somment-', 'NNP'), ('ceipt', 'NN'), ('Number', 'NNP'), (':', ':'), ('Date', 'NN'), (':', ':'), ('No', 'DT'), (':', ':'), ('No', 'DT'), (':', ':')]]\n"
     ]
    }
   ],
   "source": [
    "print(sentences)"
   ]
  },
  {
   "cell_type": "code",
   "execution_count": 88,
   "metadata": {},
   "outputs": [
    {
     "name": "stdout",
     "output_type": "stream",
     "text": [
      "['ASSOCIATION', 'PLAYER', 'REGISTRATION/LICENSING', 'SURNAME', 'NASIE', 'KHEDKAR', 'ONKAR', '24/09/1999', 'MALE', 'DATE', 'BIRTH', 'SEX', 'ATTACIE', 'PHOTO', 'HERE', 'TO', 'CERTIFIED', 'SOLICITOR', 'CONNUISSIONER', 'JI*', 'ADDRESS', 'PHONE', 'CONTACT', 'EMAIL', 'ADDRESS', '999', '9922334', 'Onkar', '@', 'gmail.com', 'PRIOR', 'REGISTAATION', 'Yes', ',', 'Plessa', 'fall', ':', 'DISTRUCT', 'REGISTERED', 'NEW', 'DISTRICT', 'CLUB/SCHOOL', 'REGISTERED', 'NEW', 'CLUB/SCHOOL', 'LICENSE', 'NO', '.', 'FLAMING', 'POSITION', 'solemnly', \"''\", 'Sincerely', 'watation', 'correct', '.', '(', 'Signature', 'Player', ')', 'Witness', '(', 'FORM', 'SOLICITOR', '.', 'ORJP', ')', '.', 'ONECKLIST', 'Player', 'Transfer', '(', 'Transfer', ')', 'Passport', 'Certled', ')', 'Orional', 'Certificate', 'Card', '/', 'Passport', 'copy', 'FormiSchool', ')', 'Elub', 'Secretary', 'Date', 'Hlytelet', 'President/Secretary', 'School', 'Date', ':', 'OFFICE', 'ONLY', 'Somment-', 'ceipt', 'Number', ':', 'Date', ':', 'No', ':']\n"
     ]
    }
   ],
   "source": [
    "\n",
    "  \n",
    "word_tokens = word_tokenize(docText) \n",
    "  \n",
    "filtered_sentence = [w for w in word_tokens if not w in stop_words] \n",
    "  \n",
    "filtered_sentence = [] \n",
    "  \n",
    "for w in word_tokens: \n",
    "    if w not in stop_words: \n",
    "        filtered_sentence.append(w) \n",
    "  \n",
    "print(filtered_sentence) "
   ]
  },
  {
   "cell_type": "code",
   "execution_count": 77,
   "metadata": {},
   "outputs": [
    {
     "name": "stdout",
     "output_type": "stream",
     "text": [
      "REGISTRATION/LICENSING NASIE KHEDKAR ONKAR 24/09/1999 MALE SEX ATTACIE PHOTO CONNUISSIONER JI* 999 9922334 Onkar @ gmail.com REGISTAATION Plessa fall DISTRUCT FLAMING '' Sincerely watation ORJP ONECKLIST Certled Orional Card / copy FormiSchool Elub Hlytelet President/Secretary Somment- ceipt No\n"
     ]
    }
   ],
   "source": [
    "\n",
    "listToStr = ' '.join([str(elem) for elem in filtered_sentence]) \n",
    "print(listToStr)"
   ]
  },
  {
   "cell_type": "code",
   "execution_count": 62,
   "metadata": {},
   "outputs": [],
   "source": [
    "datafemale = pd.read_csv(\"Indian-Female-Names.csv\")"
   ]
  },
  {
   "cell_type": "code",
   "execution_count": 63,
   "metadata": {},
   "outputs": [],
   "source": [
    "datamale = pd.read_csv(\"Indian-Male-Names.csv\")"
   ]
  },
  {
   "cell_type": "code",
   "execution_count": 64,
   "metadata": {},
   "outputs": [],
   "source": [
    "male_name_set=set(datamale[\"name\"])"
   ]
  },
  {
   "cell_type": "code",
   "execution_count": 65,
   "metadata": {},
   "outputs": [],
   "source": [
    "female_name_set=set(datafemale[\"name\"])"
   ]
  },
  {
   "cell_type": "code",
   "execution_count": 66,
   "metadata": {},
   "outputs": [],
   "source": [
    "stop_words = (stopwords.words(\"english\"))+(new_words)"
   ]
  },
  {
   "cell_type": "code",
   "execution_count": 67,
   "metadata": {},
   "outputs": [
    {
     "data": {
      "text/plain": [
       "['i',\n",
       " 'me',\n",
       " 'my',\n",
       " 'myself',\n",
       " 'we',\n",
       " 'our',\n",
       " 'ours',\n",
       " 'ourselves',\n",
       " 'you',\n",
       " \"you're\",\n",
       " \"you've\",\n",
       " \"you'll\",\n",
       " \"you'd\",\n",
       " 'your',\n",
       " 'yours',\n",
       " 'yourself',\n",
       " 'yourselves',\n",
       " 'he',\n",
       " 'him',\n",
       " 'his',\n",
       " 'himself',\n",
       " 'she',\n",
       " \"she's\",\n",
       " 'her',\n",
       " 'hers',\n",
       " 'herself',\n",
       " 'it',\n",
       " \"it's\",\n",
       " 'its',\n",
       " 'itself',\n",
       " 'they',\n",
       " 'them',\n",
       " 'their',\n",
       " 'theirs',\n",
       " 'themselves',\n",
       " 'what',\n",
       " 'which',\n",
       " 'who',\n",
       " 'whom',\n",
       " 'this',\n",
       " 'that',\n",
       " \"that'll\",\n",
       " 'these',\n",
       " 'those',\n",
       " 'am',\n",
       " 'is',\n",
       " 'are',\n",
       " 'was',\n",
       " 'were',\n",
       " 'be',\n",
       " 'been',\n",
       " 'being',\n",
       " 'have',\n",
       " 'has',\n",
       " 'had',\n",
       " 'having',\n",
       " 'do',\n",
       " 'does',\n",
       " 'did',\n",
       " 'doing',\n",
       " 'a',\n",
       " 'an',\n",
       " 'the',\n",
       " 'and',\n",
       " 'but',\n",
       " 'if',\n",
       " 'or',\n",
       " 'because',\n",
       " 'as',\n",
       " 'until',\n",
       " 'while',\n",
       " 'of',\n",
       " 'at',\n",
       " 'by',\n",
       " 'for',\n",
       " 'with',\n",
       " 'about',\n",
       " 'against',\n",
       " 'between',\n",
       " 'into',\n",
       " 'through',\n",
       " 'during',\n",
       " 'before',\n",
       " 'after',\n",
       " 'above',\n",
       " 'below',\n",
       " 'to',\n",
       " 'from',\n",
       " 'up',\n",
       " 'down',\n",
       " 'in',\n",
       " 'out',\n",
       " 'on',\n",
       " 'off',\n",
       " 'over',\n",
       " 'under',\n",
       " 'again',\n",
       " 'further',\n",
       " 'then',\n",
       " 'once',\n",
       " 'here',\n",
       " 'there',\n",
       " 'when',\n",
       " 'where',\n",
       " 'why',\n",
       " 'how',\n",
       " 'all',\n",
       " 'any',\n",
       " 'both',\n",
       " 'each',\n",
       " 'few',\n",
       " 'more',\n",
       " 'most',\n",
       " 'other',\n",
       " 'some',\n",
       " 'such',\n",
       " 'no',\n",
       " 'nor',\n",
       " 'not',\n",
       " 'only',\n",
       " 'own',\n",
       " 'same',\n",
       " 'so',\n",
       " 'than',\n",
       " 'too',\n",
       " 'very',\n",
       " 's',\n",
       " 't',\n",
       " 'can',\n",
       " 'will',\n",
       " 'just',\n",
       " 'don',\n",
       " \"don't\",\n",
       " 'should',\n",
       " \"should've\",\n",
       " 'now',\n",
       " 'd',\n",
       " 'll',\n",
       " 'm',\n",
       " 'o',\n",
       " 're',\n",
       " 've',\n",
       " 'y',\n",
       " 'ain',\n",
       " 'aren',\n",
       " \"aren't\",\n",
       " 'couldn',\n",
       " \"couldn't\",\n",
       " 'didn',\n",
       " \"didn't\",\n",
       " 'doesn',\n",
       " \"doesn't\",\n",
       " 'hadn',\n",
       " \"hadn't\",\n",
       " 'hasn',\n",
       " \"hasn't\",\n",
       " 'haven',\n",
       " \"haven't\",\n",
       " 'isn',\n",
       " \"isn't\",\n",
       " 'ma',\n",
       " 'mightn',\n",
       " \"mightn't\",\n",
       " 'mustn',\n",
       " \"mustn't\",\n",
       " 'needn',\n",
       " \"needn't\",\n",
       " 'shan',\n",
       " \"shan't\",\n",
       " 'shouldn',\n",
       " \"shouldn't\",\n",
       " 'wasn',\n",
       " \"wasn't\",\n",
       " 'weren',\n",
       " \"weren't\",\n",
       " 'won',\n",
       " \"won't\",\n",
       " 'wouldn',\n",
       " \"wouldn't\",\n",
       " 'FIJI',\n",
       " 'FOOTBALL',\n",
       " 'ASSOCIATION',\n",
       " 'PLAYER',\n",
       " 'REGISTRATION',\n",
       " 'LICENSING',\n",
       " 'SURNAME',\n",
       " 'NAME',\n",
       " 'DATE',\n",
       " 'OF',\n",
       " 'BIRTH',\n",
       " 'АТТАН',\n",
       " 'Пото',\n",
       " 'HERE',\n",
       " 'TO',\n",
       " 'BE',\n",
       " 'CERTIFIED',\n",
       " 'BY',\n",
       " 'BARRISTER',\n",
       " '&',\n",
       " 'SOLICITOR',\n",
       " 'COMMISSIONER',\n",
       " 'OF',\n",
       " 'OATH',\n",
       " 'OR',\n",
       " 'JP',\n",
       " 'ADDRESS',\n",
       " 'TINE',\n",
       " 'PHONE',\n",
       " 'CONTACT',\n",
       " 'EMAIL',\n",
       " 'ADDRESS',\n",
       " 'PRIOR',\n",
       " 'REGISTRATION',\n",
       " 'Y',\n",
       " 'ESNO',\n",
       " 'If',\n",
       " 'Yes',\n",
       " ',',\n",
       " 'Please',\n",
       " 'fill',\n",
       " 'in',\n",
       " 'the',\n",
       " 'details',\n",
       " 'below',\n",
       " ':',\n",
       " 'DISTRICT',\n",
       " 'REGISTERED',\n",
       " 'NEW',\n",
       " 'DISTRICT',\n",
       " 'CLUB/SCHOOL',\n",
       " 'REGISTERED',\n",
       " 'NEW',\n",
       " 'CLUB/SCHOOL',\n",
       " 'LICENSE',\n",
       " 'NO',\n",
       " 'PLAYING',\n",
       " 'POSITION',\n",
       " 'solemnly',\n",
       " 'and',\n",
       " 'sincerely',\n",
       " 'declare',\n",
       " 'that',\n",
       " 'above',\n",
       " 'information',\n",
       " 'provided',\n",
       " 'is',\n",
       " 'correct',\n",
       " '.',\n",
       " '(',\n",
       " 'Signature',\n",
       " 'of',\n",
       " 'Player',\n",
       " ')',\n",
       " 'Witness',\n",
       " 'By',\n",
       " ':',\n",
       " 'Date',\n",
       " ':',\n",
       " '(',\n",
       " 'FORM',\n",
       " 'SHOULD',\n",
       " 'BE',\n",
       " 'WITNESSED',\n",
       " 'BY',\n",
       " 'BARRISTER',\n",
       " '&',\n",
       " 'SOLICITOR',\n",
       " ',',\n",
       " 'COMMISSIONER',\n",
       " 'OF',\n",
       " 'OATH',\n",
       " 'OR',\n",
       " 'JP',\n",
       " ')',\n",
       " '.',\n",
       " 'CHECKLIST',\n",
       " 'Player',\n",
       " 'Registration',\n",
       " 'Form',\n",
       " 'Original',\n",
       " 'Birth',\n",
       " 'Certificate',\n",
       " 'Transfer',\n",
       " 'Form',\n",
       " '(',\n",
       " 'If',\n",
       " 'Applying',\n",
       " 'for',\n",
       " 'Transfer',\n",
       " ')',\n",
       " 'Certified',\n",
       " 'Copy',\n",
       " 'of',\n",
       " 'TIN',\n",
       " 'Card/',\n",
       " 'Voter',\n",
       " 'Card/Passport',\n",
       " 'Passport',\n",
       " 'Size',\n",
       " 'Photo',\n",
       " '(',\n",
       " 'Certified',\n",
       " ')',\n",
       " 'Certified',\n",
       " 'Copy',\n",
       " 'of',\n",
       " 'Enrollment',\n",
       " 'Form',\n",
       " '(',\n",
       " 'School',\n",
       " 'Registration',\n",
       " 'Club',\n",
       " 'President',\n",
       " 'Secretary',\n",
       " 'Date',\n",
       " 'District',\n",
       " 'President/',\n",
       " 'Secretary/School',\n",
       " 'Date',\n",
       " ':',\n",
       " 'OFFICE',\n",
       " 'USE',\n",
       " 'ONLY',\n",
       " 'Comments',\n",
       " ':',\n",
       " 'Receipt',\n",
       " 'Number',\n",
       " ':',\n",
       " 'Date',\n",
       " ':']"
      ]
     },
     "execution_count": 67,
     "metadata": {},
     "output_type": "execute_result"
    }
   ],
   "source": [
    "stop_words"
   ]
  },
  {
   "cell_type": "code",
   "execution_count": 68,
   "metadata": {},
   "outputs": [],
   "source": [
    "for _ in docText:\n",
    "    if _ in male_name_set:\n",
    "        do \n",
    "        \n",
    "    "
   ]
  },
  {
   "cell_type": "code",
   "execution_count": 69,
   "metadata": {},
   "outputs": [],
   "source": [
    "for _ in docText:\n",
    "    if _ in female_name_set:\n",
    "        do "
   ]
  },
  {
   "cell_type": "code",
   "execution_count": null,
   "metadata": {},
   "outputs": [],
   "source": []
  },
  {
   "cell_type": "code",
   "execution_count": 70,
   "metadata": {},
   "outputs": [
    {
     "ename": "IndentationError",
     "evalue": "unexpected indent (<ipython-input-70-a8b521d708ec>, line 2)",
     "output_type": "error",
     "traceback": [
      "\u001b[1;36m  File \u001b[1;32m\"<ipython-input-70-a8b521d708ec>\"\u001b[1;36m, line \u001b[1;32m2\u001b[0m\n\u001b[1;33m    labeled_names = ([(name, 'male') for name in names.words('male.txt')] +\u001b[0m\n\u001b[1;37m    ^\u001b[0m\n\u001b[1;31mIndentationError\u001b[0m\u001b[1;31m:\u001b[0m unexpected indent\n"
     ]
    }
   ],
   "source": [
    "from nltk.corpus import names\n",
    "    labeled_names = ([(name, 'male') for name in names.words('male.txt')] +\n",
    "     [(name, 'female') for name in names.words('female.txt')])"
   ]
  },
  {
   "cell_type": "code",
   "execution_count": null,
   "metadata": {},
   "outputs": [],
   "source": []
  },
  {
   "cell_type": "code",
   "execution_count": 71,
   "metadata": {},
   "outputs": [
    {
     "name": "stdout",
     "output_type": "stream",
     "text": [
      "[]\n"
     ]
    }
   ],
   "source": [
    "print(re.findall(r'^[aA-zZ\\s]+$', docText))"
   ]
  },
  {
   "cell_type": "code",
   "execution_count": null,
   "metadata": {},
   "outputs": [],
   "source": []
  },
  {
   "cell_type": "code",
   "execution_count": null,
   "metadata": {},
   "outputs": [],
   "source": []
  },
  {
   "cell_type": "code",
   "execution_count": 72,
   "metadata": {},
   "outputs": [
    {
     "ename": "TypeError",
     "evalue": "expected string or bytes-like object",
     "output_type": "error",
     "traceback": [
      "\u001b[1;31m---------------------------------------------------------------------------\u001b[0m",
      "\u001b[1;31mTypeError\u001b[0m                                 Traceback (most recent call last)",
      "\u001b[1;32m<ipython-input-72-e572ad9b238d>\u001b[0m in \u001b[0;36m<module>\u001b[1;34m\u001b[0m\n\u001b[0;32m     26\u001b[0m \u001b[1;33m\u001b[0m\u001b[0m\n\u001b[0;32m     27\u001b[0m \u001b[1;32mif\u001b[0m \u001b[0m__name__\u001b[0m \u001b[1;33m==\u001b[0m \u001b[1;34m'__main__'\u001b[0m\u001b[1;33m:\u001b[0m\u001b[1;33m\u001b[0m\u001b[1;33m\u001b[0m\u001b[0m\n\u001b[1;32m---> 28\u001b[1;33m     \u001b[0mnumbers\u001b[0m \u001b[1;33m=\u001b[0m \u001b[0mextract_phone_numbers\u001b[0m\u001b[1;33m(\u001b[0m\u001b[0mfiltered_sentence\u001b[0m\u001b[1;33m)\u001b[0m\u001b[1;33m\u001b[0m\u001b[1;33m\u001b[0m\u001b[0m\n\u001b[0m\u001b[0;32m     29\u001b[0m     \u001b[0memails\u001b[0m \u001b[1;33m=\u001b[0m \u001b[0mextract_email_addresses\u001b[0m\u001b[1;33m(\u001b[0m\u001b[0mfiltered_sentence\u001b[0m\u001b[1;33m)\u001b[0m\u001b[1;33m\u001b[0m\u001b[1;33m\u001b[0m\u001b[0m\n\u001b[0;32m     30\u001b[0m     \u001b[0mnames\u001b[0m \u001b[1;33m=\u001b[0m \u001b[0mextract_names\u001b[0m\u001b[1;33m(\u001b[0m\u001b[0mfiltered_sentence\u001b[0m\u001b[1;33m)\u001b[0m\u001b[1;33m\u001b[0m\u001b[1;33m\u001b[0m\u001b[0m\n",
      "\u001b[1;32m<ipython-input-72-e572ad9b238d>\u001b[0m in \u001b[0;36mextract_phone_numbers\u001b[1;34m(filtered_sentence)\u001b[0m\n\u001b[0;32m      1\u001b[0m \u001b[1;32mdef\u001b[0m \u001b[0mextract_phone_numbers\u001b[0m\u001b[1;33m(\u001b[0m\u001b[0mfiltered_sentence\u001b[0m\u001b[1;33m)\u001b[0m\u001b[1;33m:\u001b[0m\u001b[1;33m\u001b[0m\u001b[1;33m\u001b[0m\u001b[0m\n\u001b[0;32m      2\u001b[0m     \u001b[0mr\u001b[0m \u001b[1;33m=\u001b[0m \u001b[0mre\u001b[0m\u001b[1;33m.\u001b[0m\u001b[0mcompile\u001b[0m\u001b[1;33m(\u001b[0m\u001b[1;34mr'(\\d{3}[-\\.\\s]??\\d{3}[-\\.\\s]??\\d{4}|\\(\\d{3}\\)\\s*\\d{3}[-\\.\\s]??\\d{4}|\\d{3}[-\\.\\s]??\\d{4})'\u001b[0m\u001b[1;33m)\u001b[0m\u001b[1;33m\u001b[0m\u001b[1;33m\u001b[0m\u001b[0m\n\u001b[1;32m----> 3\u001b[1;33m     \u001b[0mphone_numbers\u001b[0m \u001b[1;33m=\u001b[0m \u001b[0mr\u001b[0m\u001b[1;33m.\u001b[0m\u001b[0mfindall\u001b[0m\u001b[1;33m(\u001b[0m\u001b[0mfiltered_sentence\u001b[0m\u001b[1;33m)\u001b[0m\u001b[1;33m\u001b[0m\u001b[1;33m\u001b[0m\u001b[0m\n\u001b[0m\u001b[0;32m      4\u001b[0m     \u001b[1;32mreturn\u001b[0m \u001b[1;33m[\u001b[0m\u001b[0mre\u001b[0m\u001b[1;33m.\u001b[0m\u001b[0msub\u001b[0m\u001b[1;33m(\u001b[0m\u001b[1;34mr'\\D'\u001b[0m\u001b[1;33m,\u001b[0m \u001b[1;34m''\u001b[0m\u001b[1;33m,\u001b[0m \u001b[0mnumber\u001b[0m\u001b[1;33m)\u001b[0m \u001b[1;32mfor\u001b[0m \u001b[0mnumber\u001b[0m \u001b[1;32min\u001b[0m \u001b[0mphone_numbers\u001b[0m\u001b[1;33m]\u001b[0m\u001b[1;33m\u001b[0m\u001b[1;33m\u001b[0m\u001b[0m\n\u001b[0;32m      5\u001b[0m \u001b[1;33m\u001b[0m\u001b[0m\n",
      "\u001b[1;31mTypeError\u001b[0m: expected string or bytes-like object"
     ]
    }
   ],
   "source": [
    "def extract_phone_numbers(filtered_sentence):\n",
    "    r = re.compile(r'(\\d{3}[-\\.\\s]??\\d{3}[-\\.\\s]??\\d{4}|\\(\\d{3}\\)\\s*\\d{3}[-\\.\\s]??\\d{4}|\\d{3}[-\\.\\s]??\\d{4})')\n",
    "    phone_numbers = r.findall(filtered_sentence)\n",
    "    return [re.sub(r'\\D', '', number) for number in phone_numbers]\n",
    "\n",
    "def extract_email_addresses(filtered_sentence):\n",
    "    r = re.compile(r'[\\w\\.-]+@[\\w\\.-]+')\n",
    "    return r.findall(filtered_sentence)\n",
    "\n",
    "def ie_preprocess(document):\n",
    "    document = ' '.join([i for i in document.split() if i not in stop])\n",
    "    sentences = nltk.sent_tokenize(document)\n",
    "    sentences = [nltk.word_tokenize(sent) for sent in sentences]\n",
    "    sentences = [nltk.pos_tag(sent) for sent in sentences]\n",
    "    return sentences\n",
    "\n",
    "def extract_names(document):\n",
    "    names = []\n",
    "    sentences = ie_preprocess(document)\n",
    "    for tagged_sentence in sentences:\n",
    "        for chunk in nltk.ne_chunk(tagged_sentence):\n",
    "            if type(chunk) == nltk.tree.Tree:\n",
    "                if chunk.label() == 'PERSON':\n",
    "                    names.append(' '.join([c[0] for c in chunk]))\n",
    "    return names\n",
    "\n",
    "if __name__ == '__main__':\n",
    "    numbers = extract_phone_numbers(filtered_sentence)\n",
    "    emails = extract_email_addresses(filtered_sentence)\n",
    "    names = extract_names(filtered_sentence)"
   ]
  },
  {
   "cell_type": "code",
   "execution_count": 73,
   "metadata": {},
   "outputs": [
    {
     "name": "stdout",
     "output_type": "stream",
     "text": [
      "true\n"
     ]
    }
   ],
   "source": [
    "import re\n",
    "\n",
    "if re.findall('[A-Za-z]{2,25}\\s[A-Za-z]{2,25}', docText):\n",
    "    print(\"true\")\n",
    "else:\n",
    "    print(\"false\")   "
   ]
  },
  {
   "cell_type": "code",
   "execution_count": 74,
   "metadata": {},
   "outputs": [
    {
     "data": {
      "text/plain": [
       "[None,\n",
       " <re.Match object; span=(0, 5), match='NAMIE'>,\n",
       " <re.Match object; span=(0, 5), match='ONKAR'>,\n",
       " <re.Match object; span=(0, 7), match='KHEDKAR'>,\n",
       " <re.Match object; span=(0, 5), match='ONKAR'>,\n",
       " None,\n",
       " None,\n",
       " None,\n",
       " <re.Match object; span=(0, 6), match='ATTACH'>,\n",
       " <re.Match object; span=(0, 4), match='PHOT'>,\n",
       " <re.Match object; span=(0, 3), match='SEX'>,\n",
       " <re.Match object; span=(0, 4), match='MALE'>,\n",
       " None,\n",
       " <re.Match object; span=(0, 9), match='SALICITOR'>,\n",
       " None,\n",
       " <re.Match object; span=(0, 6), match='COLONY'>,\n",
       " None,\n",
       " <re.Match object; span=(0, 5), match='CIDCO'>,\n",
       " None,\n",
       " None,\n",
       " <re.Match object; span=(0, 12), match='onkarbhedlar'>,\n",
       " None,\n",
       " None,\n",
       " <re.Match object; span=(0, 3), match='YES'>,\n",
       " <re.Match object; span=(0, 7), match='oorrect'>,\n",
       " <re.Match object; span=(0, 8), match='SOUCITOR'>,\n",
       " <re.Match object; span=(0, 8), match='CHECKUST'>,\n",
       " None,\n",
       " <re.Match object; span=(0, 6), match='CopyoI'>,\n",
       " <re.Match object; span=(0, 4), match='Card'>,\n",
       " None,\n",
       " <re.Match object; span=(0, 3), match='Par'>,\n",
       " <re.Match object; span=(0, 4), match='Sire'>,\n",
       " <re.Match object; span=(0, 2), match='ib'>,\n",
       " <re.Match object; span=(0, 6), match='Strict'>,\n",
       " <re.Match object; span=(0, 8), match='eriments'>,\n",
       " None,\n",
       " <re.Match object; span=(0, 2), match='pt'>]"
      ]
     },
     "execution_count": 74,
     "metadata": {},
     "output_type": "execute_result"
    }
   ],
   "source": [
    "import re\n",
    "[re.fullmatch('[A-Za-z]{2,25}( [A-Za-z]{2,25})?', x) for x in filtered_sentence]"
   ]
  },
  {
   "cell_type": "code",
   "execution_count": null,
   "metadata": {},
   "outputs": [],
   "source": []
  },
  {
   "cell_type": "code",
   "execution_count": 27,
   "metadata": {},
   "outputs": [],
   "source": [
    "grammer=r'Name:{<NN.*><NN.*><NN.*>}'\n",
    "chunkparser=nltk.RegexpParser(grammer)"
   ]
  },
  {
   "cell_type": "code",
   "execution_count": 28,
   "metadata": {},
   "outputs": [
    {
     "name": "stdout",
     "output_type": "stream",
     "text": [
      "chunk.RegexpParser with 1 stages:\n",
      "RegexpChunkParser with 1 rules:\n",
      "       <ChunkRule: '<NN.*><NN.*><NN.*>'>\n"
     ]
    }
   ],
   "source": [
    "print(chunkparser)"
   ]
  },
  {
   "cell_type": "code",
   "execution_count": 83,
   "metadata": {},
   "outputs": [],
   "source": [
    "#import nameparser\n"
   ]
  },
  {
   "cell_type": "code",
   "execution_count": null,
   "metadata": {},
   "outputs": [],
   "source": []
  },
  {
   "cell_type": "code",
   "execution_count": 84,
   "metadata": {},
   "outputs": [],
   "source": [
    "#creating a database"
   ]
  },
  {
   "cell_type": "code",
   "execution_count": null,
   "metadata": {},
   "outputs": [],
   "source": []
  },
  {
   "cell_type": "code",
   "execution_count": 86,
   "metadata": {},
   "outputs": [
    {
     "name": "stdout",
     "output_type": "stream",
     "text": [
      "GAIKWAD\n",
      "\n"
     ]
    }
   ],
   "source": [
    "import os, io\n",
    "from google.cloud import vision\n",
    "from google.cloud.vision import types\n",
    "import pandas as pd\n",
    "\n",
    "os.environ['GOOGLE_APPLICATION_CREDENTIALS'] = r'visionapi-255413-e766c8fcdacb.json'\n",
    "client = vision.ImageAnnotatorClient()\n",
    "\n",
    "FOLDER_PATH = r'C:\\Users\\Devyani Badapurkar'\n",
    "IMAGE_FILE = 'pizzanew3.png'\n",
    "FILE_PATH = os.path.join(FOLDER_PATH, IMAGE_FILE)\n",
    "\n",
    "with io.open(FILE_PATH, 'rb') as image_file:\n",
    "    content = image_file.read()\n",
    "\n",
    "image = vision.types.Image(content=content)\n",
    "response = client.document_text_detection(image=image)\n",
    "\n",
    "docText = response.full_text_annotation.text\n",
    "print(docText)\n",
    "\n",
    "\n"
   ]
  },
  {
   "cell_type": "code",
   "execution_count": 53,
   "metadata": {},
   "outputs": [
    {
     "ename": "ModuleNotFoundError",
     "evalue": "No module named 'spaCy'",
     "output_type": "error",
     "traceback": [
      "\u001b[1;31m---------------------------------------------------------------------------\u001b[0m",
      "\u001b[1;31mModuleNotFoundError\u001b[0m                       Traceback (most recent call last)",
      "\u001b[1;32m<ipython-input-53-30ad0250a5e4>\u001b[0m in \u001b[0;36m<module>\u001b[1;34m\u001b[0m\n\u001b[0;32m      1\u001b[0m \u001b[1;32mimport\u001b[0m \u001b[0mcsv\u001b[0m\u001b[1;33m\u001b[0m\u001b[1;33m\u001b[0m\u001b[0m\n\u001b[0;32m      2\u001b[0m \u001b[1;32mimport\u001b[0m \u001b[0mre\u001b[0m\u001b[1;33m\u001b[0m\u001b[1;33m\u001b[0m\u001b[0m\n\u001b[1;32m----> 3\u001b[1;33m \u001b[1;32mimport\u001b[0m \u001b[0mspaCy\u001b[0m\u001b[1;33m\u001b[0m\u001b[1;33m\u001b[0m\u001b[0m\n\u001b[0m",
      "\u001b[1;31mModuleNotFoundError\u001b[0m: No module named 'spaCy'"
     ]
    }
   ],
   "source": [
    "  \n",
    "import csv\n",
    "import re\n",
    "import spaCy\n"
   ]
  },
  {
   "cell_type": "code",
   "execution_count": 51,
   "metadata": {},
   "outputs": [
    {
     "ename": "NameError",
     "evalue": "name 'unicode' is not defined",
     "output_type": "error",
     "traceback": [
      "\u001b[1;31m---------------------------------------------------------------------------\u001b[0m",
      "\u001b[1;31mNameError\u001b[0m                                 Traceback (most recent call last)",
      "\u001b[1;32m<ipython-input-51-a7ceeef6081d>\u001b[0m in \u001b[0;36m<module>\u001b[1;34m\u001b[0m\n\u001b[0;32m      7\u001b[0m             \u001b[0mprint\u001b[0m\u001b[1;33m(\u001b[0m\u001b[0ment\u001b[0m\u001b[1;33m.\u001b[0m\u001b[0mtext\u001b[0m\u001b[1;33m)\u001b[0m\u001b[1;33m\u001b[0m\u001b[1;33m\u001b[0m\u001b[0m\n\u001b[0;32m      8\u001b[0m             \u001b[1;32mbreak\u001b[0m\u001b[1;33m\u001b[0m\u001b[1;33m\u001b[0m\u001b[0m\n\u001b[1;32m----> 9\u001b[1;33m \u001b[0mextract_name\u001b[0m\u001b[1;33m(\u001b[0m\u001b[0mdocText\u001b[0m\u001b[1;33m)\u001b[0m\u001b[1;33m\u001b[0m\u001b[1;33m\u001b[0m\u001b[0m\n\u001b[0m",
      "\u001b[1;32m<ipython-input-51-a7ceeef6081d>\u001b[0m in \u001b[0;36mextract_name\u001b[1;34m(string)\u001b[0m\n\u001b[0;32m      1\u001b[0m \u001b[1;32mdef\u001b[0m \u001b[0mextract_name\u001b[0m\u001b[1;33m(\u001b[0m\u001b[0mstring\u001b[0m\u001b[1;33m)\u001b[0m\u001b[1;33m:\u001b[0m\u001b[1;33m\u001b[0m\u001b[1;33m\u001b[0m\u001b[0m\n\u001b[1;32m----> 2\u001b[1;33m     \u001b[0mr1\u001b[0m \u001b[1;33m=\u001b[0m \u001b[0municode\u001b[0m\u001b[1;33m(\u001b[0m\u001b[0mstring\u001b[0m\u001b[1;33m)\u001b[0m\u001b[1;33m\u001b[0m\u001b[1;33m\u001b[0m\u001b[0m\n\u001b[0m\u001b[0;32m      3\u001b[0m     \u001b[0mnlp\u001b[0m \u001b[1;33m=\u001b[0m \u001b[0mspacy\u001b[0m\u001b[1;33m.\u001b[0m\u001b[0mload\u001b[0m\u001b[1;33m(\u001b[0m\u001b[1;34m'xx'\u001b[0m\u001b[1;33m)\u001b[0m\u001b[1;33m\u001b[0m\u001b[1;33m\u001b[0m\u001b[0m\n\u001b[0;32m      4\u001b[0m     \u001b[0mdoc\u001b[0m \u001b[1;33m=\u001b[0m \u001b[0mnlp\u001b[0m\u001b[1;33m(\u001b[0m\u001b[0mr1\u001b[0m\u001b[1;33m)\u001b[0m\u001b[1;33m\u001b[0m\u001b[1;33m\u001b[0m\u001b[0m\n\u001b[0;32m      5\u001b[0m     \u001b[1;32mfor\u001b[0m \u001b[0ment\u001b[0m \u001b[1;32min\u001b[0m \u001b[0mdoc\u001b[0m\u001b[1;33m.\u001b[0m\u001b[0ments\u001b[0m\u001b[1;33m:\u001b[0m\u001b[1;33m\u001b[0m\u001b[1;33m\u001b[0m\u001b[0m\n",
      "\u001b[1;31mNameError\u001b[0m: name 'unicode' is not defined"
     ]
    }
   ],
   "source": [
    "def extract_name(string):\n",
    "    r1 = unicode(string)\n",
    "    nlp = spacy.load('xx')\n",
    "    doc = nlp(r1)\n",
    "    for ent in doc.ents:\n",
    "        if(ent.label_ == 'PER'):\n",
    "            print(ent.text)\n",
    "            break\n",
    "extract_name(docText)"
   ]
  },
  {
   "cell_type": "code",
   "execution_count": null,
   "metadata": {},
   "outputs": [],
   "source": []
  },
  {
   "cell_type": "code",
   "execution_count": null,
   "metadata": {},
   "outputs": [],
   "source": [
    "#database creation"
   ]
  },
  {
   "cell_type": "code",
   "execution_count": 93,
   "metadata": {},
   "outputs": [],
   "source": [
    "import sqlite3\n"
   ]
  },
  {
   "cell_type": "code",
   "execution_count": 94,
   "metadata": {},
   "outputs": [],
   "source": [
    "conn = sqlite3.connect('form.db')\n",
    "c = conn.cursor()"
   ]
  },
  {
   "cell_type": "code",
   "execution_count": null,
   "metadata": {},
   "outputs": [],
   "source": [
    "def create_table():\n",
    "    c.execute(\"CREATE TABLE IF NOT EXISTS stuffToPlot(unix REAL, datestamp TEXT, keyword TEXT, value REAL)\")"
   ]
  },
  {
   "cell_type": "code",
   "execution_count": 99,
   "metadata": {},
   "outputs": [
    {
     "name": "stdout",
     "output_type": "stream",
     "text": [
      "[(1452549219.0, '2016-01-11 13:53:39', 'Python', 6.0)]\n",
      "(1452549219.0, '2016-01-11 13:53:39', 'Python', 6.0)\n"
     ]
    }
   ],
   "source": [
    "import sqlite3\n",
    "\n",
    "conn = sqlite3.connect('tutorial.db')\n",
    "c = conn.cursor()\n",
    "\n",
    "def create_table():\n",
    "    c.execute(\"CREATE TABLE IF NOT EXISTS emp(unix REAL, datestamp TEXT, keyword TEXT, value REAL)\")\n",
    "\n",
    "     \n",
    "\n",
    "def data_entry():\n",
    "    c.execute(\"INSERT INTO emp VALUES(1452549219,'2016-01-11 13:53:39','Python',6)\")\n",
    "    \n",
    "def read_from_db():\n",
    "    c.execute('SELECT * FROM emp')\n",
    "    data = c.fetchall()\n",
    "    print(data)\n",
    "    for row in data:\n",
    "        print(row)\n",
    "    conn.commit()\n",
    "    c.close()\n",
    "    conn.close()\n",
    "read_from_db()\n",
    "\n"
   ]
  },
  {
   "cell_type": "code",
   "execution_count": 92,
   "metadata": {},
   "outputs": [
    {
     "ename": "ProgrammingError",
     "evalue": "Cannot operate on a closed cursor.",
     "output_type": "error",
     "traceback": [
      "\u001b[1;31m---------------------------------------------------------------------------\u001b[0m",
      "\u001b[1;31mProgrammingError\u001b[0m                          Traceback (most recent call last)",
      "\u001b[1;32m<ipython-input-92-533df840a793>\u001b[0m in \u001b[0;36m<module>\u001b[1;34m\u001b[0m\n\u001b[1;32m----> 1\u001b[1;33m \u001b[0mc\u001b[0m\u001b[1;33m.\u001b[0m\u001b[0mexecute\u001b[0m\u001b[1;33m(\u001b[0m\u001b[1;34m'SELECT * FROM emp'\u001b[0m\u001b[1;33m)\u001b[0m\u001b[1;33m\u001b[0m\u001b[1;33m\u001b[0m\u001b[0m\n\u001b[0m",
      "\u001b[1;31mProgrammingError\u001b[0m: Cannot operate on a closed cursor."
     ]
    }
   ],
   "source": [
    " from tabulate import tabulate\n",
    "from operator import itemgetter\n",
    "#import random\n",
    "# Create table sorted by number of references\n",
    "table   = sorted(list(refstats(random.sample(kddcorpus.fileids(),15),section='body')))\n",
    "# Print the table with headers\n",
    "headers = ('File', 'Characters', 'References', 'Words per Reference')\n",
    "print(tabulate(table, headers=headers))\n",
    "\n"
   ]
  },
  {
   "cell_type": "code",
   "execution_count": null,
   "metadata": {},
   "outputs": [],
   "source": []
  },
  {
   "cell_type": "code",
   "execution_count": null,
   "metadata": {},
   "outputs": [],
   "source": []
  },
  {
   "cell_type": "code",
   "execution_count": null,
   "metadata": {},
   "outputs": [],
   "source": []
  },
  {
   "cell_type": "code",
   "execution_count": null,
   "metadata": {},
   "outputs": [],
   "source": []
  },
  {
   "cell_type": "code",
   "execution_count": null,
   "metadata": {},
   "outputs": [],
   "source": []
  },
  {
   "cell_type": "code",
   "execution_count": null,
   "metadata": {},
   "outputs": [],
   "source": []
  },
  {
   "cell_type": "code",
   "execution_count": null,
   "metadata": {},
   "outputs": [],
   "source": []
  },
  {
   "cell_type": "code",
   "execution_count": null,
   "metadata": {},
   "outputs": [],
   "source": []
  },
  {
   "cell_type": "code",
   "execution_count": null,
   "metadata": {},
   "outputs": [],
   "source": []
  },
  {
   "cell_type": "code",
   "execution_count": null,
   "metadata": {},
   "outputs": [],
   "source": []
  },
  {
   "cell_type": "code",
   "execution_count": null,
   "metadata": {},
   "outputs": [],
   "source": []
  },
  {
   "cell_type": "code",
   "execution_count": null,
   "metadata": {},
   "outputs": [],
   "source": []
  },
  {
   "cell_type": "code",
   "execution_count": null,
   "metadata": {},
   "outputs": [],
   "source": []
  },
  {
   "cell_type": "code",
   "execution_count": null,
   "metadata": {},
   "outputs": [],
   "source": []
  },
  {
   "cell_type": "code",
   "execution_count": 46,
   "metadata": {},
   "outputs": [],
   "source": [
    "def getName(self, inputString, infoDict, debug=False):\n",
    "    indianNames = open(\"allNames.txt\", \"r\").read().lower()\n",
    "        # Lookup in a set is much faster\n",
    "    indianNames = set(indianNames.split())\n",
    "        \n",
    "\n",
    "    otherNameHits = []\n",
    "    nameHits = []\n",
    "    name = None\n",
    "\n",
    "    try:\n",
    "            # tokens, lines, sentences = self.preprocess(inputString)\n",
    "        tokens, lines, sentences = self.tokens, self.lines, self.sentences\n",
    "            # Try a regex chunk parser\n",
    "            # grammar = r'NAME: {<NN.*><NN.*>|<NN.*><NN.*><NN.*>}'\n",
    "        grammar = r'NAME: {<NN.*><NN.*><NN.*>*}'\n",
    "            # Noun phrase chunk is made out of two or three tags of type NN. (ie NN, NNP etc.) - typical of a name. {2,3} won't work, hence the syntax\n",
    "            # Note the correction to the rule. Change has been made later.\n",
    "        chunkParser = nltk.RegexpParser(grammar)\n",
    "        all_chunked_tokens = []\n",
    "        for tagged_tokens in lines:\n",
    "                # Creates a parse tree\n",
    "            if len(tagged_tokens) == 0: continue # Prevent it from printing warnings\n",
    "            chunked_tokens = chunkParser.parse(tagged_tokens)\n",
    "            all_chunked_tokens.append(chunked_tokens)\n",
    "            for subtree in chunked_tokens.subtrees():\n",
    "                    #  or subtree.label() == 'S' include in if condition if required\n",
    "                if subtree.label() == 'NAME':\n",
    "                    for ind, leaf in enumerate(subtree.leaves()):\n",
    "                        if leaf[0].lower() in indianNames and 'NN' in leaf[1]:\n",
    "                                # Case insensitive matching, as indianNames have names in lowercase\n",
    "                                # Take only noun-tagged tokens\n",
    "                                # Surname is not in the name list, hence if match is achieved add all noun-type tokens\n",
    "                                # Pick upto 3 noun entities\n",
    "                            hit = \" \".join([el[0] for el in subtree.leaves()[ind:ind+3]])\n",
    "                                # Check for the presence of commas, colons, digits - usually markers of non-named entities \n",
    "                            if re.compile(r'[\\d,:]').search(hit): continue\n",
    "                            nameHits.append(hit)\n",
    "                                # Need to iterate through rest of the leaves because of possible mis-matches\n",
    "            # Going for the first name hit\n",
    "            if len(nameHits) > 0:\n",
    "                nameHits = [re.sub(r'[^a-zA-Z \\-]', '', el).strip() for el in nameHits] \n",
    "                name = \" \".join([el[0].upper()+el[1:].lower() for el in nameHits[0].split() if len(el)>0])\n",
    "                otherNameHits = nameHits[1:]\n",
    "\n",
    "    except Exception as e:\n",
    "        print (traceback.format_exc())\n",
    "        print (e)         \n",
    "\n",
    "    infoDict['name'] = name\n",
    "    infoDict['otherNameHits'] = otherNameHits\n",
    "\n",
    "    if debug:\n",
    "        print (\"\\n\", print(infoDict), \"\\n\")\n",
    "        code.interact(local=locals())\n",
    "    return name, otherNameHits  \n",
    "getName()"
   ]
  },
  {
   "cell_type": "code",
   "execution_count": null,
   "metadata": {},
   "outputs": [],
   "source": []
  },
  {
   "cell_type": "code",
   "execution_count": 78,
   "metadata": {},
   "outputs": [],
   "source": [
    "\n",
    "new_words=['FIJI', 'FOOTBALL', 'ASSOCIATION\\nPLAYER', 'REGISTRATION', 'LICENSING\\nSURNAME\\nNAME\\nDATE', 'OF', 'BIRTH\\nАТТАН', 'Пото\\nHERE\\nTO', 'BE\\nCERTIFIED', 'BY\\nBARRISTER', '&\\nSOLICITOR\\nCOMMISSIONER\\nOF', 'OATH', 'OR', 'JP\\nADDRESS\\nTINE\\nPHONE', 'CONTACT\\nEMAIL', 'ADDRESS\\nPRIOR', 'REGISTRATION\\nY', 'ESNO\\nIf', 'Yes,', 'Please', 'fill', 'in', 'the', 'details', 'below:\\nDISTRICT', 'REGISTERED\\nNEW', 'DISTRICT\\nCLUB/SCHOOL', 'REGISTERED\\nNEW', 'CLUB/SCHOOL\\nLICENSE', 'NO\\nPLAYING', 'POSITION\\nsolemnly', 'and\\nsincerely', 'declare', 'that', 'above', 'information', 'provided', 'is', 'correct.\\n(Signature', 'of', 'Player)\\nWitness', 'By:\\nDate:\\n(FORM', 'SHOULD', 'BE', 'WITNESSED', 'BY', 'BARRISTER', '&', 'SOLICITOR,', 'COMMISSIONER', 'OF', 'OATH', 'OR', 'JP).\\nCHECKLIST\\nPlayer', 'Registration', 'Form\\nOriginal', 'Birth', 'Certificate\\nTransfer', 'Form', '(If', 'Applying', 'for', 'Transfer)', 'Certified', 'Copy', 'of', 'TIN', 'Card/', 'Voter', 'Card/Passport\\nPassport', 'Size', 'Photo', '(Certified)\\nCertified', 'Copy', 'of', 'Enrollment', 'Form(School\\nRegistration\\nClub', 'President', 'Secretary\\nDate\\nDistrict', 'President/', 'Secretary/School\\nDate:\\nOFFICE', 'USE', 'ONLY\\nComments:\\nReceipt', 'Number:\\nDate:\\n']\n"
   ]
  },
  {
   "cell_type": "code",
   "execution_count": 79,
   "metadata": {},
   "outputs": [
    {
     "name": "stdout",
     "output_type": "stream",
     "text": [
      "['REGISTRATION/LICENSING', 'NASIE', 'KHEDKAR', 'ONKAR', '24/09/1999', 'MALE', 'SEX', 'ATTACIE', 'PHOTO', 'CONNUISSIONER', 'JI*', '999', '9922334', 'Onkar', '@', 'gmail.com', 'REGISTAATION', 'Plessa', 'fall', 'DISTRUCT', 'FLAMING', \"''\", 'Sincerely', 'watation', 'ORJP', 'ONECKLIST', 'Certled', 'Orional', 'Card', '/', 'copy', 'FormiSchool', 'Elub', 'Hlytelet', 'President/Secretary', 'Somment-', 'ceipt', 'No']\n"
     ]
    }
   ],
   "source": [
    "word_tokens = word_tokenize(docText) \n",
    "  \n",
    "filtered_sentence = [w for w in word_tokens if not w in stop_words] \n",
    "  \n",
    "filtered_sentence = [] \n",
    "  \n",
    "for w in word_tokens: \n",
    "    if w not in stop_words: \n",
    "        filtered_sentence.append(w) \n",
    "  \n",
    "print(filtered_sentence) "
   ]
  },
  {
   "cell_type": "code",
   "execution_count": null,
   "metadata": {},
   "outputs": [],
   "source": []
  },
  {
   "cell_type": "code",
   "execution_count": null,
   "metadata": {},
   "outputs": [],
   "source": []
  },
  {
   "cell_type": "code",
   "execution_count": null,
   "metadata": {},
   "outputs": [],
   "source": []
  },
  {
   "cell_type": "code",
   "execution_count": null,
   "metadata": {},
   "outputs": [],
   "source": []
  },
  {
   "cell_type": "code",
   "execution_count": null,
   "metadata": {},
   "outputs": [],
   "source": []
  },
  {
   "cell_type": "code",
   "execution_count": null,
   "metadata": {},
   "outputs": [],
   "source": []
  },
  {
   "cell_type": "code",
   "execution_count": null,
   "metadata": {},
   "outputs": [],
   "source": []
  },
  {
   "cell_type": "code",
   "execution_count": null,
   "metadata": {},
   "outputs": [],
   "source": []
  },
  {
   "cell_type": "code",
   "execution_count": null,
   "metadata": {},
   "outputs": [],
   "source": []
  },
  {
   "cell_type": "code",
   "execution_count": null,
   "metadata": {},
   "outputs": [],
   "source": []
  },
  {
   "cell_type": "code",
   "execution_count": null,
   "metadata": {},
   "outputs": [],
   "source": []
  },
  {
   "cell_type": "code",
   "execution_count": 89,
   "metadata": {},
   "outputs": [
    {
     "ename": "FileNotFoundError",
     "evalue": "[Errno 2] No such file or directory: 'J:/chatdata/reddit_data/2015/RC_2015-05'",
     "output_type": "error",
     "traceback": [
      "\u001b[1;31m---------------------------------------------------------------------------\u001b[0m",
      "\u001b[1;31mFileNotFoundError\u001b[0m                         Traceback (most recent call last)",
      "\u001b[1;32m<ipython-input-89-e79825d5d904>\u001b[0m in \u001b[0;36m<module>\u001b[1;34m\u001b[0m\n\u001b[0;32m     57\u001b[0m     \u001b[0mpaired_rows\u001b[0m \u001b[1;33m=\u001b[0m \u001b[1;36m0\u001b[0m\u001b[1;33m\u001b[0m\u001b[1;33m\u001b[0m\u001b[0m\n\u001b[0;32m     58\u001b[0m \u001b[1;33m\u001b[0m\u001b[0m\n\u001b[1;32m---> 59\u001b[1;33m     \u001b[1;32mwith\u001b[0m \u001b[0mopen\u001b[0m\u001b[1;33m(\u001b[0m\u001b[1;34m'J:/chatdata/reddit_data/{}/RC_{}'\u001b[0m\u001b[1;33m.\u001b[0m\u001b[0mformat\u001b[0m\u001b[1;33m(\u001b[0m\u001b[0mtimeframe\u001b[0m\u001b[1;33m.\u001b[0m\u001b[0msplit\u001b[0m\u001b[1;33m(\u001b[0m\u001b[1;34m'-'\u001b[0m\u001b[1;33m)\u001b[0m\u001b[1;33m[\u001b[0m\u001b[1;36m0\u001b[0m\u001b[1;33m]\u001b[0m\u001b[1;33m,\u001b[0m\u001b[0mtimeframe\u001b[0m\u001b[1;33m)\u001b[0m\u001b[1;33m,\u001b[0m \u001b[0mbuffering\u001b[0m\u001b[1;33m=\u001b[0m\u001b[1;36m1000\u001b[0m\u001b[1;33m)\u001b[0m \u001b[1;32mas\u001b[0m \u001b[0mf\u001b[0m\u001b[1;33m:\u001b[0m\u001b[1;33m\u001b[0m\u001b[1;33m\u001b[0m\u001b[0m\n\u001b[0m\u001b[0;32m     60\u001b[0m         \u001b[1;32mfor\u001b[0m \u001b[0mrow\u001b[0m \u001b[1;32min\u001b[0m \u001b[0mf\u001b[0m\u001b[1;33m:\u001b[0m\u001b[1;33m\u001b[0m\u001b[1;33m\u001b[0m\u001b[0m\n\u001b[0;32m     61\u001b[0m             \u001b[0mrow_counter\u001b[0m \u001b[1;33m+=\u001b[0m \u001b[1;36m1\u001b[0m\u001b[1;33m\u001b[0m\u001b[1;33m\u001b[0m\u001b[0m\n",
      "\u001b[1;31mFileNotFoundError\u001b[0m: [Errno 2] No such file or directory: 'J:/chatdata/reddit_data/2015/RC_2015-05'"
     ]
    }
   ],
   "source": [
    "import sqlite3\n",
    "import time\n",
    "import datetime\n",
    "import random\n",
    "\n",
    "conn = sqlite3.connect('tutorial.db')\n",
    "c = conn.cursor()\n",
    "\n",
    "def create_table():\n",
    "    c.execute(\"CREATE TABLE IF NOT EXISTS info(unix REAL, datestamp TEXT, keyword TEXT, value REAL)\")\n",
    "\n",
    "\n",
    "#def data_entry():\n",
    " #   c.execute(\"INSERT INTO info VALUES(1452549219,'2016-01-11 13:53:39','Python',6)\")\n",
    "  #  \n",
    "   # conn.commit()\n",
    "    #c.close()\n",
    "    #conn.close()\n",
    "\n",
    "def dynamic_data_entry():\n",
    "\n",
    "    unix = int(time.time())\n",
    "    date = str(datetime.datetime.fromtimestamp(unix).strftime('%Y-%m-%d %H:%M:%S'))\n",
    "    keyword = 'Python'\n",
    "    value = random.randrange(0,10)\n",
    "\n",
    "    c.execute(\"INSERT INTO info (unix, datestamp, keyword, value) VALUES (?, ?, ?, ?)\",\n",
    "          (unix, date, keyword, value))\n",
    "\n",
    "    conn.commit()\n",
    "\n",
    "    \n",
    "for i in range(10):\n",
    "    dynamic_data_entry()\n",
    "    time.sleep(1)\n",
    "\n",
    "c.close\n",
    "conn.close()"
   ]
  },
  {
   "cell_type": "code",
   "execution_count": null,
   "metadata": {},
   "outputs": [],
   "source": []
  },
  {
   "cell_type": "code",
   "execution_count": null,
   "metadata": {},
   "outputs": [],
   "source": []
  },
  {
   "cell_type": "code",
   "execution_count": null,
   "metadata": {},
   "outputs": [],
   "source": []
  },
  {
   "cell_type": "code",
   "execution_count": 17,
   "metadata": {},
   "outputs": [
    {
     "ename": "SyntaxError",
     "evalue": "invalid syntax (<ipython-input-17-94f8befae2f9>, line 5)",
     "output_type": "error",
     "traceback": [
      "\u001b[1;36m  File \u001b[1;32m\"<ipython-input-17-94f8befae2f9>\"\u001b[1;36m, line \u001b[1;32m5\u001b[0m\n\u001b[1;33m    pat = ur\"(\\w|’\\w|\\'\\w|[{}]|{})+\".format(combining_marks_bmp, combining_marks_astral)\u001b[0m\n\u001b[1;37m                                   ^\u001b[0m\n\u001b[1;31mSyntaxError\u001b[0m\u001b[1;31m:\u001b[0m invalid syntax\n"
     ]
    }
   ],
   "source": [
    "#regex for telugu\n",
    "import re \n",
    "combining_marks_bmp = u'\\u0300-\\u036F\\u0483-\\u0489\\u0591-\\u05BD\\u05BF\\u05C1\\u05C2\\u05C4\\u05C5\\u05C7\\u0610-\\u061A\\u064B-\\u065F\\u0670\\u06D6-\\u06DC\\u06DF-\\u06E4\\u06E7\\u06E8\\u06EA-\\u06ED\\u0711\\u0730-\\u074A\\u07A6-\\u07B0\\u07EB-\\u07F3\\u0816-\\u0819\\u081B-\\u0823\\u0825-\\u0827\\u0829-\\u082D\\u0859-\\u085B\\u08E3-\\u0903\\u093A-\\u093C\\u093E-\\u094F\\u0951-\\u0957\\u0962\\u0963\\u0981-\\u0983\\u09BC\\u09BE-\\u09C4\\u09C7\\u09C8\\u09CB-\\u09CD\\u09D7\\u09E2\\u09E3\\u0A01-\\u0A03\\u0A3C\\u0A3E-\\u0A42\\u0A47\\u0A48\\u0A4B-\\u0A4D\\u0A51\\u0A70\\u0A71\\u0A75\\u0A81-\\u0A83\\u0ABC\\u0ABE-\\u0AC5\\u0AC7-\\u0AC9\\u0ACB-\\u0ACD\\u0AE2\\u0AE3\\u0B01-\\u0B03\\u0B3C\\u0B3E-\\u0B44\\u0B47\\u0B48\\u0B4B-\\u0B4D\\u0B56\\u0B57\\u0B62\\u0B63\\u0B82\\u0BBE-\\u0BC2\\u0BC6-\\u0BC8\\u0BCA-\\u0BCD\\u0BD7\\u0C00-\\u0C03\\u0C3E-\\u0C44\\u0C46-\\u0C48\\u0C4A-\\u0C4D\\u0C55\\u0C56\\u0C62\\u0C63\\u0C81-\\u0C83\\u0CBC\\u0CBE-\\u0CC4\\u0CC6-\\u0CC8\\u0CCA-\\u0CCD\\u0CD5\\u0CD6\\u0CE2\\u0CE3\\u0D01-\\u0D03\\u0D3E-\\u0D44\\u0D46-\\u0D48\\u0D4A-\\u0D4D\\u0D57\\u0D62\\u0D63\\u0D82\\u0D83\\u0DCA\\u0DCF-\\u0DD4\\u0DD6\\u0DD8-\\u0DDF\\u0DF2\\u0DF3\\u0E31\\u0E34-\\u0E3A\\u0E47-\\u0E4E\\u0EB1\\u0EB4-\\u0EB9\\u0EBB\\u0EBC\\u0EC8-\\u0ECD\\u0F18\\u0F19\\u0F35\\u0F37\\u0F39\\u0F3E\\u0F3F\\u0F71-\\u0F84\\u0F86\\u0F87\\u0F8D-\\u0F97\\u0F99-\\u0FBC\\u0FC6\\u102B-\\u103E\\u1056-\\u1059\\u105E-\\u1060\\u1062-\\u1064\\u1067-\\u106D\\u1071-\\u1074\\u1082-\\u108D\\u108F\\u109A-\\u109D\\u135D-\\u135F\\u1712-\\u1714\\u1732-\\u1734\\u1752\\u1753\\u1772\\u1773\\u17B4-\\u17D3\\u17DD\\u180B-\\u180D\\u18A9\\u1920-\\u192B\\u1930-\\u193B\\u1A17-\\u1A1B\\u1A55-\\u1A5E\\u1A60-\\u1A7C\\u1A7F\\u1AB0-\\u1ABE\\u1B00-\\u1B04\\u1B34-\\u1B44\\u1B6B-\\u1B73\\u1B80-\\u1B82\\u1BA1-\\u1BAD\\u1BE6-\\u1BF3\\u1C24-\\u1C37\\u1CD0-\\u1CD2\\u1CD4-\\u1CE8\\u1CED\\u1CF2-\\u1CF4\\u1CF8\\u1CF9\\u1DC0-\\u1DF5\\u1DFC-\\u1DFF\\u20D0-\\u20F0\\u2CEF-\\u2CF1\\u2D7F\\u2DE0-\\u2DFF\\u302A-\\u302F\\u3099\\u309A\\uA66F-\\uA672\\uA674-\\uA67D\\uA69E\\uA69F\\uA6F0\\uA6F1\\uA802\\uA806\\uA80B\\uA823-\\uA827\\uA880\\uA881\\uA8B4-\\uA8C4\\uA8E0-\\uA8F1\\uA926-\\uA92D\\uA947-\\uA953\\uA980-\\uA983\\uA9B3-\\uA9C0\\uA9E5\\uAA29-\\uAA36\\uAA43\\uAA4C\\uAA4D\\uAA7B-\\uAA7D\\uAAB0\\uAAB2-\\uAAB4\\uAAB7\\uAAB8\\uAABE\\uAABF\\uAAC1\\uAAEB-\\uAAEF\\uAAF5\\uAAF6\\uABE3-\\uABEA\\uABEC\\uABED\\uFB1E\\uFE00-\\uFE0F\\uFE20-\\uFE2F'\n",
    "combining_marks_astral = u'\\uD805[\\uDCB0-\\uDCC3\\uDDAF-\\uDDB5\\uDDB8-\\uDDC0\\uDDDC\\uDDDD\\uDE30-\\uDE40\\uDEAB-\\uDEB7\\uDF1D-\\uDF2B]|\\uD834[\\uDD65-\\uDD69\\uDD6D-\\uDD72\\uDD7B-\\uDD82\\uDD85-\\uDD8B\\uDDAA-\\uDDAD\\uDE42-\\uDE44]|\\uD804[\\uDC00-\\uDC02\\uDC38-\\uDC46\\uDC7F-\\uDC82\\uDCB0-\\uDCBA\\uDD00-\\uDD02\\uDD27-\\uDD34\\uDD73\\uDD80-\\uDD82\\uDDB3-\\uDDC0\\uDDCA-\\uDDCC\\uDE2C-\\uDE37\\uDEDF-\\uDEEA\\uDF00-\\uDF03\\uDF3C\\uDF3E-\\uDF44\\uDF47\\uDF48\\uDF4B-\\uDF4D\\uDF57\\uDF62\\uDF63\\uDF66-\\uDF6C\\uDF70-\\uDF74]|\\uD81B[\\uDF51-\\uDF7E\\uDF8F-\\uDF92]|\\uD81A[\\uDEF0-\\uDEF4\\uDF30-\\uDF36]|\\uD82F[\\uDC9D\\uDC9E]|\\uD800[\\uDDFD\\uDEE0\\uDF76-\\uDF7A]|\\uD836[\\uDE00-\\uDE36\\uDE3B-\\uDE6C\\uDE75\\uDE84\\uDE9B-\\uDE9F\\uDEA1-\\uDEAF]|\\uD802[\\uDE01-\\uDE03\\uDE05\\uDE06\\uDE0C-\\uDE0F\\uDE38-\\uDE3A\\uDE3F\\uDEE5\\uDEE6]|\\uD83A[\\uDCD0-\\uDCD6]|\\uDB40[\\uDD00-\\uDDEF]'\n",
    "pat = ur\"(\\w|’\\w|\\'\\w|[{}]|{})+\".format(combining_marks_bmp, combining_marks_astral)\n",
    "sentence=\"hello world యూనియన్ యూనియన్\" \n",
    "sentence=sentence.decode('utf-8') \n",
    "for m in re.finditer(pat, sentence, re.UNICODE): \n",
    "    start, end = m.span() \n",
    "    word = m.group().encode('utf-8') \n",
    "    print start, end, word "
   ]
  },
  {
   "cell_type": "code",
   "execution_count": 20,
   "metadata": {},
   "outputs": [
    {
     "ename": "SyntaxError",
     "evalue": "invalid syntax (<ipython-input-20-dd6cb46e7436>, line 7)",
     "output_type": "error",
     "traceback": [
      "\u001b[1;36m  File \u001b[1;32m\"<ipython-input-20-dd6cb46e7436>\"\u001b[1;36m, line \u001b[1;32m7\u001b[0m\n\u001b[1;33m    for m in re.finditer(ur'(\\w|\\’\\w|\\'\\w)'+, sentence, re.UNICODE):\u001b[0m\n\u001b[1;37m                                          ^\u001b[0m\n\u001b[1;31mSyntaxError\u001b[0m\u001b[1;31m:\u001b[0m invalid syntax\n"
     ]
    }
   ],
   "source": [
    "#!/usr/bin/env python\n",
    "# -*- coding: utf-8 -*-\n",
    "\n",
    "import re \n",
    "sentence=\"hello world యూనియన్ యూనియన్\" \n",
    "sentence=sentence.decode('utf-8') \n",
    "for m in re.finditer(ur'(\\w|\\’\\w|\\'\\w)'+, sentence, re.UNICODE): \n",
    "    start, end = m.span() \n",
    "    word = m.group().encode('utf-8') \n",
    "    print start, end, word "
   ]
  },
  {
   "cell_type": "code",
   "execution_count": null,
   "metadata": {},
   "outputs": [],
   "source": []
  },
  {
   "cell_type": "code",
   "execution_count": null,
   "metadata": {},
   "outputs": [],
   "source": []
  },
  {
   "cell_type": "code",
   "execution_count": null,
   "metadata": {},
   "outputs": [],
   "source": []
  },
  {
   "cell_type": "code",
   "execution_count": null,
   "metadata": {},
   "outputs": [],
   "source": []
  },
  {
   "cell_type": "code",
   "execution_count": null,
   "metadata": {},
   "outputs": [],
   "source": []
  },
  {
   "cell_type": "code",
   "execution_count": null,
   "metadata": {},
   "outputs": [],
   "source": []
  },
  {
   "cell_type": "code",
   "execution_count": null,
   "metadata": {},
   "outputs": [],
   "source": []
  },
  {
   "cell_type": "code",
   "execution_count": null,
   "metadata": {},
   "outputs": [],
   "source": []
  },
  {
   "cell_type": "code",
   "execution_count": null,
   "metadata": {},
   "outputs": [],
   "source": []
  },
  {
   "cell_type": "code",
   "execution_count": null,
   "metadata": {},
   "outputs": [],
   "source": []
  },
  {
   "cell_type": "code",
   "execution_count": null,
   "metadata": {},
   "outputs": [],
   "source": []
  },
  {
   "cell_type": "code",
   "execution_count": null,
   "metadata": {},
   "outputs": [],
   "source": []
  },
  {
   "cell_type": "code",
   "execution_count": null,
   "metadata": {},
   "outputs": [],
   "source": []
  },
  {
   "cell_type": "code",
   "execution_count": null,
   "metadata": {},
   "outputs": [],
   "source": []
  },
  {
   "cell_type": "code",
   "execution_count": null,
   "metadata": {},
   "outputs": [],
   "source": []
  },
  {
   "cell_type": "code",
   "execution_count": null,
   "metadata": {},
   "outputs": [],
   "source": []
  },
  {
   "cell_type": "code",
   "execution_count": null,
   "metadata": {},
   "outputs": [],
   "source": []
  },
  {
   "cell_type": "code",
   "execution_count": null,
   "metadata": {},
   "outputs": [],
   "source": []
  },
  {
   "cell_type": "code",
   "execution_count": null,
   "metadata": {},
   "outputs": [],
   "source": []
  }
 ],
 "metadata": {
  "kernelspec": {
   "display_name": "Python 3",
   "language": "python",
   "name": "python3"
  },
  "language_info": {
   "codemirror_mode": {
    "name": "ipython",
    "version": 3
   },
   "file_extension": ".py",
   "mimetype": "text/x-python",
   "name": "python",
   "nbconvert_exporter": "python",
   "pygments_lexer": "ipython3",
   "version": "3.7.4"
  }
 },
 "nbformat": 4,
 "nbformat_minor": 2
}
